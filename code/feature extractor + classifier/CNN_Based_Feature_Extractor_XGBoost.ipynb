{
  "nbformat": 4,
  "nbformat_minor": 0,
  "metadata": {
    "colab": {
      "name": "CNN Based Feature Extractor + XGBoost.ipynb",
      "provenance": [],
      "collapsed_sections": []
    },
    "kernelspec": {
      "name": "python3",
      "display_name": "Python 3"
    },
    "language_info": {
      "name": "python"
    },
    "accelerator": "GPU"
  },
  "cells": [
    {
      "cell_type": "code",
      "execution_count": 1,
      "metadata": {
        "colab": {
          "base_uri": "https://localhost:8080/"
        },
        "id": "swa8ZeWWYEyz",
        "outputId": "7d1e53a4-2eaf-4a34-f77b-ac7e6fa1e3fb"
      },
      "outputs": [
        {
          "output_type": "stream",
          "name": "stdout",
          "text": [
            "Drive already mounted at /content/drive; to attempt to forcibly remount, call drive.mount(\"/content/drive\", force_remount=True).\n"
          ]
        }
      ],
      "source": [
        "from google.colab import drive\n",
        "drive.mount('/content/drive')"
      ]
    },
    {
      "cell_type": "code",
      "source": [
        "!pip install xgboost"
      ],
      "metadata": {
        "colab": {
          "base_uri": "https://localhost:8080/"
        },
        "id": "1HpBcQDwYLEx",
        "outputId": "d03befe8-9afe-4d8d-c60a-102a9ab0d778"
      },
      "execution_count": 2,
      "outputs": [
        {
          "output_type": "stream",
          "name": "stdout",
          "text": [
            "Requirement already satisfied: xgboost in /usr/local/lib/python3.7/dist-packages (0.90)\n",
            "Requirement already satisfied: scipy in /usr/local/lib/python3.7/dist-packages (from xgboost) (1.4.1)\n",
            "Requirement already satisfied: numpy in /usr/local/lib/python3.7/dist-packages (from xgboost) (1.21.5)\n"
          ]
        }
      ]
    },
    {
      "cell_type": "code",
      "source": [
        "!pip install imblearn"
      ],
      "metadata": {
        "colab": {
          "base_uri": "https://localhost:8080/"
        },
        "id": "vp0Qa-BsoiwC",
        "outputId": "39cca343-5fe1-4bba-802d-9d26645a0b2d"
      },
      "execution_count": 3,
      "outputs": [
        {
          "output_type": "stream",
          "name": "stdout",
          "text": [
            "Requirement already satisfied: imblearn in /usr/local/lib/python3.7/dist-packages (0.0)\n",
            "Requirement already satisfied: imbalanced-learn in /usr/local/lib/python3.7/dist-packages (from imblearn) (0.8.1)\n",
            "Requirement already satisfied: scipy>=0.19.1 in /usr/local/lib/python3.7/dist-packages (from imbalanced-learn->imblearn) (1.4.1)\n",
            "Requirement already satisfied: scikit-learn>=0.24 in /usr/local/lib/python3.7/dist-packages (from imbalanced-learn->imblearn) (1.0.2)\n",
            "Requirement already satisfied: joblib>=0.11 in /usr/local/lib/python3.7/dist-packages (from imbalanced-learn->imblearn) (1.1.0)\n",
            "Requirement already satisfied: numpy>=1.13.3 in /usr/local/lib/python3.7/dist-packages (from imbalanced-learn->imblearn) (1.21.5)\n",
            "Requirement already satisfied: threadpoolctl>=2.0.0 in /usr/local/lib/python3.7/dist-packages (from scikit-learn>=0.24->imbalanced-learn->imblearn) (3.1.0)\n"
          ]
        }
      ]
    },
    {
      "cell_type": "code",
      "source": [
        "# Basic data handling libraries\n",
        "import numpy as np\n",
        "import pandas as pd\n",
        "np.random.seed(1)\n",
        "\n",
        "# Cross validation and hyperparameter tuning libraries\n",
        "from sklearn.model_selection import StratifiedKFold\n",
        "from sklearn.model_selection import train_test_split\n",
        "from sklearn.model_selection import RandomizedSearchCV\n",
        "from sklearn import metrics\n",
        "from sklearn import decomposition\n",
        "from sklearn.preprocessing import StandardScaler\n",
        "from sklearn.pipeline import Pipeline\n",
        "from sklearn.model_selection import cross_val_predict\n",
        "from sklearn.metrics import confusion_matrix\n",
        "from sklearn.metrics import plot_confusion_matrix\n",
        "\n",
        "from tensorflow.keras.utils import to_categorical\n",
        "from keras import regularizers\n",
        "from keras.layers import Input, Conv1D,MaxPooling1D, Flatten,AveragePooling1D\n",
        "from keras.layers import Conv2D, GlobalMaxPooling1D, BatchNormalization\n",
        "from keras.layers.core import Reshape\n",
        "from keras.layers import Dense, Dropout\n",
        "from sklearn.metrics import f1_score, accuracy_score, precision_score, recall_score, confusion_matrix\n",
        "from tensorflow.keras.models import Model\n",
        "\n",
        "# Machine learning classifiers\n",
        "from xgboost import XGBClassifier\n",
        "from sklearn.ensemble import RandomForestClassifier\n",
        "from sklearn.svm import SVC\n",
        "\n",
        "import warnings\n",
        "warnings.filterwarnings('ignore')"
      ],
      "metadata": {
        "id": "puWeyep5YLB9"
      },
      "execution_count": 4,
      "outputs": []
    },
    {
      "cell_type": "code",
      "source": [
        "from imblearn.over_sampling import SMOTE\n",
        "smote = SMOTE()"
      ],
      "metadata": {
        "id": "CsNJsLNBolmH"
      },
      "execution_count": 5,
      "outputs": []
    },
    {
      "cell_type": "code",
      "source": [
        "def CNNFeatureExtractor(num_features,num_labels):\n",
        "\n",
        "  inputs = Input(shape=(num_features,1))\n",
        "\n",
        "  conv1 = Conv1D(32,3,activation='relu',padding='same',kernel_initializer='random_normal')(inputs)\n",
        "  conv1 = Conv1D(32,3,activation='relu',padding='same',kernel_initializer='random_normal')(conv1)\n",
        "  conv1 = BatchNormalization()(conv1)\n",
        "  maxpool1 = MaxPooling1D(3)(conv1)\n",
        "\n",
        "  conv2 = Conv1D(64,3,activation='relu',padding='same',kernel_initializer='random_normal')(maxpool1)\n",
        "  conv2 = Conv1D(64,3,activation='relu',padding='same',kernel_initializer='random_normal')(conv2)\n",
        "  conv2 = BatchNormalization()(conv2)\n",
        "  maxpool2 = MaxPooling1D(3)(conv2)\n",
        "\n",
        "  conv3 = Conv1D(128,3,activation='relu',padding='same',kernel_initializer='random_normal')(maxpool2)\n",
        "  conv3 = Conv1D(128,3,activation='relu',padding='same',kernel_initializer='random_normal')(conv3)\n",
        "  conv3 = BatchNormalization()(conv3)\n",
        "  maxpool3 = MaxPooling1D(3)(conv3)\n",
        "  \n",
        "  conv4 = Conv1D(256,3,activation='relu',padding='same',kernel_initializer='random_normal')(maxpool3)\n",
        "  conv4 = Conv1D(256,3,activation='relu',padding='same',kernel_initializer='random_normal')(conv4)\n",
        "  conv4 = BatchNormalization()(conv4)\n",
        "\n",
        "  dropout1 = Dropout(0.5)(conv4)\n",
        "\n",
        "  maxpool4 = MaxPooling1D(3)(dropout1)\n",
        "\n",
        "  flatten = Flatten()(maxpool4)\n",
        "  \n",
        "  dense1 = Dense(1024, activation = 'relu')(flatten)\n",
        "  dropout2 = Dropout(0.2)(dense1)\n",
        "  dense2 = Dense(128, activation = 'relu')(dense1)\n",
        "  dropout3 = Dropout(0.2)(dense2)\n",
        "  dense3 = Dense(num_labels,activation='softmax')(dropout3)\n",
        "  \n",
        "  model_without_classifier = Model(inputs=inputs,outputs=flatten)\n",
        "  model = Model(inputs=inputs,outputs=dense3)\n",
        "\n",
        "  model.compile(loss = 'categorical_crossentropy', optimizer = 'adam', metrics = ['accuracy'])\n",
        "  \n",
        "  return model,model_without_classifier"
      ],
      "metadata": {
        "id": "Av0RZ6lH4NTb"
      },
      "execution_count": 6,
      "outputs": []
    },
    {
      "cell_type": "code",
      "source": [
        "def train_model_for_a_class(x,Label,K,use_smote):\n",
        "  cvscores_cnn = []\n",
        "  cvscores_xgboost = []\n",
        "  avg_score_cnn = 0.0\n",
        "  avg_score_xgboost = 0.0\n",
        "  kfold = StratifiedKFold(n_splits=K, shuffle=True, random_state=42)\n",
        "\n",
        "  for train, test in kfold.split(x, Label):\n",
        "      scl = StandardScaler()\n",
        "\n",
        "      if use_smote:\n",
        "        X_train,y_train = smote.fit_resample(x[train],Label[train])\n",
        "      else:\n",
        "        X_train,y_train = x[train],Label[train]\n",
        "\n",
        "      scl = scl.fit(X_train)\n",
        "      X_train = scl.transform(X_train)\n",
        "      X_test = scl.transform(x[test])\n",
        "      y_test = Label[test]\n",
        "\n",
        "      y_train_categorical = to_categorical(y_train,num_classes=len(np.unique(Label)))\n",
        "      y_test_categorical = to_categorical(y_test,num_classes=len(np.unique(Label)))\n",
        "      \n",
        "      num_features = X_train.shape[1]\n",
        "      # print(\"Num features:{}\".format(num_features))\n",
        "\n",
        "      model, feature_extractor = CNNFeatureExtractor(num_features, len(np.unique(Label)))\n",
        "      \n",
        "      y_pred = model(X_train)\n",
        "      # print(y_pred.shape)\n",
        "      # print(y_train_categorical.shape)\n",
        "\n",
        "      model.fit(X_train, y_train_categorical, batch_size=32 , epochs=50 , validation_data=(X_test, y_test_categorical),verbose=0)\n",
        "\n",
        "      score = model.evaluate(X_test, y_test_categorical, verbose = 0)\n",
        "      cvscores_cnn.append(score[1])\n",
        "      avg_score_cnn = avg_score_cnn + score[1]\n",
        "\n",
        "      xgboost_x_train = feature_extractor(X_train)\n",
        "      xgboost_x_test = feature_extractor(X_test)\n",
        "\n",
        "      # print(xgboost_x_train.shape)\n",
        "      # print(xgboost_x_test.shape)\n",
        "\n",
        "      if len(np.unique(Label)) == 2:\n",
        "        model = XGBClassifier(objective = \"binary:logistic\",seed=42)\n",
        "      else:\n",
        "        model = XGBClassifier(objective = \"multi:softmax\",seed=42)\n",
        "\n",
        "      model.fit(xgboost_x_train, y_train)\n",
        "      score = model.score(xgboost_x_test, y_test)\n",
        "      cvscores_xgboost.append(score)\n",
        "      avg_score_xgboost = avg_score_xgboost + score\n",
        "\n",
        "  avg_score_cnn = avg_score_cnn/K\n",
        "  avg_score_xgboost = avg_score_xgboost/K\n",
        "  return avg_score_cnn, cvscores_cnn, avg_score_xgboost, cvscores_xgboost"
      ],
      "metadata": {
        "id": "w_tVnaegooOz"
      },
      "execution_count": 7,
      "outputs": []
    },
    {
      "cell_type": "code",
      "source": [
        "def train_model(data_file_path,use_smote=False): \n",
        "\n",
        "  data = np.loadtxt(data_file_path, delimiter=\",\")\n",
        "\n",
        "  num_samples = data.shape[1]\n",
        "  num_features = data.shape[0]-3\n",
        "\n",
        "  x = np.transpose(data[0:num_features:])\n",
        "  Label_1 = np.transpose(data[num_features:num_features+1,:]); Label_1 = Label_1.astype(int);\n",
        "  Label_2 = np.transpose(data[num_features+1:num_features+2,:]); Label_2 = Label_2.astype(int);\n",
        "  Label_3 = np.transpose(data[num_features+2:num_features+3,:]); Label_3 = Label_3.astype(int);\n",
        "\n",
        "  # print(\"Number of points in the dataset: {}\".format(num_samples))\n",
        "  # print(\"Number of features in each datapoint: {}\\n\".format(num_features))\n",
        "\n",
        "  # print(\"Training model for 2 class\")\n",
        "  # avg_score_2_class_cnn, cvscores_2_class_cnn, avg_score_2_class_xgboost, cvscores_2_class_xgboost = train_model_for_a_class(x,Label_1,5,use_smote)\n",
        "  # print(\"Results CNN:\\n Cross validation scores: {} \\n Average accuracy: {}\\n\".format(cvscores_2_class_cnn, avg_score_2_class_cnn))\n",
        "  # print(\"Results XGBoost:\\n Cross validation scores: {} \\n Average accuracy: {}\\n\".format(cvscores_2_class_xgboost, avg_score_2_class_xgboost))\n",
        "\n",
        "  # print(\"Training model for 4 class\")\n",
        "  # avg_score_4_class_cnn, cvscores_4_class_cnn, avg_score_4_class_xgboost, cvscores_4_class_xgboost = train_model_for_a_class(x,Label_2,5,use_smote)\n",
        "  # print(\"Results CNN:\\n Cross validation scores: {} \\n Average accuracy: {}\\n\".format(cvscores_4_class_cnn, avg_score_4_class_cnn))\n",
        "  # print(\"Results XGBoost:\\n Cross validation scores: {} \\n Average accuracy: {}\\n\".format(cvscores_4_class_xgboost, avg_score_4_class_xgboost))\n",
        "\n",
        "  print(\"Training model for 10 class\")\n",
        "  avg_score_10_class_cnn, cvscores_10_class_cnn, avg_score_10_class_xgboost, cvscores_10_class_xgboost = train_model_for_a_class(x,Label_3,5,use_smote)\n",
        "  print(\"Results CNN:\\n Cross validation scores: {} \\n Average accuracy: {}\\n\".format(cvscores_10_class_cnn, avg_score_10_class_cnn))\n",
        "  print(\"Results XGBoost:\\n Cross validation scores: {} \\n Average accuracy: {}\\n\".format(cvscores_10_class_xgboost, avg_score_10_class_xgboost))"
      ],
      "metadata": {
        "id": "Lp6WQvlmo1_x"
      },
      "execution_count": 8,
      "outputs": []
    },
    {
      "cell_type": "code",
      "source": [
        "train_model(\"/content/drive/MyDrive/CEERI Project - Kalit/data/L=1e7/L+H/M=1024/data.csv\",use_smote=True)"
      ],
      "metadata": {
        "colab": {
          "base_uri": "https://localhost:8080/"
        },
        "id": "BmJNESos832j",
        "outputId": "6dbb1c68-65ec-4b39-ac34-e50275b4351c"
      },
      "execution_count": null,
      "outputs": [
        {
          "output_type": "stream",
          "name": "stdout",
          "text": [
            "Number of points in the dataset: 227\n",
            "Number of features in each datapoint: 1026\n",
            "\n",
            "Training model for 2 class\n",
            "Results CNN:\n",
            " Cross validation scores: [0.97826087474823, 1.0, 0.7111111283302307, 1.0, 0.35555556416511536] \n",
            " Average accuracy: 0.8089855134487152\n",
            "\n",
            "Results XGBoost:\n",
            " Cross validation scores: [1.0, 0.9565217391304348, 1.0, 1.0, 1.0] \n",
            " Average accuracy: 0.9913043478260869\n",
            "\n",
            "Training model for 4 class\n",
            "Results CNN:\n",
            " Cross validation scores: [0.97826087474823, 0.54347825050354, 0.7111111283302307, 0.7111111283302307, 0.7555555701255798] \n",
            " Average accuracy: 0.7399033904075623\n",
            "\n",
            "Results XGBoost:\n",
            " Cross validation scores: [0.9782608695652174, 0.9782608695652174, 0.9555555555555556, 1.0, 1.0] \n",
            " Average accuracy: 0.9824154589371981\n",
            "\n",
            "Training model for 10 class\n",
            "Results CNN:\n",
            " Cross validation scores: [0.41304346919059753, 0.45652174949645996, 0.4000000059604645, 0.5777778029441833, 0.35555556416511536] \n",
            " Average accuracy: 0.4405797183513641\n",
            "\n",
            "Results XGBoost:\n",
            " Cross validation scores: [0.9130434782608695, 0.9130434782608695, 1.0, 0.8888888888888888, 0.9777777777777777] \n",
            " Average accuracy: 0.9385507246376811\n",
            "\n"
          ]
        }
      ]
    },
    {
      "cell_type": "code",
      "source": [
        "train_model(\"/content/drive/MyDrive/CEERI Project - Kalit/data/L=1e7/L+H/M=2048/data.csv\",use_smote=True)"
      ],
      "metadata": {
        "colab": {
          "base_uri": "https://localhost:8080/"
        },
        "id": "jbFQlJp8wO4L",
        "outputId": "1005eeee-9e2f-4a7c-f12b-32cc4eb81b40"
      },
      "execution_count": null,
      "outputs": [
        {
          "output_type": "stream",
          "name": "stdout",
          "text": [
            "Number of points in the dataset: 227\n",
            "Number of features in each datapoint: 2050\n",
            "\n",
            "Training model for 2 class\n",
            "Results CNN:\n",
            " Cross validation scores: [1.0, 0.3913043439388275, 1.0, 0.6000000238418579, 0.5111111402511597] \n",
            " Average accuracy: 0.7004831016063691\n",
            "\n",
            "Results XGBoost:\n",
            " Cross validation scores: [1.0, 1.0, 1.0, 1.0, 1.0] \n",
            " Average accuracy: 1.0\n",
            "\n",
            "Training model for 4 class\n",
            "Results CNN:\n",
            " Cross validation scores: [0.47826087474823, 0.6521739363670349, 0.6222222447395325, 0.6222222447395325, 0.6222222447395325] \n",
            " Average accuracy: 0.5994203090667725\n",
            "\n",
            "Results XGBoost:\n",
            " Cross validation scores: [1.0, 1.0, 1.0, 0.9777777777777777, 1.0] \n",
            " Average accuracy: 0.9955555555555555\n",
            "\n",
            "Training model for 10 class\n",
            "Results CNN:\n",
            " Cross validation scores: [0.3695652186870575, 0.3695652186870575, 0.4444444477558136, 0.42222222685813904, 0.4000000059604645] \n",
            " Average accuracy: 0.4011594235897064\n",
            "\n",
            "Results XGBoost:\n",
            " Cross validation scores: [0.9347826086956522, 0.9130434782608695, 0.9777777777777777, 0.9555555555555556, 1.0] \n",
            " Average accuracy: 0.956231884057971\n",
            "\n"
          ]
        }
      ]
    },
    {
      "cell_type": "code",
      "source": [
        "train_model(\"/content/drive/MyDrive/CEERI Project - Kalit/data/L=1e7/L+H/M=4096/data.csv\",use_smote=True)"
      ],
      "metadata": {
        "colab": {
          "base_uri": "https://localhost:8080/"
        },
        "id": "jp9JByxR2L0a",
        "outputId": "a934acaa-342b-4055-949b-4ed46559a764"
      },
      "execution_count": null,
      "outputs": [
        {
          "output_type": "stream",
          "name": "stdout",
          "text": [
            "Number of points in the dataset: 227\n",
            "Number of features in each datapoint: 4098\n",
            "\n",
            "Training model for 2 class\n",
            "Results CNN:\n",
            " Cross validation scores: [1.0, 0.8260869383811951, 1.0, 1.0, 1.0] \n",
            " Average accuracy: 0.965217387676239\n",
            "\n",
            "Results XGBoost:\n",
            " Cross validation scores: [1.0, 1.0, 1.0, 1.0, 1.0] \n",
            " Average accuracy: 1.0\n",
            "\n",
            "Training model for 4 class\n",
            "Results CNN:\n",
            " Cross validation scores: [0.6739130616188049, 0.6304348111152649, 0.7111111283302307, 0.3777777850627899, 0.7555555701255798] \n",
            " Average accuracy: 0.6297584712505341\n",
            "\n",
            "Results XGBoost:\n",
            " Cross validation scores: [0.9782608695652174, 1.0, 1.0, 1.0, 1.0] \n",
            " Average accuracy: 0.9956521739130434\n",
            "\n",
            "Training model for 10 class\n",
            "Results CNN:\n",
            " Cross validation scores: [0.45652174949645996, 0.3913043439388275, 0.5333333611488342, 0.4888888895511627, 0.4444444477558136] \n",
            " Average accuracy: 0.4628985583782196\n",
            "\n",
            "Results XGBoost:\n",
            " Cross validation scores: [0.9565217391304348, 0.9130434782608695, 1.0, 0.9777777777777777, 1.0] \n",
            " Average accuracy: 0.9694685990338165\n",
            "\n"
          ]
        }
      ]
    },
    {
      "cell_type": "code",
      "source": [
        "train_model(\"/content/drive/MyDrive/CEERI Project - Kalit/data/L=1e6/L+H/M=1024/data.csv\",use_smote=True)"
      ],
      "metadata": {
        "colab": {
          "base_uri": "https://localhost:8080/"
        },
        "id": "Cmubkkmo3yoZ",
        "outputId": "0e0aff48-f2da-4ced-916e-599b7eccf883"
      },
      "execution_count": null,
      "outputs": [
        {
          "output_type": "stream",
          "name": "stdout",
          "text": [
            "Number of points in the dataset: 2270\n",
            "Number of features in each datapoint: 1026\n",
            "\n",
            "Training model for 2 class\n",
            "Results CNN:\n",
            " Cross validation scores: [1.0, 1.0, 1.0, 1.0, 1.0] \n",
            " Average accuracy: 1.0\n",
            "\n",
            "Results XGBoost:\n",
            " Cross validation scores: [1.0, 1.0, 1.0, 1.0, 1.0] \n",
            " Average accuracy: 1.0\n",
            "\n",
            "Training model for 4 class\n",
            "Results CNN:\n",
            " Cross validation scores: [0.8480176329612732, 0.9096916317939758, 0.8832598924636841, 0.9030836820602417, 0.7224669456481934] \n",
            " Average accuracy: 0.8533039569854737\n",
            "\n",
            "Results XGBoost:\n",
            " Cross validation scores: [1.0, 0.9933920704845814, 0.9977973568281938, 0.9977973568281938, 0.9933920704845814] \n",
            " Average accuracy: 0.9964757709251101\n",
            "\n",
            "Training model for 10 class\n",
            "Results CNN:\n",
            " Cross validation scores: [0.7400881052017212, 0.7290748953819275, 0.7268722653388977, 0.8215858936309814, 0.7202643156051636] \n",
            " Average accuracy: 0.7475770950317383\n",
            "\n",
            "Results XGBoost:\n",
            " Cross validation scores: [0.9889867841409692, 0.9911894273127754, 0.9779735682819384, 0.986784140969163, 0.9911894273127754] \n",
            " Average accuracy: 0.9872246696035243\n",
            "\n"
          ]
        }
      ]
    },
    {
      "cell_type": "code",
      "source": [
        "train_model(\"/content/drive/MyDrive/CEERI Project - Kalit/data/L=1e6/L+H/M=2048/data.csv\",use_smote=True)"
      ],
      "metadata": {
        "colab": {
          "base_uri": "https://localhost:8080/"
        },
        "id": "eg9TcUje6vbZ",
        "outputId": "1c2aba20-4430-491a-8ebe-c4fa17d9ef12"
      },
      "execution_count": null,
      "outputs": [
        {
          "output_type": "stream",
          "name": "stdout",
          "text": [
            "Number of points in the dataset: 2270\n",
            "Number of features in each datapoint: 2050\n",
            "\n",
            "Training model for 2 class\n",
            "Results CNN:\n",
            " Cross validation scores: [1.0, 1.0, 1.0, 1.0, 1.0] \n",
            " Average accuracy: 1.0\n",
            "\n",
            "Results XGBoost:\n",
            " Cross validation scores: [1.0, 1.0, 0.9955947136563876, 1.0, 1.0] \n",
            " Average accuracy: 0.9991189427312775\n",
            "\n",
            "Training model for 4 class\n",
            "Results CNN:\n",
            " Cross validation scores: [0.8854625821113586, 0.9273127913475037, 0.9052863717079163, 0.8766520023345947, 0.8061674237251282] \n",
            " Average accuracy: 0.8801762342453003\n",
            "\n",
            "Results XGBoost:\n",
            " Cross validation scores: [0.9977973568281938, 0.9933920704845814, 0.9977973568281938, 1.0, 0.9977973568281938] \n",
            " Average accuracy: 0.9973568281938325\n",
            "\n",
            "Training model for 10 class\n",
            "Results CNN:\n",
            " Cross validation scores: [0.6277533173561096, 0.6519823670387268, 0.7026431560516357, 0.7488986849784851, 0.7268722653388977] \n",
            " Average accuracy: 0.691629958152771\n",
            "\n",
            "Results XGBoost:\n",
            " Cross validation scores: [0.9823788546255506, 0.9669603524229075, 0.986784140969163, 0.9801762114537445, 0.986784140969163] \n",
            " Average accuracy: 0.9806167400881056\n",
            "\n"
          ]
        }
      ]
    },
    {
      "cell_type": "code",
      "source": [
        "train_model(\"/content/drive/MyDrive/CEERI Project - Kalit/data/L=1e6/L+H/M=4096/data.csv\",use_smote=True)"
      ],
      "metadata": {
        "id": "hv7TIOOXEBYP",
        "colab": {
          "base_uri": "https://localhost:8080/",
          "height": 693
        },
        "outputId": "48ac775d-c7ee-4fe4-b000-16fb5414570b"
      },
      "execution_count": null,
      "outputs": [
        {
          "metadata": {
            "tags": null
          },
          "name": "stdout",
          "output_type": "stream",
          "text": [
            "Number of points in the dataset: 2270\n",
            "Number of features in each datapoint: 4098\n",
            "\n",
            "Training model for 2 class\n",
            "Results CNN:\n",
            " Cross validation scores: [1.0, 1.0, 1.0, 1.0, 1.0] \n",
            " Average accuracy: 1.0\n",
            "\n",
            "Results XGBoost:\n",
            " Cross validation scores: [0.9977973568281938, 1.0, 0.9977973568281938, 1.0, 1.0] \n",
            " Average accuracy: 0.9991189427312775\n",
            "\n",
            "Training model for 4 class\n",
            "Results CNN:\n",
            " Cross validation scores: [0.8898678421974182, 0.8964757919311523, 0.933920681476593, 0.9383260011672974, 0.9052863717079163] \n",
            " Average accuracy: 0.9127753376960754\n",
            "\n",
            "Results XGBoost:\n",
            " Cross validation scores: [0.9977973568281938, 0.9955947136563876, 0.9977973568281938, 0.9977973568281938, 0.9977973568281938] \n",
            " Average accuracy: 0.9973568281938325\n",
            "\n",
            "Training model for 10 class\n"
          ]
        },
        {
          "output_type": "error",
          "ename": "KeyboardInterrupt",
          "evalue": "ignored",
          "traceback": [
            "\u001b[0;31m---------------------------------------------------------------------------\u001b[0m",
            "\u001b[0;31mKeyboardInterrupt\u001b[0m                         Traceback (most recent call last)",
            "\u001b[0;32m<ipython-input-9-d3c88747df38>\u001b[0m in \u001b[0;36m<module>\u001b[0;34m()\u001b[0m\n\u001b[0;32m----> 1\u001b[0;31m \u001b[0mtrain_model\u001b[0m\u001b[0;34m(\u001b[0m\u001b[0;34m\"/content/drive/MyDrive/CEERI Project - Kalit/data/L=1e6/L+H/M=4096/data.csv\"\u001b[0m\u001b[0;34m,\u001b[0m\u001b[0muse_smote\u001b[0m\u001b[0;34m=\u001b[0m\u001b[0;32mTrue\u001b[0m\u001b[0;34m)\u001b[0m\u001b[0;34m\u001b[0m\u001b[0;34m\u001b[0m\u001b[0m\n\u001b[0m",
            "\u001b[0;32m<ipython-input-8-70d76376aa24>\u001b[0m in \u001b[0;36mtrain_model\u001b[0;34m(data_file_path, use_smote)\u001b[0m\n\u001b[1;32m     25\u001b[0m \u001b[0;34m\u001b[0m\u001b[0m\n\u001b[1;32m     26\u001b[0m   \u001b[0mprint\u001b[0m\u001b[0;34m(\u001b[0m\u001b[0;34m\"Training model for 10 class\"\u001b[0m\u001b[0;34m)\u001b[0m\u001b[0;34m\u001b[0m\u001b[0;34m\u001b[0m\u001b[0m\n\u001b[0;32m---> 27\u001b[0;31m   \u001b[0mavg_score_10_class_cnn\u001b[0m\u001b[0;34m,\u001b[0m \u001b[0mcvscores_10_class_cnn\u001b[0m\u001b[0;34m,\u001b[0m \u001b[0mavg_score_10_class_xgboost\u001b[0m\u001b[0;34m,\u001b[0m \u001b[0mcvscores_10_class_xgboost\u001b[0m \u001b[0;34m=\u001b[0m \u001b[0mtrain_model_for_a_class\u001b[0m\u001b[0;34m(\u001b[0m\u001b[0mx\u001b[0m\u001b[0;34m,\u001b[0m\u001b[0mLabel_3\u001b[0m\u001b[0;34m,\u001b[0m\u001b[0;36m5\u001b[0m\u001b[0;34m,\u001b[0m\u001b[0muse_smote\u001b[0m\u001b[0;34m)\u001b[0m\u001b[0;34m\u001b[0m\u001b[0;34m\u001b[0m\u001b[0m\n\u001b[0m\u001b[1;32m     28\u001b[0m   \u001b[0mprint\u001b[0m\u001b[0;34m(\u001b[0m\u001b[0;34m\"Results CNN:\\n Cross validation scores: {} \\n Average accuracy: {}\\n\"\u001b[0m\u001b[0;34m.\u001b[0m\u001b[0mformat\u001b[0m\u001b[0;34m(\u001b[0m\u001b[0mcvscores_10_class_cnn\u001b[0m\u001b[0;34m,\u001b[0m \u001b[0mavg_score_10_class_cnn\u001b[0m\u001b[0;34m)\u001b[0m\u001b[0;34m)\u001b[0m\u001b[0;34m\u001b[0m\u001b[0;34m\u001b[0m\u001b[0m\n\u001b[1;32m     29\u001b[0m   \u001b[0mprint\u001b[0m\u001b[0;34m(\u001b[0m\u001b[0;34m\"Results XGBoost:\\n Cross validation scores: {} \\n Average accuracy: {}\\n\"\u001b[0m\u001b[0;34m.\u001b[0m\u001b[0mformat\u001b[0m\u001b[0;34m(\u001b[0m\u001b[0mcvscores_10_class_xgboost\u001b[0m\u001b[0;34m,\u001b[0m \u001b[0mavg_score_10_class_xgboost\u001b[0m\u001b[0;34m)\u001b[0m\u001b[0;34m)\u001b[0m\u001b[0;34m\u001b[0m\u001b[0;34m\u001b[0m\u001b[0m\n",
            "\u001b[0;32m<ipython-input-7-a76397c7a824>\u001b[0m in \u001b[0;36mtrain_model_for_a_class\u001b[0;34m(x, Label, K, use_smote)\u001b[0m\n\u001b[1;32m     48\u001b[0m         \u001b[0mmodel\u001b[0m \u001b[0;34m=\u001b[0m \u001b[0mXGBClassifier\u001b[0m\u001b[0;34m(\u001b[0m\u001b[0mobjective\u001b[0m \u001b[0;34m=\u001b[0m \u001b[0;34m\"multi:softmax\"\u001b[0m\u001b[0;34m,\u001b[0m\u001b[0mseed\u001b[0m\u001b[0;34m=\u001b[0m\u001b[0;36m42\u001b[0m\u001b[0;34m)\u001b[0m\u001b[0;34m\u001b[0m\u001b[0;34m\u001b[0m\u001b[0m\n\u001b[1;32m     49\u001b[0m \u001b[0;34m\u001b[0m\u001b[0m\n\u001b[0;32m---> 50\u001b[0;31m       \u001b[0mmodel\u001b[0m\u001b[0;34m.\u001b[0m\u001b[0mfit\u001b[0m\u001b[0;34m(\u001b[0m\u001b[0mxgboost_x_train\u001b[0m\u001b[0;34m,\u001b[0m \u001b[0my_train\u001b[0m\u001b[0;34m)\u001b[0m\u001b[0;34m\u001b[0m\u001b[0;34m\u001b[0m\u001b[0m\n\u001b[0m\u001b[1;32m     51\u001b[0m       \u001b[0mscore\u001b[0m \u001b[0;34m=\u001b[0m \u001b[0mmodel\u001b[0m\u001b[0;34m.\u001b[0m\u001b[0mscore\u001b[0m\u001b[0;34m(\u001b[0m\u001b[0mxgboost_x_test\u001b[0m\u001b[0;34m,\u001b[0m \u001b[0my_test\u001b[0m\u001b[0;34m)\u001b[0m\u001b[0;34m\u001b[0m\u001b[0;34m\u001b[0m\u001b[0m\n\u001b[1;32m     52\u001b[0m       \u001b[0mcvscores_xgboost\u001b[0m\u001b[0;34m.\u001b[0m\u001b[0mappend\u001b[0m\u001b[0;34m(\u001b[0m\u001b[0mscore\u001b[0m\u001b[0;34m)\u001b[0m\u001b[0;34m\u001b[0m\u001b[0;34m\u001b[0m\u001b[0m\n",
            "\u001b[0;32m/usr/local/lib/python3.7/dist-packages/xgboost/sklearn.py\u001b[0m in \u001b[0;36mfit\u001b[0;34m(self, X, y, sample_weight, eval_set, eval_metric, early_stopping_rounds, verbose, xgb_model, sample_weight_eval_set, callbacks)\u001b[0m\n\u001b[1;32m    730\u001b[0m                               \u001b[0mevals_result\u001b[0m\u001b[0;34m=\u001b[0m\u001b[0mevals_result\u001b[0m\u001b[0;34m,\u001b[0m \u001b[0mobj\u001b[0m\u001b[0;34m=\u001b[0m\u001b[0mobj\u001b[0m\u001b[0;34m,\u001b[0m \u001b[0mfeval\u001b[0m\u001b[0;34m=\u001b[0m\u001b[0mfeval\u001b[0m\u001b[0;34m,\u001b[0m\u001b[0;34m\u001b[0m\u001b[0;34m\u001b[0m\u001b[0m\n\u001b[1;32m    731\u001b[0m                               \u001b[0mverbose_eval\u001b[0m\u001b[0;34m=\u001b[0m\u001b[0mverbose\u001b[0m\u001b[0;34m,\u001b[0m \u001b[0mxgb_model\u001b[0m\u001b[0;34m=\u001b[0m\u001b[0mxgb_model\u001b[0m\u001b[0;34m,\u001b[0m\u001b[0;34m\u001b[0m\u001b[0;34m\u001b[0m\u001b[0m\n\u001b[0;32m--> 732\u001b[0;31m                               callbacks=callbacks)\n\u001b[0m\u001b[1;32m    733\u001b[0m \u001b[0;34m\u001b[0m\u001b[0m\n\u001b[1;32m    734\u001b[0m         \u001b[0mself\u001b[0m\u001b[0;34m.\u001b[0m\u001b[0mobjective\u001b[0m \u001b[0;34m=\u001b[0m \u001b[0mxgb_options\u001b[0m\u001b[0;34m[\u001b[0m\u001b[0;34m\"objective\"\u001b[0m\u001b[0;34m]\u001b[0m\u001b[0;34m\u001b[0m\u001b[0;34m\u001b[0m\u001b[0m\n",
            "\u001b[0;32m/usr/local/lib/python3.7/dist-packages/xgboost/training.py\u001b[0m in \u001b[0;36mtrain\u001b[0;34m(params, dtrain, num_boost_round, evals, obj, feval, maximize, early_stopping_rounds, evals_result, verbose_eval, xgb_model, callbacks, learning_rates)\u001b[0m\n\u001b[1;32m    214\u001b[0m                            \u001b[0mevals\u001b[0m\u001b[0;34m=\u001b[0m\u001b[0mevals\u001b[0m\u001b[0;34m,\u001b[0m\u001b[0;34m\u001b[0m\u001b[0;34m\u001b[0m\u001b[0m\n\u001b[1;32m    215\u001b[0m                            \u001b[0mobj\u001b[0m\u001b[0;34m=\u001b[0m\u001b[0mobj\u001b[0m\u001b[0;34m,\u001b[0m \u001b[0mfeval\u001b[0m\u001b[0;34m=\u001b[0m\u001b[0mfeval\u001b[0m\u001b[0;34m,\u001b[0m\u001b[0;34m\u001b[0m\u001b[0;34m\u001b[0m\u001b[0m\n\u001b[0;32m--> 216\u001b[0;31m                            xgb_model=xgb_model, callbacks=callbacks)\n\u001b[0m\u001b[1;32m    217\u001b[0m \u001b[0;34m\u001b[0m\u001b[0m\n\u001b[1;32m    218\u001b[0m \u001b[0;34m\u001b[0m\u001b[0m\n",
            "\u001b[0;32m/usr/local/lib/python3.7/dist-packages/xgboost/training.py\u001b[0m in \u001b[0;36m_train_internal\u001b[0;34m(params, dtrain, num_boost_round, evals, obj, feval, xgb_model, callbacks)\u001b[0m\n\u001b[1;32m     72\u001b[0m         \u001b[0;31m# Skip the first update if it is a recovery step.\u001b[0m\u001b[0;34m\u001b[0m\u001b[0;34m\u001b[0m\u001b[0;34m\u001b[0m\u001b[0m\n\u001b[1;32m     73\u001b[0m         \u001b[0;32mif\u001b[0m \u001b[0mversion\u001b[0m \u001b[0;34m%\u001b[0m \u001b[0;36m2\u001b[0m \u001b[0;34m==\u001b[0m \u001b[0;36m0\u001b[0m\u001b[0;34m:\u001b[0m\u001b[0;34m\u001b[0m\u001b[0;34m\u001b[0m\u001b[0m\n\u001b[0;32m---> 74\u001b[0;31m             \u001b[0mbst\u001b[0m\u001b[0;34m.\u001b[0m\u001b[0mupdate\u001b[0m\u001b[0;34m(\u001b[0m\u001b[0mdtrain\u001b[0m\u001b[0;34m,\u001b[0m \u001b[0mi\u001b[0m\u001b[0;34m,\u001b[0m \u001b[0mobj\u001b[0m\u001b[0;34m)\u001b[0m\u001b[0;34m\u001b[0m\u001b[0;34m\u001b[0m\u001b[0m\n\u001b[0m\u001b[1;32m     75\u001b[0m             \u001b[0mbst\u001b[0m\u001b[0;34m.\u001b[0m\u001b[0msave_rabit_checkpoint\u001b[0m\u001b[0;34m(\u001b[0m\u001b[0;34m)\u001b[0m\u001b[0;34m\u001b[0m\u001b[0;34m\u001b[0m\u001b[0m\n\u001b[1;32m     76\u001b[0m             \u001b[0mversion\u001b[0m \u001b[0;34m+=\u001b[0m \u001b[0;36m1\u001b[0m\u001b[0;34m\u001b[0m\u001b[0;34m\u001b[0m\u001b[0m\n",
            "\u001b[0;32m/usr/local/lib/python3.7/dist-packages/xgboost/core.py\u001b[0m in \u001b[0;36mupdate\u001b[0;34m(self, dtrain, iteration, fobj)\u001b[0m\n\u001b[1;32m   1107\u001b[0m         \u001b[0;32mif\u001b[0m \u001b[0mfobj\u001b[0m \u001b[0;32mis\u001b[0m \u001b[0;32mNone\u001b[0m\u001b[0;34m:\u001b[0m\u001b[0;34m\u001b[0m\u001b[0;34m\u001b[0m\u001b[0m\n\u001b[1;32m   1108\u001b[0m             _check_call(_LIB.XGBoosterUpdateOneIter(self.handle, ctypes.c_int(iteration),\n\u001b[0;32m-> 1109\u001b[0;31m                                                     dtrain.handle))\n\u001b[0m\u001b[1;32m   1110\u001b[0m         \u001b[0;32melse\u001b[0m\u001b[0;34m:\u001b[0m\u001b[0;34m\u001b[0m\u001b[0;34m\u001b[0m\u001b[0m\n\u001b[1;32m   1111\u001b[0m             \u001b[0mpred\u001b[0m \u001b[0;34m=\u001b[0m \u001b[0mself\u001b[0m\u001b[0;34m.\u001b[0m\u001b[0mpredict\u001b[0m\u001b[0;34m(\u001b[0m\u001b[0mdtrain\u001b[0m\u001b[0;34m)\u001b[0m\u001b[0;34m\u001b[0m\u001b[0;34m\u001b[0m\u001b[0m\n",
            "\u001b[0;31mKeyboardInterrupt\u001b[0m: "
          ]
        }
      ]
    },
    {
      "cell_type": "code",
      "source": [
        "train_model(\"/content/drive/MyDrive/CEERI Project - Kalit/data/L=1e6/L+H/M=4096/data.csv\",use_smote=True)"
      ],
      "metadata": {
        "id": "rWr3CojUlJJw",
        "colab": {
          "base_uri": "https://localhost:8080/"
        },
        "outputId": "e14c27e0-9b9a-403d-c727-32a39e14bddf"
      },
      "execution_count": 9,
      "outputs": [
        {
          "output_type": "stream",
          "name": "stdout",
          "text": [
            "Training model for 10 class\n",
            "Results CNN:\n",
            " Cross validation scores: [0.5, 0.5462555289268494, 0.6321585774421692, 0.7114537358283997, 0.8193832635879517] \n",
            " Average accuracy: 0.641850221157074\n",
            "\n",
            "Results XGBoost:\n",
            " Cross validation scores: [0.9845814977973568, 0.9823788546255506, 0.9911894273127754, 0.9669603524229075, 0.9823788546255506] \n",
            " Average accuracy: 0.9814977973568283\n",
            "\n"
          ]
        }
      ]
    },
    {
      "cell_type": "code",
      "source": [
        ""
      ],
      "metadata": {
        "id": "9gqDQFhyHTMV"
      },
      "execution_count": null,
      "outputs": []
    }
  ]
}