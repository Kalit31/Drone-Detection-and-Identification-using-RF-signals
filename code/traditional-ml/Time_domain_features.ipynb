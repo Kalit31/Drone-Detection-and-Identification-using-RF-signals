{
  "nbformat": 4,
  "nbformat_minor": 0,
  "metadata": {
    "colab": {
      "name": "Time domain features.ipynb",
      "provenance": [],
      "collapsed_sections": [
        "km1-Wdu6BEvc"
      ]
    },
    "kernelspec": {
      "name": "python3",
      "display_name": "Python 3"
    },
    "language_info": {
      "name": "python"
    }
  },
  "cells": [
    {
      "cell_type": "code",
      "execution_count": null,
      "metadata": {
        "colab": {
          "base_uri": "https://localhost:8080/"
        },
        "id": "iIezKkTGbvYh",
        "outputId": "78113f3e-e0dd-4ed8-fd01-20c2010215c5"
      },
      "outputs": [
        {
          "output_type": "stream",
          "name": "stdout",
          "text": [
            "Mounted at /content/drive\n"
          ]
        }
      ],
      "source": [
        "from google.colab import drive\n",
        "drive.mount('/content/drive')"
      ]
    },
    {
      "cell_type": "code",
      "source": [
        "!pip install xgboost"
      ],
      "metadata": {
        "colab": {
          "base_uri": "https://localhost:8080/"
        },
        "id": "9C6jeMDdb0Aa",
        "outputId": "32966364-dcd7-4bcd-e1f7-beb81462978b"
      },
      "execution_count": null,
      "outputs": [
        {
          "output_type": "stream",
          "name": "stdout",
          "text": [
            "Requirement already satisfied: xgboost in /usr/local/lib/python3.7/dist-packages (0.90)\n",
            "Requirement already satisfied: scipy in /usr/local/lib/python3.7/dist-packages (from xgboost) (1.4.1)\n",
            "Requirement already satisfied: numpy in /usr/local/lib/python3.7/dist-packages (from xgboost) (1.21.6)\n"
          ]
        }
      ]
    },
    {
      "cell_type": "code",
      "source": [
        "!pip install imblearn"
      ],
      "metadata": {
        "colab": {
          "base_uri": "https://localhost:8080/"
        },
        "id": "fohd7aA4pwBH",
        "outputId": "b45d93de-f1a1-4e7f-9993-30eaf40d24be"
      },
      "execution_count": null,
      "outputs": [
        {
          "output_type": "stream",
          "name": "stdout",
          "text": [
            "Requirement already satisfied: imblearn in /usr/local/lib/python3.7/dist-packages (0.0)\n",
            "Requirement already satisfied: imbalanced-learn in /usr/local/lib/python3.7/dist-packages (from imblearn) (0.8.1)\n",
            "Requirement already satisfied: joblib>=0.11 in /usr/local/lib/python3.7/dist-packages (from imbalanced-learn->imblearn) (1.1.0)\n",
            "Requirement already satisfied: numpy>=1.13.3 in /usr/local/lib/python3.7/dist-packages (from imbalanced-learn->imblearn) (1.21.6)\n",
            "Requirement already satisfied: scipy>=0.19.1 in /usr/local/lib/python3.7/dist-packages (from imbalanced-learn->imblearn) (1.4.1)\n",
            "Requirement already satisfied: scikit-learn>=0.24 in /usr/local/lib/python3.7/dist-packages (from imbalanced-learn->imblearn) (1.0.2)\n",
            "Requirement already satisfied: threadpoolctl>=2.0.0 in /usr/local/lib/python3.7/dist-packages (from scikit-learn>=0.24->imbalanced-learn->imblearn) (3.1.0)\n"
          ]
        }
      ]
    },
    {
      "cell_type": "code",
      "source": [
        "# Basic data handling libraries\n",
        "import numpy as np\n",
        "import pandas as pd\n",
        "np.random.seed(42)\n",
        "\n",
        "# Cross validation and hyperparameter tuning libraries\n",
        "from sklearn.model_selection import StratifiedKFold, train_test_split\n",
        "from sklearn.metrics import  accuracy_score, precision_score, recall_score, f1_score\n",
        "from sklearn.preprocessing import StandardScaler\n",
        "\n",
        "# Machine learning classifiers\n",
        "from xgboost import XGBClassifier\n",
        "\n",
        "import warnings\n",
        "warnings.filterwarnings('ignore')"
      ],
      "metadata": {
        "id": "euCTseZlb5wo"
      },
      "execution_count": null,
      "outputs": []
    },
    {
      "cell_type": "code",
      "source": [
        "class color:\n",
        "   BOLD = '\\033[1m'\n",
        "   UNDERLINE = '\\033[4m'\n",
        "   END = '\\033[0m'"
      ],
      "metadata": {
        "id": "GJ6fTt3UA0oK"
      },
      "execution_count": null,
      "outputs": []
    },
    {
      "cell_type": "code",
      "source": [
        "from imblearn.over_sampling import SMOTE\n",
        "smote = SMOTE()"
      ],
      "metadata": {
        "id": "RPDdpBKlpyY1"
      },
      "execution_count": null,
      "outputs": []
    },
    {
      "cell_type": "code",
      "source": [
        "def train_model_for_a_class(x,Label,K,use_smote,average='binary'):\n",
        "  # Cross validation and model training\n",
        "  accuracy_scores = []\n",
        "  f1_scores = []\n",
        "  recall_scores = []\n",
        "  precision_scores = []\n",
        "  kfold = StratifiedKFold(n_splits=K, shuffle=True, random_state=42)\n",
        "\n",
        "  for train, test in kfold.split(x, Label):\n",
        "      if len(np.unique(Label)) == 2:\n",
        "        model = XGBClassifier(objective = \"binary:logistic\",seed=42)\n",
        "      else:\n",
        "        model = XGBClassifier(objective = \"multi:softmax\",seed=42)\n",
        "      if use_smote:\n",
        "        X_train_smote,y_train_smote = smote.fit_resample(x[train],Label[train])\n",
        "        model.fit(X_train_smote, y_train_smote)\n",
        "      else:\n",
        "        model.fit(x[train], Label[train])\n",
        "      y_pred = model.predict(x[test])\n",
        "      accuracy_scores.append(accuracy_score(Label[test], y_pred))\n",
        "      f1_scores.append(f1_score(Label[test], y_pred, average=average))\n",
        "      recall_scores.append(recall_score(Label[test], y_pred, average=average))\n",
        "      precision_scores.append(precision_score(Label[test], y_pred, average=average))\n",
        "\n",
        "  print(\"Accuracy: {}\".format(np.mean(accuracy_scores)))\n",
        "  print(\"f1_score: {}\".format(np.mean(f1_scores)))\n",
        "  print(\"recall_score: {}\".format(np.mean(recall_scores)))\n",
        "  print(\"precision_score: {}\".format(np.mean(precision_scores)))\n",
        "  print(\"\\n-------------------------------------------------------\\n\")"
      ],
      "metadata": {
        "id": "un2rSacfZONN"
      },
      "execution_count": null,
      "outputs": []
    },
    {
      "cell_type": "code",
      "source": [
        "def train_model(data_file_path,use_smote=False,average='binary'): \n",
        "\n",
        "  data = np.loadtxt(data_file_path, delimiter=\",\")\n",
        "\n",
        "  num_samples = data.shape[1]\n",
        "  num_features = data.shape[0]-3\n",
        "\n",
        "  x = np.transpose(data[0:num_features:])\n",
        "  Label_1 = np.transpose(data[num_features:num_features+1,:]); Label_1 = Label_1.astype(int);\n",
        "  Label_2 = np.transpose(data[num_features+1:num_features+2,:]); Label_2 = Label_2.astype(int);\n",
        "  Label_3 = np.transpose(data[num_features+2:num_features+3,:]); Label_3 = Label_3.astype(int);\n",
        "\n",
        "  print(\"Number of points in the dataset: {}\".format(num_samples))\n",
        "  print(\"Number of features in each datapoint: {}\\n\".format(num_features))\n",
        "\n",
        "\n",
        "  # Preprocessing\n",
        "  scl = StandardScaler()\n",
        "  x = scl.fit_transform(x)\n",
        "\n",
        "  print(color.BOLD+\"Training model for 2 class:\"+color.END)\n",
        "  train_model_for_a_class(x,Label_1,5,use_smote)\n",
        "\n",
        "  print(color.BOLD+\"Training model for 4 class:\"+color.END)\n",
        "  train_model_for_a_class(x,Label_2,5,use_smote, average=average)\n",
        "\n",
        "  print(color.BOLD+\"Training model for 10 class:\"+color.END)\n",
        "  train_model_for_a_class(x,Label_3,5,use_smote, average=average)"
      ],
      "metadata": {
        "id": "brDnxaRAYWVY"
      },
      "execution_count": null,
      "outputs": []
    },
    {
      "cell_type": "markdown",
      "source": [
        "# Root mean square energy "
      ],
      "metadata": {
        "id": "hxx28eZspGC6"
      }
    },
    {
      "cell_type": "markdown",
      "source": [
        "Window length = 1e6"
      ],
      "metadata": {
        "id": "rFRt2e-xpTpQ"
      }
    },
    {
      "cell_type": "code",
      "source": [
        "train_model(\"/content/drive/MyDrive/CEERI Project - Kalit/data/time-domain/rms_energy_M=1e6.csv\",use_smote=True, average='weighted')"
      ],
      "metadata": {
        "colab": {
          "base_uri": "https://localhost:8080/"
        },
        "id": "at2PNFVLpJ8w",
        "outputId": "93b0b4b0-a7be-4cdd-f4c6-09a83e01734d"
      },
      "execution_count": null,
      "outputs": [
        {
          "output_type": "stream",
          "name": "stdout",
          "text": [
            "Number of points in the dataset: 2270\n",
            "Number of features in each datapoint: 2\n",
            "\n",
            "\u001b[1mTraining model for 2 class:\u001b[0m\n",
            "Accuracy: 1.0\n",
            "f1_score: 1.0\n",
            "recall_score: 1.0\n",
            "precision_score: 1.0\n",
            "\n",
            "-------------------------------------------------------\n",
            "\n",
            "\u001b[1mTraining model for 4 class:\u001b[0m\n",
            "Accuracy: 0.9127753303964757\n",
            "f1_score: 0.9135136887773495\n",
            "recall_score: 0.9127753303964757\n",
            "precision_score: 0.9169064279910379\n",
            "\n",
            "-------------------------------------------------------\n",
            "\n",
            "\u001b[1mTraining model for 10 class:\u001b[0m\n",
            "Accuracy: 0.7607929515418503\n",
            "f1_score: 0.7568677040816272\n",
            "recall_score: 0.7607929515418503\n",
            "precision_score: 0.7679468055573022\n",
            "\n",
            "-------------------------------------------------------\n",
            "\n"
          ]
        }
      ]
    },
    {
      "cell_type": "markdown",
      "source": [
        "Window length = 1e7"
      ],
      "metadata": {
        "id": "Zdf58iPVpeW-"
      }
    },
    {
      "cell_type": "code",
      "source": [
        "train_model(\"/content/drive/MyDrive/CEERI Project - Kalit/data/time-domain/rms_energy_M=1e7.csv\",use_smote=True, average='weighted')"
      ],
      "metadata": {
        "colab": {
          "base_uri": "https://localhost:8080/"
        },
        "id": "pB-Y1Gyfauct",
        "outputId": "e3f6be23-0c10-4da8-8057-af019c9033a8"
      },
      "execution_count": null,
      "outputs": [
        {
          "output_type": "stream",
          "name": "stdout",
          "text": [
            "Number of points in the dataset: 227\n",
            "Number of features in each datapoint: 2\n",
            "\n",
            "\u001b[1mTraining model for 2 class:\u001b[0m\n",
            "Accuracy: 1.0\n",
            "f1_score: 1.0\n",
            "recall_score: 1.0\n",
            "precision_score: 1.0\n",
            "\n",
            "-------------------------------------------------------\n",
            "\n",
            "\u001b[1mTraining model for 4 class:\u001b[0m\n",
            "Accuracy: 0.9647342995169084\n",
            "f1_score: 0.9646127869671581\n",
            "recall_score: 0.9647342995169084\n",
            "precision_score: 0.9679909065075305\n",
            "\n",
            "-------------------------------------------------------\n",
            "\n",
            "\u001b[1mTraining model for 10 class:\u001b[0m\n",
            "Accuracy: 0.7135265700483091\n",
            "f1_score: 0.7019010206111654\n",
            "recall_score: 0.7135265700483091\n",
            "precision_score: 0.7398777317690362\n",
            "\n",
            "-------------------------------------------------------\n",
            "\n"
          ]
        }
      ]
    },
    {
      "cell_type": "markdown",
      "source": [
        "# Zero crossing rate"
      ],
      "metadata": {
        "id": "b8R3uLPXKV5W"
      }
    },
    {
      "cell_type": "markdown",
      "source": [
        "Window length = 1e6"
      ],
      "metadata": {
        "id": "IFZKmsuI330f"
      }
    },
    {
      "cell_type": "code",
      "source": [
        "train_model(\"/content/drive/MyDrive/CEERI Project - Kalit/data/time-domain/zero_crossing_rate_1e6.csv\",use_smote=True, average='weighted')"
      ],
      "metadata": {
        "colab": {
          "base_uri": "https://localhost:8080/"
        },
        "id": "CA9cqZnN32AC",
        "outputId": "4105657d-938d-4d80-ffac-6f0d1f0373f7"
      },
      "execution_count": null,
      "outputs": [
        {
          "output_type": "stream",
          "name": "stdout",
          "text": [
            "Number of points in the dataset: 2270\n",
            "Number of features in each datapoint: 4\n",
            "\n",
            "\u001b[1mTraining model for 2 class:\u001b[0m\n",
            "Accuracy: 0.7176211453744493\n",
            "f1_score: 0.7961496061193762\n",
            "recall_score: 0.6736559139784946\n",
            "precision_score: 0.9737662694634895\n",
            "\n",
            "-------------------------------------------------------\n",
            "\n",
            "\u001b[1mTraining model for 4 class:\u001b[0m\n",
            "Accuracy: 0.5083700440528635\n",
            "f1_score: 0.4548529037102256\n",
            "recall_score: 0.5083700440528635\n",
            "precision_score: 0.5803844033410339\n",
            "\n",
            "-------------------------------------------------------\n",
            "\n",
            "\u001b[1mTraining model for 10 class:\u001b[0m\n",
            "Accuracy: 0.43480176211453736\n",
            "f1_score: 0.4251350835226245\n",
            "recall_score: 0.43480176211453736\n",
            "precision_score: 0.4400816251176353\n",
            "\n",
            "-------------------------------------------------------\n",
            "\n"
          ]
        }
      ]
    },
    {
      "cell_type": "markdown",
      "source": [
        "Window length = 1e7"
      ],
      "metadata": {
        "id": "HUdh-ywu35_m"
      }
    },
    {
      "cell_type": "code",
      "source": [
        "train_model(\"/content/drive/MyDrive/CEERI Project - Kalit/data/time-domain/zero_crossing_rate_1e7.csv\",use_smote=True, average='weighted')"
      ],
      "metadata": {
        "colab": {
          "base_uri": "https://localhost:8080/"
        },
        "id": "ypWzJxlT37jm",
        "outputId": "52a15e62-3214-458f-e34f-ccbf6e437700"
      },
      "execution_count": null,
      "outputs": [
        {
          "output_type": "stream",
          "name": "stdout",
          "text": [
            "Number of points in the dataset: 227\n",
            "Number of features in each datapoint: 4\n",
            "\n",
            "\u001b[1mTraining model for 2 class:\u001b[0m\n",
            "Accuracy: 0.6300483091787439\n",
            "f1_score: 0.7361255292093927\n",
            "recall_score: 0.6291607396870555\n",
            "precision_score: 0.8912724193458825\n",
            "\n",
            "-------------------------------------------------------\n",
            "\n",
            "\u001b[1mTraining model for 4 class:\u001b[0m\n",
            "Accuracy: 0.41391304347826086\n",
            "f1_score: 0.40845929984710594\n",
            "recall_score: 0.41391304347826086\n",
            "precision_score: 0.45044683121494716\n",
            "\n",
            "-------------------------------------------------------\n",
            "\n",
            "\u001b[1mTraining model for 10 class:\u001b[0m\n",
            "Accuracy: 0.3084057971014493\n",
            "f1_score: 0.30145874200946665\n",
            "recall_score: 0.3084057971014493\n",
            "precision_score: 0.3212921555095468\n",
            "\n",
            "-------------------------------------------------------\n",
            "\n"
          ]
        }
      ]
    },
    {
      "cell_type": "markdown",
      "source": [
        "# Some testing"
      ],
      "metadata": {
        "id": "km1-Wdu6BEvc"
      }
    },
    {
      "cell_type": "markdown",
      "source": [
        "Window length = 512"
      ],
      "metadata": {
        "id": "238Lt6z34ULm"
      }
    },
    {
      "cell_type": "code",
      "source": [
        "train_model(\"/content/drive/MyDrive/CEERI Project - Kalit/data/time-domain/zero crossing rate/zero_crossing_rate_wl=512.csv\",use_smote=True)"
      ],
      "metadata": {
        "colab": {
          "base_uri": "https://localhost:8080/"
        },
        "id": "RqvuhVMO4TjM",
        "outputId": "05e6dc45-e52a-4843-bbb6-3536e4294402"
      },
      "execution_count": null,
      "outputs": [
        {
          "output_type": "stream",
          "name": "stdout",
          "text": [
            "Number of points in the dataset: 4433537\n",
            "Number of features in each datapoint: 4\n",
            "\n",
            "Training model for 2 class\n",
            "[14:34:38] WARNING: /workspace/src/learner.cc:686: Tree method is automatically selected to be 'approx' for faster speed. To use old behavior (exact greedy algorithm on single machine), set tree_method to 'exact'.\n",
            "[14:48:16] WARNING: /workspace/src/learner.cc:686: Tree method is automatically selected to be 'approx' for faster speed. To use old behavior (exact greedy algorithm on single machine), set tree_method to 'exact'.\n",
            "[15:01:58] WARNING: /workspace/src/learner.cc:686: Tree method is automatically selected to be 'approx' for faster speed. To use old behavior (exact greedy algorithm on single machine), set tree_method to 'exact'.\n",
            "[15:15:17] WARNING: /workspace/src/learner.cc:686: Tree method is automatically selected to be 'approx' for faster speed. To use old behavior (exact greedy algorithm on single machine), set tree_method to 'exact'.\n"
          ]
        }
      ]
    },
    {
      "cell_type": "code",
      "source": [
        "x = np.transpose(Data[0:4,:])\n",
        "Label_1 = np.transpose(Data[4:5,:]); Label_1 = Label_1.astype(int);\n",
        "Label_2 = np.transpose(Data[5:6,:]); Label_2 = Label_2.astype(int);\n",
        "Label_3 = np.transpose(Data[6:7,:]); Label_3 = Label_3.astype(int);"
      ],
      "metadata": {
        "id": "96xw7gzCb6dw"
      },
      "execution_count": null,
      "outputs": []
    },
    {
      "cell_type": "code",
      "source": [
        "cvscores = []\n",
        "cnt = 0\n",
        "K = 5\n",
        "kfold = StratifiedKFold(n_splits=K, shuffle=True, random_state=1)\n",
        "for train, test in kfold.split(x, Label_1):\n",
        "    cnt = cnt + 1\n",
        "    model = XGBClassifier()\n",
        "    model.fit(x[train], Label_1[train])\n",
        "    score = model.score(x[test], Label_1[test])\n",
        "    print(\"Cross validation {} : {}\".format(cnt, score))\n",
        "    cvscores.append(score)"
      ],
      "metadata": {
        "colab": {
          "base_uri": "https://localhost:8080/"
        },
        "id": "d0j40NG7K6jt",
        "outputId": "52882fef-ca2e-40a3-b2b1-03522075e60e"
      },
      "execution_count": null,
      "outputs": [
        {
          "output_type": "stream",
          "name": "stderr",
          "text": [
            "/usr/local/lib/python3.7/dist-packages/sklearn/preprocessing/_label.py:98: DataConversionWarning: A column-vector y was passed when a 1d array was expected. Please change the shape of y to (n_samples, ), for example using ravel().\n",
            "  y = column_or_1d(y, warn=True)\n",
            "/usr/local/lib/python3.7/dist-packages/sklearn/preprocessing/_label.py:133: DataConversionWarning: A column-vector y was passed when a 1d array was expected. Please change the shape of y to (n_samples, ), for example using ravel().\n",
            "  y = column_or_1d(y, warn=True)\n"
          ]
        },
        {
          "output_type": "stream",
          "name": "stdout",
          "text": [
            "Cross validation 1 : 0.9309084839654092\n"
          ]
        },
        {
          "output_type": "stream",
          "name": "stderr",
          "text": [
            "/usr/local/lib/python3.7/dist-packages/sklearn/preprocessing/_label.py:98: DataConversionWarning: A column-vector y was passed when a 1d array was expected. Please change the shape of y to (n_samples, ), for example using ravel().\n",
            "  y = column_or_1d(y, warn=True)\n",
            "/usr/local/lib/python3.7/dist-packages/sklearn/preprocessing/_label.py:133: DataConversionWarning: A column-vector y was passed when a 1d array was expected. Please change the shape of y to (n_samples, ), for example using ravel().\n",
            "  y = column_or_1d(y, warn=True)\n"
          ]
        },
        {
          "output_type": "stream",
          "name": "stdout",
          "text": [
            "Cross validation 2 : 0.9378386120346269\n"
          ]
        },
        {
          "output_type": "stream",
          "name": "stderr",
          "text": [
            "/usr/local/lib/python3.7/dist-packages/sklearn/preprocessing/_label.py:98: DataConversionWarning: A column-vector y was passed when a 1d array was expected. Please change the shape of y to (n_samples, ), for example using ravel().\n",
            "  y = column_or_1d(y, warn=True)\n",
            "/usr/local/lib/python3.7/dist-packages/sklearn/preprocessing/_label.py:133: DataConversionWarning: A column-vector y was passed when a 1d array was expected. Please change the shape of y to (n_samples, ), for example using ravel().\n",
            "  y = column_or_1d(y, warn=True)\n"
          ]
        },
        {
          "output_type": "stream",
          "name": "stdout",
          "text": [
            "Cross validation 3 : 0.9336466273526656\n"
          ]
        },
        {
          "output_type": "stream",
          "name": "stderr",
          "text": [
            "/usr/local/lib/python3.7/dist-packages/sklearn/preprocessing/_label.py:98: DataConversionWarning: A column-vector y was passed when a 1d array was expected. Please change the shape of y to (n_samples, ), for example using ravel().\n",
            "  y = column_or_1d(y, warn=True)\n",
            "/usr/local/lib/python3.7/dist-packages/sklearn/preprocessing/_label.py:133: DataConversionWarning: A column-vector y was passed when a 1d array was expected. Please change the shape of y to (n_samples, ), for example using ravel().\n",
            "  y = column_or_1d(y, warn=True)\n"
          ]
        },
        {
          "output_type": "stream",
          "name": "stdout",
          "text": [
            "Cross validation 4 : 0.9329699664037839\n"
          ]
        },
        {
          "output_type": "stream",
          "name": "stderr",
          "text": [
            "/usr/local/lib/python3.7/dist-packages/sklearn/preprocessing/_label.py:98: DataConversionWarning: A column-vector y was passed when a 1d array was expected. Please change the shape of y to (n_samples, ), for example using ravel().\n",
            "  y = column_or_1d(y, warn=True)\n",
            "/usr/local/lib/python3.7/dist-packages/sklearn/preprocessing/_label.py:133: DataConversionWarning: A column-vector y was passed when a 1d array was expected. Please change the shape of y to (n_samples, ), for example using ravel().\n",
            "  y = column_or_1d(y, warn=True)\n"
          ]
        },
        {
          "output_type": "stream",
          "name": "stdout",
          "text": [
            "Cross validation 5 : 0.9344597482595717\n"
          ]
        }
      ]
    },
    {
      "cell_type": "code",
      "source": [
        "acc = (0.9309084839654092+0.9378386120346269+0.9336466273526656+0.9329699664037839+0.9344597482595717)/5\n",
        "acc"
      ],
      "metadata": {
        "colab": {
          "base_uri": "https://localhost:8080/"
        },
        "id": "-2KPGns5PEgM",
        "outputId": "65760306-51b7-45ea-e0de-b9cf4acd6376"
      },
      "execution_count": null,
      "outputs": [
        {
          "output_type": "execute_result",
          "data": {
            "text/plain": [
              "0.9339646876032115"
            ]
          },
          "metadata": {},
          "execution_count": 4
        }
      ]
    },
    {
      "cell_type": "code",
      "source": [
        "cnt= 0\n",
        "K = 5\n",
        "kfold = StratifiedKFold(n_splits=K, shuffle=True, random_state=1)\n",
        "for train, test in kfold.split(x, Label_2):\n",
        "    cnt = cnt + 1\n",
        "    model = XGBClassifier()\n",
        "    model.fit(x[train], Label_2[train])\n",
        "    score = model.score(x[test], Label_2[test])\n",
        "    print(\"Cross validation {} : {}\".format(cnt, score))\n",
        "    cvscores.append(score)"
      ],
      "metadata": {
        "colab": {
          "base_uri": "https://localhost:8080/"
        },
        "id": "Ug34irp-LCQS",
        "outputId": "2e173b27-6afd-46b3-f84a-a28837aacb3d"
      },
      "execution_count": null,
      "outputs": [
        {
          "output_type": "stream",
          "name": "stderr",
          "text": [
            "/usr/local/lib/python3.7/dist-packages/sklearn/preprocessing/_label.py:98: DataConversionWarning: A column-vector y was passed when a 1d array was expected. Please change the shape of y to (n_samples, ), for example using ravel().\n",
            "  y = column_or_1d(y, warn=True)\n",
            "/usr/local/lib/python3.7/dist-packages/sklearn/preprocessing/_label.py:133: DataConversionWarning: A column-vector y was passed when a 1d array was expected. Please change the shape of y to (n_samples, ), for example using ravel().\n",
            "  y = column_or_1d(y, warn=True)\n"
          ]
        },
        {
          "output_type": "stream",
          "name": "stdout",
          "text": [
            "Cross validation 1 : 0.7150448625703163\n"
          ]
        },
        {
          "output_type": "stream",
          "name": "stderr",
          "text": [
            "/usr/local/lib/python3.7/dist-packages/sklearn/preprocessing/_label.py:98: DataConversionWarning: A column-vector y was passed when a 1d array was expected. Please change the shape of y to (n_samples, ), for example using ravel().\n",
            "  y = column_or_1d(y, warn=True)\n",
            "/usr/local/lib/python3.7/dist-packages/sklearn/preprocessing/_label.py:133: DataConversionWarning: A column-vector y was passed when a 1d array was expected. Please change the shape of y to (n_samples, ), for example using ravel().\n",
            "  y = column_or_1d(y, warn=True)\n"
          ]
        },
        {
          "output_type": "stream",
          "name": "stdout",
          "text": [
            "Cross validation 2 : 0.7095391041921354\n"
          ]
        },
        {
          "output_type": "stream",
          "name": "stderr",
          "text": [
            "/usr/local/lib/python3.7/dist-packages/sklearn/preprocessing/_label.py:98: DataConversionWarning: A column-vector y was passed when a 1d array was expected. Please change the shape of y to (n_samples, ), for example using ravel().\n",
            "  y = column_or_1d(y, warn=True)\n",
            "/usr/local/lib/python3.7/dist-packages/sklearn/preprocessing/_label.py:133: DataConversionWarning: A column-vector y was passed when a 1d array was expected. Please change the shape of y to (n_samples, ), for example using ravel().\n",
            "  y = column_or_1d(y, warn=True)\n"
          ]
        },
        {
          "output_type": "stream",
          "name": "stdout",
          "text": [
            "Cross validation 3 : 0.7120525720446551\n"
          ]
        },
        {
          "output_type": "stream",
          "name": "stderr",
          "text": [
            "/usr/local/lib/python3.7/dist-packages/sklearn/preprocessing/_label.py:98: DataConversionWarning: A column-vector y was passed when a 1d array was expected. Please change the shape of y to (n_samples, ), for example using ravel().\n",
            "  y = column_or_1d(y, warn=True)\n",
            "/usr/local/lib/python3.7/dist-packages/sklearn/preprocessing/_label.py:133: DataConversionWarning: A column-vector y was passed when a 1d array was expected. Please change the shape of y to (n_samples, ), for example using ravel().\n",
            "  y = column_or_1d(y, warn=True)\n"
          ]
        },
        {
          "output_type": "stream",
          "name": "stdout",
          "text": [
            "Cross validation 4 : 0.717024902250687\n"
          ]
        },
        {
          "output_type": "stream",
          "name": "stderr",
          "text": [
            "/usr/local/lib/python3.7/dist-packages/sklearn/preprocessing/_label.py:98: DataConversionWarning: A column-vector y was passed when a 1d array was expected. Please change the shape of y to (n_samples, ), for example using ravel().\n",
            "  y = column_or_1d(y, warn=True)\n",
            "/usr/local/lib/python3.7/dist-packages/sklearn/preprocessing/_label.py:133: DataConversionWarning: A column-vector y was passed when a 1d array was expected. Please change the shape of y to (n_samples, ), for example using ravel().\n",
            "  y = column_or_1d(y, warn=True)\n"
          ]
        },
        {
          "output_type": "stream",
          "name": "stdout",
          "text": [
            "Cross validation 5 : 0.7128160711486432\n"
          ]
        }
      ]
    },
    {
      "cell_type": "code",
      "source": [
        "acc = (0.7150448625703163+0.7095391041921354+0.7120525720446551+0.717024902250687+ 0.7128160711486432)/5\n",
        "acc"
      ],
      "metadata": {
        "colab": {
          "base_uri": "https://localhost:8080/"
        },
        "id": "lDYOdtUyPQuy",
        "outputId": "67816b8a-7b1e-49ec-ea65-ff5b3756b843"
      },
      "execution_count": null,
      "outputs": [
        {
          "output_type": "execute_result",
          "data": {
            "text/plain": [
              "0.7132955024412874"
            ]
          },
          "metadata": {},
          "execution_count": 5
        }
      ]
    },
    {
      "cell_type": "code",
      "source": [
        "cnt = 0\n",
        "K = 5\n",
        "kfold = StratifiedKFold(n_splits=K, shuffle=True, random_state=1)\n",
        "for train, test in kfold.split(x, Label_3):\n",
        "    cnt = cnt + 1\n",
        "    model = XGBClassifier()\n",
        "    model.fit(x[train], Label_3[train])\n",
        "    score = model.score(x[test], Label_3[test])\n",
        "    print(\"Cross validation {} : {}\".format(cnt, score))\n",
        "    cvscores.append(score)"
      ],
      "metadata": {
        "colab": {
          "base_uri": "https://localhost:8080/"
        },
        "id": "_CKRpQ0LLFfU",
        "outputId": "72066882-8f86-431a-ad44-21a48a4b23bf"
      },
      "execution_count": null,
      "outputs": [
        {
          "output_type": "stream",
          "name": "stderr",
          "text": [
            "/usr/local/lib/python3.7/dist-packages/sklearn/preprocessing/_label.py:98: DataConversionWarning: A column-vector y was passed when a 1d array was expected. Please change the shape of y to (n_samples, ), for example using ravel().\n",
            "  y = column_or_1d(y, warn=True)\n",
            "/usr/local/lib/python3.7/dist-packages/sklearn/preprocessing/_label.py:133: DataConversionWarning: A column-vector y was passed when a 1d array was expected. Please change the shape of y to (n_samples, ), for example using ravel().\n",
            "  y = column_or_1d(y, warn=True)\n"
          ]
        },
        {
          "output_type": "stream",
          "name": "stdout",
          "text": [
            "Cross validation 1 : 0.64223284328099\n"
          ]
        },
        {
          "output_type": "stream",
          "name": "stderr",
          "text": [
            "/usr/local/lib/python3.7/dist-packages/sklearn/preprocessing/_label.py:98: DataConversionWarning: A column-vector y was passed when a 1d array was expected. Please change the shape of y to (n_samples, ), for example using ravel().\n",
            "  y = column_or_1d(y, warn=True)\n",
            "/usr/local/lib/python3.7/dist-packages/sklearn/preprocessing/_label.py:133: DataConversionWarning: A column-vector y was passed when a 1d array was expected. Please change the shape of y to (n_samples, ), for example using ravel().\n",
            "  y = column_or_1d(y, warn=True)\n"
          ]
        },
        {
          "output_type": "stream",
          "name": "stdout",
          "text": [
            "Cross validation 2 : 0.6417411368793334\n"
          ]
        },
        {
          "output_type": "stream",
          "name": "stderr",
          "text": [
            "/usr/local/lib/python3.7/dist-packages/sklearn/preprocessing/_label.py:98: DataConversionWarning: A column-vector y was passed when a 1d array was expected. Please change the shape of y to (n_samples, ), for example using ravel().\n",
            "  y = column_or_1d(y, warn=True)\n",
            "/usr/local/lib/python3.7/dist-packages/sklearn/preprocessing/_label.py:133: DataConversionWarning: A column-vector y was passed when a 1d array was expected. Please change the shape of y to (n_samples, ), for example using ravel().\n",
            "  y = column_or_1d(y, warn=True)\n"
          ]
        },
        {
          "output_type": "stream",
          "name": "stdout",
          "text": [
            "Cross validation 3 : 0.6317351729488997\n"
          ]
        },
        {
          "output_type": "stream",
          "name": "stderr",
          "text": [
            "/usr/local/lib/python3.7/dist-packages/sklearn/preprocessing/_label.py:98: DataConversionWarning: A column-vector y was passed when a 1d array was expected. Please change the shape of y to (n_samples, ), for example using ravel().\n",
            "  y = column_or_1d(y, warn=True)\n",
            "/usr/local/lib/python3.7/dist-packages/sklearn/preprocessing/_label.py:133: DataConversionWarning: A column-vector y was passed when a 1d array was expected. Please change the shape of y to (n_samples, ), for example using ravel().\n",
            "  y = column_or_1d(y, warn=True)\n"
          ]
        }
      ]
    },
    {
      "cell_type": "code",
      "source": [
        "acc = (0.64223284328099+0.6417411368793334+0.6317351729488997)/3\n",
        "acc"
      ],
      "metadata": {
        "id": "MTS7Y3sLPz-L",
        "colab": {
          "base_uri": "https://localhost:8080/"
        },
        "outputId": "ef7ade64-9a19-43ba-bec6-b33bb8a4d4b8"
      },
      "execution_count": null,
      "outputs": [
        {
          "output_type": "execute_result",
          "data": {
            "text/plain": [
              "0.6385697177030744"
            ]
          },
          "metadata": {},
          "execution_count": 6
        }
      ]
    },
    {
      "cell_type": "code",
      "source": [
        ""
      ],
      "metadata": {
        "id": "Hvd9ilCCPmER"
      },
      "execution_count": null,
      "outputs": []
    }
  ]
}