{
  "nbformat": 4,
  "nbformat_minor": 0,
  "metadata": {
    "colab": {
      "name": "Time domain features.ipynb",
      "provenance": [],
      "collapsed_sections": [
        "hxx28eZspGC6"
      ]
    },
    "kernelspec": {
      "name": "python3",
      "display_name": "Python 3"
    },
    "language_info": {
      "name": "python"
    }
  },
  "cells": [
    {
      "cell_type": "code",
      "execution_count": 1,
      "metadata": {
        "colab": {
          "base_uri": "https://localhost:8080/"
        },
        "id": "iIezKkTGbvYh",
        "outputId": "6e41a695-4324-459f-d3cd-1daaf45dfc2c"
      },
      "outputs": [
        {
          "output_type": "stream",
          "name": "stdout",
          "text": [
            "Drive already mounted at /content/drive; to attempt to forcibly remount, call drive.mount(\"/content/drive\", force_remount=True).\n"
          ]
        }
      ],
      "source": [
        "from google.colab import drive\n",
        "drive.mount('/content/drive')"
      ]
    },
    {
      "cell_type": "code",
      "source": [
        "!pip install xgboost"
      ],
      "metadata": {
        "colab": {
          "base_uri": "https://localhost:8080/"
        },
        "id": "9C6jeMDdb0Aa",
        "outputId": "1d4dbefb-4a00-41da-cf44-d1aad39dabf8"
      },
      "execution_count": 6,
      "outputs": [
        {
          "output_type": "stream",
          "name": "stdout",
          "text": [
            "Requirement already satisfied: xgboost in /usr/local/lib/python3.7/dist-packages (0.90)\n",
            "Requirement already satisfied: scipy in /usr/local/lib/python3.7/dist-packages (from xgboost) (1.4.1)\n",
            "Requirement already satisfied: numpy in /usr/local/lib/python3.7/dist-packages (from xgboost) (1.21.5)\n"
          ]
        }
      ]
    },
    {
      "cell_type": "code",
      "source": [
        "!pip install imblearn"
      ],
      "metadata": {
        "colab": {
          "base_uri": "https://localhost:8080/"
        },
        "id": "fohd7aA4pwBH",
        "outputId": "00a75b51-e6de-432b-8014-1183d4463ad7"
      },
      "execution_count": 7,
      "outputs": [
        {
          "output_type": "stream",
          "name": "stdout",
          "text": [
            "Requirement already satisfied: imblearn in /usr/local/lib/python3.7/dist-packages (0.0)\n",
            "Requirement already satisfied: imbalanced-learn in /usr/local/lib/python3.7/dist-packages (from imblearn) (0.8.1)\n",
            "Requirement already satisfied: scipy>=0.19.1 in /usr/local/lib/python3.7/dist-packages (from imbalanced-learn->imblearn) (1.4.1)\n",
            "Requirement already satisfied: numpy>=1.13.3 in /usr/local/lib/python3.7/dist-packages (from imbalanced-learn->imblearn) (1.21.5)\n",
            "Requirement already satisfied: joblib>=0.11 in /usr/local/lib/python3.7/dist-packages (from imbalanced-learn->imblearn) (1.1.0)\n",
            "Requirement already satisfied: scikit-learn>=0.24 in /usr/local/lib/python3.7/dist-packages (from imbalanced-learn->imblearn) (1.0.2)\n",
            "Requirement already satisfied: threadpoolctl>=2.0.0 in /usr/local/lib/python3.7/dist-packages (from scikit-learn>=0.24->imbalanced-learn->imblearn) (3.1.0)\n"
          ]
        }
      ]
    },
    {
      "cell_type": "code",
      "source": [
        "# Basic data handling libraries\n",
        "import numpy as np\n",
        "import pandas as pd\n",
        "np.random.seed(1)\n",
        "\n",
        "# Cross validation and hyperparameter tuning libraries\n",
        "from sklearn.model_selection import StratifiedKFold\n",
        "from sklearn.model_selection import train_test_split\n",
        "from sklearn.model_selection import RandomizedSearchCV\n",
        "from sklearn import metrics\n",
        "from sklearn import decomposition\n",
        "from sklearn.preprocessing import StandardScaler\n",
        "from sklearn.pipeline import Pipeline\n",
        "from sklearn.model_selection import cross_val_predict\n",
        "from sklearn.metrics import confusion_matrix\n",
        "\n",
        "# Machine learning classifiers\n",
        "from xgboost import XGBClassifier\n",
        "from sklearn.ensemble import RandomForestClassifier\n",
        "from sklearn.svm import SVC\n",
        "\n",
        "import warnings\n",
        "warnings.filterwarnings('ignore')"
      ],
      "metadata": {
        "id": "euCTseZlb5wo"
      },
      "execution_count": 8,
      "outputs": []
    },
    {
      "cell_type": "code",
      "source": [
        "from imblearn.over_sampling import SMOTE\n",
        "smote = SMOTE()"
      ],
      "metadata": {
        "id": "RPDdpBKlpyY1"
      },
      "execution_count": 9,
      "outputs": []
    },
    {
      "cell_type": "code",
      "source": [
        "def train_model_for_a_class(x,Label,K,use_smote):\n",
        "  # Cross validation and model training\n",
        "  cvscores = []\n",
        "  avg_score = 0.0\n",
        "  kfold = StratifiedKFold(n_splits=K, shuffle=True, random_state=42)\n",
        "\n",
        "  for train, test in kfold.split(x, Label):\n",
        "      if len(np.unique(Label)) == 2:\n",
        "        model = XGBClassifier(objective = \"binary:logistic\",seed=42)\n",
        "      else:\n",
        "        model = XGBClassifier(objective = \"multi:softmax\",seed=42)\n",
        "      if use_smote:\n",
        "        X_train_smote,y_train_smote = smote.fit_resample(x[train],Label[train])\n",
        "        model.fit(X_train_smote, y_train_smote)\n",
        "      else:\n",
        "        model.fit(x[train], Label[train])\n",
        "      score = model.score(x[test], Label[test])\n",
        "      cvscores.append(score)\n",
        "      avg_score = avg_score + score\n",
        "\n",
        "  avg_score = avg_score/K\n",
        "  return avg_score, cvscores"
      ],
      "metadata": {
        "id": "un2rSacfZONN"
      },
      "execution_count": 10,
      "outputs": []
    },
    {
      "cell_type": "code",
      "source": [
        "def train_model(data_file_path,use_smote=False): \n",
        "\n",
        "  data = np.loadtxt(data_file_path, delimiter=\",\")\n",
        "\n",
        "  num_samples = data.shape[1]\n",
        "  num_features = data.shape[0]-3\n",
        "\n",
        "  x = np.transpose(data[0:num_features:])\n",
        "  Label_1 = np.transpose(data[num_features:num_features+1,:]); Label_1 = Label_1.astype(int);\n",
        "  Label_2 = np.transpose(data[num_features+1:num_features+2,:]); Label_2 = Label_2.astype(int);\n",
        "  Label_3 = np.transpose(data[num_features+2:num_features+3,:]); Label_3 = Label_3.astype(int);\n",
        "\n",
        "  print(\"Number of points in the dataset: {}\".format(num_samples))\n",
        "  print(\"Number of features in each datapoint: {}\\n\".format(num_features))\n",
        "\n",
        "\n",
        "  # Preprocessing\n",
        "  scl = StandardScaler()\n",
        "  x = scl.fit_transform(x)\n",
        "\n",
        "  print(\"Training model for 2 class\")\n",
        "  avg_score_2_class, cvscores_2_class = train_model_for_a_class(x,Label_1,5,use_smote)\n",
        "  print(\"Results:\\n Cross validation scores: {} \\n Average accuracy: {}\\n\".format(cvscores_2_class, avg_score_2_class))\n",
        "\n",
        "  print(\"Training model for 4 class\")\n",
        "  avg_score_4_class, cvscores_4_class = train_model_for_a_class(x,Label_2,5,use_smote)\n",
        "  print(\"Results:\\n Cross validation scores: {} \\n Average accuracy: {}\\n\".format(cvscores_4_class, avg_score_4_class))\n",
        "\n",
        "  print(\"Training model for 10 class\")\n",
        "  avg_score_10_class, cvscores_10_class = train_model_for_a_class(x,Label_3,5,use_smote)\n",
        "  print(\"Results:\\n Cross validation scores: {} \\n Average accuracy: {}\\n\".format(cvscores_10_class, avg_score_10_class))"
      ],
      "metadata": {
        "id": "brDnxaRAYWVY"
      },
      "execution_count": 11,
      "outputs": []
    },
    {
      "cell_type": "markdown",
      "source": [
        "# Root mean square energy "
      ],
      "metadata": {
        "id": "hxx28eZspGC6"
      }
    },
    {
      "cell_type": "markdown",
      "source": [
        "Window length = 1e6"
      ],
      "metadata": {
        "id": "rFRt2e-xpTpQ"
      }
    },
    {
      "cell_type": "code",
      "source": [
        "train_model(\"/content/drive/MyDrive/CEERI Project - Kalit/data/time-domain/rms_energy_M=1e6.csv\",use_smote=True)"
      ],
      "metadata": {
        "colab": {
          "base_uri": "https://localhost:8080/"
        },
        "id": "at2PNFVLpJ8w",
        "outputId": "a29c3495-53d8-4c5d-9a8c-d94cc8ea8cbc"
      },
      "execution_count": 42,
      "outputs": [
        {
          "output_type": "stream",
          "name": "stdout",
          "text": [
            "Number of points in the dataset: 2270\n",
            "Number of features in each datapoint: 2\n",
            "\n",
            "Training model for 2 class\n",
            "Results:\n",
            " Cross validation scores: [1.0, 1.0, 1.0, 1.0, 1.0] \n",
            " Average accuracy: 1.0\n",
            "\n",
            "Training model for 4 class\n",
            "Results:\n",
            " Cross validation scores: [0.920704845814978, 0.9162995594713657, 0.8986784140969163, 0.8964757709251101, 0.9229074889867841] \n",
            " Average accuracy: 0.911013215859031\n",
            "\n",
            "Training model for 10 class\n",
            "Results:\n",
            " Cross validation scores: [0.7797356828193832, 0.7533039647577092, 0.7577092511013216, 0.7665198237885462, 0.7687224669603524] \n",
            " Average accuracy: 0.7651982378854626\n",
            "\n"
          ]
        }
      ]
    },
    {
      "cell_type": "markdown",
      "source": [
        "Window length = 1e7"
      ],
      "metadata": {
        "id": "Zdf58iPVpeW-"
      }
    },
    {
      "cell_type": "code",
      "source": [
        "train_model(\"/content/drive/MyDrive/CEERI Project - Kalit/data/time-domain/rms_energy_M=1e7.csv\",use_smote=True)"
      ],
      "metadata": {
        "colab": {
          "base_uri": "https://localhost:8080/"
        },
        "id": "pB-Y1Gyfauct",
        "outputId": "7f61399a-4e3c-4262-9eea-826eedfc35ee"
      },
      "execution_count": 43,
      "outputs": [
        {
          "output_type": "stream",
          "name": "stdout",
          "text": [
            "Number of points in the dataset: 227\n",
            "Number of features in each datapoint: 2\n",
            "\n",
            "Training model for 2 class\n",
            "Results:\n",
            " Cross validation scores: [1.0, 1.0, 1.0, 1.0, 1.0] \n",
            " Average accuracy: 1.0\n",
            "\n",
            "Training model for 4 class\n",
            "Results:\n",
            " Cross validation scores: [0.9347826086956522, 1.0, 0.9555555555555556, 0.9555555555555556, 0.9777777777777777] \n",
            " Average accuracy: 0.9647342995169084\n",
            "\n",
            "Training model for 10 class\n",
            "Results:\n",
            " Cross validation scores: [0.717391304347826, 0.7391304347826086, 0.7333333333333333, 0.6888888888888889, 0.6222222222222222] \n",
            " Average accuracy: 0.7001932367149759\n",
            "\n"
          ]
        }
      ]
    },
    {
      "cell_type": "markdown",
      "source": [
        "# Zero crossing rate"
      ],
      "metadata": {
        "id": "b8R3uLPXKV5W"
      }
    },
    {
      "cell_type": "markdown",
      "source": [
        "Window length = 1e6"
      ],
      "metadata": {
        "id": "IFZKmsuI330f"
      }
    },
    {
      "cell_type": "code",
      "source": [
        "train_model(\"/content/drive/MyDrive/CEERI Project - Kalit/data/time-domain/zero_crossing_rate_1e6.csv\",use_smote=True)"
      ],
      "metadata": {
        "colab": {
          "base_uri": "https://localhost:8080/"
        },
        "id": "CA9cqZnN32AC",
        "outputId": "8938e75a-3b86-4fab-8c8c-30291f513445"
      },
      "execution_count": 51,
      "outputs": [
        {
          "output_type": "stream",
          "name": "stdout",
          "text": [
            "Number of points in the dataset: 2270\n",
            "Number of features in each datapoint: 4\n",
            "\n",
            "Training model for 2 class\n",
            "Results:\n",
            " Cross validation scores: [0.6894273127753304, 0.7334801762114538, 0.7158590308370044, 0.711453744493392, 0.7224669603524229] \n",
            " Average accuracy: 0.7145374449339207\n",
            "\n",
            "Training model for 4 class\n",
            "Results:\n",
            " Cross validation scores: [0.5110132158590308, 0.5110132158590308, 0.5374449339207048, 0.4955947136563877, 0.4889867841409692] \n",
            " Average accuracy: 0.5088105726872246\n",
            "\n",
            "Training model for 10 class\n",
            "Results:\n",
            " Cross validation scores: [0.42731277533039647, 0.41409691629955947, 0.4052863436123348, 0.4251101321585903, 0.43612334801762115] \n",
            " Average accuracy: 0.4215859030837004\n",
            "\n"
          ]
        }
      ]
    },
    {
      "cell_type": "markdown",
      "source": [
        "Window length = 1e7"
      ],
      "metadata": {
        "id": "HUdh-ywu35_m"
      }
    },
    {
      "cell_type": "code",
      "source": [
        "train_model(\"/content/drive/MyDrive/CEERI Project - Kalit/data/time-domain/zero_crossing_rate_1e7.csv\",use_smote=True)"
      ],
      "metadata": {
        "colab": {
          "base_uri": "https://localhost:8080/"
        },
        "id": "ypWzJxlT37jm",
        "outputId": "6f2b176a-b83f-4ca2-85eb-eb9cfcdb7a36"
      },
      "execution_count": 12,
      "outputs": [
        {
          "output_type": "stream",
          "name": "stdout",
          "text": [
            "Number of points in the dataset: 227\n",
            "Number of features in each datapoint: 4\n",
            "\n",
            "Training model for 2 class\n",
            "Results:\n",
            " Cross validation scores: [0.717391304347826, 0.6086956521739131, 0.6222222222222222, 0.6444444444444445, 0.6666666666666666] \n",
            " Average accuracy: 0.6518840579710145\n",
            "\n",
            "Training model for 4 class\n",
            "Results:\n",
            " Cross validation scores: [0.45652173913043476, 0.43478260869565216, 0.5111111111111111, 0.4666666666666667, 0.3333333333333333] \n",
            " Average accuracy: 0.44048309178743966\n",
            "\n",
            "Training model for 10 class\n",
            "Results:\n",
            " Cross validation scores: [0.30434782608695654, 0.34782608695652173, 0.26666666666666666, 0.3111111111111111, 0.4444444444444444] \n",
            " Average accuracy: 0.3348792270531401\n",
            "\n"
          ]
        }
      ]
    },
    {
      "cell_type": "markdown",
      "source": [
        "Window length = 512"
      ],
      "metadata": {
        "id": "238Lt6z34ULm"
      }
    },
    {
      "cell_type": "code",
      "source": [
        "train_model(\"/content/drive/MyDrive/CEERI Project - Kalit/data/time-domain/zero crossing rate/zero_crossing_rate_wl=512.csv\",use_smote=True)"
      ],
      "metadata": {
        "colab": {
          "base_uri": "https://localhost:8080/"
        },
        "id": "RqvuhVMO4TjM",
        "outputId": "05e6dc45-e52a-4843-bbb6-3536e4294402"
      },
      "execution_count": null,
      "outputs": [
        {
          "output_type": "stream",
          "name": "stdout",
          "text": [
            "Number of points in the dataset: 4433537\n",
            "Number of features in each datapoint: 4\n",
            "\n",
            "Training model for 2 class\n",
            "[14:34:38] WARNING: /workspace/src/learner.cc:686: Tree method is automatically selected to be 'approx' for faster speed. To use old behavior (exact greedy algorithm on single machine), set tree_method to 'exact'.\n",
            "[14:48:16] WARNING: /workspace/src/learner.cc:686: Tree method is automatically selected to be 'approx' for faster speed. To use old behavior (exact greedy algorithm on single machine), set tree_method to 'exact'.\n",
            "[15:01:58] WARNING: /workspace/src/learner.cc:686: Tree method is automatically selected to be 'approx' for faster speed. To use old behavior (exact greedy algorithm on single machine), set tree_method to 'exact'.\n",
            "[15:15:17] WARNING: /workspace/src/learner.cc:686: Tree method is automatically selected to be 'approx' for faster speed. To use old behavior (exact greedy algorithm on single machine), set tree_method to 'exact'.\n"
          ]
        }
      ]
    },
    {
      "cell_type": "code",
      "source": [
        "x = np.transpose(Data[0:4,:])\n",
        "Label_1 = np.transpose(Data[4:5,:]); Label_1 = Label_1.astype(int);\n",
        "Label_2 = np.transpose(Data[5:6,:]); Label_2 = Label_2.astype(int);\n",
        "Label_3 = np.transpose(Data[6:7,:]); Label_3 = Label_3.astype(int);"
      ],
      "metadata": {
        "id": "96xw7gzCb6dw"
      },
      "execution_count": null,
      "outputs": []
    },
    {
      "cell_type": "code",
      "source": [
        "cvscores = []\n",
        "cnt = 0\n",
        "K = 5\n",
        "kfold = StratifiedKFold(n_splits=K, shuffle=True, random_state=1)\n",
        "for train, test in kfold.split(x, Label_1):\n",
        "    cnt = cnt + 1\n",
        "    model = XGBClassifier()\n",
        "    model.fit(x[train], Label_1[train])\n",
        "    score = model.score(x[test], Label_1[test])\n",
        "    print(\"Cross validation {} : {}\".format(cnt, score))\n",
        "    cvscores.append(score)"
      ],
      "metadata": {
        "colab": {
          "base_uri": "https://localhost:8080/"
        },
        "id": "d0j40NG7K6jt",
        "outputId": "52882fef-ca2e-40a3-b2b1-03522075e60e"
      },
      "execution_count": null,
      "outputs": [
        {
          "output_type": "stream",
          "name": "stderr",
          "text": [
            "/usr/local/lib/python3.7/dist-packages/sklearn/preprocessing/_label.py:98: DataConversionWarning: A column-vector y was passed when a 1d array was expected. Please change the shape of y to (n_samples, ), for example using ravel().\n",
            "  y = column_or_1d(y, warn=True)\n",
            "/usr/local/lib/python3.7/dist-packages/sklearn/preprocessing/_label.py:133: DataConversionWarning: A column-vector y was passed when a 1d array was expected. Please change the shape of y to (n_samples, ), for example using ravel().\n",
            "  y = column_or_1d(y, warn=True)\n"
          ]
        },
        {
          "output_type": "stream",
          "name": "stdout",
          "text": [
            "Cross validation 1 : 0.9309084839654092\n"
          ]
        },
        {
          "output_type": "stream",
          "name": "stderr",
          "text": [
            "/usr/local/lib/python3.7/dist-packages/sklearn/preprocessing/_label.py:98: DataConversionWarning: A column-vector y was passed when a 1d array was expected. Please change the shape of y to (n_samples, ), for example using ravel().\n",
            "  y = column_or_1d(y, warn=True)\n",
            "/usr/local/lib/python3.7/dist-packages/sklearn/preprocessing/_label.py:133: DataConversionWarning: A column-vector y was passed when a 1d array was expected. Please change the shape of y to (n_samples, ), for example using ravel().\n",
            "  y = column_or_1d(y, warn=True)\n"
          ]
        },
        {
          "output_type": "stream",
          "name": "stdout",
          "text": [
            "Cross validation 2 : 0.9378386120346269\n"
          ]
        },
        {
          "output_type": "stream",
          "name": "stderr",
          "text": [
            "/usr/local/lib/python3.7/dist-packages/sklearn/preprocessing/_label.py:98: DataConversionWarning: A column-vector y was passed when a 1d array was expected. Please change the shape of y to (n_samples, ), for example using ravel().\n",
            "  y = column_or_1d(y, warn=True)\n",
            "/usr/local/lib/python3.7/dist-packages/sklearn/preprocessing/_label.py:133: DataConversionWarning: A column-vector y was passed when a 1d array was expected. Please change the shape of y to (n_samples, ), for example using ravel().\n",
            "  y = column_or_1d(y, warn=True)\n"
          ]
        },
        {
          "output_type": "stream",
          "name": "stdout",
          "text": [
            "Cross validation 3 : 0.9336466273526656\n"
          ]
        },
        {
          "output_type": "stream",
          "name": "stderr",
          "text": [
            "/usr/local/lib/python3.7/dist-packages/sklearn/preprocessing/_label.py:98: DataConversionWarning: A column-vector y was passed when a 1d array was expected. Please change the shape of y to (n_samples, ), for example using ravel().\n",
            "  y = column_or_1d(y, warn=True)\n",
            "/usr/local/lib/python3.7/dist-packages/sklearn/preprocessing/_label.py:133: DataConversionWarning: A column-vector y was passed when a 1d array was expected. Please change the shape of y to (n_samples, ), for example using ravel().\n",
            "  y = column_or_1d(y, warn=True)\n"
          ]
        },
        {
          "output_type": "stream",
          "name": "stdout",
          "text": [
            "Cross validation 4 : 0.9329699664037839\n"
          ]
        },
        {
          "output_type": "stream",
          "name": "stderr",
          "text": [
            "/usr/local/lib/python3.7/dist-packages/sklearn/preprocessing/_label.py:98: DataConversionWarning: A column-vector y was passed when a 1d array was expected. Please change the shape of y to (n_samples, ), for example using ravel().\n",
            "  y = column_or_1d(y, warn=True)\n",
            "/usr/local/lib/python3.7/dist-packages/sklearn/preprocessing/_label.py:133: DataConversionWarning: A column-vector y was passed when a 1d array was expected. Please change the shape of y to (n_samples, ), for example using ravel().\n",
            "  y = column_or_1d(y, warn=True)\n"
          ]
        },
        {
          "output_type": "stream",
          "name": "stdout",
          "text": [
            "Cross validation 5 : 0.9344597482595717\n"
          ]
        }
      ]
    },
    {
      "cell_type": "code",
      "source": [
        "acc = (0.9309084839654092+0.9378386120346269+0.9336466273526656+0.9329699664037839+0.9344597482595717)/5\n",
        "acc"
      ],
      "metadata": {
        "colab": {
          "base_uri": "https://localhost:8080/"
        },
        "id": "-2KPGns5PEgM",
        "outputId": "65760306-51b7-45ea-e0de-b9cf4acd6376"
      },
      "execution_count": null,
      "outputs": [
        {
          "output_type": "execute_result",
          "data": {
            "text/plain": [
              "0.9339646876032115"
            ]
          },
          "metadata": {},
          "execution_count": 4
        }
      ]
    },
    {
      "cell_type": "code",
      "source": [
        "cnt= 0\n",
        "K = 5\n",
        "kfold = StratifiedKFold(n_splits=K, shuffle=True, random_state=1)\n",
        "for train, test in kfold.split(x, Label_2):\n",
        "    cnt = cnt + 1\n",
        "    model = XGBClassifier()\n",
        "    model.fit(x[train], Label_2[train])\n",
        "    score = model.score(x[test], Label_2[test])\n",
        "    print(\"Cross validation {} : {}\".format(cnt, score))\n",
        "    cvscores.append(score)"
      ],
      "metadata": {
        "colab": {
          "base_uri": "https://localhost:8080/"
        },
        "id": "Ug34irp-LCQS",
        "outputId": "2e173b27-6afd-46b3-f84a-a28837aacb3d"
      },
      "execution_count": null,
      "outputs": [
        {
          "output_type": "stream",
          "name": "stderr",
          "text": [
            "/usr/local/lib/python3.7/dist-packages/sklearn/preprocessing/_label.py:98: DataConversionWarning: A column-vector y was passed when a 1d array was expected. Please change the shape of y to (n_samples, ), for example using ravel().\n",
            "  y = column_or_1d(y, warn=True)\n",
            "/usr/local/lib/python3.7/dist-packages/sklearn/preprocessing/_label.py:133: DataConversionWarning: A column-vector y was passed when a 1d array was expected. Please change the shape of y to (n_samples, ), for example using ravel().\n",
            "  y = column_or_1d(y, warn=True)\n"
          ]
        },
        {
          "output_type": "stream",
          "name": "stdout",
          "text": [
            "Cross validation 1 : 0.7150448625703163\n"
          ]
        },
        {
          "output_type": "stream",
          "name": "stderr",
          "text": [
            "/usr/local/lib/python3.7/dist-packages/sklearn/preprocessing/_label.py:98: DataConversionWarning: A column-vector y was passed when a 1d array was expected. Please change the shape of y to (n_samples, ), for example using ravel().\n",
            "  y = column_or_1d(y, warn=True)\n",
            "/usr/local/lib/python3.7/dist-packages/sklearn/preprocessing/_label.py:133: DataConversionWarning: A column-vector y was passed when a 1d array was expected. Please change the shape of y to (n_samples, ), for example using ravel().\n",
            "  y = column_or_1d(y, warn=True)\n"
          ]
        },
        {
          "output_type": "stream",
          "name": "stdout",
          "text": [
            "Cross validation 2 : 0.7095391041921354\n"
          ]
        },
        {
          "output_type": "stream",
          "name": "stderr",
          "text": [
            "/usr/local/lib/python3.7/dist-packages/sklearn/preprocessing/_label.py:98: DataConversionWarning: A column-vector y was passed when a 1d array was expected. Please change the shape of y to (n_samples, ), for example using ravel().\n",
            "  y = column_or_1d(y, warn=True)\n",
            "/usr/local/lib/python3.7/dist-packages/sklearn/preprocessing/_label.py:133: DataConversionWarning: A column-vector y was passed when a 1d array was expected. Please change the shape of y to (n_samples, ), for example using ravel().\n",
            "  y = column_or_1d(y, warn=True)\n"
          ]
        },
        {
          "output_type": "stream",
          "name": "stdout",
          "text": [
            "Cross validation 3 : 0.7120525720446551\n"
          ]
        },
        {
          "output_type": "stream",
          "name": "stderr",
          "text": [
            "/usr/local/lib/python3.7/dist-packages/sklearn/preprocessing/_label.py:98: DataConversionWarning: A column-vector y was passed when a 1d array was expected. Please change the shape of y to (n_samples, ), for example using ravel().\n",
            "  y = column_or_1d(y, warn=True)\n",
            "/usr/local/lib/python3.7/dist-packages/sklearn/preprocessing/_label.py:133: DataConversionWarning: A column-vector y was passed when a 1d array was expected. Please change the shape of y to (n_samples, ), for example using ravel().\n",
            "  y = column_or_1d(y, warn=True)\n"
          ]
        },
        {
          "output_type": "stream",
          "name": "stdout",
          "text": [
            "Cross validation 4 : 0.717024902250687\n"
          ]
        },
        {
          "output_type": "stream",
          "name": "stderr",
          "text": [
            "/usr/local/lib/python3.7/dist-packages/sklearn/preprocessing/_label.py:98: DataConversionWarning: A column-vector y was passed when a 1d array was expected. Please change the shape of y to (n_samples, ), for example using ravel().\n",
            "  y = column_or_1d(y, warn=True)\n",
            "/usr/local/lib/python3.7/dist-packages/sklearn/preprocessing/_label.py:133: DataConversionWarning: A column-vector y was passed when a 1d array was expected. Please change the shape of y to (n_samples, ), for example using ravel().\n",
            "  y = column_or_1d(y, warn=True)\n"
          ]
        },
        {
          "output_type": "stream",
          "name": "stdout",
          "text": [
            "Cross validation 5 : 0.7128160711486432\n"
          ]
        }
      ]
    },
    {
      "cell_type": "code",
      "source": [
        "acc = (0.7150448625703163+0.7095391041921354+0.7120525720446551+0.717024902250687+ 0.7128160711486432)/5\n",
        "acc"
      ],
      "metadata": {
        "colab": {
          "base_uri": "https://localhost:8080/"
        },
        "id": "lDYOdtUyPQuy",
        "outputId": "67816b8a-7b1e-49ec-ea65-ff5b3756b843"
      },
      "execution_count": null,
      "outputs": [
        {
          "output_type": "execute_result",
          "data": {
            "text/plain": [
              "0.7132955024412874"
            ]
          },
          "metadata": {},
          "execution_count": 5
        }
      ]
    },
    {
      "cell_type": "code",
      "source": [
        "cnt = 0\n",
        "K = 5\n",
        "kfold = StratifiedKFold(n_splits=K, shuffle=True, random_state=1)\n",
        "for train, test in kfold.split(x, Label_3):\n",
        "    cnt = cnt + 1\n",
        "    model = XGBClassifier()\n",
        "    model.fit(x[train], Label_3[train])\n",
        "    score = model.score(x[test], Label_3[test])\n",
        "    print(\"Cross validation {} : {}\".format(cnt, score))\n",
        "    cvscores.append(score)"
      ],
      "metadata": {
        "colab": {
          "base_uri": "https://localhost:8080/"
        },
        "id": "_CKRpQ0LLFfU",
        "outputId": "72066882-8f86-431a-ad44-21a48a4b23bf"
      },
      "execution_count": null,
      "outputs": [
        {
          "output_type": "stream",
          "name": "stderr",
          "text": [
            "/usr/local/lib/python3.7/dist-packages/sklearn/preprocessing/_label.py:98: DataConversionWarning: A column-vector y was passed when a 1d array was expected. Please change the shape of y to (n_samples, ), for example using ravel().\n",
            "  y = column_or_1d(y, warn=True)\n",
            "/usr/local/lib/python3.7/dist-packages/sklearn/preprocessing/_label.py:133: DataConversionWarning: A column-vector y was passed when a 1d array was expected. Please change the shape of y to (n_samples, ), for example using ravel().\n",
            "  y = column_or_1d(y, warn=True)\n"
          ]
        },
        {
          "output_type": "stream",
          "name": "stdout",
          "text": [
            "Cross validation 1 : 0.64223284328099\n"
          ]
        },
        {
          "output_type": "stream",
          "name": "stderr",
          "text": [
            "/usr/local/lib/python3.7/dist-packages/sklearn/preprocessing/_label.py:98: DataConversionWarning: A column-vector y was passed when a 1d array was expected. Please change the shape of y to (n_samples, ), for example using ravel().\n",
            "  y = column_or_1d(y, warn=True)\n",
            "/usr/local/lib/python3.7/dist-packages/sklearn/preprocessing/_label.py:133: DataConversionWarning: A column-vector y was passed when a 1d array was expected. Please change the shape of y to (n_samples, ), for example using ravel().\n",
            "  y = column_or_1d(y, warn=True)\n"
          ]
        },
        {
          "output_type": "stream",
          "name": "stdout",
          "text": [
            "Cross validation 2 : 0.6417411368793334\n"
          ]
        },
        {
          "output_type": "stream",
          "name": "stderr",
          "text": [
            "/usr/local/lib/python3.7/dist-packages/sklearn/preprocessing/_label.py:98: DataConversionWarning: A column-vector y was passed when a 1d array was expected. Please change the shape of y to (n_samples, ), for example using ravel().\n",
            "  y = column_or_1d(y, warn=True)\n",
            "/usr/local/lib/python3.7/dist-packages/sklearn/preprocessing/_label.py:133: DataConversionWarning: A column-vector y was passed when a 1d array was expected. Please change the shape of y to (n_samples, ), for example using ravel().\n",
            "  y = column_or_1d(y, warn=True)\n"
          ]
        },
        {
          "output_type": "stream",
          "name": "stdout",
          "text": [
            "Cross validation 3 : 0.6317351729488997\n"
          ]
        },
        {
          "output_type": "stream",
          "name": "stderr",
          "text": [
            "/usr/local/lib/python3.7/dist-packages/sklearn/preprocessing/_label.py:98: DataConversionWarning: A column-vector y was passed when a 1d array was expected. Please change the shape of y to (n_samples, ), for example using ravel().\n",
            "  y = column_or_1d(y, warn=True)\n",
            "/usr/local/lib/python3.7/dist-packages/sklearn/preprocessing/_label.py:133: DataConversionWarning: A column-vector y was passed when a 1d array was expected. Please change the shape of y to (n_samples, ), for example using ravel().\n",
            "  y = column_or_1d(y, warn=True)\n"
          ]
        }
      ]
    },
    {
      "cell_type": "code",
      "source": [
        "acc = (0.64223284328099+0.6417411368793334+0.6317351729488997)/3\n",
        "acc"
      ],
      "metadata": {
        "id": "MTS7Y3sLPz-L",
        "colab": {
          "base_uri": "https://localhost:8080/"
        },
        "outputId": "ef7ade64-9a19-43ba-bec6-b33bb8a4d4b8"
      },
      "execution_count": null,
      "outputs": [
        {
          "output_type": "execute_result",
          "data": {
            "text/plain": [
              "0.6385697177030744"
            ]
          },
          "metadata": {},
          "execution_count": 6
        }
      ]
    },
    {
      "cell_type": "code",
      "source": [
        ""
      ],
      "metadata": {
        "id": "Hvd9ilCCPmER"
      },
      "execution_count": null,
      "outputs": []
    }
  ]
}