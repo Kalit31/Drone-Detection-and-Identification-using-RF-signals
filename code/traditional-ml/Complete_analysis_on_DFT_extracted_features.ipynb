{
  "nbformat": 4,
  "nbformat_minor": 0,
  "metadata": {
    "colab": {
      "name": "Complete analysis on DFT extracted features.ipynb",
      "provenance": [],
      "collapsed_sections": [
        "j3byr6x4ETr6",
        "jOH5WmaA4z1t",
        "tmBJGw4543LY",
        "k1ZlN6Jn5DqH",
        "aFTldw8UGQcz",
        "66BNl0v8GXzW",
        "ZVWWA0RUGx77",
        "yn4MVbXVDMzy",
        "KHkPVhdIDMz2",
        "qbEsjjstDMz5",
        "QEdFJQjdG0_m",
        "oESAMUrQGQFu",
        "BX6cf4J8GQFx",
        "TxFq6kzmGQFz",
        "xKGP56cQDgC3",
        "4DNvR30bD01X",
        "i2wt2BY1D3RK",
        "gpuqhVh_D3RP",
        "RDWhqjgHD3RS",
        "-qTvM2sq_-GV",
        "0WZ3pR0-_-GY",
        "Z872TF34_-GY",
        "GYbNKPFU_-Ga",
        "leuy3ugb_-Gb",
        "NwtWZ_-XAMDj",
        "JiXlxdmrAMDq",
        "Ffz36IL1AMDq",
        "hox1GOM_AMDr",
        "xFrQkb8cAMDs"
      ]
    },
    "kernelspec": {
      "name": "python3",
      "display_name": "Python 3"
    },
    "language_info": {
      "name": "python"
    }
  },
  "cells": [
    {
      "cell_type": "markdown",
      "source": [
        "# Import libraries"
      ],
      "metadata": {
        "id": "j3byr6x4ETr6"
      }
    },
    {
      "cell_type": "code",
      "execution_count": null,
      "metadata": {
        "id": "xGnKGbUO0xBq",
        "colab": {
          "base_uri": "https://localhost:8080/"
        },
        "outputId": "20d85b56-2654-4a3a-aa9a-a506720ff4e1"
      },
      "outputs": [
        {
          "output_type": "stream",
          "name": "stdout",
          "text": [
            "Mounted at /content/drive\n"
          ]
        }
      ],
      "source": [
        "from google.colab import drive\n",
        "drive.mount('/content/drive')"
      ]
    },
    {
      "cell_type": "code",
      "source": [
        "!pip install xgboost"
      ],
      "metadata": {
        "colab": {
          "base_uri": "https://localhost:8080/"
        },
        "id": "Ppd-VcT8Zmo8",
        "outputId": "6cf0da16-24bb-4b0b-eae1-2c41834e97d9"
      },
      "execution_count": null,
      "outputs": [
        {
          "output_type": "stream",
          "name": "stdout",
          "text": [
            "Requirement already satisfied: xgboost in /usr/local/lib/python3.7/dist-packages (0.90)\n",
            "Requirement already satisfied: scipy in /usr/local/lib/python3.7/dist-packages (from xgboost) (1.4.1)\n",
            "Requirement already satisfied: numpy in /usr/local/lib/python3.7/dist-packages (from xgboost) (1.19.5)\n"
          ]
        }
      ]
    },
    {
      "cell_type": "code",
      "source": [
        "# Basic data handling libraries\n",
        "import numpy as np\n",
        "import pandas as pd\n",
        "np.random.seed(1)\n",
        "\n",
        "# Cross validation and hyperparameter tuning libraries\n",
        "from sklearn.model_selection import StratifiedKFold\n",
        "from sklearn.model_selection import train_test_split\n",
        "from sklearn.model_selection import RandomizedSearchCV\n",
        "from sklearn import metrics\n",
        "from sklearn import decomposition\n",
        "from sklearn.preprocessing import StandardScaler\n",
        "from sklearn.pipeline import Pipeline\n",
        "\n",
        "# Machine learning classifiers\n",
        "from xgboost import XGBClassifier\n",
        "from sklearn.ensemble import RandomForestClassifier\n",
        "from sklearn.svm import SVC\n",
        "\n",
        "import warnings\n",
        "warnings.filterwarnings('ignore')"
      ],
      "metadata": {
        "id": "OoPqJJMR4LGc"
      },
      "execution_count": null,
      "outputs": []
    },
    {
      "cell_type": "markdown",
      "source": [
        "# M = 1024"
      ],
      "metadata": {
        "id": "jOH5WmaA4z1t"
      }
    },
    {
      "cell_type": "markdown",
      "source": [
        "## (Upper + lower) bands"
      ],
      "metadata": {
        "id": "tmBJGw4543LY"
      }
    },
    {
      "cell_type": "markdown",
      "source": [
        "### Segment by factor of 100"
      ],
      "metadata": {
        "id": "k1ZlN6Jn5DqH"
      }
    },
    {
      "cell_type": "code",
      "source": [
        "rf_data = np.loadtxt(\"/content/drive/MyDrive/CEERI Project - Kalit/data/fft_extracted_features/M=1024/Both bands/L=1e5/data.csv\", delimiter=\",\")"
      ],
      "metadata": {
        "id": "f7PPyOsm4LDj"
      },
      "execution_count": null,
      "outputs": []
    },
    {
      "cell_type": "code",
      "source": [
        "x = np.transpose(rf_data[0:1024,:])\n",
        "Label_1 = np.transpose(rf_data[1024:1025,:]); Label_1 = Label_1.astype(int);\n",
        "Label_2 = np.transpose(rf_data[1025:1026,:]); Label_2 = Label_2.astype(int);\n",
        "Label_3 = np.transpose(rf_data[1026:1027,:]); Label_3 = Label_3.astype(int);"
      ],
      "metadata": {
        "id": "EWrdoQXd4LBG"
      },
      "execution_count": null,
      "outputs": []
    },
    {
      "cell_type": "code",
      "source": [
        "# Preprocessing\n",
        "scl = StandardScaler()\n",
        "x = scl.fit_transform(x)"
      ],
      "metadata": {
        "id": "j_GmM4DeCNtv"
      },
      "execution_count": null,
      "outputs": []
    },
    {
      "cell_type": "code",
      "source": [
        "# Cross validation and model training\n",
        "cvscores = []\n",
        "avg_score = 0.0\n",
        "K = 5\n",
        "kfold = StratifiedKFold(n_splits=K, shuffle=True, random_state=1)\n",
        "for train, test in kfold.split(x, Label_1):\n",
        "    model = XGBClassifier(objective = \"binary:logistic\",seed=42)\n",
        "    model.fit(x[train], Label_1[train])\n",
        "    score = model.score(x[test], Label_1[test])\n",
        "    cvscores.append(score)\n",
        "    avg_score = avg_score + score\n",
        "\n",
        "# Results\n",
        "avg_score = avg_score/K\n",
        "print(\"Cross validation scores: {}\".format(cvscores))\n",
        "print(\"Accuracy: {}\".format(avg_score))"
      ],
      "metadata": {
        "colab": {
          "base_uri": "https://localhost:8080/"
        },
        "id": "eho2ec124K-o",
        "outputId": "34911961-86e7-4095-91ee-6e752dc2bd2c"
      },
      "execution_count": null,
      "outputs": [
        {
          "output_type": "stream",
          "name": "stdout",
          "text": [
            "Cross validation scores: [0.9984581497797357, 0.9997797356828194, 0.9991189427312775, 0.9997797356828194, 0.9991189427312775]\n",
            "Accuracy: 0.9992511013215859\n"
          ]
        }
      ]
    },
    {
      "cell_type": "code",
      "source": [
        "# Cross validation and model training\n",
        "cvscores = []\n",
        "avg_score = 0.0\n",
        "K = 5\n",
        "kfold = StratifiedKFold(n_splits=K, shuffle=True, random_state=1)\n",
        "for train, test in kfold.split(x, Label_2):\n",
        "    model = XGBClassifier(objective = \"multi:softmax\",seed=42)\n",
        "    model.fit(x[train], Label_2[train])\n",
        "    score = model.score(x[test], Label_2[test])\n",
        "    cvscores.append(score)\n",
        "    avg_score = avg_score + score\n",
        "\n",
        "# Results\n",
        "avg_score = avg_score/K\n",
        "print(\"Cross validation scores: {}\".format(cvscores))\n",
        "print(\"Accuracy: {}\".format(avg_score))"
      ],
      "metadata": {
        "id": "FCISHuEX4K6X",
        "colab": {
          "base_uri": "https://localhost:8080/"
        },
        "outputId": "b7cb80e3-1ba3-430d-ade8-460d3a3aa3d5"
      },
      "execution_count": null,
      "outputs": [
        {
          "output_type": "stream",
          "name": "stdout",
          "text": [
            "Cross validation scores: [0.8801762114537445, 0.8757709251101321, 0.870704845814978, 0.8693832599118942, 0.8722466960352423]\n",
            "Accuracy: 0.8736563876651982\n"
          ]
        }
      ]
    },
    {
      "cell_type": "code",
      "source": [
        "# Cross validation and model training\n",
        "cvscores = []\n",
        "avg_score = 0.0\n",
        "K = 5\n",
        "kfold = StratifiedKFold(n_splits=K, shuffle=True, random_state=1)\n",
        "for train, test in kfold.split(x, Label_3):\n",
        "    model = XGBClassifier(objective = \"multi:softmax\",seed=42)\n",
        "    model.fit(x[train], Label_3[train])\n",
        "    score = model.score(x[test], Label_3[test])\n",
        "    cvscores.append(score)\n",
        "    avg_score = avg_score + score\n",
        "\n",
        "# Results\n",
        "avg_score = avg_score/K\n",
        "print(\"Cross validation scores: {}\".format(cvscores))\n",
        "print(\"Accuracy: {}\".format(avg_score))"
      ],
      "metadata": {
        "id": "Wnk-sMkA4K3a",
        "colab": {
          "base_uri": "https://localhost:8080/"
        },
        "outputId": "a8cdacf2-2abc-4ddc-c7f7-1a92f8875ce0"
      },
      "execution_count": null,
      "outputs": [
        {
          "output_type": "stream",
          "name": "stdout",
          "text": [
            "Cross validation scores: [0.6240088105726872, 0.6154185022026432, 0.6072687224669604, 0.6138766519823788, 0.6226872246696036]\n",
            "Accuracy: 0.6166519823788545\n"
          ]
        }
      ]
    },
    {
      "cell_type": "markdown",
      "source": [
        "### Segment by factor of 10"
      ],
      "metadata": {
        "id": "aFTldw8UGQcz"
      }
    },
    {
      "cell_type": "code",
      "source": [
        "rf_data = np.loadtxt(\"/content/drive/MyDrive/CEERI Project - Kalit/data/fft_extracted_features/M=1024/Both bands/L=1e6/data.csv\", delimiter=\",\")"
      ],
      "metadata": {
        "id": "2zeK2-J34Kxb"
      },
      "execution_count": null,
      "outputs": []
    },
    {
      "cell_type": "code",
      "source": [
        "x = np.transpose(rf_data[0:1024,:])\n",
        "Label_1 = np.transpose(rf_data[1024:1025,:]); Label_1 = Label_1.astype(int);\n",
        "Label_2 = np.transpose(rf_data[1025:1026,:]); Label_2 = Label_2.astype(int);\n",
        "Label_3 = np.transpose(rf_data[1026:1027,:]); Label_3 = Label_3.astype(int);"
      ],
      "metadata": {
        "id": "6CdKCVTzCtB-"
      },
      "execution_count": null,
      "outputs": []
    },
    {
      "cell_type": "code",
      "source": [
        "# Preprocessing\n",
        "scl = StandardScaler()\n",
        "x = scl.fit_transform(x)"
      ],
      "metadata": {
        "id": "WJp12hKOCtB-"
      },
      "execution_count": null,
      "outputs": []
    },
    {
      "cell_type": "code",
      "source": [
        "# Cross validation and model training\n",
        "cvscores = []\n",
        "avg_score = 0.0\n",
        "K = 5\n",
        "kfold = StratifiedKFold(n_splits=K, shuffle=True, random_state=1)\n",
        "for train, test in kfold.split(x, Label_1):\n",
        "    model = XGBClassifier(objective = \"binary:logistic\",seed=42)\n",
        "    model.fit(x[train], Label_1[train])\n",
        "    score = model.score(x[test], Label_1[test])\n",
        "    cvscores.append(score)\n",
        "    avg_score = avg_score + score\n",
        "\n",
        "# Results\n",
        "avg_score = avg_score/K\n",
        "print(\"Cross validation scores: {}\".format(cvscores))\n",
        "print(\"Accuracy: {}\".format(avg_score))"
      ],
      "metadata": {
        "colab": {
          "base_uri": "https://localhost:8080/"
        },
        "id": "iku4BHDnCtB-",
        "outputId": "36e6a75c-161d-4a18-efa0-1c0d0d600344"
      },
      "execution_count": null,
      "outputs": [
        {
          "output_type": "stream",
          "name": "stdout",
          "text": [
            "Cross validation scores: [1.0, 0.9977973568281938, 0.9955947136563876, 0.9933920704845814, 0.9933920704845814]\n",
            "Accuracy: 0.9960352422907489\n"
          ]
        }
      ]
    },
    {
      "cell_type": "code",
      "source": [
        "# Cross validation and model training\n",
        "cvscores = []\n",
        "avg_score = 0.0\n",
        "K = 5\n",
        "kfold = StratifiedKFold(n_splits=K, shuffle=True, random_state=1)\n",
        "for train, test in kfold.split(x, Label_2):\n",
        "    model = XGBClassifier(objective = \"multi:softmax\",seed=42)\n",
        "    model.fit(x[train], Label_2[train])\n",
        "    score = model.score(x[test], Label_2[test])\n",
        "    cvscores.append(score)\n",
        "    avg_score = avg_score + score\n",
        "\n",
        "# Results\n",
        "avg_score = avg_score/K\n",
        "print(\"Cross validation scores: {}\".format(cvscores))\n",
        "print(\"Accuracy: {}\".format(avg_score))"
      ],
      "metadata": {
        "colab": {
          "base_uri": "https://localhost:8080/"
        },
        "id": "m7xkJvbNCtB-",
        "outputId": "e21fd9ee-0751-41d0-9b8a-e0afe2050877"
      },
      "execution_count": null,
      "outputs": [
        {
          "output_type": "stream",
          "name": "stdout",
          "text": [
            "Cross validation scores: [0.9383259911894273, 0.9449339207048458, 0.9185022026431718, 0.933920704845815, 0.947136563876652]\n",
            "Accuracy: 0.9365638766519824\n"
          ]
        }
      ]
    },
    {
      "cell_type": "code",
      "source": [
        "# Cross validation and model training\n",
        "cvscores = []\n",
        "avg_score = 0.0\n",
        "K = 5\n",
        "kfold = StratifiedKFold(n_splits=K, shuffle=True, random_state=1)\n",
        "for train, test in kfold.split(x, Label_3):\n",
        "    model = XGBClassifier(objective = \"multi:softmax\",seed=42)\n",
        "    model.fit(x[train], Label_3[train])\n",
        "    score = model.score(x[test], Label_3[test])\n",
        "    cvscores.append(score)\n",
        "    avg_score = avg_score + score\n",
        "\n",
        "# Results\n",
        "avg_score = avg_score/K\n",
        "print(\"Cross validation scores: {}\".format(cvscores))\n",
        "print(\"Accuracy: {}\".format(avg_score))"
      ],
      "metadata": {
        "colab": {
          "base_uri": "https://localhost:8080/"
        },
        "id": "USzrCn1mCtB_",
        "outputId": "f8bfa199-70d1-4b4d-9085-dd7947f1f9e3"
      },
      "execution_count": null,
      "outputs": [
        {
          "output_type": "stream",
          "name": "stdout",
          "text": [
            "Cross validation scores: [0.6431718061674009, 0.6387665198237885, 0.6519823788546255, 0.6431718061674009, 0.6629955947136564]\n",
            "Accuracy: 0.6480176211453744\n"
          ]
        }
      ]
    },
    {
      "cell_type": "markdown",
      "source": [
        "### Take entire input as signal"
      ],
      "metadata": {
        "id": "66BNl0v8GXzW"
      }
    },
    {
      "cell_type": "code",
      "source": [
        "rf_data = np.loadtxt(\"/content/drive/MyDrive/CEERI Project - Kalit/data/fft_extracted_features/M=1024/Both bands/entire signal/data.csv\", delimiter=\",\")"
      ],
      "metadata": {
        "id": "5036XPvh4Kur"
      },
      "execution_count": null,
      "outputs": []
    },
    {
      "cell_type": "code",
      "source": [
        "x = np.transpose(rf_data[0:1024,:])\n",
        "Label_1 = np.transpose(rf_data[1024:1025,:]); Label_1 = Label_1.astype(int);\n",
        "Label_2 = np.transpose(rf_data[1025:1026,:]); Label_2 = Label_2.astype(int);\n",
        "Label_3 = np.transpose(rf_data[1026:1027,:]); Label_3 = Label_3.astype(int);"
      ],
      "metadata": {
        "id": "vwuSMinEDCId"
      },
      "execution_count": null,
      "outputs": []
    },
    {
      "cell_type": "code",
      "source": [
        "# Preprocessing\n",
        "scl = StandardScaler()\n",
        "x = scl.fit_transform(x)"
      ],
      "metadata": {
        "id": "fn_0jAGKDCIe"
      },
      "execution_count": null,
      "outputs": []
    },
    {
      "cell_type": "code",
      "source": [
        "# Cross validation and model training\n",
        "cvscores = []\n",
        "avg_score = 0.0\n",
        "K = 5\n",
        "kfold = StratifiedKFold(n_splits=K, shuffle=True, random_state=1)\n",
        "for train, test in kfold.split(x, Label_1):\n",
        "    model = XGBClassifier(objective = \"binary:logistic\",seed=42)\n",
        "    model.fit(x[train], Label_1[train])\n",
        "    score = model.score(x[test], Label_1[test])\n",
        "    cvscores.append(score)\n",
        "    avg_score = avg_score + score\n",
        "\n",
        "# Results\n",
        "avg_score = avg_score/K\n",
        "print(\"Cross validation scores: {}\".format(cvscores))\n",
        "print(\"Accuracy: {}\".format(avg_score))"
      ],
      "metadata": {
        "colab": {
          "base_uri": "https://localhost:8080/"
        },
        "id": "HuzsMX7XDCIe",
        "outputId": "9a353a63-61b1-40ec-e914-2a5aaeb43b25"
      },
      "execution_count": null,
      "outputs": [
        {
          "output_type": "stream",
          "name": "stdout",
          "text": [
            "Cross validation scores: [0.9565217391304348, 0.9565217391304348, 0.8888888888888888, 0.9333333333333333, 0.9777777777777777]\n",
            "Accuracy: 0.942608695652174\n"
          ]
        }
      ]
    },
    {
      "cell_type": "code",
      "source": [
        "# Cross validation and model training\n",
        "cvscores = []\n",
        "avg_score = 0.0\n",
        "K = 5\n",
        "kfold = StratifiedKFold(n_splits=K, shuffle=True, random_state=1)\n",
        "for train, test in kfold.split(x, Label_2):\n",
        "    model = XGBClassifier(objective = \"multi:softmax\",seed=42)\n",
        "    model.fit(x[train], Label_2[train])\n",
        "    score = model.score(x[test], Label_2[test])\n",
        "    cvscores.append(score)\n",
        "    avg_score = avg_score + score\n",
        "\n",
        "# Results\n",
        "avg_score = avg_score/K\n",
        "print(\"Cross validation scores: {}\".format(cvscores))\n",
        "print(\"Accuracy: {}\".format(avg_score))"
      ],
      "metadata": {
        "colab": {
          "base_uri": "https://localhost:8080/"
        },
        "id": "VQmRR8xtDCIf",
        "outputId": "89f59021-6b79-49f3-bd1c-d1d4edf335f8"
      },
      "execution_count": null,
      "outputs": [
        {
          "output_type": "stream",
          "name": "stdout",
          "text": [
            "Cross validation scores: [0.8260869565217391, 0.8695652173913043, 0.8, 0.8666666666666667, 0.9555555555555556]\n",
            "Accuracy: 0.8635748792270531\n"
          ]
        }
      ]
    },
    {
      "cell_type": "code",
      "source": [
        "# Cross validation and model training\n",
        "cvscores = []\n",
        "avg_score = 0.0\n",
        "K = 5\n",
        "kfold = StratifiedKFold(n_splits=K, shuffle=True, random_state=1)\n",
        "for train, test in kfold.split(x, Label_3):\n",
        "    model = XGBClassifier(objective = \"multi:softmax\",seed=42)\n",
        "    model.fit(x[train], Label_3[train])\n",
        "    score = model.score(x[test], Label_3[test])\n",
        "    cvscores.append(score)\n",
        "    avg_score = avg_score + score\n",
        "\n",
        "# Results\n",
        "avg_score = avg_score/K\n",
        "print(\"Cross validation scores: {}\".format(cvscores))\n",
        "print(\"Accuracy: {}\".format(avg_score))"
      ],
      "metadata": {
        "colab": {
          "base_uri": "https://localhost:8080/"
        },
        "id": "PausLfslDCIi",
        "outputId": "b877635d-9d52-46ee-a35c-b00c58f78d33"
      },
      "execution_count": null,
      "outputs": [
        {
          "output_type": "stream",
          "name": "stdout",
          "text": [
            "Cross validation scores: [0.5217391304347826, 0.6304347826086957, 0.5777777777777777, 0.6222222222222222, 0.5555555555555556]\n",
            "Accuracy: 0.5815458937198068\n"
          ]
        }
      ]
    },
    {
      "cell_type": "markdown",
      "source": [
        "## Upper band"
      ],
      "metadata": {
        "id": "ZVWWA0RUGx77"
      }
    },
    {
      "cell_type": "markdown",
      "source": [
        "### Segment by factor of 100"
      ],
      "metadata": {
        "id": "yn4MVbXVDMzy"
      }
    },
    {
      "cell_type": "code",
      "source": [
        "rf_data = np.loadtxt(\"/content/drive/MyDrive/CEERI Project - Kalit/data/fft_extracted_features/M=1024/Upper band/L=1e5/data.csv\", delimiter=\",\")"
      ],
      "metadata": {
        "id": "vBQXgAtADMzy"
      },
      "execution_count": null,
      "outputs": []
    },
    {
      "cell_type": "code",
      "source": [
        "x = np.transpose(rf_data[0:512,:])\n",
        "Label_1 = np.transpose(rf_data[512:513,:]); Label_1 = Label_1.astype(int);\n",
        "Label_2 = np.transpose(rf_data[513:514,:]); Label_2 = Label_2.astype(int);\n",
        "Label_3 = np.transpose(rf_data[514:515,:]); Label_3 = Label_3.astype(int);"
      ],
      "metadata": {
        "id": "olljn4ueDMzz"
      },
      "execution_count": null,
      "outputs": []
    },
    {
      "cell_type": "code",
      "source": [
        "# Preprocessing\n",
        "scl = StandardScaler()\n",
        "x = scl.fit_transform(x)"
      ],
      "metadata": {
        "id": "pmWiXDNbDMz0"
      },
      "execution_count": null,
      "outputs": []
    },
    {
      "cell_type": "code",
      "source": [
        "# Cross validation and model training\n",
        "cvscores = []\n",
        "avg_score = 0.0\n",
        "K = 5\n",
        "kfold = StratifiedKFold(n_splits=K, shuffle=True, random_state=1)\n",
        "for train, test in kfold.split(x, Label_1):\n",
        "    model = XGBClassifier(objective = \"binary:logistic\",seed=42)\n",
        "    model.fit(x[train], Label_1[train])\n",
        "    score = model.score(x[test], Label_1[test])\n",
        "    cvscores.append(score)\n",
        "    avg_score = avg_score + score\n",
        "\n",
        "# Results\n",
        "avg_score = avg_score/K\n",
        "print(\"Cross validation scores: {}\".format(cvscores))\n",
        "print(\"Accuracy: {}\".format(avg_score))"
      ],
      "metadata": {
        "colab": {
          "base_uri": "https://localhost:8080/"
        },
        "id": "CFG9u1laDMz0",
        "outputId": "7b6c7c8a-aac5-4b78-e015-5d6137d4e1e2"
      },
      "execution_count": null,
      "outputs": [
        {
          "output_type": "stream",
          "name": "stdout",
          "text": [
            "Cross validation scores: [0.9125550660792952, 0.9110132158590308, 0.9063876651982379, 0.9052863436123348, 0.9127753303964757]\n",
            "Accuracy: 0.9096035242290748\n"
          ]
        }
      ]
    },
    {
      "cell_type": "code",
      "source": [
        "# Cross validation and model training\n",
        "cvscores = []\n",
        "avg_score = 0.0\n",
        "K = 5\n",
        "kfold = StratifiedKFold(n_splits=K, shuffle=True, random_state=1)\n",
        "for train, test in kfold.split(x, Label_2):\n",
        "    model = XGBClassifier(objective = \"multi:softmax\",seed=42)\n",
        "    model.fit(x[train], Label_2[train])\n",
        "    score = model.score(x[test], Label_2[test])\n",
        "    cvscores.append(score)\n",
        "    avg_score = avg_score + score\n",
        "\n",
        "# Results\n",
        "avg_score = avg_score/K\n",
        "print(\"Cross validation scores: {}\".format(cvscores))\n",
        "print(\"Accuracy: {}\".format(avg_score))"
      ],
      "metadata": {
        "colab": {
          "base_uri": "https://localhost:8080/"
        },
        "id": "I9RHAsS_DMz1",
        "outputId": "f9d6923d-dbc1-44a6-ff6d-4523689bc752"
      },
      "execution_count": null,
      "outputs": [
        {
          "output_type": "stream",
          "name": "stdout",
          "text": [
            "Cross validation scores: [0.6352422907488987, 0.6389867841409692, 0.6317180616740088, 0.6083700440528634, 0.6226872246696036]\n",
            "Accuracy: 0.6274008810572689\n"
          ]
        }
      ]
    },
    {
      "cell_type": "code",
      "source": [
        "# Cross validation and model training\n",
        "cvscores = []\n",
        "avg_score = 0.0\n",
        "K = 5\n",
        "kfold = StratifiedKFold(n_splits=K, shuffle=True, random_state=1)\n",
        "for train, test in kfold.split(x, Label_3):\n",
        "    model = XGBClassifier(objective = \"multi:softmax\",seed=42)\n",
        "    model.fit(x[train], Label_3[train])\n",
        "    score = model.score(x[test], Label_3[test])\n",
        "    cvscores.append(score)\n",
        "    avg_score = avg_score + score\n",
        "\n",
        "# Results\n",
        "avg_score = avg_score/K\n",
        "print(\"Cross validation scores: {}\".format(cvscores))\n",
        "print(\"Accuracy: {}\".format(avg_score))"
      ],
      "metadata": {
        "colab": {
          "base_uri": "https://localhost:8080/"
        },
        "id": "oP_vckanDMz1",
        "outputId": "0a5e7c9b-e39a-4744-f413-1b3a349c12e9"
      },
      "execution_count": null,
      "outputs": [
        {
          "output_type": "stream",
          "name": "stdout",
          "text": [
            "Cross validation scores: [0.5477973568281939, 0.5352422907488987, 0.5444933920704845, 0.5420704845814978, 0.552863436123348]\n",
            "Accuracy: 0.5444933920704846\n"
          ]
        }
      ]
    },
    {
      "cell_type": "markdown",
      "source": [
        "### Segment by factor of 10"
      ],
      "metadata": {
        "id": "KHkPVhdIDMz2"
      }
    },
    {
      "cell_type": "code",
      "source": [
        "rf_data = np.loadtxt(\"/content/drive/MyDrive/CEERI Project - Kalit/data/fft_extracted_features/M=1024/Upper band/L=1e6/data.csv\", delimiter=\",\")"
      ],
      "metadata": {
        "id": "v5Ka1UVKDMz2"
      },
      "execution_count": null,
      "outputs": []
    },
    {
      "cell_type": "code",
      "source": [
        "x = np.transpose(rf_data[0:512,:])\n",
        "Label_1 = np.transpose(rf_data[512:513,:]); Label_1 = Label_1.astype(int);\n",
        "Label_2 = np.transpose(rf_data[513:514,:]); Label_2 = Label_2.astype(int);\n",
        "Label_3 = np.transpose(rf_data[514:515,:]); Label_3 = Label_3.astype(int);"
      ],
      "metadata": {
        "id": "551uOh6NDMz3"
      },
      "execution_count": null,
      "outputs": []
    },
    {
      "cell_type": "code",
      "source": [
        "# Preprocessing\n",
        "scl = StandardScaler()\n",
        "x = scl.fit_transform(x)"
      ],
      "metadata": {
        "id": "uZ8KiYMHDMz3"
      },
      "execution_count": null,
      "outputs": []
    },
    {
      "cell_type": "code",
      "source": [
        "# Cross validation and model training\n",
        "cvscores = []\n",
        "avg_score = 0.0\n",
        "K = 5\n",
        "kfold = StratifiedKFold(n_splits=K, shuffle=True, random_state=1)\n",
        "for train, test in kfold.split(x, Label_1):\n",
        "    model = XGBClassifier(objective = \"binary:logistic\",seed=42)\n",
        "    model.fit(x[train], Label_1[train])\n",
        "    score = model.score(x[test], Label_1[test])\n",
        "    cvscores.append(score)\n",
        "    avg_score = avg_score + score\n",
        "\n",
        "# Results\n",
        "avg_score = avg_score/K\n",
        "print(\"Cross validation scores: {}\".format(cvscores))\n",
        "print(\"Accuracy: {}\".format(avg_score))"
      ],
      "metadata": {
        "colab": {
          "base_uri": "https://localhost:8080/"
        },
        "id": "QP1VYLK-DMz3",
        "outputId": "7102fbc9-c27c-487e-ce01-16854ebcfc2d"
      },
      "execution_count": null,
      "outputs": [
        {
          "output_type": "stream",
          "name": "stdout",
          "text": [
            "Cross validation scores: [0.8986784140969163, 0.8788546255506607, 0.8700440528634361, 0.9162995594713657, 0.8986784140969163]\n",
            "Accuracy: 0.892511013215859\n"
          ]
        }
      ]
    },
    {
      "cell_type": "code",
      "source": [
        "# Cross validation and model training\n",
        "cvscores = []\n",
        "avg_score = 0.0\n",
        "K = 5\n",
        "kfold = StratifiedKFold(n_splits=K, shuffle=True, random_state=1)\n",
        "for train, test in kfold.split(x, Label_2):\n",
        "    model = XGBClassifier(objective = \"multi:softmax\",seed=42)\n",
        "    model.fit(x[train], Label_2[train])\n",
        "    score = model.score(x[test], Label_2[test])\n",
        "    cvscores.append(score)\n",
        "    avg_score = avg_score + score\n",
        "\n",
        "# Results\n",
        "avg_score = avg_score/K\n",
        "print(\"Cross validation scores: {}\".format(cvscores))\n",
        "print(\"Accuracy: {}\".format(avg_score))"
      ],
      "metadata": {
        "colab": {
          "base_uri": "https://localhost:8080/"
        },
        "id": "PVNfVUdSDMz4",
        "outputId": "b76d8d29-3d11-4e5f-8af2-ae1100977c12"
      },
      "execution_count": null,
      "outputs": [
        {
          "output_type": "stream",
          "name": "stdout",
          "text": [
            "Cross validation scores: [0.6123348017621145, 0.6453744493392071, 0.6431718061674009, 0.6475770925110133, 0.6607929515418502]\n",
            "Accuracy: 0.6418502202643172\n"
          ]
        }
      ]
    },
    {
      "cell_type": "code",
      "source": [
        "# Cross validation and model training\n",
        "cvscores = []\n",
        "avg_score = 0.0\n",
        "K = 5\n",
        "kfold = StratifiedKFold(n_splits=K, shuffle=True, random_state=1)\n",
        "for train, test in kfold.split(x, Label_3):\n",
        "    model = XGBClassifier(objective = \"multi:softmax\",seed=42)\n",
        "    model.fit(x[train], Label_3[train])\n",
        "    score = model.score(x[test], Label_3[test])\n",
        "    cvscores.append(score)\n",
        "    avg_score = avg_score + score\n",
        "\n",
        "# Results\n",
        "avg_score = avg_score/K\n",
        "print(\"Cross validation scores: {}\".format(cvscores))\n",
        "print(\"Accuracy: {}\".format(avg_score))"
      ],
      "metadata": {
        "colab": {
          "base_uri": "https://localhost:8080/"
        },
        "id": "J6Fxj86iDMz4",
        "outputId": "08fed4ae-35c3-4114-c51f-0e4ccd8b93f5"
      },
      "execution_count": null,
      "outputs": [
        {
          "output_type": "stream",
          "name": "stdout",
          "text": [
            "Cross validation scores: [0.5947136563876652, 0.6013215859030837, 0.5969162995594713, 0.6079295154185022, 0.6035242290748899]\n",
            "Accuracy: 0.6008810572687224\n"
          ]
        }
      ]
    },
    {
      "cell_type": "markdown",
      "source": [
        "### Take entire input as signal"
      ],
      "metadata": {
        "id": "qbEsjjstDMz5"
      }
    },
    {
      "cell_type": "code",
      "source": [
        "rf_data = np.loadtxt(\"/content/drive/MyDrive/CEERI Project - Kalit/data/fft_extracted_features/M=1024/Upper band/entire signal/data.csv\", delimiter=\",\")"
      ],
      "metadata": {
        "id": "YtuCIGX3DMz5"
      },
      "execution_count": null,
      "outputs": []
    },
    {
      "cell_type": "code",
      "source": [
        "x = np.transpose(rf_data[0:512,:])\n",
        "Label_1 = np.transpose(rf_data[512:513,:]); Label_1 = Label_1.astype(int);\n",
        "Label_2 = np.transpose(rf_data[513:514,:]); Label_2 = Label_2.astype(int);\n",
        "Label_3 = np.transpose(rf_data[514:515,:]); Label_3 = Label_3.astype(int);"
      ],
      "metadata": {
        "id": "O3jnwXjDDMz6"
      },
      "execution_count": null,
      "outputs": []
    },
    {
      "cell_type": "code",
      "source": [
        "# Preprocessing\n",
        "scl = StandardScaler()\n",
        "x = scl.fit_transform(x)"
      ],
      "metadata": {
        "id": "U4xeZ9tnDMz6"
      },
      "execution_count": null,
      "outputs": []
    },
    {
      "cell_type": "code",
      "source": [
        "# Cross validation and model training\n",
        "cvscores = []\n",
        "avg_score = 0.0\n",
        "K = 5\n",
        "kfold = StratifiedKFold(n_splits=K, shuffle=True, random_state=1)\n",
        "for train, test in kfold.split(x, Label_1):\n",
        "    model = XGBClassifier(objective = \"binary:logistic\",seed=42)\n",
        "    model.fit(x[train], Label_1[train])\n",
        "    score = model.score(x[test], Label_1[test])\n",
        "    cvscores.append(score)\n",
        "    avg_score = avg_score + score\n",
        "\n",
        "# Results\n",
        "avg_score = avg_score/K\n",
        "print(\"Cross validation scores: {}\".format(cvscores))\n",
        "print(\"Accuracy: {}\".format(avg_score))"
      ],
      "metadata": {
        "colab": {
          "base_uri": "https://localhost:8080/"
        },
        "id": "M0xiCJPpDMz7",
        "outputId": "6c0c9e43-2e8b-43bb-c006-02be79979d56"
      },
      "execution_count": null,
      "outputs": [
        {
          "output_type": "stream",
          "name": "stdout",
          "text": [
            "Cross validation scores: [0.9782608695652174, 0.9782608695652174, 1.0, 0.9777777777777777, 0.9333333333333333]\n",
            "Accuracy: 0.9735265700483092\n"
          ]
        }
      ]
    },
    {
      "cell_type": "code",
      "source": [
        "# Cross validation and model training\n",
        "cvscores = []\n",
        "avg_score = 0.0\n",
        "K = 5\n",
        "kfold = StratifiedKFold(n_splits=K, shuffle=True, random_state=1)\n",
        "for train, test in kfold.split(x, Label_2):\n",
        "    model = XGBClassifier(objective = \"multi:softmax\",seed=42)\n",
        "    model.fit(x[train], Label_2[train])\n",
        "    score = model.score(x[test], Label_2[test])\n",
        "    cvscores.append(score)\n",
        "    avg_score = avg_score + score\n",
        "\n",
        "# Results\n",
        "avg_score = avg_score/K\n",
        "print(\"Cross validation scores: {}\".format(cvscores))\n",
        "print(\"Accuracy: {}\".format(avg_score))"
      ],
      "metadata": {
        "colab": {
          "base_uri": "https://localhost:8080/"
        },
        "id": "4HhKU5l1DMz7",
        "outputId": "7d9d149d-5576-4a00-89d2-69e64ab27602"
      },
      "execution_count": null,
      "outputs": [
        {
          "output_type": "stream",
          "name": "stdout",
          "text": [
            "Cross validation scores: [0.6304347826086957, 0.5869565217391305, 0.6222222222222222, 0.6, 0.6]\n",
            "Accuracy: 0.6079227053140097\n"
          ]
        }
      ]
    },
    {
      "cell_type": "code",
      "source": [
        "# Cross validation and model training\n",
        "cvscores = []\n",
        "avg_score = 0.0\n",
        "K = 5\n",
        "kfold = StratifiedKFold(n_splits=K, shuffle=True, random_state=1)\n",
        "for train, test in kfold.split(x, Label_3):\n",
        "    model = XGBClassifier(objective = \"multi:softmax\",seed=42)\n",
        "    model.fit(x[train], Label_3[train])\n",
        "    score = model.score(x[test], Label_3[test])\n",
        "    cvscores.append(score)\n",
        "    avg_score = avg_score + score\n",
        "\n",
        "# Results\n",
        "avg_score = avg_score/K\n",
        "print(\"Cross validation scores: {}\".format(cvscores))\n",
        "print(\"Accuracy: {}\".format(avg_score))"
      ],
      "metadata": {
        "colab": {
          "base_uri": "https://localhost:8080/"
        },
        "id": "JxKv3HemDMz7",
        "outputId": "1a328660-97fc-4fe6-a2f8-74266905b820"
      },
      "execution_count": null,
      "outputs": [
        {
          "output_type": "stream",
          "name": "stdout",
          "text": [
            "Cross validation scores: [0.5217391304347826, 0.5, 0.4888888888888889, 0.5777777777777777, 0.35555555555555557]\n",
            "Accuracy: 0.48879227053140106\n"
          ]
        }
      ]
    },
    {
      "cell_type": "markdown",
      "source": [
        "## Lower band"
      ],
      "metadata": {
        "id": "QEdFJQjdG0_m"
      }
    },
    {
      "cell_type": "markdown",
      "source": [
        "### Segment by factor of 100"
      ],
      "metadata": {
        "id": "oESAMUrQGQFu"
      }
    },
    {
      "cell_type": "code",
      "source": [
        "rf_data = np.loadtxt(\"/content/drive/MyDrive/CEERI Project - Kalit/data/fft_extracted_features/M=1024/Lower band/L=1e5/data.csv\", delimiter=\",\")"
      ],
      "metadata": {
        "id": "p0A4iRvqGQFv"
      },
      "execution_count": null,
      "outputs": []
    },
    {
      "cell_type": "code",
      "source": [
        "x = np.transpose(rf_data[0:512,:])\n",
        "Label_1 = np.transpose(rf_data[512:513,:]); Label_1 = Label_1.astype(int);\n",
        "Label_2 = np.transpose(rf_data[513:514,:]); Label_2 = Label_2.astype(int);\n",
        "Label_3 = np.transpose(rf_data[514:515,:]); Label_3 = Label_3.astype(int);"
      ],
      "metadata": {
        "id": "0RtNY64CGQFv"
      },
      "execution_count": null,
      "outputs": []
    },
    {
      "cell_type": "code",
      "source": [
        "# Preprocessing\n",
        "scl = StandardScaler()\n",
        "x = scl.fit_transform(x)"
      ],
      "metadata": {
        "id": "lAwwUvCwGQFw"
      },
      "execution_count": null,
      "outputs": []
    },
    {
      "cell_type": "code",
      "source": [
        "# Cross validation and model training\n",
        "cvscores = []\n",
        "avg_score = 0.0\n",
        "K = 5\n",
        "kfold = StratifiedKFold(n_splits=K, shuffle=True, random_state=1)\n",
        "for train, test in kfold.split(x, Label_1):\n",
        "    model = XGBClassifier(objective = \"binary:logistic\",seed=42)\n",
        "    model.fit(x[train], Label_1[train])\n",
        "    score = model.score(x[test], Label_1[test])\n",
        "    cvscores.append(score)\n",
        "    avg_score = avg_score + score\n",
        "\n",
        "# Results\n",
        "avg_score = avg_score/K\n",
        "print(\"Cross validation scores: {}\".format(cvscores))\n",
        "print(\"Accuracy: {}\".format(avg_score))"
      ],
      "metadata": {
        "colab": {
          "base_uri": "https://localhost:8080/"
        },
        "id": "YfccKATeGQFw",
        "outputId": "ee2b1e4f-4e81-4e8a-d201-bfbe27ff345f"
      },
      "execution_count": null,
      "outputs": [
        {
          "output_type": "stream",
          "name": "stdout",
          "text": [
            "Cross validation scores: [0.9984581497797357, 0.9997797356828194, 0.9993392070484581, 0.9997797356828194, 0.9997797356828194]\n",
            "Accuracy: 0.9994273127753305\n"
          ]
        }
      ]
    },
    {
      "cell_type": "code",
      "source": [
        "# Cross validation and model training\n",
        "cvscores = []\n",
        "avg_score = 0.0\n",
        "K = 5\n",
        "kfold = StratifiedKFold(n_splits=K, shuffle=True, random_state=1)\n",
        "for train, test in kfold.split(x, Label_2):\n",
        "    model = XGBClassifier(objective = \"multi:softmax\",seed=42)\n",
        "    model.fit(x[train], Label_2[train])\n",
        "    score = model.score(x[test], Label_2[test])\n",
        "    cvscores.append(score)\n",
        "    avg_score = avg_score + score\n",
        "\n",
        "# Results\n",
        "avg_score = avg_score/K\n",
        "print(\"Cross validation scores: {}\".format(cvscores))\n",
        "print(\"Accuracy: {}\".format(avg_score))"
      ],
      "metadata": {
        "colab": {
          "base_uri": "https://localhost:8080/"
        },
        "id": "LkLvTdKCGQFw",
        "outputId": "c806f6a7-7355-4d7b-a9bf-70208bc45577"
      },
      "execution_count": null,
      "outputs": [
        {
          "output_type": "stream",
          "name": "stdout",
          "text": [
            "Cross validation scores: [0.891409691629956, 0.8852422907488987, 0.8797356828193833, 0.8817180616740088, 0.8940528634361233]\n",
            "Accuracy: 0.8864317180616741\n"
          ]
        }
      ]
    },
    {
      "cell_type": "code",
      "source": [
        "# Cross validation and model training\n",
        "cvscores = []\n",
        "avg_score = 0.0\n",
        "K = 5\n",
        "kfold = StratifiedKFold(n_splits=K, shuffle=True, random_state=1)\n",
        "for train, test in kfold.split(x, Label_3):\n",
        "    model = XGBClassifier(objective = \"multi:softmax\",seed=42)\n",
        "    model.fit(x[train], Label_3[train])\n",
        "    score = model.score(x[test], Label_3[test])\n",
        "    cvscores.append(score)\n",
        "    avg_score = avg_score + score\n",
        "\n",
        "# Results\n",
        "avg_score = avg_score/K\n",
        "print(\"Cross validation scores: {}\".format(cvscores))\n",
        "print(\"Accuracy: {}\".format(avg_score))"
      ],
      "metadata": {
        "colab": {
          "base_uri": "https://localhost:8080/"
        },
        "id": "B7kig8OFGQFx",
        "outputId": "1a8d8010-e8bc-4ee5-eea6-c462cb0379b8"
      },
      "execution_count": null,
      "outputs": [
        {
          "output_type": "stream",
          "name": "stdout",
          "text": [
            "Cross validation scores: [0.6310572687224669, 0.6317180616740088, 0.6407488986784141, 0.6314977973568282, 0.6431718061674009]\n",
            "Accuracy: 0.6356387665198238\n"
          ]
        }
      ]
    },
    {
      "cell_type": "markdown",
      "source": [
        "### Segment by factor of 10"
      ],
      "metadata": {
        "id": "BX6cf4J8GQFx"
      }
    },
    {
      "cell_type": "code",
      "source": [
        "rf_data = np.loadtxt(\"/content/drive/MyDrive/CEERI Project - Kalit/data/fft_extracted_features/M=1024/Lower band/L=1e6/data.csv\", delimiter=\",\")"
      ],
      "metadata": {
        "id": "gFFY7t8bGQFx"
      },
      "execution_count": null,
      "outputs": []
    },
    {
      "cell_type": "code",
      "source": [
        "x = np.transpose(rf_data[0:512,:])\n",
        "Label_1 = np.transpose(rf_data[512:513,:]); Label_1 = Label_1.astype(int);\n",
        "Label_2 = np.transpose(rf_data[513:514,:]); Label_2 = Label_2.astype(int);\n",
        "Label_3 = np.transpose(rf_data[514:515,:]); Label_3 = Label_3.astype(int);"
      ],
      "metadata": {
        "id": "P7oAFe1LGQFx"
      },
      "execution_count": null,
      "outputs": []
    },
    {
      "cell_type": "code",
      "source": [
        "# Preprocessing\n",
        "scl = StandardScaler()\n",
        "x = scl.fit_transform(x)"
      ],
      "metadata": {
        "id": "z1U0Z9YfGQFy"
      },
      "execution_count": null,
      "outputs": []
    },
    {
      "cell_type": "code",
      "source": [
        "# Cross validation and model training\n",
        "cvscores = []\n",
        "avg_score = 0.0\n",
        "K = 5\n",
        "kfold = StratifiedKFold(n_splits=K, shuffle=True, random_state=1)\n",
        "for train, test in kfold.split(x, Label_1):\n",
        "    model = XGBClassifier(objective = \"binary:logistic\",seed=42)\n",
        "    model.fit(x[train], Label_1[train])\n",
        "    score = model.score(x[test], Label_1[test])\n",
        "    cvscores.append(score)\n",
        "    avg_score = avg_score + score\n",
        "\n",
        "# Results\n",
        "avg_score = avg_score/K\n",
        "print(\"Cross validation scores: {}\".format(cvscores))\n",
        "print(\"Accuracy: {}\".format(avg_score))"
      ],
      "metadata": {
        "colab": {
          "base_uri": "https://localhost:8080/"
        },
        "id": "K_jKpKwrGQFy",
        "outputId": "81d2691c-801b-4e35-a9c7-ac2b5d0c8771"
      },
      "execution_count": null,
      "outputs": [
        {
          "output_type": "stream",
          "name": "stdout",
          "text": [
            "Cross validation scores: [1.0, 1.0, 0.9977973568281938, 0.9933920704845814, 1.0]\n",
            "Accuracy: 0.9982378854625551\n"
          ]
        }
      ]
    },
    {
      "cell_type": "code",
      "source": [
        "# Cross validation and model training\n",
        "cvscores = []\n",
        "avg_score = 0.0\n",
        "K = 5\n",
        "kfold = StratifiedKFold(n_splits=K, shuffle=True, random_state=1)\n",
        "for train, test in kfold.split(x, Label_2):\n",
        "    model = XGBClassifier(objective = \"multi:softmax\",seed=42)\n",
        "    model.fit(x[train], Label_2[train])\n",
        "    score = model.score(x[test], Label_2[test])\n",
        "    cvscores.append(score)\n",
        "    avg_score = avg_score + score\n",
        "\n",
        "# Results\n",
        "avg_score = avg_score/K\n",
        "print(\"Cross validation scores: {}\".format(cvscores))\n",
        "print(\"Accuracy: {}\".format(avg_score))"
      ],
      "metadata": {
        "colab": {
          "base_uri": "https://localhost:8080/"
        },
        "id": "ZOdJTtcDGQFy",
        "outputId": "7cde841b-31a3-4bf2-eb69-231136bc3c13"
      },
      "execution_count": null,
      "outputs": [
        {
          "output_type": "stream",
          "name": "stdout",
          "text": [
            "Cross validation scores: [0.9383259911894273, 0.947136563876652, 0.9361233480176211, 0.9229074889867841, 0.9427312775330396]\n",
            "Accuracy: 0.9374449339207048\n"
          ]
        }
      ]
    },
    {
      "cell_type": "code",
      "source": [
        "# Cross validation and model training\n",
        "cvscores = []\n",
        "avg_score = 0.0\n",
        "K = 5\n",
        "kfold = StratifiedKFold(n_splits=K, shuffle=True, random_state=1)\n",
        "for train, test in kfold.split(x, Label_3):\n",
        "    model = XGBClassifier(objective = \"multi:softmax\",seed=42)\n",
        "    model.fit(x[train], Label_3[train])\n",
        "    score = model.score(x[test], Label_3[test])\n",
        "    cvscores.append(score)\n",
        "    avg_score = avg_score + score\n",
        "\n",
        "# Results\n",
        "avg_score = avg_score/K\n",
        "print(\"Cross validation scores: {}\".format(cvscores))\n",
        "print(\"Accuracy: {}\".format(avg_score))"
      ],
      "metadata": {
        "colab": {
          "base_uri": "https://localhost:8080/"
        },
        "id": "DoIdfNktGQFy",
        "outputId": "54b81625-8805-45cb-c292-6d31f62c1b6c"
      },
      "execution_count": null,
      "outputs": [
        {
          "output_type": "stream",
          "name": "stdout",
          "text": [
            "Cross validation scores: [0.6431718061674009, 0.6585903083700441, 0.6321585903083701, 0.6299559471365639, 0.6828193832599119]\n",
            "Accuracy: 0.6493392070484582\n"
          ]
        }
      ]
    },
    {
      "cell_type": "markdown",
      "source": [
        "### Take entire input as signal"
      ],
      "metadata": {
        "id": "TxFq6kzmGQFz"
      }
    },
    {
      "cell_type": "code",
      "source": [
        "rf_data = np.loadtxt(\"/content/drive/MyDrive/CEERI Project - Kalit/data/fft_extracted_features/M=1024/Lower band/entire signal/data.csv\", delimiter=\",\")"
      ],
      "metadata": {
        "id": "AqoD1f-XGQFz"
      },
      "execution_count": null,
      "outputs": []
    },
    {
      "cell_type": "code",
      "source": [
        "x = np.transpose(rf_data[0:512,:])\n",
        "Label_1 = np.transpose(rf_data[512:513,:]); Label_1 = Label_1.astype(int);\n",
        "Label_2 = np.transpose(rf_data[513:514,:]); Label_2 = Label_2.astype(int);\n",
        "Label_3 = np.transpose(rf_data[514:515,:]); Label_3 = Label_3.astype(int);"
      ],
      "metadata": {
        "id": "DNb7ETjkGQFz"
      },
      "execution_count": null,
      "outputs": []
    },
    {
      "cell_type": "code",
      "source": [
        "# Preprocessing\n",
        "scl = StandardScaler()\n",
        "x = scl.fit_transform(x)"
      ],
      "metadata": {
        "id": "sbxjgmAYGQFz"
      },
      "execution_count": null,
      "outputs": []
    },
    {
      "cell_type": "code",
      "source": [
        "# Cross validation and model training\n",
        "cvscores = []\n",
        "avg_score = 0.0\n",
        "K = 5\n",
        "kfold = StratifiedKFold(n_splits=K, shuffle=True, random_state=1)\n",
        "for train, test in kfold.split(x, Label_1):\n",
        "    model = XGBClassifier(objective = \"binary:logistic\",seed=42)\n",
        "    model.fit(x[train], Label_1[train])\n",
        "    score = model.score(x[test], Label_1[test])\n",
        "    cvscores.append(score)\n",
        "    avg_score = avg_score + score\n",
        "\n",
        "# Results\n",
        "avg_score = avg_score/K\n",
        "print(\"Cross validation scores: {}\".format(cvscores))\n",
        "print(\"Accuracy: {}\".format(avg_score))"
      ],
      "metadata": {
        "colab": {
          "base_uri": "https://localhost:8080/"
        },
        "id": "VtZ0uRFmGQF0",
        "outputId": "f01adae4-b26a-47e3-f594-536ff78f32ed"
      },
      "execution_count": null,
      "outputs": [
        {
          "output_type": "stream",
          "name": "stdout",
          "text": [
            "Cross validation scores: [1.0, 0.9565217391304348, 0.8666666666666667, 0.9333333333333333, 1.0]\n",
            "Accuracy: 0.9513043478260871\n"
          ]
        }
      ]
    },
    {
      "cell_type": "code",
      "source": [
        "# Cross validation and model training\n",
        "cvscores = []\n",
        "avg_score = 0.0\n",
        "K = 5\n",
        "kfold = StratifiedKFold(n_splits=K, shuffle=True, random_state=1)\n",
        "for train, test in kfold.split(x, Label_2):\n",
        "    model = XGBClassifier(objective = \"multi:softmax\",seed=42)\n",
        "    model.fit(x[train], Label_2[train])\n",
        "    score = model.score(x[test], Label_2[test])\n",
        "    cvscores.append(score)\n",
        "    avg_score = avg_score + score\n",
        "\n",
        "# Results\n",
        "avg_score = avg_score/K\n",
        "print(\"Cross validation scores: {}\".format(cvscores))\n",
        "print(\"Accuracy: {}\".format(avg_score))"
      ],
      "metadata": {
        "colab": {
          "base_uri": "https://localhost:8080/"
        },
        "id": "uHROoJoEGQF0",
        "outputId": "5a898f17-6378-42a8-878e-ba766b0f0c0f"
      },
      "execution_count": null,
      "outputs": [
        {
          "output_type": "stream",
          "name": "stdout",
          "text": [
            "Cross validation scores: [0.8478260869565217, 0.8695652173913043, 0.8666666666666667, 0.8888888888888888, 0.9777777777777777]\n",
            "Accuracy: 0.8901449275362319\n"
          ]
        }
      ]
    },
    {
      "cell_type": "code",
      "source": [
        "# Cross validation and model training\n",
        "cvscores = []\n",
        "avg_score = 0.0\n",
        "K = 5\n",
        "kfold = StratifiedKFold(n_splits=K, shuffle=True, random_state=1)\n",
        "for train, test in kfold.split(x, Label_3):\n",
        "    model = XGBClassifier(objective = \"multi:softmax\",seed=42)\n",
        "    model.fit(x[train], Label_3[train])\n",
        "    score = model.score(x[test], Label_3[test])\n",
        "    cvscores.append(score)\n",
        "    avg_score = avg_score + score\n",
        "\n",
        "# Results\n",
        "avg_score = avg_score/K\n",
        "print(\"Cross validation scores: {}\".format(cvscores))\n",
        "print(\"Accuracy: {}\".format(avg_score))"
      ],
      "metadata": {
        "colab": {
          "base_uri": "https://localhost:8080/"
        },
        "id": "5Xo1VM2IGQF0",
        "outputId": "d10a9b2b-2b5b-4b93-900d-7b8d6270ed5b"
      },
      "execution_count": null,
      "outputs": [
        {
          "output_type": "stream",
          "name": "stdout",
          "text": [
            "Cross validation scores: [0.5434782608695652, 0.6739130434782609, 0.6222222222222222, 0.6666666666666666, 0.6]\n",
            "Accuracy: 0.621256038647343\n"
          ]
        }
      ]
    },
    {
      "cell_type": "code",
      "source": [
        ""
      ],
      "metadata": {
        "id": "Q_z5HDRfmFnR"
      },
      "execution_count": null,
      "outputs": []
    },
    {
      "cell_type": "markdown",
      "metadata": {
        "id": "xKGP56cQDgC3"
      },
      "source": [
        "# M = 2048"
      ]
    },
    {
      "cell_type": "markdown",
      "metadata": {
        "id": "GFOP7o6dDqti"
      },
      "source": [
        "## (Upper + lower) bands"
      ]
    },
    {
      "cell_type": "markdown",
      "metadata": {
        "id": "Reyh1eGoDqtj"
      },
      "source": [
        "### Segment by factor of 100"
      ]
    },
    {
      "cell_type": "code",
      "execution_count": null,
      "metadata": {
        "id": "CgBdA7njDqtk"
      },
      "outputs": [],
      "source": [
        "rf_data = np.loadtxt(\"/content/drive/MyDrive/CEERI Project - Kalit/data/fft_extracted_features/M=2048/Both bands/L=1e5/data.csv\", delimiter=\",\")"
      ]
    },
    {
      "cell_type": "code",
      "execution_count": null,
      "metadata": {
        "id": "WwdnvWwnDqtk"
      },
      "outputs": [],
      "source": [
        "x = np.transpose(rf_data[0:2048,:])\n",
        "Label_1 = np.transpose(rf_data[2048:2049,:]); Label_1 = Label_1.astype(int);\n",
        "Label_2 = np.transpose(rf_data[2049:2050,:]); Label_2 = Label_2.astype(int);\n",
        "Label_3 = np.transpose(rf_data[2050:2051,:]); Label_3 = Label_3.astype(int);"
      ]
    },
    {
      "cell_type": "code",
      "execution_count": null,
      "metadata": {
        "id": "zSCSBIGJDqtl"
      },
      "outputs": [],
      "source": [
        "# Preprocessing\n",
        "scl = StandardScaler()\n",
        "x = scl.fit_transform(x)"
      ]
    },
    {
      "cell_type": "code",
      "execution_count": null,
      "metadata": {
        "colab": {
          "base_uri": "https://localhost:8080/"
        },
        "id": "dKCtEXmSDqtl",
        "outputId": "b0129b4f-1a55-4fae-bbcd-ba85b90d1385"
      },
      "outputs": [
        {
          "name": "stdout",
          "output_type": "stream",
          "text": [
            "Cross validation scores: [0.9995594713656387, 1.0, 0.9995594713656387, 1.0, 0.9993392070484581]\n",
            "Accuracy: 0.9996916299559471\n"
          ]
        }
      ],
      "source": [
        "# Cross validation and model training\n",
        "cvscores = []\n",
        "avg_score = 0.0\n",
        "K = 5\n",
        "kfold = StratifiedKFold(n_splits=K, shuffle=True, random_state=1)\n",
        "for train, test in kfold.split(x, Label_1):\n",
        "    model = XGBClassifier(objective = \"binary:logistic\",seed=42)\n",
        "    model.fit(x[train], Label_1[train])\n",
        "    score = model.score(x[test], Label_1[test])\n",
        "    cvscores.append(score)\n",
        "    avg_score = avg_score + score\n",
        "\n",
        "# Results\n",
        "avg_score = avg_score/K\n",
        "print(\"Cross validation scores: {}\".format(cvscores))\n",
        "print(\"Accuracy: {}\".format(avg_score))"
      ]
    },
    {
      "cell_type": "code",
      "execution_count": null,
      "metadata": {
        "colab": {
          "base_uri": "https://localhost:8080/"
        },
        "id": "p_JhIAABDqtn",
        "outputId": "3ba7c8ec-2be9-4bc7-be4a-76c02b8df44d"
      },
      "outputs": [
        {
          "name": "stdout",
          "output_type": "stream",
          "text": [
            "Cross validation scores: [0.9251101321585903, 0.9191629955947137, 0.9200440528634362, 0.9180616740088106, 0.9202643171806167]\n",
            "Accuracy: 0.9205286343612334\n"
          ]
        }
      ],
      "source": [
        "# Cross validation and model training\n",
        "cvscores = []\n",
        "avg_score = 0.0\n",
        "K = 5\n",
        "kfold = StratifiedKFold(n_splits=K, shuffle=True, random_state=1)\n",
        "for train, test in kfold.split(x, Label_2):\n",
        "    model = XGBClassifier(objective = \"multi:softmax\",seed=42)\n",
        "    model.fit(x[train], Label_2[train])\n",
        "    score = model.score(x[test], Label_2[test])\n",
        "    cvscores.append(score)\n",
        "    avg_score = avg_score + score\n",
        "\n",
        "# Results\n",
        "avg_score = avg_score/K\n",
        "print(\"Cross validation scores: {}\".format(cvscores))\n",
        "print(\"Accuracy: {}\".format(avg_score))"
      ]
    },
    {
      "cell_type": "code",
      "execution_count": null,
      "metadata": {
        "colab": {
          "base_uri": "https://localhost:8080/"
        },
        "id": "XClwAh92Dqtn",
        "outputId": "835241f4-7777-4313-b76f-2e0d697ddf08"
      },
      "outputs": [
        {
          "name": "stdout",
          "output_type": "stream",
          "text": [
            "Cross validation scores: [0.7081497797356828, 0.707488986784141, 0.7048458149779736, 0.7107929515418502, 0.701762114537445]\n",
            "Accuracy: 0.7066079295154185\n"
          ]
        }
      ],
      "source": [
        "# Cross validation and model training\n",
        "cvscores = []\n",
        "avg_score = 0.0\n",
        "K = 5\n",
        "kfold = StratifiedKFold(n_splits=K, shuffle=True, random_state=1)\n",
        "for train, test in kfold.split(x, Label_3):\n",
        "    model = XGBClassifier(objective = \"multi:softmax\",seed=42)\n",
        "    model.fit(x[train], Label_3[train])\n",
        "    score = model.score(x[test], Label_3[test])\n",
        "    cvscores.append(score)\n",
        "    avg_score = avg_score + score\n",
        "\n",
        "# Results\n",
        "avg_score = avg_score/K\n",
        "print(\"Cross validation scores: {}\".format(cvscores))\n",
        "print(\"Accuracy: {}\".format(avg_score))"
      ]
    },
    {
      "cell_type": "markdown",
      "metadata": {
        "id": "5ZgNQgR5Dqto"
      },
      "source": [
        "### Segment by factor of 10"
      ]
    },
    {
      "cell_type": "code",
      "execution_count": null,
      "metadata": {
        "id": "OR4EqpKADqto"
      },
      "outputs": [],
      "source": [
        "rf_data = np.loadtxt(\"/content/drive/MyDrive/CEERI Project - Kalit/data/fft_extracted_features/M=2048/Both bands/L=1e6/data.csv\", delimiter=\",\")"
      ]
    },
    {
      "cell_type": "code",
      "execution_count": null,
      "metadata": {
        "id": "T1F4EEwXDqtp"
      },
      "outputs": [],
      "source": [
        "x = np.transpose(rf_data[0:2048,:])\n",
        "Label_1 = np.transpose(rf_data[2048:2049,:]); Label_1 = Label_1.astype(int);\n",
        "Label_2 = np.transpose(rf_data[2049:2050,:]); Label_2 = Label_2.astype(int);\n",
        "Label_3 = np.transpose(rf_data[2050:2051,:]); Label_3 = Label_3.astype(int);"
      ]
    },
    {
      "cell_type": "code",
      "execution_count": null,
      "metadata": {
        "id": "5i4cDKxzDqtp"
      },
      "outputs": [],
      "source": [
        "# Preprocessing\n",
        "scl = StandardScaler()\n",
        "x = scl.fit_transform(x)"
      ]
    },
    {
      "cell_type": "code",
      "execution_count": null,
      "metadata": {
        "colab": {
          "base_uri": "https://localhost:8080/"
        },
        "id": "rowXGh27Dqtq",
        "outputId": "53eadf51-de80-4fbc-fbfa-05da40ebdffe"
      },
      "outputs": [
        {
          "name": "stdout",
          "output_type": "stream",
          "text": [
            "Cross validation scores: [0.9977973568281938, 1.0, 1.0, 0.9977973568281938, 0.9977973568281938]\n",
            "Accuracy: 0.9986784140969164\n"
          ]
        }
      ],
      "source": [
        "# Cross validation and model training\n",
        "cvscores = []\n",
        "avg_score = 0.0\n",
        "K = 5\n",
        "kfold = StratifiedKFold(n_splits=K, shuffle=True, random_state=1)\n",
        "for train, test in kfold.split(x, Label_1):\n",
        "    model = XGBClassifier(objective = \"binary:logistic\",seed=42)\n",
        "    model.fit(x[train], Label_1[train])\n",
        "    score = model.score(x[test], Label_1[test])\n",
        "    cvscores.append(score)\n",
        "    avg_score = avg_score + score\n",
        "\n",
        "# Results\n",
        "avg_score = avg_score/K\n",
        "print(\"Cross validation scores: {}\".format(cvscores))\n",
        "print(\"Accuracy: {}\".format(avg_score))"
      ]
    },
    {
      "cell_type": "code",
      "execution_count": null,
      "metadata": {
        "colab": {
          "base_uri": "https://localhost:8080/"
        },
        "id": "-yo9-GwHDqtq",
        "outputId": "65bf05b0-e039-4229-d9d7-39bf1ed190f4"
      },
      "outputs": [
        {
          "name": "stdout",
          "output_type": "stream",
          "text": [
            "Cross validation scores: [0.9625550660792952, 0.9669603524229075, 0.973568281938326, 0.9845814977973568, 0.9691629955947136]\n",
            "Accuracy: 0.9713656387665196\n"
          ]
        }
      ],
      "source": [
        "# Cross validation and model training\n",
        "cvscores = []\n",
        "avg_score = 0.0\n",
        "K = 5\n",
        "kfold = StratifiedKFold(n_splits=K, shuffle=True, random_state=1)\n",
        "for train, test in kfold.split(x, Label_2):\n",
        "    model = XGBClassifier(objective = \"multi:softmax\",seed=42)\n",
        "    model.fit(x[train], Label_2[train])\n",
        "    score = model.score(x[test], Label_2[test])\n",
        "    cvscores.append(score)\n",
        "    avg_score = avg_score + score\n",
        "\n",
        "# Results\n",
        "avg_score = avg_score/K\n",
        "print(\"Cross validation scores: {}\".format(cvscores))\n",
        "print(\"Accuracy: {}\".format(avg_score))"
      ]
    },
    {
      "cell_type": "code",
      "execution_count": null,
      "metadata": {
        "colab": {
          "background_save": true
        },
        "id": "SRxyK-BvDqtr",
        "outputId": "04e6ecd8-9c51-4107-bd0f-9c3c47976140"
      },
      "outputs": [
        {
          "name": "stdout",
          "output_type": "stream",
          "text": [
            "Cross validation scores: [0.6762114537444934, 0.7070484581497798, 0.7180616740088106, 0.73568281938326, 0.7136563876651982]\n",
            "Accuracy: 0.7101321585903084\n"
          ]
        }
      ],
      "source": [
        "# Cross validation and model training\n",
        "cvscores = []\n",
        "avg_score = 0.0\n",
        "K = 5\n",
        "kfold = StratifiedKFold(n_splits=K, shuffle=True, random_state=1)\n",
        "for train, test in kfold.split(x, Label_3):\n",
        "    model = XGBClassifier(objective = \"multi:softmax\",seed=42)\n",
        "    model.fit(x[train], Label_3[train])\n",
        "    score = model.score(x[test], Label_3[test])\n",
        "    cvscores.append(score)\n",
        "    avg_score = avg_score + score\n",
        "\n",
        "# Results\n",
        "avg_score = avg_score/K\n",
        "print(\"Cross validation scores: {}\".format(cvscores))\n",
        "print(\"Accuracy: {}\".format(avg_score))"
      ]
    },
    {
      "cell_type": "markdown",
      "metadata": {
        "id": "vBr9bcnVDqtr"
      },
      "source": [
        "### Take entire input as signal"
      ]
    },
    {
      "cell_type": "code",
      "execution_count": null,
      "metadata": {
        "colab": {
          "background_save": true
        },
        "id": "1Aivf4WuDqts"
      },
      "outputs": [],
      "source": [
        "rf_data = np.loadtxt(\"/content/drive/MyDrive/CEERI Project - Kalit/data/fft_extracted_features/M=2048/Both bands/entire signal/data.csv\", delimiter=\",\")"
      ]
    },
    {
      "cell_type": "code",
      "execution_count": null,
      "metadata": {
        "colab": {
          "background_save": true
        },
        "id": "gA7wBGlyDqts"
      },
      "outputs": [],
      "source": [
        "x = np.transpose(rf_data[0:2048,:])\n",
        "Label_1 = np.transpose(rf_data[2048:2049,:]); Label_1 = Label_1.astype(int);\n",
        "Label_2 = np.transpose(rf_data[2049:2050,:]); Label_2 = Label_2.astype(int);\n",
        "Label_3 = np.transpose(rf_data[2050:2051,:]); Label_3 = Label_3.astype(int);"
      ]
    },
    {
      "cell_type": "code",
      "execution_count": null,
      "metadata": {
        "colab": {
          "background_save": true
        },
        "id": "sCUR8tulDqts"
      },
      "outputs": [],
      "source": [
        "# Preprocessing\n",
        "scl = StandardScaler()\n",
        "x = scl.fit_transform(x)"
      ]
    },
    {
      "cell_type": "code",
      "execution_count": null,
      "metadata": {
        "colab": {
          "base_uri": "https://localhost:8080/"
        },
        "id": "mmVLUw76Dqtt",
        "outputId": "d83ba8be-e6c4-4649-dba2-ffe87ebb7293"
      },
      "outputs": [
        {
          "name": "stdout",
          "output_type": "stream",
          "text": [
            "Cross validation scores: [0.9782608695652174, 0.9347826086956522, 0.9333333333333333, 0.9555555555555556, 1.0]\n",
            "Accuracy: 0.9603864734299516\n"
          ]
        }
      ],
      "source": [
        "# Cross validation and model training\n",
        "cvscores = []\n",
        "avg_score = 0.0\n",
        "K = 5\n",
        "kfold = StratifiedKFold(n_splits=K, shuffle=True, random_state=1)\n",
        "for train, test in kfold.split(x, Label_1):\n",
        "    model = XGBClassifier(objective = \"binary:logistic\",seed=42)\n",
        "    model.fit(x[train], Label_1[train])\n",
        "    score = model.score(x[test], Label_1[test])\n",
        "    cvscores.append(score)\n",
        "    avg_score = avg_score + score\n",
        "\n",
        "# Results\n",
        "avg_score = avg_score/K\n",
        "print(\"Cross validation scores: {}\".format(cvscores))\n",
        "print(\"Accuracy: {}\".format(avg_score))"
      ]
    },
    {
      "cell_type": "code",
      "execution_count": null,
      "metadata": {
        "colab": {
          "background_save": true
        },
        "id": "44HtAQbdDqtt",
        "outputId": "c4e8d765-b2b0-497e-8faa-9007184c710b"
      },
      "outputs": [
        {
          "name": "stdout",
          "output_type": "stream",
          "text": [
            "Cross validation scores: [0.782608695652174, 0.8478260869565217, 0.8888888888888888, 0.8666666666666667, 0.8222222222222222]\n",
            "Accuracy: 0.8416425120772948\n"
          ]
        }
      ],
      "source": [
        "# Cross validation and model training\n",
        "cvscores = []\n",
        "avg_score = 0.0\n",
        "K = 5\n",
        "kfold = StratifiedKFold(n_splits=K, shuffle=True, random_state=1)\n",
        "for train, test in kfold.split(x, Label_2):\n",
        "    model = XGBClassifier(objective = \"multi:softmax\",seed=42)\n",
        "    model.fit(x[train], Label_2[train])\n",
        "    score = model.score(x[test], Label_2[test])\n",
        "    cvscores.append(score)\n",
        "    avg_score = avg_score + score\n",
        "\n",
        "# Results\n",
        "avg_score = avg_score/K\n",
        "print(\"Cross validation scores: {}\".format(cvscores))\n",
        "print(\"Accuracy: {}\".format(avg_score))"
      ]
    },
    {
      "cell_type": "code",
      "execution_count": null,
      "metadata": {
        "colab": {
          "background_save": true
        },
        "id": "aV-nQYvMDqtu",
        "outputId": "e94582c0-61d5-499a-8d46-c886c532a6bd"
      },
      "outputs": [
        {
          "name": "stdout",
          "output_type": "stream",
          "text": [
            "Cross validation scores: [0.6739130434782609, 0.6086956521739131, 0.5777777777777777, 0.5777777777777777, 0.6444444444444445]\n",
            "Accuracy: 0.6165217391304347\n"
          ]
        }
      ],
      "source": [
        "# Cross validation and model training\n",
        "cvscores = []\n",
        "avg_score = 0.0\n",
        "K = 5\n",
        "kfold = StratifiedKFold(n_splits=K, shuffle=True, random_state=1)\n",
        "for train, test in kfold.split(x, Label_3):\n",
        "    model = XGBClassifier(objective = \"multi:softmax\",seed=42)\n",
        "    model.fit(x[train], Label_3[train])\n",
        "    score = model.score(x[test], Label_3[test])\n",
        "    cvscores.append(score)\n",
        "    avg_score = avg_score + score\n",
        "\n",
        "# Results\n",
        "avg_score = avg_score/K\n",
        "print(\"Cross validation scores: {}\".format(cvscores))\n",
        "print(\"Accuracy: {}\".format(avg_score))"
      ]
    },
    {
      "cell_type": "markdown",
      "metadata": {
        "id": "6WOPV1XNDqtu"
      },
      "source": [
        "## Upper band"
      ]
    },
    {
      "cell_type": "markdown",
      "metadata": {
        "id": "IKH6gjWIDqtv"
      },
      "source": [
        "### Segment by factor of 100"
      ]
    },
    {
      "cell_type": "code",
      "execution_count": null,
      "metadata": {
        "id": "9e_rU4IiDqtv"
      },
      "outputs": [],
      "source": [
        "rf_data = np.loadtxt(\"/content/drive/MyDrive/CEERI Project - Kalit/data/fft_extracted_features/M=2048/Upper band/L=1e5/data.csv\", delimiter=\",\")"
      ]
    },
    {
      "cell_type": "code",
      "source": [
        "rf_data.shape"
      ],
      "metadata": {
        "colab": {
          "base_uri": "https://localhost:8080/"
        },
        "id": "NMC3Ljc6ji6x",
        "outputId": "9a792107-c8ae-4b9e-f44c-4c4bdc3405d1"
      },
      "execution_count": null,
      "outputs": [
        {
          "output_type": "execute_result",
          "data": {
            "text/plain": [
              "(1027, 22700)"
            ]
          },
          "metadata": {},
          "execution_count": 7
        }
      ]
    },
    {
      "cell_type": "code",
      "execution_count": null,
      "metadata": {
        "id": "mlDfaO8SDqtw"
      },
      "outputs": [],
      "source": [
        "x = np.transpose(rf_data[0:1024,:])\n",
        "Label_1 = np.transpose(rf_data[1024:1025,:]); Label_1 = Label_1.astype(int);\n",
        "Label_2 = np.transpose(rf_data[1025:1026,:]); Label_2 = Label_2.astype(int);\n",
        "Label_3 = np.transpose(rf_data[1026:1027,:]); Label_3 = Label_3.astype(int);"
      ]
    },
    {
      "cell_type": "code",
      "execution_count": null,
      "metadata": {
        "id": "TOH_4p7UDqtw"
      },
      "outputs": [],
      "source": [
        "# Preprocessing\n",
        "scl = StandardScaler()\n",
        "x = scl.fit_transform(x)"
      ]
    },
    {
      "cell_type": "code",
      "execution_count": null,
      "metadata": {
        "colab": {
          "base_uri": "https://localhost:8080/"
        },
        "id": "msFVH_-EDaYe",
        "outputId": "86ec80c9-9aa1-427b-cfef-0ecc0fa8be29"
      },
      "outputs": [
        {
          "output_type": "execute_result",
          "data": {
            "text/plain": [
              "array([0, 1, 2, 3])"
            ]
          },
          "metadata": {},
          "execution_count": 10
        }
      ],
      "source": [
        "np.unique(Label_2)"
      ]
    },
    {
      "cell_type": "code",
      "execution_count": null,
      "metadata": {
        "id": "n_15tsw5Dqtw",
        "colab": {
          "base_uri": "https://localhost:8080/"
        },
        "outputId": "ceafebe7-3409-4ea7-d0d8-76ab56158bfe"
      },
      "outputs": [
        {
          "output_type": "stream",
          "name": "stdout",
          "text": [
            "Cross validation scores: [0.9464757709251101, 0.9414096916299559, 0.9359030837004405, 0.9411894273127753, 0.9392070484581497]\n",
            "Accuracy: 0.9408370044052864\n"
          ]
        }
      ],
      "source": [
        "# Cross validation and model training\n",
        "cvscores = []\n",
        "avg_score = 0.0\n",
        "K = 5\n",
        "kfold = StratifiedKFold(n_splits=K, shuffle=True, random_state=1)\n",
        "for train, test in kfold.split(x, Label_1):\n",
        "    model = XGBClassifier(objective = \"binary:logistic\",seed=42)\n",
        "    model.fit(x[train], Label_1[train])\n",
        "    score = model.score(x[test], Label_1[test])\n",
        "    cvscores.append(score)\n",
        "    avg_score = avg_score + score\n",
        "\n",
        "# Results\n",
        "avg_score = avg_score/K\n",
        "print(\"Cross validation scores: {}\".format(cvscores))\n",
        "print(\"Accuracy: {}\".format(avg_score))"
      ]
    },
    {
      "cell_type": "code",
      "execution_count": null,
      "metadata": {
        "colab": {
          "base_uri": "https://localhost:8080/"
        },
        "id": "RXR3UNwsDqtx",
        "outputId": "388b1b70-f8dd-4e55-cc75-73e06975488a"
      },
      "outputs": [
        {
          "output_type": "stream",
          "name": "stdout",
          "text": [
            "Cross validation scores: [0.7482378854625551, 0.7482378854625551, 0.7444933920704846, 0.7381057268722467, 0.7409691629955947]\n",
            "Accuracy: 0.7440088105726872\n"
          ]
        }
      ],
      "source": [
        "# Cross validation and model training\n",
        "cvscores = []\n",
        "avg_score = 0.0\n",
        "K = 5\n",
        "kfold = StratifiedKFold(n_splits=K, shuffle=True, random_state=1)\n",
        "for train, test in kfold.split(x, Label_2):\n",
        "    model = XGBClassifier(objective = \"multi:softmax\",seed=42)\n",
        "    model.fit(x[train], Label_2[train])\n",
        "    score = model.score(x[test], Label_2[test])\n",
        "    cvscores.append(score)\n",
        "    avg_score = avg_score + score\n",
        "\n",
        "# Results\n",
        "avg_score = avg_score/K\n",
        "print(\"Cross validation scores: {}\".format(cvscores))\n",
        "print(\"Accuracy: {}\".format(avg_score))"
      ]
    },
    {
      "cell_type": "code",
      "execution_count": null,
      "metadata": {
        "colab": {
          "base_uri": "https://localhost:8080/"
        },
        "id": "_qCEkS0dDqtx",
        "outputId": "dd7b3003-e119-4708-8acf-c41ef67df28a"
      },
      "outputs": [
        {
          "output_type": "stream",
          "name": "stdout",
          "text": [
            "Cross validation scores: [0.6444933920704846, 0.6438325991189427, 0.6460352422907489, 0.6361233480176212, 0.6506607929515419]\n",
            "Accuracy: 0.6442290748898679\n"
          ]
        }
      ],
      "source": [
        "# Cross validation and model training\n",
        "cvscores = []\n",
        "avg_score = 0.0\n",
        "K = 5\n",
        "kfold = StratifiedKFold(n_splits=K, shuffle=True, random_state=1)\n",
        "for train, test in kfold.split(x, Label_3):\n",
        "    model = XGBClassifier(objective = \"multi:softmax\",seed=42)\n",
        "    model.fit(x[train], Label_3[train])\n",
        "    score = model.score(x[test], Label_3[test])\n",
        "    cvscores.append(score)\n",
        "    avg_score = avg_score + score\n",
        "\n",
        "# Results\n",
        "avg_score = avg_score/K\n",
        "print(\"Cross validation scores: {}\".format(cvscores))\n",
        "print(\"Accuracy: {}\".format(avg_score))"
      ]
    },
    {
      "cell_type": "markdown",
      "metadata": {
        "id": "4XI6s9j1Dqty"
      },
      "source": [
        "### Segment by factor of 10"
      ]
    },
    {
      "cell_type": "code",
      "execution_count": null,
      "metadata": {
        "id": "zlpU0SGDDqty"
      },
      "outputs": [],
      "source": [
        "rf_data = np.loadtxt(\"/content/drive/MyDrive/CEERI Project - Kalit/data/fft_extracted_features/M=2048/Upper band/L=1e6/data.csv\", delimiter=\",\")"
      ]
    },
    {
      "cell_type": "code",
      "execution_count": null,
      "metadata": {
        "id": "4q-BeS8jDqtz"
      },
      "outputs": [],
      "source": [
        "x = np.transpose(rf_data[0:1024,:])\n",
        "Label_1 = np.transpose(rf_data[1024:1025,:]); Label_1 = Label_1.astype(int);\n",
        "Label_2 = np.transpose(rf_data[1025:1026,:]); Label_2 = Label_2.astype(int);\n",
        "Label_3 = np.transpose(rf_data[1026:1027,:]); Label_3 = Label_3.astype(int);"
      ]
    },
    {
      "cell_type": "code",
      "execution_count": null,
      "metadata": {
        "id": "BVEMxOdpDqtz"
      },
      "outputs": [],
      "source": [
        "# Preprocessing\n",
        "scl = StandardScaler()\n",
        "x = scl.fit_transform(x)"
      ]
    },
    {
      "cell_type": "code",
      "execution_count": null,
      "metadata": {
        "colab": {
          "base_uri": "https://localhost:8080/"
        },
        "id": "hdKZpHZxDqt0",
        "outputId": "5007f757-a320-438b-9706-d571aff6292c"
      },
      "outputs": [
        {
          "name": "stdout",
          "output_type": "stream",
          "text": [
            "Cross validation scores: [0.9251101321585903, 0.9052863436123348, 0.8986784140969163, 0.9074889867841409, 0.9140969162995595]\n",
            "Accuracy: 0.9101321585903083\n"
          ]
        }
      ],
      "source": [
        "# Cross validation and model training\n",
        "cvscores = []\n",
        "avg_score = 0.0\n",
        "K = 5\n",
        "kfold = StratifiedKFold(n_splits=K, shuffle=True, random_state=1)\n",
        "for train, test in kfold.split(x, Label_1):\n",
        "    model = XGBClassifier(objective = \"binary:logistic\",seed=42)\n",
        "    model.fit(x[train], Label_1[train])\n",
        "    score = model.score(x[test], Label_1[test])\n",
        "    cvscores.append(score)\n",
        "    avg_score = avg_score + score\n",
        "\n",
        "# Results\n",
        "avg_score = avg_score/K\n",
        "print(\"Cross validation scores: {}\".format(cvscores))\n",
        "print(\"Accuracy: {}\".format(avg_score))"
      ]
    },
    {
      "cell_type": "code",
      "execution_count": null,
      "metadata": {
        "colab": {
          "base_uri": "https://localhost:8080/"
        },
        "id": "WI6m2d-0Dqt0",
        "outputId": "141eb7f3-385f-4f6b-f810-4b6dec8ac037"
      },
      "outputs": [
        {
          "name": "stdout",
          "output_type": "stream",
          "text": [
            "Cross validation scores: [0.6806167400881057, 0.6629955947136564, 0.6784140969162996, 0.6563876651982379, 0.6387665198237885]\n",
            "Accuracy: 0.6634361233480176\n"
          ]
        }
      ],
      "source": [
        "# Cross validation and model training\n",
        "cvscores = []\n",
        "avg_score = 0.0\n",
        "K = 5\n",
        "kfold = StratifiedKFold(n_splits=K, shuffle=True, random_state=1)\n",
        "for train, test in kfold.split(x, Label_2):\n",
        "    model = XGBClassifier(objective = \"multi:softmax\",seed=42)\n",
        "    model.fit(x[train], Label_2[train])\n",
        "    score = model.score(x[test], Label_2[test])\n",
        "    cvscores.append(score)\n",
        "    avg_score = avg_score + score\n",
        "\n",
        "# Results\n",
        "avg_score = avg_score/K\n",
        "print(\"Cross validation scores: {}\".format(cvscores))\n",
        "print(\"Accuracy: {}\".format(avg_score))"
      ]
    },
    {
      "cell_type": "code",
      "execution_count": null,
      "metadata": {
        "colab": {
          "base_uri": "https://localhost:8080/"
        },
        "id": "Nst7bXgNDqt1",
        "outputId": "8b344545-cc91-4343-b1ce-592f781250a8"
      },
      "outputs": [
        {
          "name": "stdout",
          "output_type": "stream",
          "text": [
            "Cross validation scores: [0.5242290748898678, 0.5088105726872246, 0.5220264317180616, 0.5110132158590308, 0.5198237885462555]\n",
            "Accuracy: 0.5171806167400881\n"
          ]
        }
      ],
      "source": [
        "# Cross validation and model training\n",
        "cvscores = []\n",
        "avg_score = 0.0\n",
        "K = 5\n",
        "kfold = StratifiedKFold(n_splits=K, shuffle=True, random_state=1)\n",
        "for train, test in kfold.split(x, Label_3):\n",
        "    model = XGBClassifier(objective = \"multi:softmax\",seed=42)\n",
        "    model.fit(x[train], Label_3[train])\n",
        "    score = model.score(x[test], Label_3[test])\n",
        "    cvscores.append(score)\n",
        "    avg_score = avg_score + score\n",
        "\n",
        "# Results\n",
        "avg_score = avg_score/K\n",
        "print(\"Cross validation scores: {}\".format(cvscores))\n",
        "print(\"Accuracy: {}\".format(avg_score))"
      ]
    },
    {
      "cell_type": "markdown",
      "metadata": {
        "id": "CIgSXrpADqt1"
      },
      "source": [
        "### Take entire input as signal"
      ]
    },
    {
      "cell_type": "code",
      "execution_count": null,
      "metadata": {
        "id": "p8LsIEXiDqt1"
      },
      "outputs": [],
      "source": [
        "rf_data = np.loadtxt(\"/content/drive/MyDrive/CEERI Project - Kalit/data/fft_extracted_features/M=2048/Upper band/entire signal/data.csv\", delimiter=\",\")"
      ]
    },
    {
      "cell_type": "code",
      "execution_count": null,
      "metadata": {
        "id": "LG-RohDqDqt2"
      },
      "outputs": [],
      "source": [
        "x = np.transpose(rf_data[0:1024,:])\n",
        "Label_1 = np.transpose(rf_data[1024:1025,:]); Label_1 = Label_1.astype(int);\n",
        "Label_2 = np.transpose(rf_data[1025:1026,:]); Label_2 = Label_2.astype(int);\n",
        "Label_3 = np.transpose(rf_data[1026:1027,:]); Label_3 = Label_3.astype(int);"
      ]
    },
    {
      "cell_type": "code",
      "execution_count": null,
      "metadata": {
        "id": "N_Mqi2CpDqt2"
      },
      "outputs": [],
      "source": [
        "# Preprocessing\n",
        "scl = StandardScaler()\n",
        "x = scl.fit_transform(x)"
      ]
    },
    {
      "cell_type": "code",
      "execution_count": null,
      "metadata": {
        "colab": {
          "base_uri": "https://localhost:8080/"
        },
        "id": "NJkbboRiDqt3",
        "outputId": "30efbec8-e2d6-4c7d-edc1-9fbd2d3e5a47"
      },
      "outputs": [
        {
          "name": "stdout",
          "output_type": "stream",
          "text": [
            "Cross validation scores: [0.9565217391304348, 0.9565217391304348, 0.9777777777777777, 0.9555555555555556, 1.0]\n",
            "Accuracy: 0.9692753623188406\n"
          ]
        }
      ],
      "source": [
        "# Cross validation and model training\n",
        "cvscores = []\n",
        "avg_score = 0.0\n",
        "K = 5\n",
        "kfold = StratifiedKFold(n_splits=K, shuffle=True, random_state=1)\n",
        "for train, test in kfold.split(x, Label_1):\n",
        "    model = XGBClassifier(objective = \"binary:logistic\",seed=42)\n",
        "    model.fit(x[train], Label_1[train])\n",
        "    score = model.score(x[test], Label_1[test])\n",
        "    cvscores.append(score)\n",
        "    avg_score = avg_score + score\n",
        "\n",
        "# Results\n",
        "avg_score = avg_score/K\n",
        "print(\"Cross validation scores: {}\".format(cvscores))\n",
        "print(\"Accuracy: {}\".format(avg_score))"
      ]
    },
    {
      "cell_type": "code",
      "execution_count": null,
      "metadata": {
        "colab": {
          "base_uri": "https://localhost:8080/"
        },
        "id": "vgwDoLOKDqt3",
        "outputId": "18637248-758e-4bcc-f9b6-e04be35d297f"
      },
      "outputs": [
        {
          "name": "stdout",
          "output_type": "stream",
          "text": [
            "Cross validation scores: [0.6956521739130435, 0.5434782608695652, 0.4888888888888889, 0.6444444444444445, 0.6222222222222222]\n",
            "Accuracy: 0.5989371980676329\n"
          ]
        }
      ],
      "source": [
        "# Cross validation and model training\n",
        "cvscores = []\n",
        "avg_score = 0.0\n",
        "K = 5\n",
        "kfold = StratifiedKFold(n_splits=K, shuffle=True, random_state=1)\n",
        "for train, test in kfold.split(x, Label_2):\n",
        "    model = XGBClassifier(objective = \"multi:softmax\",seed=42)\n",
        "    model.fit(x[train], Label_2[train])\n",
        "    score = model.score(x[test], Label_2[test])\n",
        "    cvscores.append(score)\n",
        "    avg_score = avg_score + score\n",
        "\n",
        "# Results\n",
        "avg_score = avg_score/K\n",
        "print(\"Cross validation scores: {}\".format(cvscores))\n",
        "print(\"Accuracy: {}\".format(avg_score))"
      ]
    },
    {
      "cell_type": "code",
      "execution_count": null,
      "metadata": {
        "colab": {
          "base_uri": "https://localhost:8080/"
        },
        "id": "dlmkQ9viDqt4",
        "outputId": "257c1cd3-e7de-498e-c2eb-9a94050dd350"
      },
      "outputs": [
        {
          "name": "stdout",
          "output_type": "stream",
          "text": [
            "Cross validation scores: [0.5217391304347826, 0.45652173913043476, 0.4888888888888889, 0.4666666666666667, 0.4]\n",
            "Accuracy: 0.4667632850241546\n"
          ]
        }
      ],
      "source": [
        "# Cross validation and model training\n",
        "cvscores = []\n",
        "avg_score = 0.0\n",
        "K = 5\n",
        "kfold = StratifiedKFold(n_splits=K, shuffle=True, random_state=1)\n",
        "for train, test in kfold.split(x, Label_3):\n",
        "    model = XGBClassifier(objective = \"multi:softmax\",seed=42)\n",
        "    model.fit(x[train], Label_3[train])\n",
        "    score = model.score(x[test], Label_3[test])\n",
        "    cvscores.append(score)\n",
        "    avg_score = avg_score + score\n",
        "\n",
        "# Results\n",
        "avg_score = avg_score/K\n",
        "print(\"Cross validation scores: {}\".format(cvscores))\n",
        "print(\"Accuracy: {}\".format(avg_score))"
      ]
    },
    {
      "cell_type": "markdown",
      "metadata": {
        "id": "7FEhNJURDqt4"
      },
      "source": [
        "## Lower band"
      ]
    },
    {
      "cell_type": "markdown",
      "metadata": {
        "id": "jGULT13KDqt5"
      },
      "source": [
        "### Segment by factor of 100"
      ]
    },
    {
      "cell_type": "code",
      "execution_count": null,
      "metadata": {
        "id": "_3M5dTD1Dqt5"
      },
      "outputs": [],
      "source": [
        "rf_data = np.loadtxt(\"/content/drive/MyDrive/CEERI Project - Kalit/data/fft_extracted_features/M=2048/Lower band/L=1e5/data.csv\", delimiter=\",\")"
      ]
    },
    {
      "cell_type": "code",
      "execution_count": null,
      "metadata": {
        "colab": {
          "base_uri": "https://localhost:8080/"
        },
        "id": "ljZVihvuf4Fq",
        "outputId": "d15ed1e7-0c12-4df7-cdea-7baf91bb7e6d"
      },
      "outputs": [
        {
          "output_type": "execute_result",
          "data": {
            "text/plain": [
              "(1027, 22700)"
            ]
          },
          "metadata": {},
          "execution_count": 15
        }
      ],
      "source": [
        "rf_data.shape"
      ]
    },
    {
      "cell_type": "code",
      "execution_count": null,
      "metadata": {
        "id": "aznM9av3Dqt5"
      },
      "outputs": [],
      "source": [
        "x = np.transpose(rf_data[0:1024,:])\n",
        "Label_1 = np.transpose(rf_data[1024:1025,:]); Label_1 = Label_1.astype(int);\n",
        "Label_2 = np.transpose(rf_data[1025:1026,:]); Label_2 = Label_2.astype(int);\n",
        "Label_3 = np.transpose(rf_data[1026:1027,:]); Label_3 = Label_3.astype(int);"
      ]
    },
    {
      "cell_type": "code",
      "execution_count": null,
      "metadata": {
        "id": "wyqsAWOvDqt6"
      },
      "outputs": [],
      "source": [
        "# Preprocessing\n",
        "scl = StandardScaler()\n",
        "x = scl.fit_transform(x)"
      ]
    },
    {
      "cell_type": "code",
      "execution_count": null,
      "metadata": {
        "colab": {
          "base_uri": "https://localhost:8080/"
        },
        "id": "idmWRwnfDqt6",
        "outputId": "5a53b291-255d-42ad-c231-6b19b3f44e94"
      },
      "outputs": [
        {
          "output_type": "stream",
          "name": "stdout",
          "text": [
            "Cross validation scores: [0.9991189427312775, 0.9997797356828194, 0.9997797356828194, 1.0, 0.9997797356828194]\n",
            "Accuracy: 0.9996916299559471\n"
          ]
        }
      ],
      "source": [
        "# Cross validation and model training\n",
        "cvscores = []\n",
        "avg_score = 0.0\n",
        "K = 5\n",
        "kfold = StratifiedKFold(n_splits=K, shuffle=True, random_state=1)\n",
        "for train, test in kfold.split(x, Label_1):\n",
        "    model = XGBClassifier(objective = \"binary:logistic\",seed=42)\n",
        "    model.fit(x[train], Label_1[train])\n",
        "    score = model.score(x[test], Label_1[test])\n",
        "    cvscores.append(score)\n",
        "    avg_score = avg_score + score\n",
        "\n",
        "# Results\n",
        "avg_score = avg_score/K\n",
        "print(\"Cross validation scores: {}\".format(cvscores))\n",
        "print(\"Accuracy: {}\".format(avg_score))"
      ]
    },
    {
      "cell_type": "code",
      "execution_count": null,
      "metadata": {
        "colab": {
          "base_uri": "https://localhost:8080/"
        },
        "id": "GZ9YoTwODqt7",
        "outputId": "0bdd3505-dd0b-4dca-f55a-9435400bf38b"
      },
      "outputs": [
        {
          "output_type": "stream",
          "name": "stdout",
          "text": [
            "Cross validation scores: [0.891409691629956, 0.9022026431718062, 0.8881057268722466, 0.8916299559471366, 0.9017621145374449]\n",
            "Accuracy: 0.8950220264317181\n"
          ]
        }
      ],
      "source": [
        "# Cross validation and model training\n",
        "cvscores = []\n",
        "avg_score = 0.0\n",
        "K = 5\n",
        "kfold = StratifiedKFold(n_splits=K, shuffle=True, random_state=1)\n",
        "for train, test in kfold.split(x, Label_1):\n",
        "    model = XGBClassifier(objective = \"multi:softmax\",num_class=4,seed=42)\n",
        "    model.fit(x[train], Label_2[train])\n",
        "    score = model.score(x[test], Label_2[test])\n",
        "    cvscores.append(score)\n",
        "    avg_score = avg_score + score\n",
        "\n",
        "# Results\n",
        "avg_score = avg_score/K\n",
        "print(\"Cross validation scores: {}\".format(cvscores))\n",
        "print(\"Accuracy: {}\".format(avg_score))"
      ]
    },
    {
      "cell_type": "code",
      "execution_count": null,
      "metadata": {
        "id": "pX96gKjjDqt7",
        "colab": {
          "base_uri": "https://localhost:8080/"
        },
        "outputId": "efefe3c1-4c78-485b-f547-bb41941d0f4d"
      },
      "outputs": [
        {
          "output_type": "stream",
          "name": "stdout",
          "text": [
            "Cross validation scores: [0.6667400881057268, 0.6759911894273127, 0.6722466960352423, 0.66431718061674, 0.6755506607929516]\n",
            "Accuracy: 0.6709691629955946\n"
          ]
        }
      ],
      "source": [
        "# Cross validation and model training\n",
        "cvscores = []\n",
        "avg_score = 0.0\n",
        "K = 5\n",
        "kfold = StratifiedKFold(n_splits=K, shuffle=True, random_state=1)\n",
        "for train, test in kfold.split(x, Label_1):\n",
        "    model = XGBClassifier(objective = \"multi:softmax\",seed=42)\n",
        "    model.fit(x[train], Label_3[train])\n",
        "    score = model.score(x[test], Label_3[test])\n",
        "    cvscores.append(score)\n",
        "    avg_score = avg_score + score\n",
        "\n",
        "# Results\n",
        "avg_score = avg_score/K\n",
        "print(\"Cross validation scores: {}\".format(cvscores))\n",
        "print(\"Accuracy: {}\".format(avg_score))"
      ]
    },
    {
      "cell_type": "markdown",
      "metadata": {
        "id": "fkLH7kRUDqt8"
      },
      "source": [
        "### Segment by factor of 10"
      ]
    },
    {
      "cell_type": "code",
      "execution_count": null,
      "metadata": {
        "id": "iDlDkp-oDqt8"
      },
      "outputs": [],
      "source": [
        "rf_data = np.loadtxt(\"/content/drive/MyDrive/CEERI Project - Kalit/data/fft_extracted_features/M=2048/Lower band/L=1e6/data.csv\", delimiter=\",\")"
      ]
    },
    {
      "cell_type": "code",
      "execution_count": null,
      "metadata": {
        "colab": {
          "base_uri": "https://localhost:8080/"
        },
        "id": "1voD9Kr9gV7F",
        "outputId": "704a4373-3ac5-4ac2-dbeb-a165bbe5d13f"
      },
      "outputs": [
        {
          "data": {
            "text/plain": [
              "(1027, 2270)"
            ]
          },
          "execution_count": 8,
          "metadata": {},
          "output_type": "execute_result"
        }
      ],
      "source": [
        "rf_data.shape"
      ]
    },
    {
      "cell_type": "code",
      "execution_count": null,
      "metadata": {
        "id": "A419AsH5Dqt9"
      },
      "outputs": [],
      "source": [
        "x = np.transpose(rf_data[0:1024,:])\n",
        "Label_1 = np.transpose(rf_data[1024:1025,:]); Label_1 = Label_1.astype(int);\n",
        "Label_2 = np.transpose(rf_data[1025:1026,:]); Label_2 = Label_2.astype(int);\n",
        "Label_3 = np.transpose(rf_data[1026:1027,:]); Label_3 = Label_3.astype(int);"
      ]
    },
    {
      "cell_type": "code",
      "execution_count": null,
      "metadata": {
        "id": "bA_RmNk5Dqt9"
      },
      "outputs": [],
      "source": [
        "# Preprocessing\n",
        "scl = StandardScaler()\n",
        "x = scl.fit_transform(x)"
      ]
    },
    {
      "cell_type": "code",
      "execution_count": null,
      "metadata": {
        "colab": {
          "base_uri": "https://localhost:8080/"
        },
        "id": "w97VolmgDqt-",
        "outputId": "660f3013-c86a-4ce6-e7be-869ca90facc6"
      },
      "outputs": [
        {
          "name": "stdout",
          "output_type": "stream",
          "text": [
            "Cross validation scores: [1.0, 1.0, 0.9977973568281938, 0.9955947136563876, 0.9955947136563876]\n",
            "Accuracy: 0.9977973568281939\n"
          ]
        }
      ],
      "source": [
        "# Cross validation and model training\n",
        "cvscores = []\n",
        "avg_score = 0.0\n",
        "K = 5\n",
        "kfold = StratifiedKFold(n_splits=K, shuffle=True, random_state=1)\n",
        "for train, test in kfold.split(x, Label_1):\n",
        "    model = XGBClassifier(objective = \"binary:logistic\",seed=42)\n",
        "    model.fit(x[train], Label_1[train])\n",
        "    score = model.score(x[test], Label_1[test])\n",
        "    cvscores.append(score)\n",
        "    avg_score = avg_score + score\n",
        "\n",
        "# Results\n",
        "avg_score = avg_score/K\n",
        "print(\"Cross validation scores: {}\".format(cvscores))\n",
        "print(\"Accuracy: {}\".format(avg_score))"
      ]
    },
    {
      "cell_type": "code",
      "execution_count": null,
      "metadata": {
        "colab": {
          "base_uri": "https://localhost:8080/"
        },
        "id": "_WaPpt5GDqt-",
        "outputId": "148d5843-eaa0-4940-af71-3bd1b95fd1dd"
      },
      "outputs": [
        {
          "name": "stdout",
          "output_type": "stream",
          "text": [
            "Cross validation scores: [0.9361233480176211, 0.9361233480176211, 0.9383259911894273, 0.933920704845815, 0.9361233480176211]\n",
            "Accuracy: 0.9361233480176212\n"
          ]
        }
      ],
      "source": [
        "# Cross validation and model training\n",
        "cvscores = []\n",
        "avg_score = 0.0\n",
        "K = 5\n",
        "kfold = StratifiedKFold(n_splits=K, shuffle=True, random_state=1)\n",
        "for train, test in kfold.split(x, Label_2):\n",
        "    model = XGBClassifier(objective = \"multi:softmax\",seed=42)\n",
        "    model.fit(x[train], Label_2[train])\n",
        "    score = model.score(x[test], Label_2[test])\n",
        "    cvscores.append(score)\n",
        "    avg_score = avg_score + score\n",
        "\n",
        "# Results\n",
        "avg_score = avg_score/K\n",
        "print(\"Cross validation scores: {}\".format(cvscores))\n",
        "print(\"Accuracy: {}\".format(avg_score))"
      ]
    },
    {
      "cell_type": "code",
      "execution_count": null,
      "metadata": {
        "colab": {
          "base_uri": "https://localhost:8080/"
        },
        "id": "F1o-8LZFDqt_",
        "outputId": "0cd57d5c-53e1-43aa-b7cb-0dbd74a8ac95"
      },
      "outputs": [
        {
          "name": "stdout",
          "output_type": "stream",
          "text": [
            "Cross validation scores: [0.6541850220264317, 0.6651982378854625, 0.6806167400881057, 0.6916299559471366, 0.6674008810572687]\n",
            "Accuracy: 0.6718061674008811\n"
          ]
        }
      ],
      "source": [
        "# Cross validation and model training\n",
        "cvscores = []\n",
        "avg_score = 0.0\n",
        "K = 5\n",
        "kfold = StratifiedKFold(n_splits=K, shuffle=True, random_state=1)\n",
        "for train, test in kfold.split(x, Label_3):\n",
        "    model = XGBClassifier(objective = \"multi:softmax\",seed=42)\n",
        "    model.fit(x[train], Label_3[train])\n",
        "    score = model.score(x[test], Label_3[test])\n",
        "    cvscores.append(score)\n",
        "    avg_score = avg_score + score\n",
        "\n",
        "# Results\n",
        "avg_score = avg_score/K\n",
        "print(\"Cross validation scores: {}\".format(cvscores))\n",
        "print(\"Accuracy: {}\".format(avg_score))"
      ]
    },
    {
      "cell_type": "markdown",
      "metadata": {
        "id": "Z2Po0GMkDqt_"
      },
      "source": [
        "### Take entire input as signal"
      ]
    },
    {
      "cell_type": "code",
      "execution_count": null,
      "metadata": {
        "id": "Qg7rVOIDDqt_"
      },
      "outputs": [],
      "source": [
        "rf_data = np.loadtxt(\"/content/drive/MyDrive/CEERI Project - Kalit/data/fft_extracted_features/M=2048/Lower band/entire signal/data.csv\", delimiter=\",\")"
      ]
    },
    {
      "cell_type": "code",
      "execution_count": null,
      "metadata": {
        "id": "AmcfNRJiDqt_"
      },
      "outputs": [],
      "source": [
        "x = np.transpose(rf_data[0:1024,:])\n",
        "Label_1 = np.transpose(rf_data[1024:1025,:]); Label_1 = Label_1.astype(int);\n",
        "Label_2 = np.transpose(rf_data[1025:1026,:]); Label_2 = Label_2.astype(int);\n",
        "Label_3 = np.transpose(rf_data[1026:1027,:]); Label_3 = Label_3.astype(int);"
      ]
    },
    {
      "cell_type": "code",
      "execution_count": null,
      "metadata": {
        "id": "ePp1m5MNDquA"
      },
      "outputs": [],
      "source": [
        "# Preprocessing\n",
        "scl = StandardScaler()\n",
        "x = scl.fit_transform(x)"
      ]
    },
    {
      "cell_type": "code",
      "execution_count": null,
      "metadata": {
        "colab": {
          "base_uri": "https://localhost:8080/"
        },
        "id": "VjOTgBDQDquA",
        "outputId": "feb9ff9c-2806-4a62-99b8-4dfa6d592fea"
      },
      "outputs": [
        {
          "name": "stdout",
          "output_type": "stream",
          "text": [
            "Cross validation scores: [1.0, 0.9130434782608695, 0.9111111111111111, 0.9333333333333333, 0.9333333333333333]\n",
            "Accuracy: 0.9381642512077295\n"
          ]
        }
      ],
      "source": [
        "# Cross validation and model training\n",
        "cvscores = []\n",
        "avg_score = 0.0\n",
        "K = 5\n",
        "kfold = StratifiedKFold(n_splits=K, shuffle=True, random_state=1)\n",
        "for train, test in kfold.split(x, Label_1):\n",
        "    model = XGBClassifier(objective = \"binary:logistic\",seed=42)\n",
        "    model.fit(x[train], Label_1[train])\n",
        "    score = model.score(x[test], Label_1[test])\n",
        "    cvscores.append(score)\n",
        "    avg_score = avg_score + score\n",
        "\n",
        "# Results\n",
        "avg_score = avg_score/K\n",
        "print(\"Cross validation scores: {}\".format(cvscores))\n",
        "print(\"Accuracy: {}\".format(avg_score))"
      ]
    },
    {
      "cell_type": "code",
      "execution_count": null,
      "metadata": {
        "colab": {
          "base_uri": "https://localhost:8080/"
        },
        "id": "hyXz3ibpDquA",
        "outputId": "15a01bf9-09f6-4986-e9b3-bacfd8911ba2"
      },
      "outputs": [
        {
          "name": "stdout",
          "output_type": "stream",
          "text": [
            "Cross validation scores: [0.8478260869565217, 0.8695652173913043, 0.9333333333333333, 0.8888888888888888, 0.9555555555555556]\n",
            "Accuracy: 0.8990338164251208\n"
          ]
        }
      ],
      "source": [
        "# Cross validation and model training\n",
        "cvscores = []\n",
        "avg_score = 0.0\n",
        "K = 5\n",
        "kfold = StratifiedKFold(n_splits=K, shuffle=True, random_state=1)\n",
        "for train, test in kfold.split(x, Label_2):\n",
        "    model = XGBClassifier(objective = \"multi:softmax\",seed=42)\n",
        "    model.fit(x[train], Label_2[train])\n",
        "    score = model.score(x[test], Label_2[test])\n",
        "    cvscores.append(score)\n",
        "    avg_score = avg_score + score\n",
        "\n",
        "# Results\n",
        "avg_score = avg_score/K\n",
        "print(\"Cross validation scores: {}\".format(cvscores))\n",
        "print(\"Accuracy: {}\".format(avg_score))"
      ]
    },
    {
      "cell_type": "code",
      "execution_count": null,
      "metadata": {
        "colab": {
          "base_uri": "https://localhost:8080/"
        },
        "id": "nEJ1r-c8DquB",
        "outputId": "c0ef996e-32f8-4537-e6c3-69e8dfeee2cb"
      },
      "outputs": [
        {
          "name": "stdout",
          "output_type": "stream",
          "text": [
            "Cross validation scores: [0.6739130434782609, 0.7391304347826086, 0.6444444444444445, 0.6888888888888889, 0.7333333333333333]\n",
            "Accuracy: 0.6959420289855073\n"
          ]
        }
      ],
      "source": [
        "# Cross validation and model training\n",
        "cvscores = []\n",
        "avg_score = 0.0\n",
        "K = 5\n",
        "kfold = StratifiedKFold(n_splits=K, shuffle=True, random_state=1)\n",
        "for train, test in kfold.split(x, Label_3):\n",
        "    model = XGBClassifier(objective = \"multi:softmax\",seed=42)\n",
        "    model.fit(x[train], Label_3[train])\n",
        "    score = model.score(x[test], Label_3[test])\n",
        "    cvscores.append(score)\n",
        "    avg_score = avg_score + score\n",
        "\n",
        "# Results\n",
        "avg_score = avg_score/K\n",
        "print(\"Cross validation scores: {}\".format(cvscores))\n",
        "print(\"Accuracy: {}\".format(avg_score))"
      ]
    },
    {
      "cell_type": "code",
      "execution_count": null,
      "metadata": {
        "id": "cEJdZVP6gfQ_"
      },
      "outputs": [],
      "source": [
        ""
      ]
    },
    {
      "cell_type": "code",
      "execution_count": null,
      "metadata": {
        "id": "oSgQv9gNnEeQ"
      },
      "outputs": [],
      "source": [
        ""
      ]
    },
    {
      "cell_type": "markdown",
      "metadata": {
        "id": "4DNvR30bD01X"
      },
      "source": [
        "# M = 4096"
      ]
    },
    {
      "cell_type": "markdown",
      "metadata": {
        "id": "i2wt2BY1D3RK"
      },
      "source": [
        "## (Upper + lower) bands"
      ]
    },
    {
      "cell_type": "markdown",
      "metadata": {
        "id": "Trn_QZyrD3RL"
      },
      "source": [
        "### Segment by factor of 100"
      ]
    },
    {
      "cell_type": "code",
      "execution_count": null,
      "metadata": {
        "id": "D7TFsdxlD3RL"
      },
      "outputs": [],
      "source": [
        "rf_data = np.loadtxt(\"/content/drive/MyDrive/CEERI Project - Kalit/data/fft_extracted_features/M=4096/Both bands/L=1e5/data.csv\", delimiter=\",\")"
      ]
    },
    {
      "cell_type": "code",
      "execution_count": null,
      "metadata": {
        "id": "r0LquaekD3RM"
      },
      "outputs": [],
      "source": [
        "x = np.transpose(rf_data[0:4096,:])\n",
        "Label_1 = np.transpose(rf_data[4096:4097,:]); Label_1 = Label_1.astype(int);\n",
        "Label_2 = np.transpose(rf_data[4097:4098,:]); Label_2 = Label_2.astype(int);\n",
        "Label_3 = np.transpose(rf_data[4098:4099,:]); Label_3 = Label_3.astype(int);"
      ]
    },
    {
      "cell_type": "code",
      "execution_count": null,
      "metadata": {
        "id": "Rl2OYGloD3RM"
      },
      "outputs": [],
      "source": [
        "# Preprocessing\n",
        "scl = StandardScaler()\n",
        "x = scl.fit_transform(x)"
      ]
    },
    {
      "cell_type": "code",
      "execution_count": null,
      "metadata": {
        "colab": {
          "base_uri": "https://localhost:8080/"
        },
        "id": "dAUunoILD3RN",
        "outputId": "6ded38a2-11cc-495a-c733-42ac0abe1802"
      },
      "outputs": [
        {
          "name": "stdout",
          "output_type": "stream",
          "text": [
            "Cross validation scores: [0.9993392070484581, 1.0, 0.9995594713656387, 0.9997797356828194, 0.9997797356828194]\n",
            "Accuracy: 0.9996916299559471\n"
          ]
        }
      ],
      "source": [
        "# Cross validation and model training\n",
        "cvscores = []\n",
        "avg_score = 0.0\n",
        "K = 5\n",
        "kfold = StratifiedKFold(n_splits=K, shuffle=True, random_state=1)\n",
        "for train, test in kfold.split(x, Label_1):\n",
        "    model = XGBClassifier(objective = \"binary:logistic\",seed=42)\n",
        "    model.fit(x[train], Label_1[train])\n",
        "    score = model.score(x[test], Label_1[test])\n",
        "    cvscores.append(score)\n",
        "    avg_score = avg_score + score\n",
        "\n",
        "# Results\n",
        "avg_score = avg_score/K\n",
        "print(\"Cross validation scores: {}\".format(cvscores))\n",
        "print(\"Accuracy: {}\".format(avg_score))"
      ]
    },
    {
      "cell_type": "code",
      "execution_count": null,
      "metadata": {
        "colab": {
          "base_uri": "https://localhost:8080/"
        },
        "id": "Ve55K3ECD3RO",
        "outputId": "cb38c8e2-091e-4f16-82dd-90daf1d85612"
      },
      "outputs": [
        {
          "name": "stdout",
          "output_type": "stream",
          "text": [
            "Cross validation scores: [0.9775330396475771, 0.9786343612334801, 0.9779735682819384, 0.9764317180616741, 0.9786343612334801]\n",
            "Accuracy: 0.9778414096916299\n"
          ]
        }
      ],
      "source": [
        "# Cross validation and model training\n",
        "cvscores = []\n",
        "avg_score = 0.0\n",
        "K = 5\n",
        "kfold = StratifiedKFold(n_splits=K, shuffle=True, random_state=1)\n",
        "for train, test in kfold.split(x, Label_2):\n",
        "    model = XGBClassifier(objective = \"multi:softmax\",seed=42)\n",
        "    model.fit(x[train], Label_2[train])\n",
        "    score = model.score(x[test], Label_2[test])\n",
        "    cvscores.append(score)\n",
        "    avg_score = avg_score + score\n",
        "\n",
        "# Results\n",
        "avg_score = avg_score/K\n",
        "print(\"Cross validation scores: {}\".format(cvscores))\n",
        "print(\"Accuracy: {}\".format(avg_score))"
      ]
    },
    {
      "cell_type": "code",
      "execution_count": null,
      "metadata": {
        "colab": {
          "background_save": true
        },
        "id": "ufGipk1HD3RO",
        "outputId": "35ff0dd8-acad-4e62-de19-a83bb8b07364"
      },
      "outputs": [
        {
          "name": "stdout",
          "output_type": "stream",
          "text": [
            "Cross validation scores: [0.7601321585903084, 0.7671806167400881, 0.7698237885462555, 0.7647577092511013, 0.7627753303964758]\n",
            "Accuracy: 0.7649339207048459\n"
          ]
        }
      ],
      "source": [
        "# Cross validation and model training\n",
        "cvscores = []\n",
        "avg_score = 0.0\n",
        "K = 5\n",
        "kfold = StratifiedKFold(n_splits=K, shuffle=True, random_state=1)\n",
        "for train, test in kfold.split(x, Label_3):\n",
        "    model = XGBClassifier(objective = \"multi:softmax\",seed=42)\n",
        "    model.fit(x[train], Label_3[train])\n",
        "    score = model.score(x[test], Label_3[test])\n",
        "    cvscores.append(score)\n",
        "    avg_score = avg_score + score\n",
        "\n",
        "# Results\n",
        "avg_score = avg_score/K\n",
        "print(\"Cross validation scores: {}\".format(cvscores))\n",
        "print(\"Accuracy: {}\".format(avg_score))"
      ]
    },
    {
      "cell_type": "markdown",
      "metadata": {
        "id": "Ishfqw9wD3RO"
      },
      "source": [
        "### Segment by factor of 10"
      ]
    },
    {
      "cell_type": "code",
      "execution_count": null,
      "metadata": {
        "id": "wStlybXzD3RO"
      },
      "outputs": [],
      "source": [
        "rf_data = np.loadtxt(\"/content/drive/MyDrive/CEERI Project - Kalit/data/fft_extracted_features/M=4096/Both bands/L=1e6/data.csv\", delimiter=\",\")"
      ]
    },
    {
      "cell_type": "code",
      "execution_count": null,
      "metadata": {
        "id": "4M3amJqZD3RO"
      },
      "outputs": [],
      "source": [
        "x = np.transpose(rf_data[0:4096,:])\n",
        "Label_1 = np.transpose(rf_data[4096:4097,:]); Label_1 = Label_1.astype(int);\n",
        "Label_2 = np.transpose(rf_data[4097:4098,:]); Label_2 = Label_2.astype(int);\n",
        "Label_3 = np.transpose(rf_data[4098:4099,:]); Label_3 = Label_3.astype(int);"
      ]
    },
    {
      "cell_type": "code",
      "execution_count": null,
      "metadata": {
        "id": "veaVXT-kD3RO"
      },
      "outputs": [],
      "source": [
        "# Preprocessing\n",
        "scl = StandardScaler()\n",
        "x = scl.fit_transform(x)"
      ]
    },
    {
      "cell_type": "code",
      "execution_count": null,
      "metadata": {
        "colab": {
          "base_uri": "https://localhost:8080/"
        },
        "id": "ilgwLfzND3RP",
        "outputId": "eb0366d7-1a1a-45d4-f6fd-f98ea8f9e4b2"
      },
      "outputs": [
        {
          "name": "stdout",
          "output_type": "stream",
          "text": [
            "Cross validation scores: [1.0, 0.9977973568281938, 1.0, 1.0, 1.0]\n",
            "Accuracy: 0.9995594713656388\n"
          ]
        }
      ],
      "source": [
        "# Cross validation and model training\n",
        "cvscores = []\n",
        "avg_score = 0.0\n",
        "K = 5\n",
        "kfold = StratifiedKFold(n_splits=K, shuffle=True, random_state=1)\n",
        "for train, test in kfold.split(x, Label_1):\n",
        "    model = XGBClassifier(objective = \"binary:logistic\",seed=42)\n",
        "    model.fit(x[train], Label_1[train])\n",
        "    score = model.score(x[test], Label_1[test])\n",
        "    cvscores.append(score)\n",
        "    avg_score = avg_score + score\n",
        "\n",
        "# Results\n",
        "avg_score = avg_score/K\n",
        "print(\"Cross validation scores: {}\".format(cvscores))\n",
        "print(\"Accuracy: {}\".format(avg_score))"
      ]
    },
    {
      "cell_type": "code",
      "execution_count": null,
      "metadata": {
        "colab": {
          "base_uri": "https://localhost:8080/"
        },
        "id": "p6QVcLc-D3RP",
        "outputId": "7a717276-4f9c-4715-f491-d904738720c2"
      },
      "outputs": [
        {
          "name": "stdout",
          "output_type": "stream",
          "text": [
            "Cross validation scores: [0.9801762114537445, 0.9625550660792952, 0.9515418502202643, 0.9669603524229075, 0.9647577092511013]\n",
            "Accuracy: 0.9651982378854627\n"
          ]
        }
      ],
      "source": [
        "# Cross validation and model training\n",
        "cvscores = []\n",
        "avg_score = 0.0\n",
        "K = 5\n",
        "kfold = StratifiedKFold(n_splits=K, shuffle=True, random_state=1)\n",
        "for train, test in kfold.split(x, Label_2):\n",
        "    model = XGBClassifier(objective = \"multi:softmax\",seed=42)\n",
        "    model.fit(x[train], Label_2[train])\n",
        "    score = model.score(x[test], Label_2[test])\n",
        "    cvscores.append(score)\n",
        "    avg_score = avg_score + score\n",
        "\n",
        "# Results\n",
        "avg_score = avg_score/K\n",
        "print(\"Cross validation scores: {}\".format(cvscores))\n",
        "print(\"Accuracy: {}\".format(avg_score))"
      ]
    },
    {
      "cell_type": "code",
      "execution_count": null,
      "metadata": {
        "colab": {
          "base_uri": "https://localhost:8080/"
        },
        "id": "GZA05LzID3RP",
        "outputId": "334843aa-618e-4d20-d7ad-811f6cd02b69"
      },
      "outputs": [
        {
          "name": "stdout",
          "output_type": "stream",
          "text": [
            "Cross validation scores: [0.8127753303964758, 0.8149779735682819, 0.8436123348017621, 0.8303964757709251, 0.801762114537445]\n",
            "Accuracy: 0.8207048458149779\n"
          ]
        }
      ],
      "source": [
        "# Cross validation and model training\n",
        "cvscores = []\n",
        "avg_score = 0.0\n",
        "K = 5\n",
        "kfold = StratifiedKFold(n_splits=K, shuffle=True, random_state=1)\n",
        "for train, test in kfold.split(x, Label_3):\n",
        "    model = XGBClassifier(objective = \"multi:softmax\",seed=42)\n",
        "    model.fit(x[train], Label_3[train])\n",
        "    score = model.score(x[test], Label_3[test])\n",
        "    cvscores.append(score)\n",
        "    avg_score = avg_score + score\n",
        "\n",
        "# Results\n",
        "avg_score = avg_score/K\n",
        "print(\"Cross validation scores: {}\".format(cvscores))\n",
        "print(\"Accuracy: {}\".format(avg_score))"
      ]
    },
    {
      "cell_type": "markdown",
      "metadata": {
        "id": "RCyuS5Z1D3RP"
      },
      "source": [
        "### Take entire input as signal"
      ]
    },
    {
      "cell_type": "code",
      "execution_count": null,
      "metadata": {
        "id": "dVtLFq1XD3RP"
      },
      "outputs": [],
      "source": [
        "rf_data = np.loadtxt(\"/content/drive/MyDrive/CEERI Project - Kalit/data/fft_extracted_features/M=4096/Both bands/entire signal/data.csv\", delimiter=\",\")"
      ]
    },
    {
      "cell_type": "code",
      "execution_count": null,
      "metadata": {
        "id": "V2Jsd0dKD3RP"
      },
      "outputs": [],
      "source": [
        "x = np.transpose(rf_data[0:4096,:])\n",
        "Label_1 = np.transpose(rf_data[4096:4097,:]); Label_1 = Label_1.astype(int);\n",
        "Label_2 = np.transpose(rf_data[4097:4098,:]); Label_2 = Label_2.astype(int);\n",
        "Label_3 = np.transpose(rf_data[4098:4099,:]); Label_3 = Label_3.astype(int);"
      ]
    },
    {
      "cell_type": "code",
      "execution_count": null,
      "metadata": {
        "id": "5d23J1VbD3RP"
      },
      "outputs": [],
      "source": [
        "# Preprocessing\n",
        "scl = StandardScaler()\n",
        "x = scl.fit_transform(x)"
      ]
    },
    {
      "cell_type": "code",
      "execution_count": null,
      "metadata": {
        "colab": {
          "base_uri": "https://localhost:8080/"
        },
        "id": "X5AH1gMRD3RP",
        "outputId": "a9fe2ec0-c027-4f32-8e58-4db81a87a3a1"
      },
      "outputs": [
        {
          "name": "stdout",
          "output_type": "stream",
          "text": [
            "Cross validation scores: [0.9565217391304348, 0.9782608695652174, 0.9777777777777777, 0.9333333333333333, 0.9777777777777777]\n",
            "Accuracy: 0.9647342995169084\n"
          ]
        }
      ],
      "source": [
        "# Cross validation and model training\n",
        "cvscores = []\n",
        "avg_score = 0.0\n",
        "K = 5\n",
        "kfold = StratifiedKFold(n_splits=K, shuffle=True, random_state=1)\n",
        "for train, test in kfold.split(x, Label_1):\n",
        "    model = XGBClassifier(objective = \"binary:logistic\",seed=42)\n",
        "    model.fit(x[train], Label_1[train])\n",
        "    score = model.score(x[test], Label_1[test])\n",
        "    cvscores.append(score)\n",
        "    avg_score = avg_score + score\n",
        "\n",
        "# Results\n",
        "avg_score = avg_score/K\n",
        "print(\"Cross validation scores: {}\".format(cvscores))\n",
        "print(\"Accuracy: {}\".format(avg_score))"
      ]
    },
    {
      "cell_type": "code",
      "execution_count": null,
      "metadata": {
        "colab": {
          "base_uri": "https://localhost:8080/"
        },
        "id": "RhIbX9yiD3RP",
        "outputId": "4d619852-2fb4-44cc-d5c0-78b5a08663c1"
      },
      "outputs": [
        {
          "name": "stdout",
          "output_type": "stream",
          "text": [
            "Cross validation scores: [0.782608695652174, 0.7391304347826086, 0.8666666666666667, 0.9333333333333333, 0.8666666666666667]\n",
            "Accuracy: 0.8376811594202899\n"
          ]
        }
      ],
      "source": [
        "# Cross validation and model training\n",
        "cvscores = []\n",
        "avg_score = 0.0\n",
        "K = 5\n",
        "kfold = StratifiedKFold(n_splits=K, shuffle=True, random_state=1)\n",
        "for train, test in kfold.split(x, Label_2):\n",
        "    model = XGBClassifier(objective = \"multi:softmax\",seed=42)\n",
        "    model.fit(x[train], Label_2[train])\n",
        "    score = model.score(x[test], Label_2[test])\n",
        "    cvscores.append(score)\n",
        "    avg_score = avg_score + score\n",
        "\n",
        "# Results\n",
        "avg_score = avg_score/K\n",
        "print(\"Cross validation scores: {}\".format(cvscores))\n",
        "print(\"Accuracy: {}\".format(avg_score))"
      ]
    },
    {
      "cell_type": "code",
      "execution_count": null,
      "metadata": {
        "colab": {
          "base_uri": "https://localhost:8080/"
        },
        "id": "UK0z1KzAD3RP",
        "outputId": "763b9baa-e555-40ec-9423-cbff450a4094"
      },
      "outputs": [
        {
          "name": "stdout",
          "output_type": "stream",
          "text": [
            "Cross validation scores: [0.5, 0.6086956521739131, 0.6666666666666666, 0.6444444444444445, 0.5777777777777777]\n",
            "Accuracy: 0.5995169082125603\n"
          ]
        }
      ],
      "source": [
        "# Cross validation and model training\n",
        "cvscores = []\n",
        "avg_score = 0.0\n",
        "K = 5\n",
        "kfold = StratifiedKFold(n_splits=K, shuffle=True, random_state=1)\n",
        "for train, test in kfold.split(x, Label_3):\n",
        "    model = XGBClassifier(objective = \"multi:softmax\",seed=42)\n",
        "    model.fit(x[train], Label_3[train])\n",
        "    score = model.score(x[test], Label_3[test])\n",
        "    cvscores.append(score)\n",
        "    avg_score = avg_score + score\n",
        "\n",
        "# Results\n",
        "avg_score = avg_score/K\n",
        "print(\"Cross validation scores: {}\".format(cvscores))\n",
        "print(\"Accuracy: {}\".format(avg_score))"
      ]
    },
    {
      "cell_type": "markdown",
      "metadata": {
        "id": "gpuqhVh_D3RP"
      },
      "source": [
        "## Upper band"
      ]
    },
    {
      "cell_type": "markdown",
      "metadata": {
        "id": "c6uWUtH1D3RP"
      },
      "source": [
        "### Segment by factor of 100"
      ]
    },
    {
      "cell_type": "code",
      "execution_count": null,
      "metadata": {
        "id": "qrHsO19cD3RQ"
      },
      "outputs": [],
      "source": [
        "rf_data = np.loadtxt(\"/content/drive/MyDrive/CEERI Project - Kalit/data/fft_extracted_features/M=4096/Upper band/L=1e5/data.csv\", delimiter=\",\")"
      ]
    },
    {
      "cell_type": "code",
      "source": [
        "rf_data.shape"
      ],
      "metadata": {
        "colab": {
          "base_uri": "https://localhost:8080/"
        },
        "id": "sutnQn1CWa46",
        "outputId": "61f4a8e1-58e8-48d0-dd1c-d5fbdeb768c9"
      },
      "execution_count": null,
      "outputs": [
        {
          "output_type": "execute_result",
          "data": {
            "text/plain": [
              "(2051, 22700)"
            ]
          },
          "metadata": {},
          "execution_count": 18
        }
      ]
    },
    {
      "cell_type": "code",
      "execution_count": null,
      "metadata": {
        "id": "G9vc4LC3D3RQ"
      },
      "outputs": [],
      "source": [
        "x = np.transpose(rf_data[0:2048,:])\n",
        "Label_1 = np.transpose(rf_data[2048:2049,:]); Label_1 = Label_1.astype(int);\n",
        "Label_2 = np.transpose(rf_data[2049:2050,:]); Label_2 = Label_2.astype(int);\n",
        "Label_3 = np.transpose(rf_data[2050:2051,:]); Label_3 = Label_3.astype(int);"
      ]
    },
    {
      "cell_type": "code",
      "execution_count": null,
      "metadata": {
        "id": "noYbvnASD3RQ"
      },
      "outputs": [],
      "source": [
        "# Preprocessing\n",
        "scl = StandardScaler()\n",
        "x = scl.fit_transform(x)"
      ]
    },
    {
      "cell_type": "code",
      "execution_count": null,
      "metadata": {
        "id": "HO9XlKUtD3RQ",
        "colab": {
          "base_uri": "https://localhost:8080/"
        },
        "outputId": "de47d989-54cf-4f4e-f88f-5225ddb6dab9"
      },
      "outputs": [
        {
          "output_type": "stream",
          "name": "stdout",
          "text": [
            "Cross validation scores: [0.9817180616740088, 0.9834801762114538, 0.9823788546255506, 0.9759911894273128, 0.9740088105726872]\n",
            "Accuracy: 0.9795154185022025\n"
          ]
        }
      ],
      "source": [
        "# Cross validation and model training\n",
        "cvscores = []\n",
        "avg_score = 0.0\n",
        "K = 5\n",
        "kfold = StratifiedKFold(n_splits=K, shuffle=True, random_state=1)\n",
        "for train, test in kfold.split(x, Label_1):\n",
        "    model = XGBClassifier(objective = \"binary:logistic\",seed=42)\n",
        "    model.fit(x[train], Label_1[train])\n",
        "    score = model.score(x[test], Label_1[test])\n",
        "    cvscores.append(score)\n",
        "    avg_score = avg_score + score\n",
        "\n",
        "# Results\n",
        "avg_score = avg_score/K\n",
        "print(\"Cross validation scores: {}\".format(cvscores))\n",
        "print(\"Accuracy: {}\".format(avg_score))"
      ]
    },
    {
      "cell_type": "code",
      "execution_count": null,
      "metadata": {
        "id": "xMBp8EpUD3RQ",
        "colab": {
          "base_uri": "https://localhost:8080/"
        },
        "outputId": "d810e254-22a3-4467-9e5a-d4200bb1cbc3"
      },
      "outputs": [
        {
          "output_type": "stream",
          "name": "stdout",
          "text": [
            "Cross validation scores: [0.863215859030837, 0.8638766519823788, 0.8618942731277534, 0.8625550660792951, 0.8559471365638767]\n",
            "Accuracy: 0.8614977973568283\n"
          ]
        }
      ],
      "source": [
        "# Cross validation and model training\n",
        "cvscores = []\n",
        "avg_score = 0.0\n",
        "K = 5\n",
        "kfold = StratifiedKFold(n_splits=K, shuffle=True, random_state=1)\n",
        "for train, test in kfold.split(x, Label_1):\n",
        "    model = XGBClassifier(objective = \"multi:softmax\",seed=42)\n",
        "    model.fit(x[train], Label_2[train])\n",
        "    score = model.score(x[test], Label_2[test])\n",
        "    cvscores.append(score)\n",
        "    avg_score = avg_score + score\n",
        "\n",
        "# Results\n",
        "avg_score = avg_score/K\n",
        "print(\"Cross validation scores: {}\".format(cvscores))\n",
        "print(\"Accuracy: {}\".format(avg_score))"
      ]
    },
    {
      "cell_type": "code",
      "execution_count": null,
      "metadata": {
        "id": "71aDKt78D3RQ",
        "colab": {
          "base_uri": "https://localhost:8080/"
        },
        "outputId": "81759fbc-5073-4fb1-dfa5-47f58f79ec4e"
      },
      "outputs": [
        {
          "output_type": "stream",
          "name": "stdout",
          "text": [
            "Cross validation scores: [0.7433920704845814, 0.7495594713656387, 0.7403083700440528, 0.7563876651982379, 0.7398678414096916]\n",
            "Accuracy: 0.7459030837004405\n"
          ]
        }
      ],
      "source": [
        "# Cross validation and model training\n",
        "cvscores = []\n",
        "avg_score = 0.0\n",
        "K = 5\n",
        "kfold = StratifiedKFold(n_splits=K, shuffle=True, random_state=1)\n",
        "for train, test in kfold.split(x, Label_1):\n",
        "    model = XGBClassifier(objective = \"multi:softmax\",seed=42)\n",
        "    model.fit(x[train], Label_3[train])\n",
        "    score = model.score(x[test], Label_3[test])\n",
        "    cvscores.append(score)\n",
        "    avg_score = avg_score + score\n",
        "\n",
        "# Results\n",
        "avg_score = avg_score/K\n",
        "print(\"Cross validation scores: {}\".format(cvscores))\n",
        "print(\"Accuracy: {}\".format(avg_score))"
      ]
    },
    {
      "cell_type": "markdown",
      "metadata": {
        "id": "z4gw8sjOD3RQ"
      },
      "source": [
        "### Segment by factor of 10"
      ]
    },
    {
      "cell_type": "code",
      "execution_count": null,
      "metadata": {
        "id": "lmiBpywJD3RQ"
      },
      "outputs": [],
      "source": [
        "rf_data = np.loadtxt(\"/content/drive/MyDrive/CEERI Project - Kalit/data/fft_extracted_features/M=4096/Upper band/L=1e6/data.csv\", delimiter=\",\")"
      ]
    },
    {
      "cell_type": "code",
      "execution_count": null,
      "metadata": {
        "id": "e9MhPRFuD3RQ"
      },
      "outputs": [],
      "source": [
        "x = np.transpose(rf_data[0:2048,:])\n",
        "Label_1 = np.transpose(rf_data[2048:2049,:]); Label_1 = Label_1.astype(int);\n",
        "Label_2 = np.transpose(rf_data[2049:2050,:]); Label_2 = Label_2.astype(int);\n",
        "Label_3 = np.transpose(rf_data[2050:2051,:]); Label_3 = Label_3.astype(int);"
      ]
    },
    {
      "cell_type": "code",
      "execution_count": null,
      "metadata": {
        "id": "UKKJxRDhD3RQ"
      },
      "outputs": [],
      "source": [
        "# Preprocessing\n",
        "scl = StandardScaler()\n",
        "x = scl.fit_transform(x)"
      ]
    },
    {
      "cell_type": "code",
      "execution_count": null,
      "metadata": {
        "id": "xqARXw33D3RR",
        "colab": {
          "base_uri": "https://localhost:8080/"
        },
        "outputId": "76c0917c-9d5b-4b71-82c4-2b9dd97e3505"
      },
      "outputs": [
        {
          "output_type": "stream",
          "name": "stdout",
          "text": [
            "Cross validation scores: [0.9713656387665198, 0.9889867841409692, 0.960352422907489, 0.9625550660792952, 0.9801762114537445]\n",
            "Accuracy: 0.9726872246696034\n"
          ]
        }
      ],
      "source": [
        "# Cross validation and model training\n",
        "cvscores = []\n",
        "avg_score = 0.0\n",
        "K = 5\n",
        "kfold = StratifiedKFold(n_splits=K, shuffle=True, random_state=1)\n",
        "for train, test in kfold.split(x, Label_1):\n",
        "    model = XGBClassifier(objective = \"binary:logistic\",seed=42)\n",
        "    model.fit(x[train], Label_1[train])\n",
        "    score = model.score(x[test], Label_1[test])\n",
        "    cvscores.append(score)\n",
        "    avg_score = avg_score + score\n",
        "\n",
        "# Results\n",
        "avg_score = avg_score/K\n",
        "print(\"Cross validation scores: {}\".format(cvscores))\n",
        "print(\"Accuracy: {}\".format(avg_score))"
      ]
    },
    {
      "cell_type": "code",
      "execution_count": null,
      "metadata": {
        "id": "POtYlrbED3RR",
        "colab": {
          "base_uri": "https://localhost:8080/"
        },
        "outputId": "ee47d5bd-0a6f-4c36-fcbc-fdbdcf672399"
      },
      "outputs": [
        {
          "output_type": "stream",
          "name": "stdout",
          "text": [
            "Cross validation scores: [0.73568281938326, 0.7995594713656388, 0.7687224669603524, 0.7400881057268722, 0.7951541850220264]\n",
            "Accuracy: 0.76784140969163\n"
          ]
        }
      ],
      "source": [
        "# Cross validation and model training\n",
        "cvscores = []\n",
        "avg_score = 0.0\n",
        "K = 5\n",
        "kfold = StratifiedKFold(n_splits=K, shuffle=True, random_state=1)\n",
        "for train, test in kfold.split(x, Label_1):\n",
        "    model = XGBClassifier(objective = \"multi:softmax\",seed=42)\n",
        "    model.fit(x[train], Label_2[train])\n",
        "    score = model.score(x[test], Label_2[test])\n",
        "    cvscores.append(score)\n",
        "    avg_score = avg_score + score\n",
        "\n",
        "# Results\n",
        "avg_score = avg_score/K\n",
        "print(\"Cross validation scores: {}\".format(cvscores))\n",
        "print(\"Accuracy: {}\".format(avg_score))"
      ]
    },
    {
      "cell_type": "code",
      "execution_count": null,
      "metadata": {
        "id": "NXiDqVqqD3RR",
        "colab": {
          "base_uri": "https://localhost:8080/"
        },
        "outputId": "7e2c73df-797b-4de1-ca9d-002d05da4359"
      },
      "outputs": [
        {
          "output_type": "stream",
          "name": "stdout",
          "text": [
            "Cross validation scores: [0.6233480176211453, 0.6960352422907489, 0.6497797356828194, 0.6233480176211453, 0.6696035242290749]\n",
            "Accuracy: 0.6524229074889868\n"
          ]
        }
      ],
      "source": [
        "# Cross validation and model training\n",
        "cvscores = []\n",
        "avg_score = 0.0\n",
        "K = 5\n",
        "kfold = StratifiedKFold(n_splits=K, shuffle=True, random_state=1)\n",
        "for train, test in kfold.split(x, Label_1):\n",
        "    model = XGBClassifier(objective = \"multi:softmax\",seed=42)\n",
        "    model.fit(x[train], Label_3[train])\n",
        "    score = model.score(x[test], Label_3[test])\n",
        "    cvscores.append(score)\n",
        "    avg_score = avg_score + score\n",
        "\n",
        "# Results\n",
        "avg_score = avg_score/K\n",
        "print(\"Cross validation scores: {}\".format(cvscores))\n",
        "print(\"Accuracy: {}\".format(avg_score))"
      ]
    },
    {
      "cell_type": "markdown",
      "metadata": {
        "id": "SPBTFDOxD3RR"
      },
      "source": [
        "### Take entire input as signal"
      ]
    },
    {
      "cell_type": "code",
      "execution_count": null,
      "metadata": {
        "id": "Czoei099D3RR"
      },
      "outputs": [],
      "source": [
        "rf_data = np.loadtxt(\"/content/drive/MyDrive/CEERI Project - Kalit/data/fft_extracted_features/M=4096/Upper band/entire signal/data.csv\", delimiter=\",\")"
      ]
    },
    {
      "cell_type": "code",
      "execution_count": null,
      "metadata": {
        "id": "ndQlmsNRD3RR"
      },
      "outputs": [],
      "source": [
        "x = np.transpose(rf_data[0:2048,:])\n",
        "Label_1 = np.transpose(rf_data[2048:2049,:]); Label_1 = Label_1.astype(int);\n",
        "Label_2 = np.transpose(rf_data[2049:2050,:]); Label_2 = Label_2.astype(int);\n",
        "Label_3 = np.transpose(rf_data[2050:2051,:]); Label_3 = Label_3.astype(int);"
      ]
    },
    {
      "cell_type": "code",
      "execution_count": null,
      "metadata": {
        "id": "T1wzaT0SD3RR"
      },
      "outputs": [],
      "source": [
        "# Preprocessing\n",
        "scl = StandardScaler()\n",
        "x = scl.fit_transform(x)"
      ]
    },
    {
      "cell_type": "code",
      "execution_count": null,
      "metadata": {
        "id": "O9PbN6BJD3RR",
        "colab": {
          "base_uri": "https://localhost:8080/"
        },
        "outputId": "7f21ffb7-72fe-4ccd-9f7b-7be6c7c77e06"
      },
      "outputs": [
        {
          "output_type": "stream",
          "name": "stdout",
          "text": [
            "Cross validation scores: [1.0, 0.9782608695652174, 0.9777777777777777, 1.0, 0.9777777777777777]\n",
            "Accuracy: 0.9867632850241546\n"
          ]
        }
      ],
      "source": [
        "# Cross validation and model training\n",
        "cvscores = []\n",
        "avg_score = 0.0\n",
        "K = 5\n",
        "kfold = StratifiedKFold(n_splits=K, shuffle=True, random_state=1)\n",
        "for train, test in kfold.split(x, Label_1):\n",
        "    model = XGBClassifier(objective = \"binary:logistic\",seed=42)\n",
        "    model.fit(x[train], Label_1[train])\n",
        "    score = model.score(x[test], Label_1[test])\n",
        "    cvscores.append(score)\n",
        "    avg_score = avg_score + score\n",
        "\n",
        "# Results\n",
        "avg_score = avg_score/K\n",
        "print(\"Cross validation scores: {}\".format(cvscores))\n",
        "print(\"Accuracy: {}\".format(avg_score))"
      ]
    },
    {
      "cell_type": "code",
      "execution_count": null,
      "metadata": {
        "id": "ee0G1Au3D3RR",
        "colab": {
          "base_uri": "https://localhost:8080/"
        },
        "outputId": "e1117631-683a-4813-d783-049576d5597c"
      },
      "outputs": [
        {
          "output_type": "stream",
          "name": "stdout",
          "text": [
            "Cross validation scores: [0.6956521739130435, 0.6739130434782609, 0.6666666666666666, 0.7333333333333333, 0.6]\n",
            "Accuracy: 0.6739130434782609\n"
          ]
        }
      ],
      "source": [
        "# Cross validation and model training\n",
        "cvscores = []\n",
        "avg_score = 0.0\n",
        "K = 5\n",
        "kfold = StratifiedKFold(n_splits=K, shuffle=True, random_state=1)\n",
        "for train, test in kfold.split(x, Label_1):\n",
        "    model = XGBClassifier(objective = \"multi:softmax\",seed=42)\n",
        "    model.fit(x[train], Label_2[train])\n",
        "    score = model.score(x[test], Label_2[test])\n",
        "    cvscores.append(score)\n",
        "    avg_score = avg_score + score\n",
        "\n",
        "# Results\n",
        "avg_score = avg_score/K\n",
        "print(\"Cross validation scores: {}\".format(cvscores))\n",
        "print(\"Accuracy: {}\".format(avg_score))"
      ]
    },
    {
      "cell_type": "code",
      "execution_count": null,
      "metadata": {
        "id": "mvh7ACizD3RS",
        "colab": {
          "base_uri": "https://localhost:8080/"
        },
        "outputId": "9cbb3234-93b2-4e05-bf0a-c877abcb459f"
      },
      "outputs": [
        {
          "output_type": "stream",
          "name": "stdout",
          "text": [
            "Cross validation scores: [0.5217391304347826, 0.45652173913043476, 0.5111111111111111, 0.5333333333333333, 0.37777777777777777]\n",
            "Accuracy: 0.48009661835748785\n"
          ]
        }
      ],
      "source": [
        "# Cross validation and model training\n",
        "cvscores = []\n",
        "avg_score = 0.0\n",
        "K = 5\n",
        "kfold = StratifiedKFold(n_splits=K, shuffle=True, random_state=1)\n",
        "for train, test in kfold.split(x, Label_1):\n",
        "    model = XGBClassifier(objective = \"multi:softmax\",seed=42)\n",
        "    model.fit(x[train], Label_3[train])\n",
        "    score = model.score(x[test], Label_3[test])\n",
        "    cvscores.append(score)\n",
        "    avg_score = avg_score + score\n",
        "\n",
        "# Results\n",
        "avg_score = avg_score/K\n",
        "print(\"Cross validation scores: {}\".format(cvscores))\n",
        "print(\"Accuracy: {}\".format(avg_score))"
      ]
    },
    {
      "cell_type": "markdown",
      "metadata": {
        "id": "RDWhqjgHD3RS"
      },
      "source": [
        "## Lower band"
      ]
    },
    {
      "cell_type": "markdown",
      "metadata": {
        "id": "7x9r31ZoD3RS"
      },
      "source": [
        "### Segment by factor of 100"
      ]
    },
    {
      "cell_type": "code",
      "execution_count": null,
      "metadata": {
        "id": "EhLF60gYD3RS"
      },
      "outputs": [],
      "source": [
        "rf_data = np.loadtxt(\"/content/drive/MyDrive/CEERI Project - Kalit/data/fft_extracted_features/M=4096/Upper band/L=1e5/data.csv\", delimiter=\",\")"
      ]
    },
    {
      "cell_type": "code",
      "execution_count": null,
      "metadata": {
        "id": "rXgw4jG3D3RS"
      },
      "outputs": [],
      "source": [
        "x = np.transpose(rf_data[0:2048,:])\n",
        "Label_1 = np.transpose(rf_data[2048:2049,:]); Label_1 = Label_1.astype(int);\n",
        "Label_2 = np.transpose(rf_data[2049:2050,:]); Label_2 = Label_2.astype(int);\n",
        "Label_3 = np.transpose(rf_data[2050:2051,:]); Label_3 = Label_3.astype(int);"
      ]
    },
    {
      "cell_type": "code",
      "execution_count": null,
      "metadata": {
        "id": "Tv861AllD3RS"
      },
      "outputs": [],
      "source": [
        "# Preprocessing\n",
        "scl = StandardScaler()\n",
        "x = scl.fit_transform(x)"
      ]
    },
    {
      "cell_type": "code",
      "execution_count": null,
      "metadata": {
        "id": "hMe5nLDZD3RS"
      },
      "outputs": [],
      "source": [
        "# Cross validation and model training\n",
        "cvscores = []\n",
        "avg_score = 0.0\n",
        "K = 5\n",
        "kfold = StratifiedKFold(n_splits=K, shuffle=True, random_state=1)\n",
        "for train, test in kfold.split(x, Label_1):\n",
        "    model = XGBClassifier(objective = \"binary:logistic\",seed=42)\n",
        "    model.fit(x[train], Label_1[train])\n",
        "    score = model.score(x[test], Label_1[test])\n",
        "    cvscores.append(score)\n",
        "    avg_score = avg_score + score\n",
        "\n",
        "# Results\n",
        "avg_score = avg_score/K\n",
        "print(\"Cross validation scores: {}\".format(cvscores))\n",
        "print(\"Accuracy: {}\".format(avg_score))"
      ]
    },
    {
      "cell_type": "code",
      "execution_count": null,
      "metadata": {
        "id": "2YV_Gdm9D3RS"
      },
      "outputs": [],
      "source": [
        "# Cross validation and model training\n",
        "cvscores = []\n",
        "avg_score = 0.0\n",
        "K = 5\n",
        "kfold = StratifiedKFold(n_splits=K, shuffle=True, random_state=1)\n",
        "for train, test in kfold.split(x, Label_1):\n",
        "    model = XGBClassifier(objective = \"multi:softmax\",seed=42)\n",
        "    model.fit(x[train], Label_2[train])\n",
        "    score = model.score(x[test], Label_2[test])\n",
        "    cvscores.append(score)\n",
        "    avg_score = avg_score + score\n",
        "\n",
        "# Results\n",
        "avg_score = avg_score/K\n",
        "print(\"Cross validation scores: {}\".format(cvscores))\n",
        "print(\"Accuracy: {}\".format(avg_score))"
      ]
    },
    {
      "cell_type": "code",
      "execution_count": null,
      "metadata": {
        "id": "F4R_1PiOD3RS"
      },
      "outputs": [],
      "source": [
        "# Cross validation and model training\n",
        "cvscores = []\n",
        "avg_score = 0.0\n",
        "K = 5\n",
        "kfold = StratifiedKFold(n_splits=K, shuffle=True, random_state=1)\n",
        "for train, test in kfold.split(x, Label_1):\n",
        "    model = XGBClassifier(objective = \"multi:softmax\",seed=42)\n",
        "    model.fit(x[train], Label_3[train])\n",
        "    score = model.score(x[test], Label_3[test])\n",
        "    cvscores.append(score)\n",
        "    avg_score = avg_score + score\n",
        "\n",
        "# Results\n",
        "avg_score = avg_score/K\n",
        "print(\"Cross validation scores: {}\".format(cvscores))\n",
        "print(\"Accuracy: {}\".format(avg_score))"
      ]
    },
    {
      "cell_type": "markdown",
      "metadata": {
        "id": "RvbmpKOtD3RS"
      },
      "source": [
        "### Segment by factor of 10"
      ]
    },
    {
      "cell_type": "code",
      "execution_count": null,
      "metadata": {
        "id": "BcwI5zPtD3RT"
      },
      "outputs": [],
      "source": [
        "rf_data = np.loadtxt(\"/content/drive/MyDrive/CEERI Project - Kalit/data/fft_extracted_features/M=4096/Lower band/L=1e6/data.csv\", delimiter=\",\")"
      ]
    },
    {
      "cell_type": "code",
      "execution_count": null,
      "metadata": {
        "id": "FsoIU8bwD3RT"
      },
      "outputs": [],
      "source": [
        "x = np.transpose(rf_data[0:2048,:])\n",
        "Label_1 = np.transpose(rf_data[2048:2049,:]); Label_1 = Label_1.astype(int);\n",
        "Label_2 = np.transpose(rf_data[2049:2050,:]); Label_2 = Label_2.astype(int);\n",
        "Label_3 = np.transpose(rf_data[2050:2051,:]); Label_3 = Label_3.astype(int);"
      ]
    },
    {
      "cell_type": "code",
      "execution_count": null,
      "metadata": {
        "id": "ZfMhlSm9D3RT"
      },
      "outputs": [],
      "source": [
        "# Preprocessing\n",
        "scl = StandardScaler()\n",
        "x = scl.fit_transform(x)"
      ]
    },
    {
      "cell_type": "code",
      "execution_count": null,
      "metadata": {
        "id": "Je0MDfcmD3RT"
      },
      "outputs": [],
      "source": [
        "# Cross validation and model training\n",
        "cvscores = []\n",
        "avg_score = 0.0\n",
        "K = 5\n",
        "kfold = StratifiedKFold(n_splits=K, shuffle=True, random_state=1)\n",
        "for train, test in kfold.split(x, Label_1):\n",
        "    model = XGBClassifier(objective = \"binary:logistic\",seed=42)\n",
        "    model.fit(x[train], Label_1[train])\n",
        "    score = model.score(x[test], Label_1[test])\n",
        "    cvscores.append(score)\n",
        "    avg_score = avg_score + score\n",
        "\n",
        "# Results\n",
        "avg_score = avg_score/K\n",
        "print(\"Cross validation scores: {}\".format(cvscores))\n",
        "print(\"Accuracy: {}\".format(avg_score))"
      ]
    },
    {
      "cell_type": "code",
      "execution_count": null,
      "metadata": {
        "id": "eNAgkGyeD3RT",
        "colab": {
          "base_uri": "https://localhost:8080/"
        },
        "outputId": "26683619-fe04-4c77-8c07-be7543822006"
      },
      "outputs": [
        {
          "output_type": "stream",
          "name": "stdout",
          "text": [
            "Cross validation scores: [0.9691629955947136, 0.960352422907489, 0.9515418502202643, 0.9713656387665198, 0.9691629955947136]\n",
            "Accuracy: 0.96431718061674\n"
          ]
        }
      ],
      "source": [
        "# Cross validation and model training\n",
        "cvscores = []\n",
        "avg_score = 0.0\n",
        "K = 5\n",
        "kfold = StratifiedKFold(n_splits=K, shuffle=True, random_state=1)\n",
        "for train, test in kfold.split(x, Label_2):\n",
        "    model = XGBClassifier(objective = \"multi:softmax\",seed=42)\n",
        "    model.fit(x[train], Label_2[train])\n",
        "    score = model.score(x[test], Label_2[test])\n",
        "    cvscores.append(score)\n",
        "    avg_score = avg_score + score\n",
        "\n",
        "# Results\n",
        "avg_score = avg_score/K\n",
        "print(\"Cross validation scores: {}\".format(cvscores))\n",
        "print(\"Accuracy: {}\".format(avg_score))"
      ]
    },
    {
      "cell_type": "code",
      "execution_count": null,
      "metadata": {
        "id": "mqcheZgLD3RT"
      },
      "outputs": [],
      "source": [
        "# Cross validation and model training\n",
        "cvscores = []\n",
        "avg_score = 0.0\n",
        "K = 5\n",
        "kfold = StratifiedKFold(n_splits=K, shuffle=True, random_state=1)\n",
        "for train, test in kfold.split(x, Label_3):\n",
        "    model = XGBClassifier(objective = \"multi:softmax\",seed=42)\n",
        "    model.fit(x[train], Label_3[train])\n",
        "    score = model.score(x[test], Label_3[test])\n",
        "    cvscores.append(score)\n",
        "    avg_score = avg_score + score\n",
        "\n",
        "# Results\n",
        "avg_score = avg_score/K\n",
        "print(\"Cross validation scores: {}\".format(cvscores))\n",
        "print(\"Accuracy: {}\".format(avg_score))"
      ]
    },
    {
      "cell_type": "markdown",
      "metadata": {
        "id": "ETU8KsBTD3RT"
      },
      "source": [
        "### Take entire input as signal"
      ]
    },
    {
      "cell_type": "code",
      "execution_count": null,
      "metadata": {
        "id": "p1ZNBR9ED3RT"
      },
      "outputs": [],
      "source": [
        "rf_data = np.loadtxt(\"/content/drive/MyDrive/CEERI Project - Kalit/data/fft_extracted_features/M=4096/Lower band/entire signal/data.csv\", delimiter=\",\")"
      ]
    },
    {
      "cell_type": "code",
      "execution_count": null,
      "metadata": {
        "id": "P0LQv4duD3RT"
      },
      "outputs": [],
      "source": [
        "x = np.transpose(rf_data[0:2048,:])\n",
        "Label_1 = np.transpose(rf_data[2048:2049,:]); Label_1 = Label_1.astype(int);\n",
        "Label_2 = np.transpose(rf_data[2049:2050,:]); Label_2 = Label_2.astype(int);\n",
        "Label_3 = np.transpose(rf_data[2050:2051,:]); Label_3 = Label_3.astype(int);"
      ]
    },
    {
      "cell_type": "code",
      "execution_count": null,
      "metadata": {
        "id": "I5LU4YSnD3RT"
      },
      "outputs": [],
      "source": [
        "# Preprocessing\n",
        "scl = StandardScaler()\n",
        "x = scl.fit_transform(x)"
      ]
    },
    {
      "cell_type": "code",
      "execution_count": null,
      "metadata": {
        "id": "HGrJ7an5D3RT"
      },
      "outputs": [],
      "source": [
        "# Cross validation and model training\n",
        "cvscores = []\n",
        "avg_score = 0.0\n",
        "K = 5\n",
        "kfold = StratifiedKFold(n_splits=K, shuffle=True, random_state=1)\n",
        "for train, test in kfold.split(x, Label_1):\n",
        "    model = XGBClassifier(objective = \"binary:logistic\",seed=42)\n",
        "    model.fit(x[train], Label_1[train])\n",
        "    score = model.score(x[test], Label_1[test])\n",
        "    cvscores.append(score)\n",
        "    avg_score = avg_score + score\n",
        "\n",
        "# Results\n",
        "avg_score = avg_score/K\n",
        "print(\"Cross validation scores: {}\".format(cvscores))\n",
        "print(\"Accuracy: {}\".format(avg_score))"
      ]
    },
    {
      "cell_type": "code",
      "execution_count": null,
      "metadata": {
        "id": "oGXd6zXBD3RU"
      },
      "outputs": [],
      "source": [
        "# Cross validation and model training\n",
        "cvscores = []\n",
        "avg_score = 0.0\n",
        "K = 5\n",
        "kfold = StratifiedKFold(n_splits=K, shuffle=True, random_state=1)\n",
        "for train, test in kfold.split(x, Label_2):\n",
        "    model = XGBClassifier(objective = \"multi:softmax\",seed=42)\n",
        "    model.fit(x[train], Label_2[train])\n",
        "    score = model.score(x[test], Label_2[test])\n",
        "    cvscores.append(score)\n",
        "    avg_score = avg_score + score\n",
        "\n",
        "# Results\n",
        "avg_score = avg_score/K\n",
        "print(\"Cross validation scores: {}\".format(cvscores))\n",
        "print(\"Accuracy: {}\".format(avg_score))"
      ]
    },
    {
      "cell_type": "code",
      "execution_count": null,
      "metadata": {
        "id": "SV7ACAGxD3RU"
      },
      "outputs": [],
      "source": [
        "# Cross validation and model training\n",
        "cvscores = []\n",
        "avg_score = 0.0\n",
        "K = 5\n",
        "kfold = StratifiedKFold(n_splits=K, shuffle=True, random_state=1)\n",
        "for train, test in kfold.split(x, Label_3):\n",
        "    model = XGBClassifier(objective = \"multi:softmax\",seed=42)\n",
        "    model.fit(x[train], Label_3[train])\n",
        "    score = model.score(x[test], Label_3[test])\n",
        "    cvscores.append(score)\n",
        "    avg_score = avg_score + score\n",
        "\n",
        "# Results\n",
        "avg_score = avg_score/K\n",
        "print(\"Cross validation scores: {}\".format(cvscores))\n",
        "print(\"Accuracy: {}\".format(avg_score))"
      ]
    },
    {
      "cell_type": "code",
      "source": [
        ""
      ],
      "metadata": {
        "id": "5updo6ab_9iP"
      },
      "execution_count": null,
      "outputs": []
    },
    {
      "cell_type": "markdown",
      "source": [
        "# M = 4096_1"
      ],
      "metadata": {
        "id": "-qTvM2sq_-GV"
      }
    },
    {
      "cell_type": "markdown",
      "source": [
        "## Upper band"
      ],
      "metadata": {
        "id": "0WZ3pR0-_-GY"
      }
    },
    {
      "cell_type": "markdown",
      "source": [
        "### Segment by factor of 100"
      ],
      "metadata": {
        "id": "Z872TF34_-GY"
      }
    },
    {
      "cell_type": "code",
      "source": [
        "rf_data = np.loadtxt(\"/content/drive/MyDrive/CEERI Project - Kalit/data/fft_extracted_features/M=4096/Upper band/L=1e5/data.csv\", delimiter=\",\")"
      ],
      "metadata": {
        "id": "j9ZUBGLR_-GY"
      },
      "execution_count": null,
      "outputs": []
    },
    {
      "cell_type": "code",
      "source": [
        "rf_data.shape"
      ],
      "metadata": {
        "colab": {
          "base_uri": "https://localhost:8080/"
        },
        "id": "Rz8E9dXxmSeW",
        "outputId": "2322b2de-5f78-454f-e624-1d7be03e4327"
      },
      "execution_count": null,
      "outputs": [
        {
          "output_type": "execute_result",
          "data": {
            "text/plain": [
              "(2051, 22700)"
            ]
          },
          "metadata": {},
          "execution_count": 5
        }
      ]
    },
    {
      "cell_type": "code",
      "source": [
        "x = np.transpose(rf_data[0:2048,:])\n",
        "Label_1 = np.transpose(rf_data[2048:2049,:]); Label_1 = Label_1.astype(int);\n",
        "Label_2 = np.transpose(rf_data[2049:2050,:]); Label_2 = Label_2.astype(int);\n",
        "Label_3 = np.transpose(rf_data[2050:2051,:]); Label_3 = Label_3.astype(int);"
      ],
      "metadata": {
        "id": "ucHlzuva_-GZ"
      },
      "execution_count": null,
      "outputs": []
    },
    {
      "cell_type": "code",
      "source": [
        "# Preprocessing\n",
        "scl = StandardScaler()\n",
        "x = scl.fit_transform(x)"
      ],
      "metadata": {
        "id": "VIhaTNJH_-GZ"
      },
      "execution_count": null,
      "outputs": []
    },
    {
      "cell_type": "code",
      "source": [
        "# Cross validation and model training\n",
        "cvscores = []\n",
        "avg_score = 0.0\n",
        "K = 5\n",
        "kfold = StratifiedKFold(n_splits=K, shuffle=True, random_state=1)\n",
        "for train, test in kfold.split(x, Label_1):\n",
        "    model = XGBClassifier(objective = \"binary:logistic\",seed=42)\n",
        "    model.fit(x[train], Label_1[train])\n",
        "    score = model.score(x[test], Label_1[test])\n",
        "    cvscores.append(score)\n",
        "    avg_score = avg_score + score\n",
        "\n",
        "# Results\n",
        "avg_score = avg_score/K\n",
        "print(\"Cross validation scores: {}\".format(cvscores))\n",
        "print(\"Accuracy: {}\".format(avg_score))"
      ],
      "metadata": {
        "colab": {
          "base_uri": "https://localhost:8080/"
        },
        "outputId": "f39a4858-3524-403d-e9fb-153ea7e04856",
        "id": "lreS8eE1_-GZ"
      },
      "execution_count": null,
      "outputs": [
        {
          "output_type": "stream",
          "name": "stdout",
          "text": [
            "Cross validation scores: [0.9817180616740088, 0.9834801762114538, 0.9823788546255506, 0.9759911894273128, 0.9740088105726872]\n",
            "Accuracy: 0.9795154185022025\n"
          ]
        }
      ]
    },
    {
      "cell_type": "code",
      "source": [
        "# Cross validation and model training\n",
        "cvscores = []\n",
        "avg_score = 0.0\n",
        "K = 5\n",
        "kfold = StratifiedKFold(n_splits=K, shuffle=True, random_state=1)\n",
        "for train, test in kfold.split(x, Label_2):\n",
        "    model = XGBClassifier(objective = \"multi:softmax\",seed=42)\n",
        "    model.fit(x[train], Label_2[train])\n",
        "    score = model.score(x[test], Label_2[test])\n",
        "    cvscores.append(score)\n",
        "    avg_score = avg_score + score\n",
        "\n",
        "# Results\n",
        "avg_score = avg_score/K\n",
        "print(\"Cross validation scores: {}\".format(cvscores))\n",
        "print(\"Accuracy: {}\".format(avg_score))"
      ],
      "metadata": {
        "colab": {
          "base_uri": "https://localhost:8080/"
        },
        "outputId": "1bd4af9f-3c69-4e18-ba85-25425acc7e36",
        "id": "qck2spLV_-GZ"
      },
      "execution_count": null,
      "outputs": [
        {
          "output_type": "stream",
          "name": "stdout",
          "text": [
            "Cross validation scores: [0.8671806167400881, 0.8570484581497797, 0.866079295154185, 0.8599118942731278, 0.8502202643171806]\n",
            "Accuracy: 0.8600881057268722\n"
          ]
        }
      ]
    },
    {
      "cell_type": "code",
      "source": [
        "# Cross validation and model training\n",
        "cvscores = []\n",
        "avg_score = 0.0\n",
        "K = 5\n",
        "kfold = StratifiedKFold(n_splits=K, shuffle=True, random_state=1)\n",
        "for train, test in kfold.split(x, Label_3):\n",
        "    model = XGBClassifier(objective = \"multi:softmax\",seed=42)\n",
        "    model.fit(x[train], Label_3[train])\n",
        "    score = model.score(x[test], Label_3[test])\n",
        "    cvscores.append(score)\n",
        "    avg_score = avg_score + score\n",
        "\n",
        "# Results\n",
        "avg_score = avg_score/K\n",
        "print(\"Cross validation scores: {}\".format(cvscores))\n",
        "print(\"Accuracy: {}\".format(avg_score))"
      ],
      "metadata": {
        "colab": {
          "base_uri": "https://localhost:8080/"
        },
        "outputId": "43dccef3-2d1e-46fc-d0b5-e442b5d26da6",
        "id": "W9r8_n_Q_-Ga"
      },
      "execution_count": null,
      "outputs": [
        {
          "output_type": "stream",
          "name": "stdout",
          "text": [
            "Cross validation scores: [0.7418502202643171, 0.7385462555066079, 0.7493392070484581, 0.7411894273127754, 0.7491189427312775]\n",
            "Accuracy: 0.7440088105726872\n"
          ]
        }
      ]
    },
    {
      "cell_type": "markdown",
      "source": [
        "### Segment by factor of 10"
      ],
      "metadata": {
        "id": "GYbNKPFU_-Ga"
      }
    },
    {
      "cell_type": "code",
      "source": [
        "rf_data = np.loadtxt(\"/content/drive/MyDrive/CEERI Project - Kalit/data/fft_extracted_features/M=4096/Upper band/L=1e6/data.csv\", delimiter=\",\")"
      ],
      "metadata": {
        "id": "jSM9mNjE_-Ga"
      },
      "execution_count": null,
      "outputs": []
    },
    {
      "cell_type": "code",
      "source": [
        "x = np.transpose(rf_data[0:2048,:])\n",
        "Label_1 = np.transpose(rf_data[2048:2049,:]); Label_1 = Label_1.astype(int);\n",
        "Label_2 = np.transpose(rf_data[2049:2050,:]); Label_2 = Label_2.astype(int);\n",
        "Label_3 = np.transpose(rf_data[2050:2051,:]); Label_3 = Label_3.astype(int);"
      ],
      "metadata": {
        "id": "iafxVrl1_-Ga"
      },
      "execution_count": null,
      "outputs": []
    },
    {
      "cell_type": "code",
      "source": [
        "# Preprocessing\n",
        "scl = StandardScaler()\n",
        "x = scl.fit_transform(x)"
      ],
      "metadata": {
        "id": "8ZpIia5a_-Ga"
      },
      "execution_count": null,
      "outputs": []
    },
    {
      "cell_type": "code",
      "source": [
        "# Cross validation and model training\n",
        "cvscores = []\n",
        "avg_score = 0.0\n",
        "K = 5\n",
        "kfold = StratifiedKFold(n_splits=K, shuffle=True, random_state=1)\n",
        "for train, test in kfold.split(x, Label_1):\n",
        "    model = XGBClassifier(objective = \"binary:logistic\",seed=42)\n",
        "    model.fit(x[train], Label_1[train])\n",
        "    score = model.score(x[test], Label_1[test])\n",
        "    cvscores.append(score)\n",
        "    avg_score = avg_score + score\n",
        "\n",
        "# Results\n",
        "avg_score = avg_score/K\n",
        "print(\"Cross validation scores: {}\".format(cvscores))\n",
        "print(\"Accuracy: {}\".format(avg_score))"
      ],
      "metadata": {
        "colab": {
          "base_uri": "https://localhost:8080/"
        },
        "outputId": "691f7dbd-1209-4fd6-c2c7-3a97861410f0",
        "id": "7bqGkrT__-Gb"
      },
      "execution_count": null,
      "outputs": [
        {
          "output_type": "stream",
          "name": "stdout",
          "text": [
            "Cross validation scores: [0.9713656387665198, 0.9889867841409692, 0.960352422907489, 0.9625550660792952, 0.9801762114537445]\n",
            "Accuracy: 0.9726872246696034\n"
          ]
        }
      ]
    },
    {
      "cell_type": "code",
      "source": [
        "# Cross validation and model training\n",
        "cvscores = []\n",
        "avg_score = 0.0\n",
        "K = 5\n",
        "kfold = StratifiedKFold(n_splits=K, shuffle=True, random_state=1)\n",
        "for train, test in kfold.split(x, Label_2):\n",
        "    model = XGBClassifier(objective = \"multi:softmax\",seed=42)\n",
        "    model.fit(x[train], Label_2[train])\n",
        "    score = model.score(x[test], Label_2[test])\n",
        "    cvscores.append(score)\n",
        "    avg_score = avg_score + score\n",
        "\n",
        "# Results\n",
        "avg_score = avg_score/K\n",
        "print(\"Cross validation scores: {}\".format(cvscores))\n",
        "print(\"Accuracy: {}\".format(avg_score))"
      ],
      "metadata": {
        "id": "lsEOwZC-_-Gb"
      },
      "execution_count": null,
      "outputs": []
    },
    {
      "cell_type": "code",
      "source": [
        "# Cross validation and model training\n",
        "cvscores = []\n",
        "avg_score = 0.0\n",
        "K = 5\n",
        "kfold = StratifiedKFold(n_splits=K, shuffle=True, random_state=1)\n",
        "for train, test in kfold.split(x, Label_3):\n",
        "    model = XGBClassifier(objective = \"multi:softmax\",seed=42)\n",
        "    model.fit(x[train], Label_3[train])\n",
        "    score = model.score(x[test], Label_3[test])\n",
        "    cvscores.append(score)\n",
        "    avg_score = avg_score + score\n",
        "\n",
        "# Results\n",
        "avg_score = avg_score/K\n",
        "print(\"Cross validation scores: {}\".format(cvscores))\n",
        "print(\"Accuracy: {}\".format(avg_score))"
      ],
      "metadata": {
        "id": "Xv8ODZBA_-Gb"
      },
      "execution_count": null,
      "outputs": []
    },
    {
      "cell_type": "markdown",
      "source": [
        "### Take entire input as signal"
      ],
      "metadata": {
        "id": "leuy3ugb_-Gb"
      }
    },
    {
      "cell_type": "code",
      "source": [
        "rf_data = np.loadtxt(\"/content/drive/MyDrive/CEERI Project - Kalit/data/fft_extracted_features/M=4096/Upper band/entire signal/data.csv\", delimiter=\",\")"
      ],
      "metadata": {
        "id": "tiOvqsyh_-Gb"
      },
      "execution_count": null,
      "outputs": []
    },
    {
      "cell_type": "code",
      "source": [
        "x = np.transpose(rf_data[0:2048,:])\n",
        "Label_1 = np.transpose(rf_data[2048:2049,:]); Label_1 = Label_1.astype(int);\n",
        "Label_2 = np.transpose(rf_data[2049:2050,:]); Label_2 = Label_2.astype(int);\n",
        "Label_3 = np.transpose(rf_data[2050:2051,:]); Label_3 = Label_3.astype(int);"
      ],
      "metadata": {
        "id": "B22YzFJ3_-Gb"
      },
      "execution_count": null,
      "outputs": []
    },
    {
      "cell_type": "code",
      "source": [
        "# Preprocessing\n",
        "scl = StandardScaler()\n",
        "x = scl.fit_transform(x)"
      ],
      "metadata": {
        "id": "bAMso2rd_-Gb"
      },
      "execution_count": null,
      "outputs": []
    },
    {
      "cell_type": "code",
      "source": [
        "# Cross validation and model training\n",
        "cvscores = []\n",
        "avg_score = 0.0\n",
        "K = 5\n",
        "kfold = StratifiedKFold(n_splits=K, shuffle=True, random_state=1)\n",
        "for train, test in kfold.split(x, Label_1):\n",
        "    model = XGBClassifier(objective = \"binary:logistic\",seed=42)\n",
        "    model.fit(x[train], Label_1[train])\n",
        "    score = model.score(x[test], Label_1[test])\n",
        "    cvscores.append(score)\n",
        "    avg_score = avg_score + score\n",
        "\n",
        "# Results\n",
        "avg_score = avg_score/K\n",
        "print(\"Cross validation scores: {}\".format(cvscores))\n",
        "print(\"Accuracy: {}\".format(avg_score))"
      ],
      "metadata": {
        "colab": {
          "base_uri": "https://localhost:8080/"
        },
        "outputId": "90cc7e77-7c70-4306-9253-22ffbf65251e",
        "id": "5vHSFnQn_-Gc"
      },
      "execution_count": null,
      "outputs": [
        {
          "output_type": "stream",
          "name": "stdout",
          "text": [
            "Cross validation scores: [1.0, 0.9782608695652174, 0.9777777777777777, 1.0, 0.9777777777777777]\n",
            "Accuracy: 0.9867632850241546\n"
          ]
        }
      ]
    },
    {
      "cell_type": "code",
      "source": [
        "# Cross validation and model training\n",
        "cvscores = []\n",
        "avg_score = 0.0\n",
        "K = 5\n",
        "kfold = StratifiedKFold(n_splits=K, shuffle=True, random_state=1)\n",
        "for train, test in kfold.split(x, Label_2):\n",
        "    model = XGBClassifier(objective = \"multi:softmax\",seed=42)\n",
        "    model.fit(x[train], Label_2[train])\n",
        "    score = model.score(x[test], Label_2[test])\n",
        "    cvscores.append(score)\n",
        "    avg_score = avg_score + score\n",
        "\n",
        "# Results\n",
        "avg_score = avg_score/K\n",
        "print(\"Cross validation scores: {}\".format(cvscores))\n",
        "print(\"Accuracy: {}\".format(avg_score))"
      ],
      "metadata": {
        "colab": {
          "base_uri": "https://localhost:8080/"
        },
        "outputId": "fdeeb4cd-a7ac-4a80-ea5e-03b4d8c8cdae",
        "id": "E_-vVP6a_-Gc"
      },
      "execution_count": null,
      "outputs": [
        {
          "output_type": "stream",
          "name": "stdout",
          "text": [
            "Cross validation scores: [0.6956521739130435, 0.6739130434782609, 0.6, 0.7111111111111111, 0.6]\n",
            "Accuracy: 0.6561352657004831\n"
          ]
        }
      ]
    },
    {
      "cell_type": "code",
      "source": [
        "# Cross validation and model training\n",
        "cvscores = []\n",
        "avg_score = 0.0\n",
        "K = 5\n",
        "kfold = StratifiedKFold(n_splits=K, shuffle=True, random_state=1)\n",
        "for train, test in kfold.split(x, Label_3):\n",
        "    model = XGBClassifier(objective = \"multi:softmax\",seed=42)\n",
        "    model.fit(x[train], Label_3[train])\n",
        "    score = model.score(x[test], Label_3[test])\n",
        "    cvscores.append(score)\n",
        "    avg_score = avg_score + score\n",
        "\n",
        "# Results\n",
        "avg_score = avg_score/K\n",
        "print(\"Cross validation scores: {}\".format(cvscores))\n",
        "print(\"Accuracy: {}\".format(avg_score))"
      ],
      "metadata": {
        "colab": {
          "base_uri": "https://localhost:8080/"
        },
        "outputId": "ce611d7a-d821-4e5d-bfbc-8746b2c89354",
        "id": "uiUCy_RJ_-Gc"
      },
      "execution_count": null,
      "outputs": [
        {
          "output_type": "stream",
          "name": "stdout",
          "text": [
            "Cross validation scores: [0.5434782608695652, 0.5869565217391305, 0.4444444444444444, 0.4222222222222222, 0.4444444444444444]\n",
            "Accuracy: 0.4883091787439614\n"
          ]
        }
      ]
    },
    {
      "cell_type": "markdown",
      "metadata": {
        "id": "NwtWZ_-XAMDj"
      },
      "source": [
        "# M = 4096_2"
      ]
    },
    {
      "cell_type": "markdown",
      "metadata": {
        "id": "JiXlxdmrAMDq"
      },
      "source": [
        "## Lower band"
      ]
    },
    {
      "cell_type": "markdown",
      "metadata": {
        "id": "Ffz36IL1AMDq"
      },
      "source": [
        "### Segment by factor of 100"
      ]
    },
    {
      "cell_type": "code",
      "execution_count": null,
      "metadata": {
        "id": "sYRUqHTgAMDr"
      },
      "outputs": [],
      "source": [
        "rf_data = np.loadtxt(\"/content/drive/MyDrive/CEERI Project - Kalit/data/fft_extracted_features/M=4096/Upper band/L=1e5/data.csv\", delimiter=\",\")"
      ]
    },
    {
      "cell_type": "code",
      "execution_count": null,
      "metadata": {
        "id": "pyqZeirtAMDr"
      },
      "outputs": [],
      "source": [
        "x = np.transpose(rf_data[0:2048,:])\n",
        "Label_1 = np.transpose(rf_data[2048:2049,:]); Label_1 = Label_1.astype(int);\n",
        "Label_2 = np.transpose(rf_data[2049:2050,:]); Label_2 = Label_2.astype(int);\n",
        "Label_3 = np.transpose(rf_data[2050:2051,:]); Label_3 = Label_3.astype(int);"
      ]
    },
    {
      "cell_type": "code",
      "execution_count": null,
      "metadata": {
        "id": "iqJpvcm0AMDr"
      },
      "outputs": [],
      "source": [
        "# Preprocessing\n",
        "scl = StandardScaler()\n",
        "x = scl.fit_transform(x)"
      ]
    },
    {
      "cell_type": "code",
      "execution_count": null,
      "metadata": {
        "colab": {
          "base_uri": "https://localhost:8080/"
        },
        "outputId": "bd4b604f-1a30-4d24-a471-6553d3fc9674",
        "id": "qKNPhRYhAMDr"
      },
      "outputs": [
        {
          "name": "stdout",
          "output_type": "stream",
          "text": [
            "Cross validation scores: [0.9817180616740088, 0.9834801762114538, 0.9823788546255506, 0.9759911894273128, 0.9740088105726872]\n",
            "Accuracy: 0.9795154185022025\n"
          ]
        }
      ],
      "source": [
        "# Cross validation and model training\n",
        "cvscores = []\n",
        "avg_score = 0.0\n",
        "K = 5\n",
        "kfold = StratifiedKFold(n_splits=K, shuffle=True, random_state=1)\n",
        "for train, test in kfold.split(x, Label_1):\n",
        "    model = XGBClassifier(objective = \"binary:logistic\",seed=42)\n",
        "    model.fit(x[train], Label_1[train])\n",
        "    score = model.score(x[test], Label_1[test])\n",
        "    cvscores.append(score)\n",
        "    avg_score = avg_score + score\n",
        "\n",
        "# Results\n",
        "avg_score = avg_score/K\n",
        "print(\"Cross validation scores: {}\".format(cvscores))\n",
        "print(\"Accuracy: {}\".format(avg_score))"
      ]
    },
    {
      "cell_type": "code",
      "execution_count": null,
      "metadata": {
        "colab": {
          "background_save": true,
          "base_uri": "https://localhost:8080/"
        },
        "outputId": "362fab36-6c54-4daf-cdbe-165fc607b751",
        "id": "FXW1ECLXAMDr"
      },
      "outputs": [
        {
          "name": "stdout",
          "output_type": "stream",
          "text": [
            "Cross validation scores: [0.8671806167400881, 0.8570484581497797, 0.866079295154185, 0.8599118942731278, 0.8502202643171806]\n",
            "Accuracy: 0.8600881057268722\n"
          ]
        }
      ],
      "source": [
        "# Cross validation and model training\n",
        "cvscores = []\n",
        "avg_score = 0.0\n",
        "K = 5\n",
        "kfold = StratifiedKFold(n_splits=K, shuffle=True, random_state=1)\n",
        "for train, test in kfold.split(x, Label_2):\n",
        "    model = XGBClassifier(objective = \"multi:softmax\",seed=42)\n",
        "    model.fit(x[train], Label_2[train])\n",
        "    score = model.score(x[test], Label_2[test])\n",
        "    cvscores.append(score)\n",
        "    avg_score = avg_score + score\n",
        "\n",
        "# Results\n",
        "avg_score = avg_score/K\n",
        "print(\"Cross validation scores: {}\".format(cvscores))\n",
        "print(\"Accuracy: {}\".format(avg_score))"
      ]
    },
    {
      "cell_type": "code",
      "execution_count": null,
      "metadata": {
        "colab": {
          "base_uri": "https://localhost:8080/"
        },
        "outputId": "e3a3ce58-67f6-44ba-9e30-7ef67afbbbe0",
        "id": "_q5Ysfe0AMDr"
      },
      "outputs": [
        {
          "output_type": "stream",
          "name": "stdout",
          "text": [
            "Cross validation scores: [0.7418502202643171, 0.7385462555066079, 0.7493392070484581, 0.7411894273127754, 0.7491189427312775]\n",
            "Accuracy: 0.7440088105726872\n"
          ]
        }
      ],
      "source": [
        "# Cross validation and model training\n",
        "cvscores = []\n",
        "avg_score = 0.0\n",
        "K = 5\n",
        "kfold = StratifiedKFold(n_splits=K, shuffle=True, random_state=1)\n",
        "for train, test in kfold.split(x, Label_3):\n",
        "    model = XGBClassifier(objective = \"multi:softmax\",seed=42)\n",
        "    model.fit(x[train], Label_3[train])\n",
        "    score = model.score(x[test], Label_3[test])\n",
        "    cvscores.append(score)\n",
        "    avg_score = avg_score + score\n",
        "\n",
        "# Results\n",
        "avg_score = avg_score/K\n",
        "print(\"Cross validation scores: {}\".format(cvscores))\n",
        "print(\"Accuracy: {}\".format(avg_score))"
      ]
    },
    {
      "cell_type": "markdown",
      "metadata": {
        "id": "hox1GOM_AMDr"
      },
      "source": [
        "### Segment by factor of 10"
      ]
    },
    {
      "cell_type": "code",
      "execution_count": null,
      "metadata": {
        "id": "V-ezT4CbAMDr"
      },
      "outputs": [],
      "source": [
        "rf_data = np.loadtxt(\"/content/drive/MyDrive/CEERI Project - Kalit/data/fft_extracted_features/M=4096/Lower band/L=1e6/data.csv\", delimiter=\",\")"
      ]
    },
    {
      "cell_type": "code",
      "execution_count": null,
      "metadata": {
        "id": "l7W-41baAMDs"
      },
      "outputs": [],
      "source": [
        "x = np.transpose(rf_data[0:2048,:])\n",
        "Label_1 = np.transpose(rf_data[2048:2049,:]); Label_1 = Label_1.astype(int);\n",
        "Label_2 = np.transpose(rf_data[2049:2050,:]); Label_2 = Label_2.astype(int);\n",
        "Label_3 = np.transpose(rf_data[2050:2051,:]); Label_3 = Label_3.astype(int);"
      ]
    },
    {
      "cell_type": "code",
      "execution_count": null,
      "metadata": {
        "id": "vt7nyocbAMDs"
      },
      "outputs": [],
      "source": [
        "# Preprocessing\n",
        "scl = StandardScaler()\n",
        "x = scl.fit_transform(x)"
      ]
    },
    {
      "cell_type": "code",
      "execution_count": null,
      "metadata": {
        "colab": {
          "base_uri": "https://localhost:8080/"
        },
        "outputId": "f75cf417-650b-447d-f608-70361b0cca28",
        "id": "z57poI-dAMDs"
      },
      "outputs": [
        {
          "output_type": "stream",
          "name": "stdout",
          "text": [
            "Cross validation scores: [0.9977973568281938, 0.9977973568281938, 1.0, 1.0, 0.9977973568281938]\n",
            "Accuracy: 0.9986784140969164\n"
          ]
        }
      ],
      "source": [
        "# Cross validation and model training\n",
        "cvscores = []\n",
        "avg_score = 0.0\n",
        "K = 5\n",
        "kfold = StratifiedKFold(n_splits=K, shuffle=True, random_state=1)\n",
        "for train, test in kfold.split(x, Label_1):\n",
        "    model = XGBClassifier(objective = \"binary:logistic\",seed=42)\n",
        "    model.fit(x[train], Label_1[train])\n",
        "    score = model.score(x[test], Label_1[test])\n",
        "    cvscores.append(score)\n",
        "    avg_score = avg_score + score\n",
        "\n",
        "# Results\n",
        "avg_score = avg_score/K\n",
        "print(\"Cross validation scores: {}\".format(cvscores))\n",
        "print(\"Accuracy: {}\".format(avg_score))"
      ]
    },
    {
      "cell_type": "code",
      "execution_count": null,
      "metadata": {
        "id": "EPtJNfiqAMDs"
      },
      "outputs": [],
      "source": [
        "# Cross validation and model training\n",
        "cvscores = []\n",
        "avg_score = 0.0\n",
        "K = 5\n",
        "kfold = StratifiedKFold(n_splits=K, shuffle=True, random_state=1)\n",
        "for train, test in kfold.split(x, Label_2):\n",
        "    model = XGBClassifier(objective = \"multi:softmax\",seed=42)\n",
        "    model.fit(x[train], Label_2[train])\n",
        "    score = model.score(x[test], Label_2[test])\n",
        "    cvscores.append(score)\n",
        "    avg_score = avg_score + score\n",
        "\n",
        "# Results\n",
        "avg_score = avg_score/K\n",
        "print(\"Cross validation scores: {}\".format(cvscores))\n",
        "print(\"Accuracy: {}\".format(avg_score))"
      ]
    },
    {
      "cell_type": "code",
      "execution_count": null,
      "metadata": {
        "colab": {
          "base_uri": "https://localhost:8080/"
        },
        "outputId": "87701d3d-414e-44bc-a153-b30d9e3d6ed5",
        "id": "hsXWFGtYAMDs"
      },
      "outputs": [
        {
          "output_type": "stream",
          "name": "stdout",
          "text": [
            "Cross validation scores: [0.7929515418502202, 0.8215859030837004, 0.8281938325991189, 0.8348017621145375, 0.801762114537445]\n",
            "Accuracy: 0.8158590308370044\n"
          ]
        }
      ],
      "source": [
        "# Cross validation and model training\n",
        "cvscores = []\n",
        "avg_score = 0.0\n",
        "K = 5\n",
        "kfold = StratifiedKFold(n_splits=K, shuffle=True, random_state=1)\n",
        "for train, test in kfold.split(x, Label_3):\n",
        "    model = XGBClassifier(objective = \"multi:softmax\",seed=42)\n",
        "    model.fit(x[train], Label_3[train])\n",
        "    score = model.score(x[test], Label_3[test])\n",
        "    cvscores.append(score)\n",
        "    avg_score = avg_score + score\n",
        "\n",
        "# Results\n",
        "avg_score = avg_score/K\n",
        "print(\"Cross validation scores: {}\".format(cvscores))\n",
        "print(\"Accuracy: {}\".format(avg_score))"
      ]
    },
    {
      "cell_type": "markdown",
      "metadata": {
        "id": "xFrQkb8cAMDs"
      },
      "source": [
        "### Take entire input as signal"
      ]
    },
    {
      "cell_type": "code",
      "execution_count": null,
      "metadata": {
        "id": "d3Wl4dcPAMDs"
      },
      "outputs": [],
      "source": [
        "rf_data = np.loadtxt(\"/content/drive/MyDrive/CEERI Project - Kalit/data/fft_extracted_features/M=4096/Lower band/entire signal/data.csv\", delimiter=\",\")"
      ]
    },
    {
      "cell_type": "code",
      "execution_count": null,
      "metadata": {
        "id": "gmSUGGq5AMDs"
      },
      "outputs": [],
      "source": [
        "x = np.transpose(rf_data[0:2048,:])\n",
        "Label_1 = np.transpose(rf_data[2048:2049,:]); Label_1 = Label_1.astype(int);\n",
        "Label_2 = np.transpose(rf_data[2049:2050,:]); Label_2 = Label_2.astype(int);\n",
        "Label_3 = np.transpose(rf_data[2050:2051,:]); Label_3 = Label_3.astype(int);"
      ]
    },
    {
      "cell_type": "code",
      "execution_count": null,
      "metadata": {
        "id": "gTQ0QGCGAMDt"
      },
      "outputs": [],
      "source": [
        "# Preprocessing\n",
        "scl = StandardScaler()\n",
        "x = scl.fit_transform(x)"
      ]
    },
    {
      "cell_type": "code",
      "execution_count": null,
      "metadata": {
        "colab": {
          "base_uri": "https://localhost:8080/"
        },
        "outputId": "16e3acbd-48eb-4ee2-fd29-969db2f98ccb",
        "id": "dMSTOtmIAMDt"
      },
      "outputs": [
        {
          "output_type": "stream",
          "name": "stdout",
          "text": [
            "Cross validation scores: [0.9782608695652174, 0.9782608695652174, 1.0, 0.9333333333333333, 1.0]\n",
            "Accuracy: 0.9779710144927536\n"
          ]
        }
      ],
      "source": [
        "# Cross validation and model training\n",
        "cvscores = []\n",
        "avg_score = 0.0\n",
        "K = 5\n",
        "kfold = StratifiedKFold(n_splits=K, shuffle=True, random_state=1)\n",
        "for train, test in kfold.split(x, Label_1):\n",
        "    model = XGBClassifier(objective = \"binary:logistic\",seed=42)\n",
        "    model.fit(x[train], Label_1[train])\n",
        "    score = model.score(x[test], Label_1[test])\n",
        "    cvscores.append(score)\n",
        "    avg_score = avg_score + score\n",
        "\n",
        "# Results\n",
        "avg_score = avg_score/K\n",
        "print(\"Cross validation scores: {}\".format(cvscores))\n",
        "print(\"Accuracy: {}\".format(avg_score))"
      ]
    },
    {
      "cell_type": "code",
      "execution_count": null,
      "metadata": {
        "colab": {
          "base_uri": "https://localhost:8080/"
        },
        "outputId": "cc8fc89e-613c-41cb-a2f8-e87838764d7b",
        "id": "tTXaaeaaAMDt"
      },
      "outputs": [
        {
          "output_type": "stream",
          "name": "stdout",
          "text": [
            "Cross validation scores: [0.8043478260869565, 0.8695652173913043, 0.9555555555555556, 0.9333333333333333, 0.9111111111111111]\n",
            "Accuracy: 0.8947826086956523\n"
          ]
        }
      ],
      "source": [
        "# Cross validation and model training\n",
        "cvscores = []\n",
        "avg_score = 0.0\n",
        "K = 5\n",
        "kfold = StratifiedKFold(n_splits=K, shuffle=True, random_state=1)\n",
        "for train, test in kfold.split(x, Label_2):\n",
        "    model = XGBClassifier(objective = \"multi:softmax\",seed=42)\n",
        "    model.fit(x[train], Label_2[train])\n",
        "    score = model.score(x[test], Label_2[test])\n",
        "    cvscores.append(score)\n",
        "    avg_score = avg_score + score\n",
        "\n",
        "# Results\n",
        "avg_score = avg_score/K\n",
        "print(\"Cross validation scores: {}\".format(cvscores))\n",
        "print(\"Accuracy: {}\".format(avg_score))"
      ]
    },
    {
      "cell_type": "code",
      "execution_count": null,
      "metadata": {
        "colab": {
          "base_uri": "https://localhost:8080/"
        },
        "outputId": "ba556bdc-4f57-409f-9535-e101062ee27a",
        "id": "BpWR0-UjAMDt"
      },
      "outputs": [
        {
          "output_type": "stream",
          "name": "stdout",
          "text": [
            "Cross validation scores: [0.717391304347826, 0.7608695652173914, 0.7333333333333333, 0.6666666666666666, 0.6444444444444445]\n",
            "Accuracy: 0.7045410628019323\n"
          ]
        }
      ],
      "source": [
        "# Cross validation and model training\n",
        "cvscores = []\n",
        "avg_score = 0.0\n",
        "K = 5\n",
        "kfold = StratifiedKFold(n_splits=K, shuffle=True, random_state=1)\n",
        "for train, test in kfold.split(x, Label_3):\n",
        "    model = XGBClassifier(objective = \"multi:softmax\",seed=42)\n",
        "    model.fit(x[train], Label_3[train])\n",
        "    score = model.score(x[test], Label_3[test])\n",
        "    cvscores.append(score)\n",
        "    avg_score = avg_score + score\n",
        "\n",
        "# Results\n",
        "avg_score = avg_score/K\n",
        "print(\"Cross validation scores: {}\".format(cvscores))\n",
        "print(\"Accuracy: {}\".format(avg_score))"
      ]
    },
    {
      "cell_type": "code",
      "execution_count": null,
      "metadata": {
        "id": "GoAlRebgnaVQ"
      },
      "outputs": [],
      "source": [
        ""
      ]
    }
  ]
}