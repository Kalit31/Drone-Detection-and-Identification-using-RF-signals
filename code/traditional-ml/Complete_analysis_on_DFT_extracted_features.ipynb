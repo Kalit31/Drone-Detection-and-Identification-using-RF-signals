{
  "nbformat": 4,
  "nbformat_minor": 0,
  "metadata": {
    "colab": {
      "name": "Complete analysis on DFT extracted features.ipynb",
      "provenance": [],
      "collapsed_sections": [
        "jOH5WmaA4z1t",
        "ZVWWA0RUGx77",
        "yn4MVbXVDMzy",
        "KHkPVhdIDMz2",
        "qbEsjjstDMz5",
        "QEdFJQjdG0_m",
        "oESAMUrQGQFu",
        "BX6cf4J8GQFx",
        "TxFq6kzmGQFz",
        "xKGP56cQDgC3",
        "GFOP7o6dDqti",
        "Reyh1eGoDqtj",
        "5ZgNQgR5Dqto",
        "vBr9bcnVDqtr",
        "6WOPV1XNDqtu",
        "7FEhNJURDqt4",
        "i2wt2BY1D3RK",
        "gpuqhVh_D3RP",
        "c6uWUtH1D3RP",
        "z4gw8sjOD3RQ",
        "SPBTFDOxD3RR",
        "RDWhqjgHD3RS",
        "7x9r31ZoD3RS",
        "RvbmpKOtD3RS"
      ]
    },
    "kernelspec": {
      "name": "python3",
      "display_name": "Python 3"
    },
    "language_info": {
      "name": "python"
    }
  },
  "cells": [
    {
      "cell_type": "code",
      "execution_count": 1,
      "metadata": {
        "id": "xGnKGbUO0xBq",
        "colab": {
          "base_uri": "https://localhost:8080/"
        },
        "outputId": "d8c804c5-635a-432a-e154-92b5e7788b9d"
      },
      "outputs": [
        {
          "output_type": "stream",
          "name": "stdout",
          "text": [
            "Mounted at /content/drive\n"
          ]
        }
      ],
      "source": [
        "from google.colab import drive\n",
        "drive.mount('/content/drive')"
      ]
    },
    {
      "cell_type": "code",
      "source": [
        "!pip install xgboost"
      ],
      "metadata": {
        "colab": {
          "base_uri": "https://localhost:8080/"
        },
        "id": "Ppd-VcT8Zmo8",
        "outputId": "b93a4f69-97dc-4491-f4e9-c308697cf0ff"
      },
      "execution_count": 2,
      "outputs": [
        {
          "output_type": "stream",
          "name": "stdout",
          "text": [
            "Requirement already satisfied: xgboost in /usr/local/lib/python3.7/dist-packages (0.90)\n",
            "Requirement already satisfied: scipy in /usr/local/lib/python3.7/dist-packages (from xgboost) (1.4.1)\n",
            "Requirement already satisfied: numpy in /usr/local/lib/python3.7/dist-packages (from xgboost) (1.21.5)\n"
          ]
        }
      ]
    },
    {
      "cell_type": "code",
      "source": [
        "!pip install imblearn"
      ],
      "metadata": {
        "colab": {
          "base_uri": "https://localhost:8080/"
        },
        "id": "KTVkxMDEeOTN",
        "outputId": "d9eb1666-8943-40fc-be19-b3991ba44188"
      },
      "execution_count": 3,
      "outputs": [
        {
          "output_type": "stream",
          "name": "stdout",
          "text": [
            "Requirement already satisfied: imblearn in /usr/local/lib/python3.7/dist-packages (0.0)\n",
            "Requirement already satisfied: imbalanced-learn in /usr/local/lib/python3.7/dist-packages (from imblearn) (0.8.1)\n",
            "Requirement already satisfied: scikit-learn>=0.24 in /usr/local/lib/python3.7/dist-packages (from imbalanced-learn->imblearn) (1.0.2)\n",
            "Requirement already satisfied: numpy>=1.13.3 in /usr/local/lib/python3.7/dist-packages (from imbalanced-learn->imblearn) (1.21.5)\n",
            "Requirement already satisfied: scipy>=0.19.1 in /usr/local/lib/python3.7/dist-packages (from imbalanced-learn->imblearn) (1.4.1)\n",
            "Requirement already satisfied: joblib>=0.11 in /usr/local/lib/python3.7/dist-packages (from imbalanced-learn->imblearn) (1.1.0)\n",
            "Requirement already satisfied: threadpoolctl>=2.0.0 in /usr/local/lib/python3.7/dist-packages (from scikit-learn>=0.24->imbalanced-learn->imblearn) (3.1.0)\n"
          ]
        }
      ]
    },
    {
      "cell_type": "code",
      "source": [
        "# Basic data handling libraries\n",
        "import numpy as np\n",
        "import pandas as pd\n",
        "np.random.seed(1)\n",
        "\n",
        "# Cross validation and hyperparameter tuning libraries\n",
        "from sklearn.model_selection import StratifiedKFold\n",
        "from sklearn.model_selection import train_test_split\n",
        "from sklearn.model_selection import RandomizedSearchCV\n",
        "from sklearn import metrics\n",
        "from sklearn import decomposition\n",
        "from sklearn.preprocessing import StandardScaler\n",
        "from sklearn.pipeline import Pipeline\n",
        "\n",
        "# Machine learning classifiers\n",
        "from xgboost import XGBClassifier\n",
        "from sklearn.ensemble import RandomForestClassifier\n",
        "from sklearn.svm import SVC\n",
        "\n",
        "import warnings\n",
        "warnings.filterwarnings('ignore')"
      ],
      "metadata": {
        "id": "OoPqJJMR4LGc"
      },
      "execution_count": 4,
      "outputs": []
    },
    {
      "cell_type": "code",
      "source": [
        "from imblearn.over_sampling import SMOTE\n",
        "smote = SMOTE()"
      ],
      "metadata": {
        "id": "Sj1q3eIZeTnu"
      },
      "execution_count": 5,
      "outputs": []
    },
    {
      "cell_type": "code",
      "source": [
        "def train_model_for_a_class(x,Label,K,use_smote):\n",
        "  # Cross validation and model training\n",
        "  cvscores = []\n",
        "  avg_score = 0.0\n",
        "  kfold = StratifiedKFold(n_splits=K, shuffle=True, random_state=42)\n",
        "\n",
        "  for train, test in kfold.split(x, Label):\n",
        "      if len(np.unique(Label)) == 2:\n",
        "        model = XGBClassifier(objective = \"binary:logistic\",seed=42)\n",
        "      else:\n",
        "        model = XGBClassifier(objective = \"multi:softmax\",seed=42)\n",
        "      if use_smote:\n",
        "        X_train_smote,y_train_smote = smote.fit_resample(x[train],Label[train])\n",
        "        model.fit(X_train_smote, y_train_smote)\n",
        "      else:\n",
        "        model.fit(x[train], Label[train])\n",
        "      score = model.score(x[test], Label[test])\n",
        "      cvscores.append(score)\n",
        "      avg_score = avg_score + score\n",
        "\n",
        "  avg_score = avg_score/K\n",
        "  return avg_score, cvscores"
      ],
      "metadata": {
        "id": "Hu3dsrlueXOJ"
      },
      "execution_count": 6,
      "outputs": []
    },
    {
      "cell_type": "code",
      "source": [
        "def train_model(data_file_path,use_smote=False): \n",
        "\n",
        "  data = np.loadtxt(data_file_path, delimiter=\",\")\n",
        "\n",
        "  num_samples = data.shape[1]\n",
        "  num_features = data.shape[0]-3\n",
        "\n",
        "  x = np.transpose(data[0:num_features:])\n",
        "  Label_1 = np.transpose(data[num_features:num_features+1,:]); Label_1 = Label_1.astype(int);\n",
        "  Label_2 = np.transpose(data[num_features+1:num_features+2,:]); Label_2 = Label_2.astype(int);\n",
        "  Label_3 = np.transpose(data[num_features+2:num_features+3,:]); Label_3 = Label_3.astype(int);\n",
        "\n",
        "  print(\"Number of points in the dataset: {}\".format(num_samples))\n",
        "  print(\"Number of features in each datapoint: {}\\n\".format(num_features))\n",
        "\n",
        "\n",
        "  # Preprocessing\n",
        "  scl = StandardScaler()\n",
        "  x = scl.fit_transform(x)\n",
        "\n",
        "  print(\"Training model for 2 class\")\n",
        "  avg_score_2_class, cvscores_2_class = train_model_for_a_class(x,Label_1,5,use_smote)\n",
        "  print(\"Results:\\n Cross validation scores: {} \\n Average accuracy: {}\\n\".format(cvscores_2_class, avg_score_2_class))\n",
        "\n",
        "  print(\"Training model for 4 class\")\n",
        "  avg_score_4_class, cvscores_4_class = train_model_for_a_class(x,Label_2,5,use_smote)\n",
        "  print(\"Results:\\n Cross validation scores: {} \\n Average accuracy: {}\\n\".format(cvscores_4_class, avg_score_4_class))\n",
        "\n",
        "  print(\"Training model for 10 class\")\n",
        "  avg_score_10_class, cvscores_10_class = train_model_for_a_class(x,Label_3,5,use_smote)\n",
        "  print(\"Results:\\n Cross validation scores: {} \\n Average accuracy: {}\\n\".format(cvscores_10_class, avg_score_10_class))"
      ],
      "metadata": {
        "id": "y6YyX1r2ezPy"
      },
      "execution_count": 7,
      "outputs": []
    },
    {
      "cell_type": "code",
      "source": [
        "# M stands for the number of frequency bins\n",
        "# L, H are the low and high bands\n",
        "# Segment factor is the factor by which a single signal of (1e7) points is segmented into before performing the FFT transformation"
      ],
      "metadata": {
        "id": "1VLXgI0KgUPj"
      },
      "execution_count": 8,
      "outputs": []
    },
    {
      "cell_type": "markdown",
      "source": [
        "# M = 1024"
      ],
      "metadata": {
        "id": "jOH5WmaA4z1t"
      }
    },
    {
      "cell_type": "markdown",
      "source": [
        "## (L+H)"
      ],
      "metadata": {
        "id": "tmBJGw4543LY"
      }
    },
    {
      "cell_type": "markdown",
      "source": [
        "### Segment factor = 100"
      ],
      "metadata": {
        "id": "k1ZlN6Jn5DqH"
      }
    },
    {
      "cell_type": "code",
      "source": [
        "train_model(\"/content/drive/MyDrive/CEERI Project - Kalit/data/fft_extracted_features/M=1024/Both bands/L=1e5/data.csv\",use_smote=True)"
      ],
      "metadata": {
        "id": "f7PPyOsm4LDj",
        "colab": {
          "base_uri": "https://localhost:8080/"
        },
        "outputId": "8d1f526b-edb8-4684-c38c-7f88a4398e2a"
      },
      "execution_count": null,
      "outputs": [
        {
          "output_type": "stream",
          "name": "stdout",
          "text": [
            "Number of points in the dataset: 22700\n",
            "Number of features in each datapoint: 1024\n",
            "\n",
            "Training model for 2 class\n",
            "Results:\n",
            " Cross validation scores: [0.9991189427312775, 0.9984581497797357, 0.9995594713656387, 0.9993392070484581, 0.9991189427312775] \n",
            " Average accuracy: 0.9991189427312774\n",
            "\n",
            "Training model for 4 class\n",
            "Results:\n",
            " Cross validation scores: [0.8700440528634361, 0.8634361233480177, 0.8643171806167401, 0.8612334801762115, 0.864977973568282] \n",
            " Average accuracy: 0.8648017621145374\n",
            "\n",
            "Training model for 10 class\n",
            "Results:\n",
            " Cross validation scores: [0.6083700440528634, 0.6121145374449339, 0.6107929515418502, 0.6231277533039647, 0.6044052863436123] \n",
            " Average accuracy: 0.6117621145374449\n",
            "\n"
          ]
        }
      ]
    },
    {
      "cell_type": "markdown",
      "source": [
        "### Segment factor = 10"
      ],
      "metadata": {
        "id": "aFTldw8UGQcz"
      }
    },
    {
      "cell_type": "code",
      "source": [
        "train_model(\"/content/drive/MyDrive/CEERI Project - Kalit/data/fft_extracted_features/M=1024/Both bands/L=1e6/data.csv\",use_smote=True)"
      ],
      "metadata": {
        "id": "2zeK2-J34Kxb",
        "colab": {
          "base_uri": "https://localhost:8080/"
        },
        "outputId": "6f6f7ca8-6dbb-44cb-e909-32ccfb517d4a"
      },
      "execution_count": null,
      "outputs": [
        {
          "output_type": "stream",
          "name": "stdout",
          "text": [
            "Number of points in the dataset: 2270\n",
            "Number of features in each datapoint: 1024\n",
            "\n",
            "Training model for 2 class\n",
            "Results:\n",
            " Cross validation scores: [1.0, 0.9977973568281938, 0.9933920704845814, 0.9955947136563876, 0.9955947136563876] \n",
            " Average accuracy: 0.9964757709251101\n",
            "\n",
            "Training model for 4 class\n",
            "Results:\n",
            " Cross validation scores: [0.9229074889867841, 0.9427312775330396, 0.947136563876652, 0.9427312775330396, 0.9405286343612335] \n",
            " Average accuracy: 0.9392070484581497\n",
            "\n",
            "Training model for 10 class\n",
            "Results:\n",
            " Cross validation scores: [0.5925110132158591, 0.6607929515418502, 0.6651982378854625, 0.6475770925110133, 0.6541850220264317] \n",
            " Average accuracy: 0.6440528634361233\n",
            "\n"
          ]
        }
      ]
    },
    {
      "cell_type": "markdown",
      "source": [
        "### Take entire input as signal"
      ],
      "metadata": {
        "id": "66BNl0v8GXzW"
      }
    },
    {
      "cell_type": "code",
      "source": [
        "train_model(\"/content/drive/MyDrive/CEERI Project - Kalit/data/fft_extracted_features/M=1024/Both bands/entire signal/data.csv\",use_smote=True)"
      ],
      "metadata": {
        "id": "5036XPvh4Kur",
        "colab": {
          "base_uri": "https://localhost:8080/"
        },
        "outputId": "a856864d-c011-4d16-9a0e-17e82460b13f"
      },
      "execution_count": null,
      "outputs": [
        {
          "output_type": "stream",
          "name": "stdout",
          "text": [
            "Number of points in the dataset: 227\n",
            "Number of features in each datapoint: 1024\n",
            "\n",
            "Training model for 2 class\n",
            "Results:\n",
            " Cross validation scores: [0.9782608695652174, 0.9782608695652174, 0.9333333333333333, 0.8888888888888888, 0.9555555555555556] \n",
            " Average accuracy: 0.9468599033816425\n",
            "\n",
            "Training model for 4 class\n",
            "Results:\n",
            " Cross validation scores: [0.8695652173913043, 0.8260869565217391, 0.9333333333333333, 0.8888888888888888, 0.9333333333333333] \n",
            " Average accuracy: 0.8902415458937197\n",
            "\n",
            "Training model for 10 class\n",
            "Results:\n",
            " Cross validation scores: [0.5, 0.5, 0.6666666666666666, 0.5777777777777777, 0.5555555555555556] \n",
            " Average accuracy: 0.5599999999999999\n",
            "\n"
          ]
        }
      ]
    },
    {
      "cell_type": "markdown",
      "source": [
        "## (H)"
      ],
      "metadata": {
        "id": "ZVWWA0RUGx77"
      }
    },
    {
      "cell_type": "markdown",
      "source": [
        "### Segment by factor of 100"
      ],
      "metadata": {
        "id": "yn4MVbXVDMzy"
      }
    },
    {
      "cell_type": "code",
      "source": [
        "train_model(\"/content/drive/MyDrive/CEERI Project - Kalit/data/fft_extracted_features/M=1024/Upper band/L=1e5/data.csv\",use_smote=True)"
      ],
      "metadata": {
        "id": "vBQXgAtADMzy"
      },
      "execution_count": null,
      "outputs": []
    },
    {
      "cell_type": "markdown",
      "source": [
        "### Segment by factor of 10"
      ],
      "metadata": {
        "id": "KHkPVhdIDMz2"
      }
    },
    {
      "cell_type": "code",
      "source": [
        "train_model(\"/content/drive/MyDrive/CEERI Project - Kalit/data/fft_extracted_features/M=1024/Upper band/L=1e6/data.csv\",use_smote=True)"
      ],
      "metadata": {
        "id": "v5Ka1UVKDMz2",
        "colab": {
          "base_uri": "https://localhost:8080/"
        },
        "outputId": "fbd0dcff-ffbc-4a98-9d78-3b3d4fb9a4c9"
      },
      "execution_count": null,
      "outputs": [
        {
          "output_type": "stream",
          "name": "stdout",
          "text": [
            "Number of points in the dataset: 2270\n",
            "Number of features in each datapoint: 512\n",
            "\n",
            "Training model for 2 class\n",
            "Results:\n",
            " Cross validation scores: [0.8986784140969163, 0.8942731277533039, 0.8788546255506607, 0.9118942731277533, 0.8942731277533039] \n",
            " Average accuracy: 0.8955947136563877\n",
            "\n",
            "Training model for 4 class\n",
            "Results:\n",
            " Cross validation scores: [0.6321585903083701, 0.579295154185022, 0.6541850220264317, 0.6255506607929515, 0.6321585903083701] \n",
            " Average accuracy: 0.6246696035242291\n",
            "\n",
            "Training model for 10 class\n",
            "Results:\n",
            " Cross validation scores: [0.6079295154185022, 0.6035242290748899, 0.5704845814977973, 0.5770925110132159, 0.6277533039647577] \n",
            " Average accuracy: 0.5973568281938325\n",
            "\n"
          ]
        }
      ]
    },
    {
      "cell_type": "markdown",
      "source": [
        "### Take entire input as signal"
      ],
      "metadata": {
        "id": "qbEsjjstDMz5"
      }
    },
    {
      "cell_type": "code",
      "source": [
        "train_model(\"/content/drive/MyDrive/CEERI Project - Kalit/data/fft_extracted_features/M=1024/Upper band/entire signal/data.csv\",use_smote=True)"
      ],
      "metadata": {
        "id": "YtuCIGX3DMz5",
        "colab": {
          "base_uri": "https://localhost:8080/"
        },
        "outputId": "e7b9fa10-80f2-46f6-c40c-138f9d250f5a"
      },
      "execution_count": null,
      "outputs": [
        {
          "output_type": "stream",
          "name": "stdout",
          "text": [
            "Number of points in the dataset: 227\n",
            "Number of features in each datapoint: 512\n",
            "\n",
            "Training model for 2 class\n",
            "Results:\n",
            " Cross validation scores: [0.9565217391304348, 1.0, 0.9555555555555556, 0.9777777777777777, 0.9333333333333333] \n",
            " Average accuracy: 0.9646376811594204\n",
            "\n",
            "Training model for 4 class\n",
            "Results:\n",
            " Cross validation scores: [0.717391304347826, 0.6521739130434783, 0.6666666666666666, 0.5555555555555556, 0.4666666666666667] \n",
            " Average accuracy: 0.6116908212560386\n",
            "\n",
            "Training model for 10 class\n",
            "Results:\n",
            " Cross validation scores: [0.43478260869565216, 0.43478260869565216, 0.4222222222222222, 0.4888888888888889, 0.4888888888888889] \n",
            " Average accuracy: 0.45391304347826084\n",
            "\n"
          ]
        }
      ]
    },
    {
      "cell_type": "markdown",
      "source": [
        "## (L)"
      ],
      "metadata": {
        "id": "QEdFJQjdG0_m"
      }
    },
    {
      "cell_type": "markdown",
      "source": [
        "### Segment by factor of 100"
      ],
      "metadata": {
        "id": "oESAMUrQGQFu"
      }
    },
    {
      "cell_type": "code",
      "source": [
        "train_model(\"/content/drive/MyDrive/CEERI Project - Kalit/data/fft_extracted_features/M=1024/Lower band/L=1e5/data.csv\",use_smote=True)"
      ],
      "metadata": {
        "id": "p0A4iRvqGQFv"
      },
      "execution_count": null,
      "outputs": []
    },
    {
      "cell_type": "markdown",
      "source": [
        "### Segment by factor of 10"
      ],
      "metadata": {
        "id": "BX6cf4J8GQFx"
      }
    },
    {
      "cell_type": "code",
      "source": [
        "train_model(\"/content/drive/MyDrive/CEERI Project - Kalit/data/fft_extracted_features/M=1024/Lower band/L=1e6/data.csv\",use_smote=True)"
      ],
      "metadata": {
        "id": "gFFY7t8bGQFx",
        "colab": {
          "base_uri": "https://localhost:8080/"
        },
        "outputId": "ac6a941e-7617-472c-9e8b-c2f39b7a6e79"
      },
      "execution_count": null,
      "outputs": [
        {
          "output_type": "stream",
          "name": "stdout",
          "text": [
            "Number of points in the dataset: 2270\n",
            "Number of features in each datapoint: 512\n",
            "\n",
            "Training model for 2 class\n",
            "Results:\n",
            " Cross validation scores: [1.0, 0.9977973568281938, 0.9911894273127754, 0.9933920704845814, 0.9977973568281938] \n",
            " Average accuracy: 0.9960352422907489\n",
            "\n",
            "Training model for 4 class\n",
            "Results:\n",
            " Cross validation scores: [0.9295154185022027, 0.9449339207048458, 0.9427312775330396, 0.9405286343612335, 0.9383259911894273] \n",
            " Average accuracy: 0.9392070484581497\n",
            "\n",
            "Training model for 10 class\n",
            "Results:\n",
            " Cross validation scores: [0.6123348017621145, 0.6696035242290749, 0.6651982378854625, 0.6563876651982379, 0.6563876651982379] \n",
            " Average accuracy: 0.6519823788546255\n",
            "\n"
          ]
        }
      ]
    },
    {
      "cell_type": "markdown",
      "source": [
        "### Take entire input as signal"
      ],
      "metadata": {
        "id": "TxFq6kzmGQFz"
      }
    },
    {
      "cell_type": "code",
      "source": [
        "train_model(\"/content/drive/MyDrive/CEERI Project - Kalit/data/fft_extracted_features/M=1024/Lower band/entire signal/data.csv\",use_smote=True)"
      ],
      "metadata": {
        "id": "AqoD1f-XGQFz",
        "colab": {
          "base_uri": "https://localhost:8080/"
        },
        "outputId": "1768da88-0aa2-474f-f728-9b084baf762e"
      },
      "execution_count": null,
      "outputs": [
        {
          "output_type": "stream",
          "name": "stdout",
          "text": [
            "Number of points in the dataset: 227\n",
            "Number of features in each datapoint: 512\n",
            "\n",
            "Training model for 2 class\n",
            "Results:\n",
            " Cross validation scores: [1.0, 0.9782608695652174, 0.9777777777777777, 0.8666666666666667, 0.9555555555555556] \n",
            " Average accuracy: 0.9556521739130435\n",
            "\n",
            "Training model for 4 class\n",
            "Results:\n",
            " Cross validation scores: [0.9130434782608695, 0.8913043478260869, 0.9777777777777777, 0.9333333333333333, 0.9111111111111111] \n",
            " Average accuracy: 0.9253140096618357\n",
            "\n",
            "Training model for 10 class\n",
            "Results:\n",
            " Cross validation scores: [0.5869565217391305, 0.6086956521739131, 0.7111111111111111, 0.6222222222222222, 0.5333333333333333] \n",
            " Average accuracy: 0.612463768115942\n",
            "\n"
          ]
        }
      ]
    },
    {
      "cell_type": "markdown",
      "metadata": {
        "id": "xKGP56cQDgC3"
      },
      "source": [
        "# M = 2048"
      ]
    },
    {
      "cell_type": "markdown",
      "metadata": {
        "id": "GFOP7o6dDqti"
      },
      "source": [
        "\n",
        "\n",
        "## (H+L)"
      ]
    },
    {
      "cell_type": "markdown",
      "metadata": {
        "id": "Reyh1eGoDqtj"
      },
      "source": [
        "### Segment factor = 100"
      ]
    },
    {
      "cell_type": "code",
      "execution_count": null,
      "metadata": {
        "id": "CgBdA7njDqtk"
      },
      "outputs": [],
      "source": [
        "train_model(\"/content/drive/MyDrive/CEERI Project - Kalit/data/fft_extracted_features/M=2048/Both bands/L=1e5/data.csv\",use_smote=True)"
      ]
    },
    {
      "cell_type": "markdown",
      "metadata": {
        "id": "5ZgNQgR5Dqto"
      },
      "source": [
        "### Segment by factor of 10"
      ]
    },
    {
      "cell_type": "code",
      "execution_count": null,
      "metadata": {
        "id": "OR4EqpKADqto",
        "colab": {
          "base_uri": "https://localhost:8080/"
        },
        "outputId": "be8b03ca-20da-4766-b8e3-259c1a045151"
      },
      "outputs": [
        {
          "output_type": "stream",
          "name": "stdout",
          "text": [
            "Number of points in the dataset: 2270\n",
            "Number of features in each datapoint: 2048\n",
            "\n",
            "Training model for 2 class\n",
            "Results:\n",
            " Cross validation scores: [0.9977973568281938, 0.9955947136563876, 1.0, 0.9977973568281938, 0.9977973568281938] \n",
            " Average accuracy: 0.9977973568281937\n",
            "\n",
            "Training model for 4 class\n",
            "Results:\n",
            " Cross validation scores: [0.9779735682819384, 0.9669603524229075, 0.973568281938326, 0.9493392070484582, 0.986784140969163] \n",
            " Average accuracy: 0.9709251101321585\n",
            "\n",
            "Training model for 10 class\n",
            "Results:\n",
            " Cross validation scores: [0.6828193832599119, 0.7158590308370044, 0.698237885462555, 0.7290748898678414, 0.724669603524229] \n",
            " Average accuracy: 0.7101321585903083\n",
            "\n"
          ]
        }
      ],
      "source": [
        "train_model(\"/content/drive/MyDrive/CEERI Project - Kalit/data/fft_extracted_features/M=2048/Both bands/L=1e6/data.csv\",use_smote=True)"
      ]
    },
    {
      "cell_type": "markdown",
      "metadata": {
        "id": "vBr9bcnVDqtr"
      },
      "source": [
        "### Take entire input as signal"
      ]
    },
    {
      "cell_type": "code",
      "execution_count": null,
      "metadata": {
        "colab": {
          "base_uri": "https://localhost:8080/"
        },
        "id": "1Aivf4WuDqts",
        "outputId": "4df6e7b2-f747-41b3-88c9-1b1f901cf606"
      },
      "outputs": [
        {
          "output_type": "stream",
          "name": "stdout",
          "text": [
            "Number of points in the dataset: 227\n",
            "Number of features in each datapoint: 2048\n",
            "\n",
            "Training model for 2 class\n",
            "Results:\n",
            " Cross validation scores: [1.0, 0.9565217391304348, 0.9555555555555556, 0.9111111111111111, 0.9777777777777777] \n",
            " Average accuracy: 0.9601932367149757\n",
            "\n",
            "Training model for 4 class\n",
            "Results:\n",
            " Cross validation scores: [0.8260869565217391, 0.8478260869565217, 0.9555555555555556, 0.7777777777777778, 0.7777777777777778] \n",
            " Average accuracy: 0.8370048309178744\n",
            "\n",
            "Training model for 10 class\n",
            "Results:\n",
            " Cross validation scores: [0.5869565217391305, 0.5, 0.5333333333333333, 0.6, 0.6] \n",
            " Average accuracy: 0.5640579710144927\n",
            "\n"
          ]
        }
      ],
      "source": [
        "train_model(\"/content/drive/MyDrive/CEERI Project - Kalit/data/fft_extracted_features/M=2048/Both bands/entire signal/data.csv\",use_smote=True)"
      ]
    },
    {
      "cell_type": "markdown",
      "metadata": {
        "id": "6WOPV1XNDqtu"
      },
      "source": [
        "## (H)"
      ]
    },
    {
      "cell_type": "markdown",
      "metadata": {
        "id": "IKH6gjWIDqtv"
      },
      "source": [
        "### Segment by factor of 100"
      ]
    },
    {
      "cell_type": "code",
      "execution_count": null,
      "metadata": {
        "id": "9e_rU4IiDqtv"
      },
      "outputs": [],
      "source": [
        "train_model(\"/content/drive/MyDrive/CEERI Project - Kalit/data/fft_extracted_features/M=2048/Upper band/L=1e5/data.csv\",use_smote=True)"
      ]
    },
    {
      "cell_type": "markdown",
      "metadata": {
        "id": "4XI6s9j1Dqty"
      },
      "source": [
        "### Segment by factor of 10"
      ]
    },
    {
      "cell_type": "code",
      "execution_count": null,
      "metadata": {
        "id": "zlpU0SGDDqty",
        "colab": {
          "base_uri": "https://localhost:8080/"
        },
        "outputId": "47b29a38-8991-4683-81a2-c2941dc38745"
      },
      "outputs": [
        {
          "output_type": "stream",
          "name": "stdout",
          "text": [
            "Number of points in the dataset: 2270\n",
            "Number of features in each datapoint: 1024\n",
            "\n",
            "Training model for 2 class\n",
            "Results:\n",
            " Cross validation scores: [0.9118942731277533, 0.9295154185022027, 0.9317180616740088, 0.9140969162995595, 0.9361233480176211] \n",
            " Average accuracy: 0.9246696035242291\n",
            "\n",
            "Training model for 4 class\n",
            "Results:\n",
            " Cross validation scores: [0.6233480176211453, 0.7048458149779736, 0.6563876651982379, 0.6894273127753304, 0.6497797356828194] \n",
            " Average accuracy: 0.6647577092511014\n",
            "\n",
            "Training model for 10 class\n",
            "Results:\n",
            " Cross validation scores: [0.5616740088105727, 0.5572687224669604, 0.5198237885462555, 0.4933920704845815, 0.5352422907488987] \n",
            " Average accuracy: 0.5334801762114537\n",
            "\n"
          ]
        }
      ],
      "source": [
        "train_model(\"/content/drive/MyDrive/CEERI Project - Kalit/data/fft_extracted_features/M=2048/Upper band/L=1e6/data.csv\",use_smote=True)"
      ]
    },
    {
      "cell_type": "markdown",
      "metadata": {
        "id": "CIgSXrpADqt1"
      },
      "source": [
        "### Take entire input as signal"
      ]
    },
    {
      "cell_type": "code",
      "execution_count": null,
      "metadata": {
        "id": "p8LsIEXiDqt1",
        "colab": {
          "base_uri": "https://localhost:8080/"
        },
        "outputId": "0cb0aaf5-4fdf-4760-b1b7-5358e7b7ff14"
      },
      "outputs": [
        {
          "output_type": "stream",
          "name": "stdout",
          "text": [
            "Number of points in the dataset: 227\n",
            "Number of features in each datapoint: 1024\n",
            "\n",
            "Training model for 2 class\n",
            "Results:\n",
            " Cross validation scores: [1.0, 0.9565217391304348, 0.9777777777777777, 0.9555555555555556, 0.9777777777777777] \n",
            " Average accuracy: 0.9735265700483092\n",
            "\n",
            "Training model for 4 class\n",
            "Results:\n",
            " Cross validation scores: [0.6739130434782609, 0.5869565217391305, 0.6, 0.6888888888888889, 0.6] \n",
            " Average accuracy: 0.6299516908212561\n",
            "\n",
            "Training model for 10 class\n",
            "Results:\n",
            " Cross validation scores: [0.43478260869565216, 0.4782608695652174, 0.4222222222222222, 0.4444444444444444, 0.4666666666666667] \n",
            " Average accuracy: 0.44927536231884063\n",
            "\n"
          ]
        }
      ],
      "source": [
        "train_model(\"/content/drive/MyDrive/CEERI Project - Kalit/data/fft_extracted_features/M=2048/Upper band/entire signal/data.csv\",use_smote=True)"
      ]
    },
    {
      "cell_type": "markdown",
      "metadata": {
        "id": "7FEhNJURDqt4"
      },
      "source": [
        "## (L)"
      ]
    },
    {
      "cell_type": "markdown",
      "metadata": {
        "id": "jGULT13KDqt5"
      },
      "source": [
        "### Segment factor = 100"
      ]
    },
    {
      "cell_type": "code",
      "execution_count": null,
      "metadata": {
        "id": "_3M5dTD1Dqt5"
      },
      "outputs": [],
      "source": [
        "train_model(\"/content/drive/MyDrive/CEERI Project - Kalit/data/fft_extracted_features/M=2048/Lower band/L=1e5/data.csv\",use_smote=True)"
      ]
    },
    {
      "cell_type": "markdown",
      "metadata": {
        "id": "fkLH7kRUDqt8"
      },
      "source": [
        "### Segment by factor of 10"
      ]
    },
    {
      "cell_type": "code",
      "execution_count": null,
      "metadata": {
        "id": "iDlDkp-oDqt8",
        "colab": {
          "base_uri": "https://localhost:8080/"
        },
        "outputId": "415424cd-61a0-42a6-9836-b6e1d76d7c86"
      },
      "outputs": [
        {
          "output_type": "stream",
          "name": "stdout",
          "text": [
            "Number of points in the dataset: 2270\n",
            "Number of features in each datapoint: 1024\n",
            "\n",
            "Training model for 2 class\n",
            "Results:\n",
            " Cross validation scores: [1.0, 1.0, 1.0, 0.9977973568281938, 0.9955947136563876] \n",
            " Average accuracy: 0.9986784140969164\n",
            "\n",
            "Training model for 4 class\n",
            "Results:\n",
            " Cross validation scores: [0.9361233480176211, 0.9229074889867841, 0.9515418502202643, 0.9185022026431718, 0.9559471365638766] \n",
            " Average accuracy: 0.9370044052863434\n",
            "\n",
            "Training model for 10 class\n",
            "Results:\n",
            " Cross validation scores: [0.6497797356828194, 0.6828193832599119, 0.6585903083700441, 0.6784140969162996, 0.6894273127753304] \n",
            " Average accuracy: 0.6718061674008811\n",
            "\n"
          ]
        }
      ],
      "source": [
        "train_model(\"/content/drive/MyDrive/CEERI Project - Kalit/data/fft_extracted_features/M=2048/Lower band/L=1e6/data.csv\",use_smote=True)"
      ]
    },
    {
      "cell_type": "markdown",
      "metadata": {
        "id": "Z2Po0GMkDqt_"
      },
      "source": [
        "### Take entire input as signal"
      ]
    },
    {
      "cell_type": "code",
      "execution_count": null,
      "metadata": {
        "id": "Qg7rVOIDDqt_"
      },
      "outputs": [],
      "source": [
        "rf_data = np.loadtxt(\"/content/drive/MyDrive/CEERI Project - Kalit/data/fft_extracted_features/M=2048/Lower band/entire signal/data.csv\", delimiter=\",\")"
      ]
    },
    {
      "cell_type": "markdown",
      "metadata": {
        "id": "4DNvR30bD01X"
      },
      "source": [
        "# M = 4096"
      ]
    },
    {
      "cell_type": "markdown",
      "metadata": {
        "id": "i2wt2BY1D3RK"
      },
      "source": [
        "## (H+L) "
      ]
    },
    {
      "cell_type": "markdown",
      "metadata": {
        "id": "Trn_QZyrD3RL"
      },
      "source": [
        "### Segment by factor of 100"
      ]
    },
    {
      "cell_type": "code",
      "execution_count": null,
      "metadata": {
        "id": "D7TFsdxlD3RL"
      },
      "outputs": [],
      "source": [
        "train_model(\"/content/drive/MyDrive/CEERI Project - Kalit/data/fft_extracted_features/M=4096/Both bands/L=1e5/data.csv\",use_smote=True)"
      ]
    },
    {
      "cell_type": "markdown",
      "metadata": {
        "id": "Ishfqw9wD3RO"
      },
      "source": [
        "### Segment by factor of 10"
      ]
    },
    {
      "cell_type": "code",
      "execution_count": null,
      "metadata": {
        "id": "wStlybXzD3RO"
      },
      "outputs": [],
      "source": [
        "train_model(\"/content/drive/MyDrive/CEERI Project - Kalit/data/fft_extracted_features/M=4096/Both bands/L=1e6/data.csv\",use_smote=True)"
      ]
    },
    {
      "cell_type": "markdown",
      "metadata": {
        "id": "RCyuS5Z1D3RP"
      },
      "source": [
        "### Take entire input as signal"
      ]
    },
    {
      "cell_type": "code",
      "execution_count": null,
      "metadata": {
        "id": "dVtLFq1XD3RP"
      },
      "outputs": [],
      "source": [
        "train_model(\"/content/drive/MyDrive/CEERI Project - Kalit/data/fft_extracted_features/M=4096/Both bands/entire signal/data.csv\",use_smote=True)"
      ]
    },
    {
      "cell_type": "markdown",
      "metadata": {
        "id": "gpuqhVh_D3RP"
      },
      "source": [
        "## (H)"
      ]
    },
    {
      "cell_type": "markdown",
      "metadata": {
        "id": "c6uWUtH1D3RP"
      },
      "source": [
        "### Segment by factor of 100"
      ]
    },
    {
      "cell_type": "code",
      "execution_count": null,
      "metadata": {
        "id": "qrHsO19cD3RQ"
      },
      "outputs": [],
      "source": [
        "train_model(\"/content/drive/MyDrive/CEERI Project - Kalit/data/fft_extracted_features/M=4096/Upper band/L=1e5/data.csv\",use_smote=True)"
      ]
    },
    {
      "cell_type": "markdown",
      "metadata": {
        "id": "z4gw8sjOD3RQ"
      },
      "source": [
        "### Segment by factor of 10"
      ]
    },
    {
      "cell_type": "code",
      "execution_count": 10,
      "metadata": {
        "id": "lmiBpywJD3RQ",
        "colab": {
          "base_uri": "https://localhost:8080/"
        },
        "outputId": "7acbea3a-6206-42a8-b108-df6c5e111dc9"
      },
      "outputs": [
        {
          "output_type": "stream",
          "name": "stdout",
          "text": [
            "Number of points in the dataset: 2270\n",
            "Number of features in each datapoint: 2048\n",
            "\n",
            "Training model for 2 class\n",
            "Results:\n",
            " Cross validation scores: [0.9757709251101322, 0.973568281938326, 0.9713656387665198, 0.9713656387665198, 0.9801762114537445] \n",
            " Average accuracy: 0.9744493392070485\n",
            "\n",
            "Training model for 4 class\n",
            "Results:\n",
            " Cross validation scores: [0.7599118942731278, 0.7797356828193832, 0.7841409691629956, 0.748898678414097, 0.7775330396475771] \n",
            " Average accuracy: 0.7700440528634361\n",
            "\n",
            "Training model for 10 class\n",
            "Results:\n",
            " Cross validation scores: [0.698237885462555, 0.6607929515418502, 0.6651982378854625, 0.6497797356828194, 0.6696035242290749] \n",
            " Average accuracy: 0.6687224669603523\n",
            "\n"
          ]
        }
      ],
      "source": [
        "train_model(\"/content/drive/MyDrive/CEERI Project - Kalit/data/fft_extracted_features/M=4096/Upper band/L=1e6/data.csv\",use_smote=True)"
      ]
    },
    {
      "cell_type": "markdown",
      "metadata": {
        "id": "SPBTFDOxD3RR"
      },
      "source": [
        "### Take entire input as signal"
      ]
    },
    {
      "cell_type": "code",
      "execution_count": 11,
      "metadata": {
        "id": "Czoei099D3RR",
        "colab": {
          "base_uri": "https://localhost:8080/"
        },
        "outputId": "899ac0e1-5a8e-4962-8268-39d674e5b6b3"
      },
      "outputs": [
        {
          "output_type": "stream",
          "name": "stdout",
          "text": [
            "Number of points in the dataset: 227\n",
            "Number of features in each datapoint: 2048\n",
            "\n",
            "Training model for 2 class\n",
            "Results:\n",
            " Cross validation scores: [0.9782608695652174, 0.9782608695652174, 0.9777777777777777, 1.0, 0.9777777777777777] \n",
            " Average accuracy: 0.9824154589371981\n",
            "\n",
            "Training model for 4 class\n",
            "Results:\n",
            " Cross validation scores: [0.5869565217391305, 0.6956521739130435, 0.6, 0.6888888888888889, 0.6444444444444445] \n",
            " Average accuracy: 0.6431884057971013\n",
            "\n",
            "Training model for 10 class\n",
            "Results:\n",
            " Cross validation scores: [0.45652173913043476, 0.43478260869565216, 0.4666666666666667, 0.4444444444444444, 0.5111111111111111] \n",
            " Average accuracy: 0.46270531400966186\n",
            "\n"
          ]
        }
      ],
      "source": [
        "train_model(\"/content/drive/MyDrive/CEERI Project - Kalit/data/fft_extracted_features/M=4096/Upper band/entire signal/data.csv\",use_smote=True)"
      ]
    },
    {
      "cell_type": "markdown",
      "metadata": {
        "id": "RDWhqjgHD3RS"
      },
      "source": [
        "## (L)"
      ]
    },
    {
      "cell_type": "markdown",
      "metadata": {
        "id": "7x9r31ZoD3RS"
      },
      "source": [
        "### Segment by factor of 100"
      ]
    },
    {
      "cell_type": "code",
      "execution_count": null,
      "metadata": {
        "id": "EhLF60gYD3RS"
      },
      "outputs": [],
      "source": [
        "train_model(\"/content/drive/MyDrive/CEERI Project - Kalit/data/fft_extracted_features/M=4096/Upper band/L=1e5/data.csv\",use_smote=True)"
      ]
    },
    {
      "cell_type": "markdown",
      "metadata": {
        "id": "RvbmpKOtD3RS"
      },
      "source": [
        "### Segment by factor of 10"
      ]
    },
    {
      "cell_type": "code",
      "execution_count": 12,
      "metadata": {
        "id": "BcwI5zPtD3RT",
        "colab": {
          "base_uri": "https://localhost:8080/"
        },
        "outputId": "49d89690-f6c6-4464-82a8-9696d82196d5"
      },
      "outputs": [
        {
          "output_type": "stream",
          "name": "stdout",
          "text": [
            "Number of points in the dataset: 2270\n",
            "Number of features in each datapoint: 2048\n",
            "\n",
            "Training model for 2 class\n",
            "Results:\n",
            " Cross validation scores: [0.9955947136563876, 0.9977973568281938, 1.0, 1.0, 1.0] \n",
            " Average accuracy: 0.9986784140969164\n",
            "\n",
            "Training model for 4 class\n",
            "Results:\n",
            " Cross validation scores: [0.9691629955947136, 0.9691629955947136, 0.973568281938326, 0.9295154185022027, 0.9647577092511013] \n",
            " Average accuracy: 0.9612334801762115\n",
            "\n",
            "Training model for 10 class\n",
            "Results:\n",
            " Cross validation scores: [0.8193832599118943, 0.8149779735682819, 0.8193832599118943, 0.7797356828193832, 0.8348017621145375] \n",
            " Average accuracy: 0.8136563876651983\n",
            "\n"
          ]
        }
      ],
      "source": [
        "train_model(\"/content/drive/MyDrive/CEERI Project - Kalit/data/fft_extracted_features/M=4096/Lower band/L=1e6/data.csv\",use_smote=True)"
      ]
    },
    {
      "cell_type": "markdown",
      "metadata": {
        "id": "ETU8KsBTD3RT"
      },
      "source": [
        "### Take entire input as signal"
      ]
    },
    {
      "cell_type": "code",
      "execution_count": 13,
      "metadata": {
        "id": "p1ZNBR9ED3RT",
        "colab": {
          "base_uri": "https://localhost:8080/"
        },
        "outputId": "9c10a3b7-1bc8-4913-a97c-ab918f3a39a6"
      },
      "outputs": [
        {
          "output_type": "stream",
          "name": "stdout",
          "text": [
            "Number of points in the dataset: 227\n",
            "Number of features in each datapoint: 2048\n",
            "\n",
            "Training model for 2 class\n",
            "Results:\n",
            " Cross validation scores: [0.9130434782608695, 1.0, 0.9777777777777777, 0.9333333333333333, 0.9111111111111111] \n",
            " Average accuracy: 0.9470531400966185\n",
            "\n",
            "Training model for 4 class\n",
            "Results:\n",
            " Cross validation scores: [0.8695652173913043, 0.9130434782608695, 0.9555555555555556, 0.9111111111111111, 0.9777777777777777] \n",
            " Average accuracy: 0.9254106280193236\n",
            "\n",
            "Training model for 10 class\n",
            "Results:\n",
            " Cross validation scores: [0.7608695652173914, 0.6956521739130435, 0.7777777777777778, 0.7333333333333333, 0.6] \n",
            " Average accuracy: 0.7135265700483092\n",
            "\n"
          ]
        }
      ],
      "source": [
        "train_model(\"/content/drive/MyDrive/CEERI Project - Kalit/data/fft_extracted_features/M=4096/Lower band/entire signal/data.csv\",use_smote=True)"
      ]
    }
  ]
}