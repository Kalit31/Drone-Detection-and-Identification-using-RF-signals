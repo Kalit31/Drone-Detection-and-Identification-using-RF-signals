{
  "cells": [
    {
      "cell_type": "code",
      "execution_count": 96,
      "metadata": {
        "colab": {
          "base_uri": "https://localhost:8080/"
        },
        "id": "-dUhyQo9j8q1",
        "outputId": "a4bc0630-a688-4e78-ea9a-cdd746f6420d"
      },
      "outputs": [
        {
          "output_type": "stream",
          "name": "stdout",
          "text": [
            "Drive already mounted at /content/drive; to attempt to forcibly remount, call drive.mount(\"/content/drive\", force_remount=True).\n"
          ]
        }
      ],
      "source": [
        "from google.colab import drive\n",
        "drive.mount('/content/drive')"
      ]
    },
    {
      "cell_type": "code",
      "execution_count": 97,
      "metadata": {
        "colab": {
          "base_uri": "https://localhost:8080/"
        },
        "id": "Oen3r2bLkE9g",
        "outputId": "eef7dcc4-169e-4cb4-d7ef-7d2c815b475f"
      },
      "outputs": [
        {
          "output_type": "stream",
          "name": "stdout",
          "text": [
            "Requirement already satisfied: xgboost in /usr/local/lib/python3.7/dist-packages (0.90)\n",
            "Requirement already satisfied: scipy in /usr/local/lib/python3.7/dist-packages (from xgboost) (1.4.1)\n",
            "Requirement already satisfied: numpy in /usr/local/lib/python3.7/dist-packages (from xgboost) (1.21.5)\n"
          ]
        }
      ],
      "source": [
        "!pip install xgboost"
      ]
    },
    {
      "cell_type": "code",
      "source": [
        "!pip install imblearn"
      ],
      "metadata": {
        "colab": {
          "base_uri": "https://localhost:8080/"
        },
        "id": "I4UB872o79zP",
        "outputId": "a027f76f-aa34-4ec5-ea31-69b3924196ff"
      },
      "execution_count": 98,
      "outputs": [
        {
          "output_type": "stream",
          "name": "stdout",
          "text": [
            "Requirement already satisfied: imblearn in /usr/local/lib/python3.7/dist-packages (0.0)\n",
            "Requirement already satisfied: imbalanced-learn in /usr/local/lib/python3.7/dist-packages (from imblearn) (0.8.1)\n",
            "Requirement already satisfied: scikit-learn>=0.24 in /usr/local/lib/python3.7/dist-packages (from imbalanced-learn->imblearn) (1.0.2)\n",
            "Requirement already satisfied: joblib>=0.11 in /usr/local/lib/python3.7/dist-packages (from imbalanced-learn->imblearn) (1.1.0)\n",
            "Requirement already satisfied: scipy>=0.19.1 in /usr/local/lib/python3.7/dist-packages (from imbalanced-learn->imblearn) (1.4.1)\n",
            "Requirement already satisfied: numpy>=1.13.3 in /usr/local/lib/python3.7/dist-packages (from imbalanced-learn->imblearn) (1.21.5)\n",
            "Requirement already satisfied: threadpoolctl>=2.0.0 in /usr/local/lib/python3.7/dist-packages (from scikit-learn>=0.24->imbalanced-learn->imblearn) (3.1.0)\n"
          ]
        }
      ]
    },
    {
      "cell_type": "code",
      "execution_count": 99,
      "metadata": {
        "id": "hwXUYcMpkE0q"
      },
      "outputs": [],
      "source": [
        "# Basic data handling libraries\n",
        "import numpy as np\n",
        "import pandas as pd\n",
        "np.random.seed(1)\n",
        "\n",
        "# Cross validation and hyperparameter tuning libraries\n",
        "from sklearn.model_selection import StratifiedKFold\n",
        "from sklearn.model_selection import train_test_split\n",
        "from sklearn.model_selection import RandomizedSearchCV\n",
        "from sklearn import metrics\n",
        "from sklearn import decomposition\n",
        "from sklearn.preprocessing import StandardScaler\n",
        "from sklearn.pipeline import Pipeline\n",
        "from sklearn.model_selection import cross_val_predict\n",
        "from sklearn.metrics import confusion_matrix\n",
        "\n",
        "# Machine learning classifiers\n",
        "from xgboost import XGBClassifier\n",
        "from sklearn.ensemble import RandomForestClassifier\n",
        "from sklearn.svm import SVC\n",
        "\n",
        "import warnings\n",
        "warnings.filterwarnings('ignore')"
      ]
    },
    {
      "cell_type": "code",
      "source": [
        "from imblearn.over_sampling import SMOTE\n",
        "smote = SMOTE()"
      ],
      "metadata": {
        "id": "VnR2y3ob7_4V"
      },
      "execution_count": 100,
      "outputs": []
    },
    {
      "cell_type": "code",
      "source": [
        "def train_model_for_a_class(x,Label,K,use_smote):\n",
        "  # Cross validation and model training\n",
        "  cvscores = []\n",
        "  avg_score = 0.0\n",
        "  kfold = StratifiedKFold(n_splits=K, shuffle=True, random_state=42)\n",
        "\n",
        "  for train, test in kfold.split(x, Label):\n",
        "      if len(np.unique(Label)) == 2:\n",
        "        model = XGBClassifier(objective = \"binary:logistic\",seed=42)\n",
        "      else:\n",
        "        model = XGBClassifier(objective = \"multi:softmax\",seed=42)\n",
        "      if use_smote:\n",
        "        X_train_smote,y_train_smote = smote.fit_resample(x[train],Label[train])\n",
        "        model.fit(X_train_smote, y_train_smote)\n",
        "      else:\n",
        "        model.fit(x[train], Label[train])\n",
        "      score = model.score(x[test], Label[test])\n",
        "      cvscores.append(score)\n",
        "      avg_score = avg_score + score\n",
        "\n",
        "  avg_score = avg_score/K\n",
        "  return avg_score, cvscores"
      ],
      "metadata": {
        "id": "pNZrPd6OlvzN"
      },
      "execution_count": 101,
      "outputs": []
    },
    {
      "cell_type": "code",
      "source": [
        "def train_model(data_file_path,use_smote=False): \n",
        "\n",
        "  data = np.loadtxt(data_file_path, delimiter=\",\")\n",
        "\n",
        "  num_samples = data.shape[1]\n",
        "  num_features = data.shape[0]-3\n",
        "\n",
        "  x = np.transpose(data[0:num_features:])\n",
        "  Label_1 = np.transpose(data[num_features:num_features+1,:]); Label_1 = Label_1.astype(int);\n",
        "  Label_2 = np.transpose(data[num_features+1:num_features+2,:]); Label_2 = Label_2.astype(int);\n",
        "  Label_3 = np.transpose(data[num_features+2:num_features+3,:]); Label_3 = Label_3.astype(int);\n",
        "\n",
        "  print(\"Number of points in the dataset: {}\".format(num_samples))\n",
        "  print(\"Number of features in each datapoint: {}\\n\".format(num_features))\n",
        "\n",
        "\n",
        "  # Preprocessing\n",
        "  scl = StandardScaler()\n",
        "  x = scl.fit_transform(x)\n",
        "\n",
        "  print(\"Training model for 2 class\")\n",
        "  avg_score_2_class, cvscores_2_class = train_model_for_a_class(x,Label_1,5,use_smote)\n",
        "  print(\"Results:\\n Cross validation scores: {} \\n Average accuracy: {}\\n\".format(cvscores_2_class, avg_score_2_class))\n",
        "\n",
        "  print(\"Training model for 4 class\")\n",
        "  avg_score_4_class, cvscores_4_class = train_model_for_a_class(x,Label_2,5,use_smote)\n",
        "  print(\"Results:\\n Cross validation scores: {} \\n Average accuracy: {}\\n\".format(cvscores_4_class, avg_score_4_class))\n",
        "\n",
        "  print(\"Training model for 10 class\")\n",
        "  avg_score_10_class, cvscores_10_class = train_model_for_a_class(x,Label_3,5,use_smote)\n",
        "  print(\"Results:\\n Cross validation scores: {} \\n Average accuracy: {}\\n\".format(cvscores_10_class, avg_score_10_class))"
      ],
      "metadata": {
        "id": "YZ-4MIfqlvwu"
      },
      "execution_count": 102,
      "outputs": []
    },
    {
      "cell_type": "markdown",
      "source": [
        "# L+H bands"
      ],
      "metadata": {
        "id": "3oGWX5esrnwz"
      }
    },
    {
      "cell_type": "markdown",
      "metadata": {
        "id": "giAgeOvt9HVS"
      },
      "source": [
        "## Entire signal as input"
      ]
    },
    {
      "cell_type": "markdown",
      "metadata": {
        "id": "x2GW1-S0nW30"
      },
      "source": [
        "### M=1024"
      ]
    },
    {
      "cell_type": "code",
      "execution_count": 103,
      "metadata": {
        "id": "bNUbGdzInYld",
        "colab": {
          "base_uri": "https://localhost:8080/"
        },
        "outputId": "f7a6f90e-c885-4254-b04b-cf299d6412ed"
      },
      "outputs": [
        {
          "output_type": "stream",
          "name": "stdout",
          "text": [
            "Number of points in the dataset: 227\n",
            "Number of features in each datapoint: 1026\n",
            "\n",
            "Training model for 2 class\n",
            "Results:\n",
            " Cross validation scores: [1.0, 1.0, 1.0, 1.0, 1.0] \n",
            " Average accuracy: 1.0\n",
            "\n",
            "Training model for 4 class\n",
            "Results:\n",
            " Cross validation scores: [1.0, 1.0, 1.0, 1.0, 0.9777777777777777] \n",
            " Average accuracy: 0.9955555555555555\n",
            "\n",
            "Training model for 10 class\n",
            "Results:\n",
            " Cross validation scores: [0.9565217391304348, 0.9565217391304348, 0.9777777777777777, 0.9777777777777777, 1.0] \n",
            " Average accuracy: 0.973719806763285\n",
            "\n"
          ]
        }
      ],
      "source": [
        "train_model(\"/content/drive/MyDrive/CEERI Project - Kalit/data/L=1e7/L+H/M=1024/data.csv\",use_smote=True)"
      ]
    },
    {
      "cell_type": "markdown",
      "metadata": {
        "id": "liXc5DQ4kMR9"
      },
      "source": [
        "### M = 2048"
      ]
    },
    {
      "cell_type": "code",
      "execution_count": 104,
      "metadata": {
        "id": "dSB5_s1BkPzM",
        "colab": {
          "base_uri": "https://localhost:8080/"
        },
        "outputId": "764e5d4c-a8a0-44f3-c137-be6b75b54407"
      },
      "outputs": [
        {
          "output_type": "stream",
          "name": "stdout",
          "text": [
            "Number of points in the dataset: 227\n",
            "Number of features in each datapoint: 2050\n",
            "\n",
            "Training model for 2 class\n",
            "Results:\n",
            " Cross validation scores: [1.0, 1.0, 1.0, 1.0, 1.0] \n",
            " Average accuracy: 1.0\n",
            "\n",
            "Training model for 4 class\n",
            "Results:\n",
            " Cross validation scores: [1.0, 1.0, 1.0, 1.0, 1.0] \n",
            " Average accuracy: 1.0\n",
            "\n",
            "Training model for 10 class\n",
            "Results:\n",
            " Cross validation scores: [0.9347826086956522, 0.9347826086956522, 0.9777777777777777, 0.9777777777777777, 1.0] \n",
            " Average accuracy: 0.9650241545893721\n",
            "\n"
          ]
        }
      ],
      "source": [
        "train_model(\"/content/drive/MyDrive/CEERI Project - Kalit/data/L=1e7/L+H/M=2048/data.csv\",use_smote=True)"
      ]
    },
    {
      "cell_type": "markdown",
      "metadata": {
        "id": "7VrzyFGvVdmY"
      },
      "source": [
        "### M = 4096"
      ]
    },
    {
      "cell_type": "code",
      "execution_count": 105,
      "metadata": {
        "id": "Utm-4lMcVf-1",
        "colab": {
          "base_uri": "https://localhost:8080/"
        },
        "outputId": "70e9da40-c5f7-49f2-ee5e-961e8e9cfc2a"
      },
      "outputs": [
        {
          "output_type": "stream",
          "name": "stdout",
          "text": [
            "Number of points in the dataset: 227\n",
            "Number of features in each datapoint: 4098\n",
            "\n",
            "Training model for 2 class\n",
            "Results:\n",
            " Cross validation scores: [1.0, 0.9782608695652174, 1.0, 1.0, 1.0] \n",
            " Average accuracy: 0.9956521739130434\n",
            "\n",
            "Training model for 4 class\n",
            "Results:\n",
            " Cross validation scores: [0.9782608695652174, 1.0, 1.0, 1.0, 1.0] \n",
            " Average accuracy: 0.9956521739130434\n",
            "\n",
            "Training model for 10 class\n",
            "Results:\n",
            " Cross validation scores: [0.9565217391304348, 0.9565217391304348, 0.9555555555555556, 0.9555555555555556, 1.0] \n",
            " Average accuracy: 0.9648309178743961\n",
            "\n"
          ]
        }
      ],
      "source": [
        "train_model(\"/content/drive/MyDrive/CEERI Project - Kalit/data/L=1e7/L+H/M=4096/data.csv\",use_smote=True)"
      ]
    },
    {
      "cell_type": "markdown",
      "metadata": {
        "id": "6vw4VrQ-8uhM"
      },
      "source": [
        "## Segment by a factor of 10"
      ]
    },
    {
      "cell_type": "markdown",
      "metadata": {
        "id": "XHYT16AF9epz"
      },
      "source": [
        "### M=1024"
      ]
    },
    {
      "cell_type": "code",
      "execution_count": 106,
      "metadata": {
        "id": "uNqhcDBz9ep1",
        "colab": {
          "base_uri": "https://localhost:8080/"
        },
        "outputId": "525785e4-a5ab-427d-8346-fcb7c0706e38"
      },
      "outputs": [
        {
          "output_type": "stream",
          "name": "stdout",
          "text": [
            "Number of points in the dataset: 2270\n",
            "Number of features in each datapoint: 1026\n",
            "\n",
            "Training model for 2 class\n",
            "Results:\n",
            " Cross validation scores: [1.0, 1.0, 1.0, 1.0, 1.0] \n",
            " Average accuracy: 1.0\n",
            "\n",
            "Training model for 4 class\n",
            "Results:\n",
            " Cross validation scores: [0.9977973568281938, 0.9955947136563876, 0.9977973568281938, 0.9977973568281938, 0.9977973568281938] \n",
            " Average accuracy: 0.9973568281938325\n",
            "\n",
            "Training model for 10 class\n",
            "Results:\n",
            " Cross validation scores: [0.9955947136563876, 0.9977973568281938, 0.9889867841409692, 0.9977973568281938, 0.9955947136563876] \n",
            " Average accuracy: 0.9951541850220265\n",
            "\n"
          ]
        }
      ],
      "source": [
        "train_model(\"/content/drive/MyDrive/CEERI Project - Kalit/data/L=1e6/L+H/M=1024/data.csv\",use_smote=True)"
      ]
    },
    {
      "cell_type": "markdown",
      "metadata": {
        "id": "BzhlHE-K9ep5"
      },
      "source": [
        "### M = 2048"
      ]
    },
    {
      "cell_type": "code",
      "execution_count": 107,
      "metadata": {
        "id": "vcJ8W5309ep6",
        "colab": {
          "base_uri": "https://localhost:8080/"
        },
        "outputId": "bcb90401-0aeb-431a-dc0b-2beb7a680bfb"
      },
      "outputs": [
        {
          "output_type": "stream",
          "name": "stdout",
          "text": [
            "Number of points in the dataset: 2270\n",
            "Number of features in each datapoint: 2050\n",
            "\n",
            "Training model for 2 class\n",
            "Results:\n",
            " Cross validation scores: [1.0, 1.0, 1.0, 1.0, 1.0] \n",
            " Average accuracy: 1.0\n",
            "\n",
            "Training model for 4 class\n",
            "Results:\n",
            " Cross validation scores: [0.9977973568281938, 0.9955947136563876, 0.9977973568281938, 0.9977973568281938, 0.9977973568281938] \n",
            " Average accuracy: 0.9973568281938325\n",
            "\n",
            "Training model for 10 class\n",
            "Results:\n",
            " Cross validation scores: [0.9977973568281938, 1.0, 0.9955947136563876, 0.9955947136563876, 1.0] \n",
            " Average accuracy: 0.9977973568281939\n",
            "\n"
          ]
        }
      ],
      "source": [
        "train_model(\"/content/drive/MyDrive/CEERI Project - Kalit/data/L=1e6/L+H/M=2048/data.csv\",use_smote=True)"
      ]
    },
    {
      "cell_type": "markdown",
      "metadata": {
        "id": "UKgphiRI9ep-"
      },
      "source": [
        "### M = 4096"
      ]
    },
    {
      "cell_type": "code",
      "execution_count": 108,
      "metadata": {
        "id": "J2scCTBF9ep_",
        "colab": {
          "base_uri": "https://localhost:8080/"
        },
        "outputId": "49dd26b6-dbb7-47c9-b4d5-586ef4fcf2a7"
      },
      "outputs": [
        {
          "output_type": "stream",
          "name": "stdout",
          "text": [
            "Number of points in the dataset: 2270\n",
            "Number of features in each datapoint: 4098\n",
            "\n",
            "Training model for 2 class\n",
            "Results:\n",
            " Cross validation scores: [1.0, 1.0, 1.0, 1.0, 1.0] \n",
            " Average accuracy: 1.0\n",
            "\n",
            "Training model for 4 class\n",
            "Results:\n",
            " Cross validation scores: [0.9977973568281938, 0.9955947136563876, 0.9977973568281938, 0.9955947136563876, 0.9955947136563876] \n",
            " Average accuracy: 0.9964757709251101\n",
            "\n",
            "Training model for 10 class\n",
            "Results:\n",
            " Cross validation scores: [0.9933920704845814, 0.9933920704845814, 1.0, 0.9911894273127754, 0.9977973568281938] \n",
            " Average accuracy: 0.9951541850220262\n",
            "\n"
          ]
        }
      ],
      "source": [
        "train_model(\"/content/drive/MyDrive/CEERI Project - Kalit/data/L=1e6/L+H/M=4096/data.csv\",use_smote=True)"
      ]
    },
    {
      "cell_type": "markdown",
      "source": [
        "# L band"
      ],
      "metadata": {
        "id": "-vkUzMTosi18"
      }
    },
    {
      "cell_type": "markdown",
      "metadata": {
        "id": "QPKCx2fEsi1-"
      },
      "source": [
        "## Entire signal as input"
      ]
    },
    {
      "cell_type": "markdown",
      "metadata": {
        "id": "NX_a1pmasi1-"
      },
      "source": [
        "### M=1024"
      ]
    },
    {
      "cell_type": "code",
      "execution_count": 109,
      "metadata": {
        "id": "m8UNzLT2si1_",
        "colab": {
          "base_uri": "https://localhost:8080/"
        },
        "outputId": "d6665836-0147-4c1f-da30-3b7602f77a33"
      },
      "outputs": [
        {
          "output_type": "stream",
          "name": "stdout",
          "text": [
            "Number of points in the dataset: 227\n",
            "Number of features in each datapoint: 513\n",
            "\n",
            "Training model for 2 class\n",
            "Results:\n",
            " Cross validation scores: [1.0, 1.0, 0.9777777777777777, 1.0, 1.0] \n",
            " Average accuracy: 0.9955555555555555\n",
            "\n",
            "Training model for 4 class\n",
            "Results:\n",
            " Cross validation scores: [0.9347826086956522, 0.9347826086956522, 1.0, 0.8888888888888888, 1.0] \n",
            " Average accuracy: 0.9516908212560388\n",
            "\n",
            "Training model for 10 class\n",
            "Results:\n",
            " Cross validation scores: [0.9130434782608695, 0.8478260869565217, 0.9333333333333333, 0.8666666666666667, 0.9555555555555556] \n",
            " Average accuracy: 0.9032850241545892\n",
            "\n"
          ]
        }
      ],
      "source": [
        "train_model(\"/content/drive/MyDrive/CEERI Project - Kalit/data/L=1e7/L/M=1024/data.csv\",use_smote=True)"
      ]
    },
    {
      "cell_type": "markdown",
      "metadata": {
        "id": "I8pY6XDvsi2D"
      },
      "source": [
        "### M = 2048"
      ]
    },
    {
      "cell_type": "code",
      "execution_count": 110,
      "metadata": {
        "id": "SADqyadCsi2D",
        "colab": {
          "base_uri": "https://localhost:8080/"
        },
        "outputId": "2ab4d873-5f66-4b72-caf2-421ba86605e0"
      },
      "outputs": [
        {
          "output_type": "stream",
          "name": "stdout",
          "text": [
            "Number of points in the dataset: 227\n",
            "Number of features in each datapoint: 1025\n",
            "\n",
            "Training model for 2 class\n",
            "Results:\n",
            " Cross validation scores: [1.0, 1.0, 0.9777777777777777, 1.0, 1.0] \n",
            " Average accuracy: 0.9955555555555555\n",
            "\n",
            "Training model for 4 class\n",
            "Results:\n",
            " Cross validation scores: [0.9782608695652174, 0.9347826086956522, 0.9777777777777777, 0.9111111111111111, 1.0] \n",
            " Average accuracy: 0.9603864734299516\n",
            "\n",
            "Training model for 10 class\n",
            "Results:\n",
            " Cross validation scores: [0.9565217391304348, 0.8478260869565217, 0.9111111111111111, 0.8444444444444444, 0.8888888888888888] \n",
            " Average accuracy: 0.8897584541062802\n",
            "\n"
          ]
        }
      ],
      "source": [
        "train_model(\"/content/drive/MyDrive/CEERI Project - Kalit/data/L=1e7/L/M=2048/data.csv\",use_smote=True)"
      ]
    },
    {
      "cell_type": "markdown",
      "metadata": {
        "id": "CutbcYGosi2H"
      },
      "source": [
        "### M = 4096"
      ]
    },
    {
      "cell_type": "code",
      "execution_count": 111,
      "metadata": {
        "id": "CvcLTSvjsi2H",
        "colab": {
          "base_uri": "https://localhost:8080/"
        },
        "outputId": "d705e24b-2b43-4488-c0e1-54e179d807ca"
      },
      "outputs": [
        {
          "output_type": "stream",
          "name": "stdout",
          "text": [
            "Number of points in the dataset: 227\n",
            "Number of features in each datapoint: 2049\n",
            "\n",
            "Training model for 2 class\n",
            "Results:\n",
            " Cross validation scores: [1.0, 1.0, 0.9777777777777777, 1.0, 1.0] \n",
            " Average accuracy: 0.9955555555555555\n",
            "\n",
            "Training model for 4 class\n",
            "Results:\n",
            " Cross validation scores: [1.0, 0.9565217391304348, 0.9555555555555556, 0.9111111111111111, 1.0] \n",
            " Average accuracy: 0.9646376811594202\n",
            "\n",
            "Training model for 10 class\n",
            "Results:\n",
            " Cross validation scores: [0.9565217391304348, 0.782608695652174, 0.9111111111111111, 0.8666666666666667, 0.8888888888888888] \n",
            " Average accuracy: 0.881159420289855\n",
            "\n"
          ]
        }
      ],
      "source": [
        "train_model(\"/content/drive/MyDrive/CEERI Project - Kalit/data/L=1e7/L/M=4096/data.csv\",use_smote=True)"
      ]
    },
    {
      "cell_type": "markdown",
      "metadata": {
        "id": "BbzkncuNsi2M"
      },
      "source": [
        "## Segment by a factor of 10"
      ]
    },
    {
      "cell_type": "markdown",
      "metadata": {
        "id": "4NUyitfgsi2M"
      },
      "source": [
        "### M=1024"
      ]
    },
    {
      "cell_type": "code",
      "execution_count": 112,
      "metadata": {
        "id": "tJr6lpGjsi2M",
        "colab": {
          "base_uri": "https://localhost:8080/"
        },
        "outputId": "df4c7e74-5727-415b-f845-0a84b3b20d1a"
      },
      "outputs": [
        {
          "output_type": "stream",
          "name": "stdout",
          "text": [
            "Number of points in the dataset: 2270\n",
            "Number of features in each datapoint: 513\n",
            "\n",
            "Training model for 2 class\n",
            "Results:\n",
            " Cross validation scores: [1.0, 1.0, 1.0, 1.0, 1.0] \n",
            " Average accuracy: 1.0\n",
            "\n",
            "Training model for 4 class\n",
            "Results:\n",
            " Cross validation scores: [0.9933920704845814, 0.9911894273127754, 0.9801762114537445, 0.9889867841409692, 0.9911894273127754] \n",
            " Average accuracy: 0.9889867841409691\n",
            "\n",
            "Training model for 10 class\n",
            "Results:\n",
            " Cross validation scores: [0.9317180616740088, 0.9383259911894273, 0.9273127753303965, 0.9096916299559471, 0.9317180616740088] \n",
            " Average accuracy: 0.9277533039647576\n",
            "\n"
          ]
        }
      ],
      "source": [
        "train_model(\"/content/drive/MyDrive/CEERI Project - Kalit/data/L=1e6/L/M=1024/data.csv\",use_smote=True)"
      ]
    },
    {
      "cell_type": "markdown",
      "metadata": {
        "id": "haCeUJnisi2Q"
      },
      "source": [
        "### M = 2048"
      ]
    },
    {
      "cell_type": "code",
      "execution_count": 113,
      "metadata": {
        "id": "dlHD8RPOsi2R",
        "colab": {
          "base_uri": "https://localhost:8080/"
        },
        "outputId": "b32198dc-b890-4869-e7e0-29433fed61c0"
      },
      "outputs": [
        {
          "output_type": "stream",
          "name": "stdout",
          "text": [
            "Number of points in the dataset: 2270\n",
            "Number of features in each datapoint: 1025\n",
            "\n",
            "Training model for 2 class\n",
            "Results:\n",
            " Cross validation scores: [1.0, 1.0, 1.0, 1.0, 1.0] \n",
            " Average accuracy: 1.0\n",
            "\n",
            "Training model for 4 class\n",
            "Results:\n",
            " Cross validation scores: [0.9955947136563876, 0.9933920704845814, 0.9823788546255506, 0.986784140969163, 0.9801762114537445] \n",
            " Average accuracy: 0.9876651982378855\n",
            "\n",
            "Training model for 10 class\n",
            "Results:\n",
            " Cross validation scores: [0.9383259911894273, 0.9559471365638766, 0.9317180616740088, 0.9383259911894273, 0.9229074889867841] \n",
            " Average accuracy: 0.9374449339207048\n",
            "\n"
          ]
        }
      ],
      "source": [
        "train_model(\"/content/drive/MyDrive/CEERI Project - Kalit/data/L=1e6/L/M=2048/data.csv\",use_smote=True)"
      ]
    },
    {
      "cell_type": "markdown",
      "metadata": {
        "id": "60JRNRK2si2U"
      },
      "source": [
        "### M = 4096"
      ]
    },
    {
      "cell_type": "code",
      "execution_count": 114,
      "metadata": {
        "id": "AajPcNW4si2V",
        "colab": {
          "base_uri": "https://localhost:8080/"
        },
        "outputId": "9aae022a-20c6-420b-b60e-d13f07b11a26"
      },
      "outputs": [
        {
          "output_type": "stream",
          "name": "stdout",
          "text": [
            "Number of points in the dataset: 2270\n",
            "Number of features in each datapoint: 2049\n",
            "\n",
            "Training model for 2 class\n",
            "Results:\n",
            " Cross validation scores: [1.0, 1.0, 1.0, 1.0, 1.0] \n",
            " Average accuracy: 1.0\n",
            "\n",
            "Training model for 4 class\n",
            "Results:\n",
            " Cross validation scores: [0.986784140969163, 0.9911894273127754, 0.9823788546255506, 0.9933920704845814, 0.9911894273127754] \n",
            " Average accuracy: 0.9889867841409691\n",
            "\n",
            "Training model for 10 class\n",
            "Results:\n",
            " Cross validation scores: [0.9493392070484582, 0.9493392070484582, 0.9559471365638766, 0.9493392070484582, 0.9625550660792952] \n",
            " Average accuracy: 0.9533039647577093\n",
            "\n"
          ]
        }
      ],
      "source": [
        "train_model(\"/content/drive/MyDrive/CEERI Project - Kalit/data/L=1e6/L/M=4096/data.csv\",use_smote=True)"
      ]
    },
    {
      "cell_type": "markdown",
      "source": [
        "# H band"
      ],
      "metadata": {
        "id": "bR242E6lyE48"
      }
    },
    {
      "cell_type": "markdown",
      "metadata": {
        "id": "UlmxhIJjyE49"
      },
      "source": [
        "## Entire signal as input"
      ]
    },
    {
      "cell_type": "markdown",
      "metadata": {
        "id": "uS9NBI6TyE49"
      },
      "source": [
        "### M=1024"
      ]
    },
    {
      "cell_type": "code",
      "execution_count": 115,
      "metadata": {
        "id": "36PFt67uyE4-",
        "colab": {
          "base_uri": "https://localhost:8080/"
        },
        "outputId": "ad1d0d84-40af-45c7-b192-fc16600d35cf"
      },
      "outputs": [
        {
          "output_type": "stream",
          "name": "stdout",
          "text": [
            "Number of points in the dataset: 227\n",
            "Number of features in each datapoint: 513\n",
            "\n",
            "Training model for 2 class\n",
            "Results:\n",
            " Cross validation scores: [0.9782608695652174, 1.0, 1.0, 1.0, 0.9555555555555556] \n",
            " Average accuracy: 0.9867632850241546\n",
            "\n",
            "Training model for 4 class\n",
            "Results:\n",
            " Cross validation scores: [0.9782608695652174, 1.0, 1.0, 0.9777777777777777, 0.9333333333333333] \n",
            " Average accuracy: 0.9778743961352656\n",
            "\n",
            "Training model for 10 class\n",
            "Results:\n",
            " Cross validation scores: [0.9565217391304348, 0.9565217391304348, 0.9555555555555556, 0.9333333333333333, 0.8666666666666667] \n",
            " Average accuracy: 0.9337198067632851\n",
            "\n"
          ]
        }
      ],
      "source": [
        "train_model(\"/content/drive/MyDrive/CEERI Project - Kalit/data/L=1e7/H/M=1024/data.csv\",use_smote=True)"
      ]
    },
    {
      "cell_type": "markdown",
      "metadata": {
        "id": "-Y7t2N0cyE5B"
      },
      "source": [
        "### M = 2048"
      ]
    },
    {
      "cell_type": "code",
      "execution_count": 116,
      "metadata": {
        "id": "OKB5RxKmyE5B",
        "colab": {
          "base_uri": "https://localhost:8080/"
        },
        "outputId": "2449c2f1-ab79-45da-87c9-0eb68f8aa35d"
      },
      "outputs": [
        {
          "output_type": "stream",
          "name": "stdout",
          "text": [
            "Number of points in the dataset: 227\n",
            "Number of features in each datapoint: 1025\n",
            "\n",
            "Training model for 2 class\n",
            "Results:\n",
            " Cross validation scores: [0.9782608695652174, 1.0, 1.0, 1.0, 0.9777777777777777] \n",
            " Average accuracy: 0.9912077294685989\n",
            "\n",
            "Training model for 4 class\n",
            "Results:\n",
            " Cross validation scores: [0.9782608695652174, 1.0, 0.9333333333333333, 0.9333333333333333, 0.9333333333333333] \n",
            " Average accuracy: 0.9556521739130435\n",
            "\n",
            "Training model for 10 class\n",
            "Results:\n",
            " Cross validation scores: [1.0, 0.9347826086956522, 1.0, 0.9333333333333333, 0.9777777777777777] \n",
            " Average accuracy: 0.9691787439613527\n",
            "\n"
          ]
        }
      ],
      "source": [
        "train_model(\"/content/drive/MyDrive/CEERI Project - Kalit/data/L=1e7/H/M=2048/data.csv\",use_smote=True)"
      ]
    },
    {
      "cell_type": "markdown",
      "metadata": {
        "id": "1-BdIt8syE5C"
      },
      "source": [
        "### M = 4096"
      ]
    },
    {
      "cell_type": "code",
      "execution_count": 117,
      "metadata": {
        "id": "nmJ1mEkXyE5C",
        "colab": {
          "base_uri": "https://localhost:8080/"
        },
        "outputId": "43d1fcc1-a782-443d-cac6-2d5a547c55ae"
      },
      "outputs": [
        {
          "output_type": "stream",
          "name": "stdout",
          "text": [
            "Number of points in the dataset: 227\n",
            "Number of features in each datapoint: 2049\n",
            "\n",
            "Training model for 2 class\n",
            "Results:\n",
            " Cross validation scores: [0.9782608695652174, 1.0, 1.0, 0.9777777777777777, 0.9777777777777777] \n",
            " Average accuracy: 0.9867632850241546\n",
            "\n",
            "Training model for 4 class\n",
            "Results:\n",
            " Cross validation scores: [0.9782608695652174, 1.0, 1.0, 0.9777777777777777, 0.9777777777777777] \n",
            " Average accuracy: 0.9867632850241546\n",
            "\n",
            "Training model for 10 class\n",
            "Results:\n",
            " Cross validation scores: [0.9782608695652174, 0.9347826086956522, 0.9777777777777777, 0.9333333333333333, 0.9333333333333333] \n",
            " Average accuracy: 0.9514975845410628\n",
            "\n"
          ]
        }
      ],
      "source": [
        "train_model(\"/content/drive/MyDrive/CEERI Project - Kalit/data/L=1e7/H/M=4096/data.csv\",use_smote=True)"
      ]
    },
    {
      "cell_type": "markdown",
      "metadata": {
        "id": "9qkmNYP7yE5D"
      },
      "source": [
        "## Segment by a factor of 10"
      ]
    },
    {
      "cell_type": "markdown",
      "metadata": {
        "id": "krDGZlp0yE5D"
      },
      "source": [
        "### M=1024"
      ]
    },
    {
      "cell_type": "code",
      "execution_count": 118,
      "metadata": {
        "id": "TsAO37zEyE5D",
        "colab": {
          "base_uri": "https://localhost:8080/"
        },
        "outputId": "063a3385-1d2a-4fff-96cd-6a60284cb5c8"
      },
      "outputs": [
        {
          "output_type": "stream",
          "name": "stdout",
          "text": [
            "Number of points in the dataset: 2270\n",
            "Number of features in each datapoint: 513\n",
            "\n",
            "Training model for 2 class\n",
            "Results:\n",
            " Cross validation scores: [1.0, 1.0, 1.0, 0.9911894273127754, 1.0] \n",
            " Average accuracy: 0.9982378854625551\n",
            "\n",
            "Training model for 4 class\n",
            "Results:\n",
            " Cross validation scores: [0.9801762114537445, 0.9933920704845814, 0.9911894273127754, 0.9977973568281938, 0.9911894273127754] \n",
            " Average accuracy: 0.9907488986784141\n",
            "\n",
            "Training model for 10 class\n",
            "Results:\n",
            " Cross validation scores: [0.9933920704845814, 0.9911894273127754, 0.9889867841409692, 0.9911894273127754, 0.986784140969163] \n",
            " Average accuracy: 0.9903083700440529\n",
            "\n"
          ]
        }
      ],
      "source": [
        "train_model(\"/content/drive/MyDrive/CEERI Project - Kalit/data/L=1e6/H/M=1024/data.csv\",use_smote=True)"
      ]
    },
    {
      "cell_type": "markdown",
      "metadata": {
        "id": "BWyfX-sTyE5E"
      },
      "source": [
        "### M = 2048"
      ]
    },
    {
      "cell_type": "code",
      "execution_count": 119,
      "metadata": {
        "id": "WM7ptPFRyE5E",
        "colab": {
          "base_uri": "https://localhost:8080/"
        },
        "outputId": "0229e1b1-6543-4963-e2d3-70bc61c7d9f7"
      },
      "outputs": [
        {
          "output_type": "stream",
          "name": "stdout",
          "text": [
            "Number of points in the dataset: 2270\n",
            "Number of features in each datapoint: 1025\n",
            "\n",
            "Training model for 2 class\n",
            "Results:\n",
            " Cross validation scores: [1.0, 1.0, 1.0, 0.9911894273127754, 1.0] \n",
            " Average accuracy: 0.9982378854625551\n",
            "\n",
            "Training model for 4 class\n",
            "Results:\n",
            " Cross validation scores: [0.9845814977973568, 0.9845814977973568, 0.9801762114537445, 0.9889867841409692, 0.9823788546255506] \n",
            " Average accuracy: 0.9841409691629955\n",
            "\n",
            "Training model for 10 class\n",
            "Results:\n",
            " Cross validation scores: [0.9889867841409692, 0.9955947136563876, 0.9977973568281938, 0.9647577092511013, 0.9779735682819384] \n",
            " Average accuracy: 0.985022026431718\n",
            "\n"
          ]
        }
      ],
      "source": [
        "train_model(\"/content/drive/MyDrive/CEERI Project - Kalit/data/L=1e6/H/M=2048/psd_2048_H.csv\",use_smote=True)"
      ]
    },
    {
      "cell_type": "markdown",
      "metadata": {
        "id": "5bzyrvjFyE5E"
      },
      "source": [
        "### M = 4096"
      ]
    },
    {
      "cell_type": "code",
      "execution_count": 120,
      "metadata": {
        "id": "YX962Zu1yE5F",
        "colab": {
          "base_uri": "https://localhost:8080/"
        },
        "outputId": "55e4ca0c-1e22-4559-ee3c-0b800ccb5f5b"
      },
      "outputs": [
        {
          "output_type": "stream",
          "name": "stdout",
          "text": [
            "Number of points in the dataset: 2270\n",
            "Number of features in each datapoint: 2049\n",
            "\n",
            "Training model for 2 class\n",
            "Results:\n",
            " Cross validation scores: [1.0, 1.0, 0.9933920704845814, 0.9955947136563876, 1.0] \n",
            " Average accuracy: 0.9977973568281937\n",
            "\n",
            "Training model for 4 class\n",
            "Results:\n",
            " Cross validation scores: [0.9977973568281938, 0.9933920704845814, 0.9889867841409692, 0.9977973568281938, 0.9889867841409692] \n",
            " Average accuracy: 0.9933920704845814\n",
            "\n",
            "Training model for 10 class\n",
            "Results:\n",
            " Cross validation scores: [0.9647577092511013, 0.9845814977973568, 0.9581497797356828, 0.9713656387665198, 0.9823788546255506] \n",
            " Average accuracy: 0.9722466960352423\n",
            "\n"
          ]
        }
      ],
      "source": [
        "train_model(\"/content/drive/MyDrive/CEERI Project - Kalit/data/L=1e6/H/M=4096/data.csv\",use_smote=True)"
      ]
    }
  ],
  "metadata": {
    "colab": {
      "collapsed_sections": [
        "3oGWX5esrnwz",
        "giAgeOvt9HVS",
        "x2GW1-S0nW30",
        "liXc5DQ4kMR9",
        "7VrzyFGvVdmY",
        "XHYT16AF9epz",
        "BzhlHE-K9ep5",
        "UKgphiRI9ep-",
        "-vkUzMTosi18",
        "QPKCx2fEsi1-",
        "NX_a1pmasi1-",
        "I8pY6XDvsi2D",
        "CutbcYGosi2H",
        "4NUyitfgsi2M",
        "haCeUJnisi2Q",
        "60JRNRK2si2U",
        "bR242E6lyE48",
        "UlmxhIJjyE49",
        "uS9NBI6TyE49",
        "-Y7t2N0cyE5B",
        "1-BdIt8syE5C"
      ],
      "name": "PSD features - SMOTE.ipynb",
      "provenance": []
    },
    "kernelspec": {
      "display_name": "Python 3",
      "name": "python3"
    },
    "language_info": {
      "name": "python"
    }
  },
  "nbformat": 4,
  "nbformat_minor": 0
}