{
  "cells": [
    {
      "cell_type": "code",
      "execution_count": null,
      "metadata": {
        "colab": {
          "base_uri": "https://localhost:8080/"
        },
        "id": "-dUhyQo9j8q1",
        "outputId": "80f8873e-e2f7-4446-bde0-910de156917d"
      },
      "outputs": [
        {
          "output_type": "stream",
          "name": "stdout",
          "text": [
            "Mounted at /content/drive\n"
          ]
        }
      ],
      "source": [
        "from google.colab import drive\n",
        "drive.mount('/content/drive')"
      ]
    },
    {
      "cell_type": "code",
      "execution_count": null,
      "metadata": {
        "colab": {
          "base_uri": "https://localhost:8080/"
        },
        "id": "Oen3r2bLkE9g",
        "outputId": "7236d160-73b5-4e4e-fbcd-d78d779bebd4"
      },
      "outputs": [
        {
          "output_type": "stream",
          "name": "stdout",
          "text": [
            "Requirement already satisfied: xgboost in /usr/local/lib/python3.7/dist-packages (0.90)\n",
            "Requirement already satisfied: numpy in /usr/local/lib/python3.7/dist-packages (from xgboost) (1.21.6)\n",
            "Requirement already satisfied: scipy in /usr/local/lib/python3.7/dist-packages (from xgboost) (1.4.1)\n"
          ]
        }
      ],
      "source": [
        "!pip install xgboost"
      ]
    },
    {
      "cell_type": "code",
      "execution_count": null,
      "metadata": {
        "colab": {
          "base_uri": "https://localhost:8080/"
        },
        "id": "I4UB872o79zP",
        "outputId": "32aae358-ce3e-4177-a74e-9a849656187a"
      },
      "outputs": [
        {
          "output_type": "stream",
          "name": "stdout",
          "text": [
            "Requirement already satisfied: imblearn in /usr/local/lib/python3.7/dist-packages (0.0)\n",
            "Requirement already satisfied: imbalanced-learn in /usr/local/lib/python3.7/dist-packages (from imblearn) (0.8.1)\n",
            "Requirement already satisfied: scipy>=0.19.1 in /usr/local/lib/python3.7/dist-packages (from imbalanced-learn->imblearn) (1.4.1)\n",
            "Requirement already satisfied: scikit-learn>=0.24 in /usr/local/lib/python3.7/dist-packages (from imbalanced-learn->imblearn) (1.0.2)\n",
            "Requirement already satisfied: numpy>=1.13.3 in /usr/local/lib/python3.7/dist-packages (from imbalanced-learn->imblearn) (1.21.6)\n",
            "Requirement already satisfied: joblib>=0.11 in /usr/local/lib/python3.7/dist-packages (from imbalanced-learn->imblearn) (1.1.0)\n",
            "Requirement already satisfied: threadpoolctl>=2.0.0 in /usr/local/lib/python3.7/dist-packages (from scikit-learn>=0.24->imbalanced-learn->imblearn) (3.1.0)\n"
          ]
        }
      ],
      "source": [
        "!pip install imblearn"
      ]
    },
    {
      "cell_type": "code",
      "execution_count": null,
      "metadata": {
        "id": "hwXUYcMpkE0q"
      },
      "outputs": [],
      "source": [
        "# Basic data handling libraries\n",
        "import numpy as np\n",
        "import pandas as pd\n",
        "np.random.seed(42)\n",
        "\n",
        "# Cross validation and hyperparameter tuning libraries\n",
        "from sklearn.model_selection import StratifiedKFold, train_test_split\n",
        "from sklearn.metrics import  accuracy_score, precision_score, recall_score, f1_score\n",
        "from sklearn.preprocessing import StandardScaler\n",
        "\n",
        "# Machine learning classifiers\n",
        "from xgboost import XGBClassifier\n",
        "\n",
        "import warnings\n",
        "warnings.filterwarnings('ignore')"
      ]
    },
    {
      "cell_type": "code",
      "execution_count": null,
      "metadata": {
        "id": "yFcUf-ZQCJ4w"
      },
      "outputs": [],
      "source": [
        "class color:\n",
        "   BOLD = '\\033[1m'\n",
        "   UNDERLINE = '\\033[4m'\n",
        "   END = '\\033[0m'"
      ]
    },
    {
      "cell_type": "code",
      "execution_count": null,
      "metadata": {
        "id": "VnR2y3ob7_4V"
      },
      "outputs": [],
      "source": [
        "from imblearn.over_sampling import SMOTE\n",
        "smote = SMOTE()"
      ]
    },
    {
      "cell_type": "code",
      "execution_count": null,
      "metadata": {
        "id": "pNZrPd6OlvzN"
      },
      "outputs": [],
      "source": [
        "def train_model_for_a_class(x,Label,K,use_smote,average='binary'):\n",
        "  # Cross validation and model training\n",
        "  accuracy_scores = []\n",
        "  f1_scores = []\n",
        "  recall_scores = []\n",
        "  precision_scores = []\n",
        "  kfold = StratifiedKFold(n_splits=K, shuffle=True, random_state=42)\n",
        "\n",
        "  for train, test in kfold.split(x, Label):\n",
        "      if len(np.unique(Label)) == 2:\n",
        "        model = XGBClassifier(objective = \"binary:logistic\",seed=42)\n",
        "      else:\n",
        "        model = XGBClassifier(objective = \"multi:softmax\",seed=42)\n",
        "      if use_smote:\n",
        "        X_train_smote,y_train_smote = smote.fit_resample(x[train],Label[train])\n",
        "        model.fit(X_train_smote, y_train_smote)\n",
        "      else:\n",
        "        model.fit(x[train], Label[train])\n",
        "      y_pred = model.predict(x[test])\n",
        "      accuracy_scores.append(accuracy_score(Label[test], y_pred))\n",
        "      f1_scores.append(f1_score(Label[test], y_pred, average=average))\n",
        "      recall_scores.append(recall_score(Label[test], y_pred, average=average))\n",
        "      precision_scores.append(precision_score(Label[test], y_pred, average=average))\n",
        "\n",
        "  print(\"Accuracy: {}\".format(np.mean(accuracy_scores)))\n",
        "  print(\"f1_score: {}\".format(np.mean(f1_scores)))\n",
        "  print(\"recall_score: {}\".format(np.mean(recall_scores)))\n",
        "  print(\"precision_score: {}\".format(np.mean(precision_scores)))\n",
        "  print(\"\\n-------------------------------------------------------\\n\")"
      ]
    },
    {
      "cell_type": "code",
      "execution_count": null,
      "metadata": {
        "id": "YZ-4MIfqlvwu"
      },
      "outputs": [],
      "source": [
        "def train_model(data_file_path,use_smote=False,average='binary'): \n",
        "\n",
        "  data = np.loadtxt(data_file_path, delimiter=\",\")\n",
        "\n",
        "  num_samples = data.shape[1]\n",
        "  num_features = data.shape[0]-3\n",
        "\n",
        "  x = np.transpose(data[0:num_features:])\n",
        "  Label_1 = np.transpose(data[num_features:num_features+1,:]); Label_1 = Label_1.astype(int);\n",
        "  Label_2 = np.transpose(data[num_features+1:num_features+2,:]); Label_2 = Label_2.astype(int);\n",
        "  Label_3 = np.transpose(data[num_features+2:num_features+3,:]); Label_3 = Label_3.astype(int);\n",
        "\n",
        "  print(\"Number of points in the dataset: {}\".format(num_samples))\n",
        "  print(\"Number of features in each datapoint: {}\\n\".format(num_features))\n",
        "\n",
        "\n",
        "  # Preprocessing\n",
        "  scl = StandardScaler()\n",
        "  x = scl.fit_transform(x)\n",
        "\n",
        "  print(color.BOLD+\"Training model for 2 class:\"+color.END)\n",
        "  train_model_for_a_class(x,Label_1,5,use_smote)\n",
        "\n",
        "  print(color.BOLD+\"Training model for 4 class:\"+color.END)\n",
        "  train_model_for_a_class(x,Label_2,5,use_smote, average=average)\n",
        "\n",
        "  print(color.BOLD+\"Training model for 10 class:\"+color.END)\n",
        "  train_model_for_a_class(x,Label_3,5,use_smote, average=average)"
      ]
    },
    {
      "cell_type": "markdown",
      "metadata": {
        "id": "3oGWX5esrnwz"
      },
      "source": [
        "# L+H bands"
      ]
    },
    {
      "cell_type": "markdown",
      "metadata": {
        "id": "giAgeOvt9HVS"
      },
      "source": [
        "## Entire signal as input"
      ]
    },
    {
      "cell_type": "markdown",
      "metadata": {
        "id": "x2GW1-S0nW30"
      },
      "source": [
        "### M=1024"
      ]
    },
    {
      "cell_type": "code",
      "execution_count": null,
      "metadata": {
        "colab": {
          "base_uri": "https://localhost:8080/"
        },
        "id": "bNUbGdzInYld",
        "outputId": "e20c6e36-2e6e-4941-9cee-5ce052774fe5"
      },
      "outputs": [
        {
          "name": "stdout",
          "output_type": "stream",
          "text": [
            "Number of points in the dataset: 227\n",
            "Number of features in each datapoint: 1026\n",
            "\n",
            "\u001b[1mTraining model for 2 class:\u001b[0m\n",
            "Accuracy: 1.0\n",
            "f1_score: 1.0\n",
            "recall_score: 1.0\n",
            "precision_score: 1.0\n",
            "\n",
            "-------------------------------------------------------\n",
            "\n",
            "\u001b[1mTraining model for 4 class:\u001b[0m\n",
            "Accuracy: 0.9955555555555555\n",
            "f1_score: 0.9955555555555555\n",
            "recall_score: 0.9955555555555555\n",
            "precision_score: 0.9958169934640523\n",
            "\n",
            "-------------------------------------------------------\n",
            "\n",
            "\u001b[1mTraining model for 10 class:\u001b[0m\n",
            "Accuracy: 0.9605797101449275\n",
            "f1_score: 0.9601313340443776\n",
            "recall_score: 0.9605797101449275\n",
            "precision_score: 0.9732215320910973\n",
            "\n",
            "-------------------------------------------------------\n",
            "\n"
          ]
        }
      ],
      "source": [
        "train_model(\"/content/drive/MyDrive/CEERI Project - Kalit/data/L=1e7/L+H/M=1024/data.csv\",use_smote=True, average='weighted')"
      ]
    },
    {
      "cell_type": "markdown",
      "metadata": {
        "id": "liXc5DQ4kMR9"
      },
      "source": [
        "### M = 2048"
      ]
    },
    {
      "cell_type": "code",
      "execution_count": null,
      "metadata": {
        "colab": {
          "base_uri": "https://localhost:8080/"
        },
        "id": "dSB5_s1BkPzM",
        "outputId": "57dddb67-48cb-4512-bbd0-369037ca2b68"
      },
      "outputs": [
        {
          "name": "stdout",
          "output_type": "stream",
          "text": [
            "Number of points in the dataset: 227\n",
            "Number of features in each datapoint: 2050\n",
            "\n",
            "\u001b[1mTraining model for 2 class:\u001b[0m\n",
            "Accuracy: 1.0\n",
            "f1_score: 1.0\n",
            "recall_score: 1.0\n",
            "precision_score: 1.0\n",
            "\n",
            "-------------------------------------------------------\n",
            "\n",
            "\u001b[1mTraining model for 4 class:\u001b[0m\n",
            "Accuracy: 1.0\n",
            "f1_score: 1.0\n",
            "recall_score: 1.0\n",
            "precision_score: 1.0\n",
            "\n",
            "-------------------------------------------------------\n",
            "\n",
            "\u001b[1mTraining model for 10 class:\u001b[0m\n",
            "Accuracy: 0.956135265700483\n",
            "f1_score: 0.955686889599933\n",
            "recall_score: 0.956135265700483\n",
            "precision_score: 0.9696659765355419\n",
            "\n",
            "-------------------------------------------------------\n",
            "\n"
          ]
        }
      ],
      "source": [
        "train_model(\"/content/drive/MyDrive/CEERI Project - Kalit/data/L=1e7/L+H/M=2048/data.csv\",use_smote=True, average='weighted')"
      ]
    },
    {
      "cell_type": "markdown",
      "metadata": {
        "id": "7VrzyFGvVdmY"
      },
      "source": [
        "### M = 4096"
      ]
    },
    {
      "cell_type": "code",
      "execution_count": null,
      "metadata": {
        "colab": {
          "base_uri": "https://localhost:8080/"
        },
        "id": "Utm-4lMcVf-1",
        "outputId": "8f856785-9358-48c6-be90-e6fb01aa4171"
      },
      "outputs": [
        {
          "name": "stdout",
          "output_type": "stream",
          "text": [
            "Number of points in the dataset: 227\n",
            "Number of features in each datapoint: 4098\n",
            "\n",
            "\u001b[1mTraining model for 2 class:\u001b[0m\n",
            "Accuracy: 0.9956521739130434\n",
            "f1_score: 0.9973333333333333\n",
            "recall_score: 0.9947368421052631\n",
            "precision_score: 1.0\n",
            "\n",
            "-------------------------------------------------------\n",
            "\n",
            "\u001b[1mTraining model for 4 class:\u001b[0m\n",
            "Accuracy: 0.9956521739130434\n",
            "f1_score: 0.9957007142361833\n",
            "recall_score: 0.9956521739130434\n",
            "precision_score: 0.9960869565217392\n",
            "\n",
            "-------------------------------------------------------\n",
            "\n",
            "\u001b[1mTraining model for 10 class:\u001b[0m\n",
            "Accuracy: 0.9735265700483092\n",
            "f1_score: 0.9725541945661297\n",
            "recall_score: 0.9735265700483092\n",
            "precision_score: 0.9794374664519593\n",
            "\n",
            "-------------------------------------------------------\n",
            "\n"
          ]
        }
      ],
      "source": [
        "train_model(\"/content/drive/MyDrive/CEERI Project - Kalit/data/L=1e7/L+H/M=4096/data.csv\",use_smote=True, average='weighted')"
      ]
    },
    {
      "cell_type": "markdown",
      "metadata": {
        "id": "6vw4VrQ-8uhM"
      },
      "source": [
        "## Segment by a factor of 10"
      ]
    },
    {
      "cell_type": "markdown",
      "metadata": {
        "id": "XHYT16AF9epz"
      },
      "source": [
        "### M=1024"
      ]
    },
    {
      "cell_type": "code",
      "execution_count": null,
      "metadata": {
        "colab": {
          "base_uri": "https://localhost:8080/"
        },
        "id": "uNqhcDBz9ep1",
        "outputId": "2789182b-b264-4336-d0f4-88f84c92e54e"
      },
      "outputs": [
        {
          "name": "stdout",
          "output_type": "stream",
          "text": [
            "Number of points in the dataset: 2270\n",
            "Number of features in each datapoint: 1026\n",
            "\n",
            "\u001b[1mTraining model for 2 class:\u001b[0m\n",
            "Accuracy: 1.0\n",
            "f1_score: 1.0\n",
            "recall_score: 1.0\n",
            "precision_score: 1.0\n",
            "\n",
            "-------------------------------------------------------\n",
            "\n",
            "\u001b[1mTraining model for 4 class:\u001b[0m\n",
            "Accuracy: 0.9973568281938325\n",
            "f1_score: 0.997350985006633\n",
            "recall_score: 0.9973568281938325\n",
            "precision_score: 0.9973783833133053\n",
            "\n",
            "-------------------------------------------------------\n",
            "\n",
            "\u001b[1mTraining model for 10 class:\u001b[0m\n",
            "Accuracy: 0.9973568281938325\n",
            "f1_score: 0.9973568795160622\n",
            "recall_score: 0.9973568281938325\n",
            "precision_score: 0.9974199586329491\n",
            "\n",
            "-------------------------------------------------------\n",
            "\n"
          ]
        }
      ],
      "source": [
        "train_model(\"/content/drive/MyDrive/CEERI Project - Kalit/data/L=1e6/L+H/M=1024/data.csv\",use_smote=True, average='weighted')"
      ]
    },
    {
      "cell_type": "markdown",
      "metadata": {
        "id": "BzhlHE-K9ep5"
      },
      "source": [
        "### M = 2048"
      ]
    },
    {
      "cell_type": "code",
      "execution_count": null,
      "metadata": {
        "colab": {
          "base_uri": "https://localhost:8080/"
        },
        "id": "vcJ8W5309ep6",
        "outputId": "b6afd739-302e-410c-8265-3896604f90c8"
      },
      "outputs": [
        {
          "name": "stdout",
          "output_type": "stream",
          "text": [
            "Number of points in the dataset: 2270\n",
            "Number of features in each datapoint: 2050\n",
            "\n",
            "\u001b[1mTraining model for 2 class:\u001b[0m\n",
            "Accuracy: 1.0\n",
            "f1_score: 1.0\n",
            "recall_score: 1.0\n",
            "precision_score: 1.0\n",
            "\n",
            "-------------------------------------------------------\n",
            "\n",
            "\u001b[1mTraining model for 4 class:\u001b[0m\n",
            "Accuracy: 0.9973568281938325\n",
            "f1_score: 0.9973489887251035\n",
            "recall_score: 0.9973568281938325\n",
            "precision_score: 0.9973783833133053\n",
            "\n",
            "-------------------------------------------------------\n",
            "\n",
            "\u001b[1mTraining model for 10 class:\u001b[0m\n",
            "Accuracy: 0.9964757709251101\n",
            "f1_score: 0.9964757484729689\n",
            "recall_score: 0.9964757709251101\n",
            "precision_score: 0.996580610749241\n",
            "\n",
            "-------------------------------------------------------\n",
            "\n"
          ]
        }
      ],
      "source": [
        "train_model(\"/content/drive/MyDrive/CEERI Project - Kalit/data/L=1e6/L+H/M=2048/data.csv\",use_smote=True, average='weighted')"
      ]
    },
    {
      "cell_type": "markdown",
      "metadata": {
        "id": "UKgphiRI9ep-"
      },
      "source": [
        "### M = 4096"
      ]
    },
    {
      "cell_type": "code",
      "execution_count": null,
      "metadata": {
        "colab": {
          "base_uri": "https://localhost:8080/"
        },
        "id": "J2scCTBF9ep_",
        "outputId": "ce4488c4-edd5-4747-df9a-c0854eea7839"
      },
      "outputs": [
        {
          "name": "stdout",
          "output_type": "stream",
          "text": [
            "Number of points in the dataset: 2270\n",
            "Number of features in each datapoint: 4098\n",
            "\n",
            "\u001b[1mTraining model for 2 class:\u001b[0m\n",
            "Accuracy: 1.0\n",
            "f1_score: 1.0\n",
            "recall_score: 1.0\n",
            "precision_score: 1.0\n",
            "\n",
            "-------------------------------------------------------\n",
            "\n",
            "\u001b[1mTraining model for 4 class:\u001b[0m\n",
            "Accuracy: 0.9964757709251101\n",
            "f1_score: 0.9964698833739289\n",
            "recall_score: 0.9964757709251101\n",
            "precision_score: 0.9964945274635755\n",
            "\n",
            "-------------------------------------------------------\n",
            "\n",
            "\u001b[1mTraining model for 10 class:\u001b[0m\n",
            "Accuracy: 0.9973568281938325\n",
            "f1_score: 0.9973560786767723\n",
            "recall_score: 0.9973568281938325\n",
            "precision_score: 0.9974378556593493\n",
            "\n",
            "-------------------------------------------------------\n",
            "\n"
          ]
        }
      ],
      "source": [
        "train_model(\"/content/drive/MyDrive/CEERI Project - Kalit/data/L=1e6/L+H/M=4096/data.csv\",use_smote=True, average='weighted')"
      ]
    },
    {
      "cell_type": "markdown",
      "metadata": {
        "id": "-vkUzMTosi18"
      },
      "source": [
        "# L band"
      ]
    },
    {
      "cell_type": "markdown",
      "metadata": {
        "id": "QPKCx2fEsi1-"
      },
      "source": [
        "## Entire signal as input"
      ]
    },
    {
      "cell_type": "markdown",
      "metadata": {
        "id": "NX_a1pmasi1-"
      },
      "source": [
        "### M=1024"
      ]
    },
    {
      "cell_type": "code",
      "execution_count": null,
      "metadata": {
        "colab": {
          "base_uri": "https://localhost:8080/"
        },
        "id": "m8UNzLT2si1_",
        "outputId": "98d03105-aa0a-4ad6-e781-80ed6b9481ce"
      },
      "outputs": [
        {
          "name": "stdout",
          "output_type": "stream",
          "text": [
            "Number of points in the dataset: 227\n",
            "Number of features in each datapoint: 513\n",
            "\n",
            "\u001b[1mTraining model for 2 class:\u001b[0m\n",
            "Accuracy: 0.9955555555555555\n",
            "f1_score: 0.9972602739726029\n",
            "recall_score: 0.9945945945945945\n",
            "precision_score: 1.0\n",
            "\n",
            "-------------------------------------------------------\n",
            "\n",
            "\u001b[1mTraining model for 4 class:\u001b[0m\n",
            "Accuracy: 0.9472463768115942\n",
            "f1_score: 0.9470523857977039\n",
            "recall_score: 0.9472463768115942\n",
            "precision_score: 0.9502646369167211\n",
            "\n",
            "-------------------------------------------------------\n",
            "\n",
            "\u001b[1mTraining model for 10 class:\u001b[0m\n",
            "Accuracy: 0.8945893719806763\n",
            "f1_score: 0.8871309489979566\n",
            "recall_score: 0.8945893719806763\n",
            "precision_score: 0.8994406870638754\n",
            "\n",
            "-------------------------------------------------------\n",
            "\n"
          ]
        }
      ],
      "source": [
        "train_model(\"/content/drive/MyDrive/CEERI Project - Kalit/data/L=1e7/L/M=1024/data.csv\",use_smote=True, average='weighted')"
      ]
    },
    {
      "cell_type": "markdown",
      "metadata": {
        "id": "I8pY6XDvsi2D"
      },
      "source": [
        "### M = 2048"
      ]
    },
    {
      "cell_type": "code",
      "execution_count": null,
      "metadata": {
        "id": "SADqyadCsi2D",
        "colab": {
          "base_uri": "https://localhost:8080/"
        },
        "outputId": "4497bad9-8b98-487a-e786-4a2a5489d6e8"
      },
      "outputs": [
        {
          "output_type": "stream",
          "name": "stdout",
          "text": [
            "Number of points in the dataset: 227\n",
            "Number of features in each datapoint: 1025\n",
            "\n",
            "\u001b[1mTraining model for 2 class:\u001b[0m\n",
            "Accuracy: 0.9955555555555555\n",
            "f1_score: 0.9972602739726029\n",
            "recall_score: 0.9945945945945945\n",
            "precision_score: 1.0\n",
            "\n",
            "-------------------------------------------------------\n",
            "\n",
            "\u001b[1mTraining model for 4 class:\u001b[0m\n",
            "Accuracy: 0.9603864734299516\n",
            "f1_score: 0.9603378090366581\n",
            "recall_score: 0.9603864734299516\n",
            "precision_score: 0.9625029838022165\n",
            "\n",
            "-------------------------------------------------------\n",
            "\n",
            "\u001b[1mTraining model for 10 class:\u001b[0m\n",
            "Accuracy: 0.881159420289855\n",
            "f1_score: 0.8738194757154689\n",
            "recall_score: 0.881159420289855\n",
            "precision_score: 0.8855968867418144\n",
            "\n",
            "-------------------------------------------------------\n",
            "\n"
          ]
        }
      ],
      "source": [
        "train_model(\"/content/drive/MyDrive/CEERI Project - Kalit/data/L=1e7/L/M=2048/data.csv\",use_smote=True, average='weighted')"
      ]
    },
    {
      "cell_type": "markdown",
      "metadata": {
        "id": "CutbcYGosi2H"
      },
      "source": [
        "### M = 4096"
      ]
    },
    {
      "cell_type": "code",
      "execution_count": null,
      "metadata": {
        "id": "CvcLTSvjsi2H",
        "colab": {
          "base_uri": "https://localhost:8080/"
        },
        "outputId": "b62239d4-3947-49e4-d78b-30fbe97c89a2"
      },
      "outputs": [
        {
          "output_type": "stream",
          "name": "stdout",
          "text": [
            "Number of points in the dataset: 227\n",
            "Number of features in each datapoint: 2049\n",
            "\n",
            "\u001b[1mTraining model for 2 class:\u001b[0m\n",
            "Accuracy: 0.9955555555555555\n",
            "f1_score: 0.9972602739726029\n",
            "recall_score: 0.9945945945945945\n",
            "precision_score: 1.0\n",
            "\n",
            "-------------------------------------------------------\n",
            "\n",
            "\u001b[1mTraining model for 4 class:\u001b[0m\n",
            "Accuracy: 0.9602898550724639\n",
            "f1_score: 0.9600546841712587\n",
            "recall_score: 0.9602898550724639\n",
            "precision_score: 0.9624205740267122\n",
            "\n",
            "-------------------------------------------------------\n",
            "\n",
            "\u001b[1mTraining model for 10 class:\u001b[0m\n",
            "Accuracy: 0.8767149758454107\n",
            "f1_score: 0.8756934622007086\n",
            "recall_score: 0.8767149758454107\n",
            "precision_score: 0.895599033816425\n",
            "\n",
            "-------------------------------------------------------\n",
            "\n"
          ]
        }
      ],
      "source": [
        "train_model(\"/content/drive/MyDrive/CEERI Project - Kalit/data/L=1e7/L/M=4096/data.csv\",use_smote=True, average='weighted')"
      ]
    },
    {
      "cell_type": "markdown",
      "metadata": {
        "id": "BbzkncuNsi2M"
      },
      "source": [
        "## Segment by a factor of 10"
      ]
    },
    {
      "cell_type": "markdown",
      "metadata": {
        "id": "4NUyitfgsi2M"
      },
      "source": [
        "### M=1024"
      ]
    },
    {
      "cell_type": "code",
      "execution_count": null,
      "metadata": {
        "colab": {
          "base_uri": "https://localhost:8080/"
        },
        "id": "tJr6lpGjsi2M",
        "outputId": "40b205e0-18b9-482f-855f-4b8f141c4629"
      },
      "outputs": [
        {
          "output_type": "stream",
          "name": "stdout",
          "text": [
            "Number of points in the dataset: 2270\n",
            "Number of features in each datapoint: 513\n",
            "\n",
            "\u001b[1mTraining model for 2 class:\u001b[0m\n",
            "Accuracy: 1.0\n",
            "f1_score: 1.0\n",
            "recall_score: 1.0\n",
            "precision_score: 1.0\n",
            "\n",
            "-------------------------------------------------------\n",
            "\n",
            "\u001b[1mTraining model for 4 class:\u001b[0m\n",
            "Accuracy: 0.9894273127753304\n",
            "f1_score: 0.9894344336649835\n",
            "recall_score: 0.9894273127753304\n",
            "precision_score: 0.9895082630660582\n",
            "\n",
            "-------------------------------------------------------\n",
            "\n",
            "\u001b[1mTraining model for 10 class:\u001b[0m\n",
            "Accuracy: 0.9273127753303966\n",
            "f1_score: 0.9270156460722154\n",
            "recall_score: 0.9273127753303966\n",
            "precision_score: 0.9289053339309703\n",
            "\n",
            "-------------------------------------------------------\n",
            "\n"
          ]
        }
      ],
      "source": [
        "train_model(\"/content/drive/MyDrive/CEERI Project - Kalit/data/L=1e6/L/M=1024/data.csv\",use_smote=True, average='weighted')"
      ]
    },
    {
      "cell_type": "markdown",
      "metadata": {
        "id": "haCeUJnisi2Q"
      },
      "source": [
        "### M = 2048"
      ]
    },
    {
      "cell_type": "code",
      "execution_count": null,
      "metadata": {
        "id": "dlHD8RPOsi2R",
        "colab": {
          "base_uri": "https://localhost:8080/"
        },
        "outputId": "dd6f0691-0585-428d-abeb-bd539fd10c2f"
      },
      "outputs": [
        {
          "output_type": "stream",
          "name": "stdout",
          "text": [
            "Number of points in the dataset: 2270\n",
            "Number of features in each datapoint: 1025\n",
            "\n",
            "\u001b[1mTraining model for 2 class:\u001b[0m\n",
            "Accuracy: 1.0\n",
            "f1_score: 1.0\n",
            "recall_score: 1.0\n",
            "precision_score: 1.0\n",
            "\n",
            "-------------------------------------------------------\n",
            "\n",
            "\u001b[1mTraining model for 4 class:\u001b[0m\n",
            "Accuracy: 0.9872246696035243\n",
            "f1_score: 0.9872318543597745\n",
            "recall_score: 0.9872246696035243\n",
            "precision_score: 0.9874059230697323\n",
            "\n",
            "-------------------------------------------------------\n",
            "\n",
            "\u001b[1mTraining model for 10 class:\u001b[0m\n",
            "Accuracy: 0.9365638766519824\n",
            "f1_score: 0.9367043134759772\n",
            "recall_score: 0.9365638766519824\n",
            "precision_score: 0.9385719233841217\n",
            "\n",
            "-------------------------------------------------------\n",
            "\n"
          ]
        }
      ],
      "source": [
        "train_model(\"/content/drive/MyDrive/CEERI Project - Kalit/data/L=1e6/L/M=2048/data.csv\",use_smote=True, average='weighted')"
      ]
    },
    {
      "cell_type": "markdown",
      "metadata": {
        "id": "60JRNRK2si2U"
      },
      "source": [
        "### M = 4096"
      ]
    },
    {
      "cell_type": "code",
      "execution_count": null,
      "metadata": {
        "id": "AajPcNW4si2V",
        "colab": {
          "base_uri": "https://localhost:8080/"
        },
        "outputId": "c4fe1c04-22c2-4dba-ef31-aa5970780dba"
      },
      "outputs": [
        {
          "output_type": "stream",
          "name": "stdout",
          "text": [
            "Number of points in the dataset: 2270\n",
            "Number of features in each datapoint: 2049\n",
            "\n",
            "\u001b[1mTraining model for 2 class:\u001b[0m\n",
            "Accuracy: 1.0\n",
            "f1_score: 1.0\n",
            "recall_score: 1.0\n",
            "precision_score: 1.0\n",
            "\n",
            "-------------------------------------------------------\n",
            "\n",
            "\u001b[1mTraining model for 4 class:\u001b[0m\n",
            "Accuracy: 0.9881057268722466\n",
            "f1_score: 0.9880811650162753\n",
            "recall_score: 0.9881057268722466\n",
            "precision_score: 0.9882803061037805\n",
            "\n",
            "-------------------------------------------------------\n",
            "\n",
            "\u001b[1mTraining model for 10 class:\u001b[0m\n",
            "Accuracy: 0.9550660792951542\n",
            "f1_score: 0.9552509379887184\n",
            "recall_score: 0.9550660792951542\n",
            "precision_score: 0.95632605949367\n",
            "\n",
            "-------------------------------------------------------\n",
            "\n"
          ]
        }
      ],
      "source": [
        "train_model(\"/content/drive/MyDrive/CEERI Project - Kalit/data/L=1e6/L/M=4096/data.csv\",use_smote=True, average='weighted')"
      ]
    },
    {
      "cell_type": "markdown",
      "metadata": {
        "id": "bR242E6lyE48"
      },
      "source": [
        "# H band"
      ]
    },
    {
      "cell_type": "markdown",
      "metadata": {
        "id": "UlmxhIJjyE49"
      },
      "source": [
        "## Entire signal as input"
      ]
    },
    {
      "cell_type": "markdown",
      "metadata": {
        "id": "uS9NBI6TyE49"
      },
      "source": [
        "### M=1024"
      ]
    },
    {
      "cell_type": "code",
      "execution_count": null,
      "metadata": {
        "id": "36PFt67uyE4-",
        "colab": {
          "base_uri": "https://localhost:8080/"
        },
        "outputId": "9c88c5e2-a5f0-4732-a40b-ed7629ebea12"
      },
      "outputs": [
        {
          "output_type": "stream",
          "name": "stdout",
          "text": [
            "Number of points in the dataset: 227\n",
            "Number of features in each datapoint: 513\n",
            "\n",
            "\u001b[1mTraining model for 2 class:\u001b[0m\n",
            "Accuracy: 0.9867632850241546\n",
            "f1_score: 0.9919971160778658\n",
            "recall_score: 0.9945945945945945\n",
            "precision_score: 0.9897435897435898\n",
            "\n",
            "-------------------------------------------------------\n",
            "\n",
            "\u001b[1mTraining model for 4 class:\u001b[0m\n",
            "Accuracy: 0.9734299516908212\n",
            "f1_score: 0.9729913596239257\n",
            "recall_score: 0.9734299516908212\n",
            "precision_score: 0.9755622493764011\n",
            "\n",
            "-------------------------------------------------------\n",
            "\n",
            "\u001b[1mTraining model for 10 class:\u001b[0m\n",
            "Accuracy: 0.9469565217391306\n",
            "f1_score: 0.9460162145959247\n",
            "recall_score: 0.9469565217391306\n",
            "precision_score: 0.9615081665516447\n",
            "\n",
            "-------------------------------------------------------\n",
            "\n"
          ]
        }
      ],
      "source": [
        "train_model(\"/content/drive/MyDrive/CEERI Project - Kalit/data/L=1e7/H/M=1024/data.csv\",use_smote=True, average='weighted')"
      ]
    },
    {
      "cell_type": "markdown",
      "metadata": {
        "id": "-Y7t2N0cyE5B"
      },
      "source": [
        "### M = 2048"
      ]
    },
    {
      "cell_type": "code",
      "execution_count": null,
      "metadata": {
        "id": "OKB5RxKmyE5B",
        "colab": {
          "base_uri": "https://localhost:8080/"
        },
        "outputId": "94504d68-3193-4900-dd08-d673159c553e"
      },
      "outputs": [
        {
          "output_type": "stream",
          "name": "stdout",
          "text": [
            "Number of points in the dataset: 227\n",
            "Number of features in each datapoint: 1025\n",
            "\n",
            "\u001b[1mTraining model for 2 class:\u001b[0m\n",
            "Accuracy: 0.9912077294685989\n",
            "f1_score: 0.994593607305936\n",
            "recall_score: 0.9945945945945945\n",
            "precision_score: 0.9947368421052631\n",
            "\n",
            "-------------------------------------------------------\n",
            "\n",
            "\u001b[1mTraining model for 4 class:\u001b[0m\n",
            "Accuracy: 0.9556521739130435\n",
            "f1_score: 0.9552999757389935\n",
            "recall_score: 0.9556521739130435\n",
            "precision_score: 0.9585048782798143\n",
            "\n",
            "-------------------------------------------------------\n",
            "\n",
            "\u001b[1mTraining model for 10 class:\u001b[0m\n",
            "Accuracy: 0.9646376811594204\n",
            "f1_score: 0.9637628458498023\n",
            "recall_score: 0.9646376811594204\n",
            "precision_score: 0.9727504025764894\n",
            "\n",
            "-------------------------------------------------------\n",
            "\n"
          ]
        }
      ],
      "source": [
        "train_model(\"/content/drive/MyDrive/CEERI Project - Kalit/data/L=1e7/H/M=2048/data.csv\",use_smote=True, average='weighted')"
      ]
    },
    {
      "cell_type": "markdown",
      "metadata": {
        "id": "1-BdIt8syE5C"
      },
      "source": [
        "### M = 4096"
      ]
    },
    {
      "cell_type": "code",
      "execution_count": null,
      "metadata": {
        "id": "nmJ1mEkXyE5C",
        "colab": {
          "base_uri": "https://localhost:8080/"
        },
        "outputId": "de3e6ab5-0f2d-40f1-9aae-9b1dd5364088"
      },
      "outputs": [
        {
          "output_type": "stream",
          "name": "stdout",
          "text": [
            "Number of points in the dataset: 227\n",
            "Number of features in each datapoint: 2049\n",
            "\n",
            "\u001b[1mTraining model for 2 class:\u001b[0m\n",
            "Accuracy: 0.9867632850241546\n",
            "f1_score: 0.9918538812785387\n",
            "recall_score: 0.9891891891891891\n",
            "precision_score: 0.9947368421052631\n",
            "\n",
            "-------------------------------------------------------\n",
            "\n",
            "\u001b[1mTraining model for 4 class:\u001b[0m\n",
            "Accuracy: 0.9867632850241546\n",
            "f1_score: 0.9866135195990269\n",
            "recall_score: 0.9867632850241546\n",
            "precision_score: 0.9881548419689938\n",
            "\n",
            "-------------------------------------------------------\n",
            "\n",
            "\u001b[1mTraining model for 10 class:\u001b[0m\n",
            "Accuracy: 0.9384541062801933\n",
            "f1_score: 0.9373278331973985\n",
            "recall_score: 0.9384541062801933\n",
            "precision_score: 0.9494331723027376\n",
            "\n",
            "-------------------------------------------------------\n",
            "\n"
          ]
        }
      ],
      "source": [
        "train_model(\"/content/drive/MyDrive/CEERI Project - Kalit/data/L=1e7/H/M=4096/data.csv\",use_smote=True, average='weighted')"
      ]
    },
    {
      "cell_type": "markdown",
      "metadata": {
        "id": "9qkmNYP7yE5D"
      },
      "source": [
        "## Segment by a factor of 10"
      ]
    },
    {
      "cell_type": "markdown",
      "metadata": {
        "id": "krDGZlp0yE5D"
      },
      "source": [
        "### M=1024"
      ]
    },
    {
      "cell_type": "code",
      "execution_count": null,
      "metadata": {
        "id": "TsAO37zEyE5D",
        "colab": {
          "base_uri": "https://localhost:8080/"
        },
        "outputId": "3daa2215-105b-4d6e-e155-26c66d344ec5"
      },
      "outputs": [
        {
          "output_type": "stream",
          "name": "stdout",
          "text": [
            "Number of points in the dataset: 2270\n",
            "Number of features in each datapoint: 513\n",
            "\n",
            "\u001b[1mTraining model for 2 class:\u001b[0m\n",
            "Accuracy: 0.9982378854625551\n",
            "f1_score: 0.998918918918919\n",
            "recall_score: 0.9978494623655914\n",
            "precision_score: 1.0\n",
            "\n",
            "-------------------------------------------------------\n",
            "\n",
            "\u001b[1mTraining model for 4 class:\u001b[0m\n",
            "Accuracy: 0.992511013215859\n",
            "f1_score: 0.9925078039992277\n",
            "recall_score: 0.992511013215859\n",
            "precision_score: 0.9925633164965675\n",
            "\n",
            "-------------------------------------------------------\n",
            "\n",
            "\u001b[1mTraining model for 10 class:\u001b[0m\n",
            "Accuracy: 0.9894273127753305\n",
            "f1_score: 0.9894049227707352\n",
            "recall_score: 0.9894273127753305\n",
            "precision_score: 0.9896870397033511\n",
            "\n",
            "-------------------------------------------------------\n",
            "\n"
          ]
        }
      ],
      "source": [
        "train_model(\"/content/drive/MyDrive/CEERI Project - Kalit/data/L=1e6/H/M=1024/data.csv\",use_smote=True, average='weighted')"
      ]
    },
    {
      "cell_type": "markdown",
      "metadata": {
        "id": "BWyfX-sTyE5E"
      },
      "source": [
        "### M = 2048"
      ]
    },
    {
      "cell_type": "code",
      "execution_count": null,
      "metadata": {
        "id": "WM7ptPFRyE5E",
        "colab": {
          "base_uri": "https://localhost:8080/"
        },
        "outputId": "3edc3783-3855-448f-94f1-6314c4a9099c"
      },
      "outputs": [
        {
          "output_type": "stream",
          "name": "stdout",
          "text": [
            "Number of points in the dataset: 2270\n",
            "Number of features in each datapoint: 1025\n",
            "\n",
            "\u001b[1mTraining model for 2 class:\u001b[0m\n",
            "Accuracy: 0.9982378854625551\n",
            "f1_score: 0.998918918918919\n",
            "recall_score: 0.9978494623655914\n",
            "precision_score: 1.0\n",
            "\n",
            "-------------------------------------------------------\n",
            "\n",
            "\u001b[1mTraining model for 4 class:\u001b[0m\n",
            "Accuracy: 0.9837004405286344\n",
            "f1_score: 0.9836952487773774\n",
            "recall_score: 0.9837004405286344\n",
            "precision_score: 0.9839610178572077\n",
            "\n",
            "-------------------------------------------------------\n",
            "\n",
            "\u001b[1mTraining model for 10 class:\u001b[0m\n",
            "Accuracy: 0.9859030837004406\n",
            "f1_score: 0.9859274499948709\n",
            "recall_score: 0.9859030837004406\n",
            "precision_score: 0.9861907561904688\n",
            "\n",
            "-------------------------------------------------------\n",
            "\n"
          ]
        }
      ],
      "source": [
        "train_model(\"/content/drive/MyDrive/CEERI Project - Kalit/data/L=1e6/H/M=2048/psd_2048_H.csv\",use_smote=True, average='weighted')"
      ]
    },
    {
      "cell_type": "markdown",
      "metadata": {
        "id": "5bzyrvjFyE5E"
      },
      "source": [
        "### M = 4096"
      ]
    },
    {
      "cell_type": "code",
      "execution_count": null,
      "metadata": {
        "id": "YX962Zu1yE5F",
        "colab": {
          "base_uri": "https://localhost:8080/"
        },
        "outputId": "91abe2af-b612-4ced-8567-ea45a2ead4d4"
      },
      "outputs": [
        {
          "output_type": "stream",
          "name": "stdout",
          "text": [
            "Number of points in the dataset: 2270\n",
            "Number of features in each datapoint: 2049\n",
            "\n",
            "\u001b[1mTraining model for 2 class:\u001b[0m\n",
            "Accuracy: 0.9960352422907489\n",
            "f1_score: 0.9975708413662654\n",
            "recall_score: 0.996236559139785\n",
            "precision_score: 0.998917438181179\n",
            "\n",
            "-------------------------------------------------------\n",
            "\n",
            "\u001b[1mTraining model for 4 class:\u001b[0m\n",
            "Accuracy: 0.9929515418502202\n",
            "f1_score: 0.9929504291976416\n",
            "recall_score: 0.9929515418502202\n",
            "precision_score: 0.9930323855348802\n",
            "\n",
            "-------------------------------------------------------\n",
            "\n",
            "\u001b[1mTraining model for 10 class:\u001b[0m\n",
            "Accuracy: 0.9740088105726873\n",
            "f1_score: 0.9740418768732306\n",
            "recall_score: 0.9740088105726873\n",
            "precision_score: 0.9747999505169407\n",
            "\n",
            "-------------------------------------------------------\n",
            "\n"
          ]
        }
      ],
      "source": [
        "train_model(\"/content/drive/MyDrive/CEERI Project - Kalit/data/L=1e6/H/M=4096/data.csv\",use_smote=True, average='weighted')"
      ]
    }
  ],
  "metadata": {
    "colab": {
      "collapsed_sections": [
        "3oGWX5esrnwz",
        "giAgeOvt9HVS",
        "x2GW1-S0nW30",
        "liXc5DQ4kMR9",
        "7VrzyFGvVdmY",
        "6vw4VrQ-8uhM",
        "XHYT16AF9epz",
        "BzhlHE-K9ep5",
        "UKgphiRI9ep-",
        "-vkUzMTosi18",
        "QPKCx2fEsi1-",
        "NX_a1pmasi1-",
        "I8pY6XDvsi2D",
        "CutbcYGosi2H",
        "4NUyitfgsi2M",
        "haCeUJnisi2Q",
        "60JRNRK2si2U",
        "bR242E6lyE48",
        "UlmxhIJjyE49",
        "uS9NBI6TyE49",
        "-Y7t2N0cyE5B",
        "1-BdIt8syE5C",
        "9qkmNYP7yE5D",
        "krDGZlp0yE5D",
        "BWyfX-sTyE5E",
        "5bzyrvjFyE5E"
      ],
      "name": "Complete analysis of PSD features.ipynb",
      "provenance": []
    },
    "kernelspec": {
      "display_name": "Python 3",
      "name": "python3"
    },
    "language_info": {
      "name": "python"
    }
  },
  "nbformat": 4,
  "nbformat_minor": 0
}