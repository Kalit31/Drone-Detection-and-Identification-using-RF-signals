{
  "cells": [
    {
      "cell_type": "code",
      "execution_count": null,
      "metadata": {
        "colab": {
          "base_uri": "https://localhost:8080/"
        },
        "id": "8pCXQ8LQnMxi",
        "outputId": "43a8c64c-0fac-46a7-d4c0-345d0c82eaaf"
      },
      "outputs": [
        {
          "output_type": "stream",
          "name": "stdout",
          "text": [
            "Mounted at /content/drive\n"
          ]
        }
      ],
      "source": [
        "from google.colab import drive\n",
        "drive.mount('/content/drive')"
      ]
    },
    {
      "cell_type": "code",
      "execution_count": null,
      "metadata": {
        "colab": {
          "base_uri": "https://localhost:8080/"
        },
        "id": "830XvmC1nx4j",
        "outputId": "b177d5eb-0fde-4442-e64a-9f75ceec31be"
      },
      "outputs": [
        {
          "output_type": "stream",
          "name": "stdout",
          "text": [
            "Requirement already satisfied: xgboost in /usr/local/lib/python3.7/dist-packages (0.90)\n",
            "Requirement already satisfied: numpy in /usr/local/lib/python3.7/dist-packages (from xgboost) (1.21.6)\n",
            "Requirement already satisfied: scipy in /usr/local/lib/python3.7/dist-packages (from xgboost) (1.4.1)\n"
          ]
        }
      ],
      "source": [
        "!pip install xgboost"
      ]
    },
    {
      "cell_type": "code",
      "execution_count": null,
      "metadata": {
        "colab": {
          "base_uri": "https://localhost:8080/"
        },
        "id": "RLXz5kvNh32S",
        "outputId": "38a8e98b-165b-4a48-ffb0-25c4c95426ac"
      },
      "outputs": [
        {
          "output_type": "stream",
          "name": "stdout",
          "text": [
            "Requirement already satisfied: imblearn in /usr/local/lib/python3.7/dist-packages (0.0)\n",
            "Requirement already satisfied: imbalanced-learn in /usr/local/lib/python3.7/dist-packages (from imblearn) (0.8.1)\n",
            "Requirement already satisfied: scikit-learn>=0.24 in /usr/local/lib/python3.7/dist-packages (from imbalanced-learn->imblearn) (1.0.2)\n",
            "Requirement already satisfied: numpy>=1.13.3 in /usr/local/lib/python3.7/dist-packages (from imbalanced-learn->imblearn) (1.21.6)\n",
            "Requirement already satisfied: scipy>=0.19.1 in /usr/local/lib/python3.7/dist-packages (from imbalanced-learn->imblearn) (1.4.1)\n",
            "Requirement already satisfied: joblib>=0.11 in /usr/local/lib/python3.7/dist-packages (from imbalanced-learn->imblearn) (1.1.0)\n",
            "Requirement already satisfied: threadpoolctl>=2.0.0 in /usr/local/lib/python3.7/dist-packages (from scikit-learn>=0.24->imbalanced-learn->imblearn) (3.1.0)\n"
          ]
        }
      ],
      "source": [
        "!pip install imblearn"
      ]
    },
    {
      "cell_type": "code",
      "execution_count": null,
      "metadata": {
        "id": "rP3AHOSdnzLJ"
      },
      "outputs": [],
      "source": [
        "# Basic data handling libraries\n",
        "import numpy as np\n",
        "import pandas as pd\n",
        "np.random.seed(42)\n",
        "\n",
        "# Cross validation and hyperparameter tuning libraries\n",
        "from sklearn.model_selection import StratifiedKFold, train_test_split\n",
        "from sklearn.metrics import  accuracy_score, precision_score, recall_score, f1_score\n",
        "from sklearn.preprocessing import StandardScaler\n",
        "\n",
        "# Machine learning classifiers\n",
        "from xgboost import XGBClassifier\n",
        "\n",
        "import warnings\n",
        "warnings.filterwarnings('ignore')"
      ]
    },
    {
      "cell_type": "code",
      "execution_count": null,
      "metadata": {
        "id": "24QpOimqHQEJ"
      },
      "outputs": [],
      "source": [
        "class color:\n",
        "   BOLD = '\\033[1m'\n",
        "   UNDERLINE = '\\033[4m'\n",
        "   END = '\\033[0m'"
      ]
    },
    {
      "cell_type": "code",
      "execution_count": null,
      "metadata": {
        "id": "l2NGAwTfh7DM"
      },
      "outputs": [],
      "source": [
        "from imblearn.over_sampling import SMOTE\n",
        "smote = SMOTE()"
      ]
    },
    {
      "cell_type": "code",
      "execution_count": null,
      "metadata": {
        "id": "mhr7j50Fh85L"
      },
      "outputs": [],
      "source": [
        "def train_model_for_a_class(x,Label,K,use_smote,average='binary'):\n",
        "  # Cross validation and model training\n",
        "  accuracy_scores = []\n",
        "  f1_scores = []\n",
        "  recall_scores = []\n",
        "  precision_scores = []\n",
        "  kfold = StratifiedKFold(n_splits=K, shuffle=True, random_state=42)\n",
        "\n",
        "  for train, test in kfold.split(x, Label):\n",
        "      if len(np.unique(Label)) == 2:\n",
        "        model = XGBClassifier(objective = \"binary:logistic\",seed=42)\n",
        "      else:\n",
        "        model = XGBClassifier(objective = \"multi:softmax\",seed=42)\n",
        "      if use_smote:\n",
        "        X_train_smote,y_train_smote = smote.fit_resample(x[train],Label[train])\n",
        "        model.fit(X_train_smote, y_train_smote)\n",
        "      else:\n",
        "        model.fit(x[train], Label[train])\n",
        "      y_pred = model.predict(x[test])\n",
        "      accuracy_scores.append(accuracy_score(Label[test], y_pred))\n",
        "      f1_scores.append(f1_score(Label[test], y_pred, average=average))\n",
        "      recall_scores.append(recall_score(Label[test], y_pred, average=average))\n",
        "      precision_scores.append(precision_score(Label[test], y_pred, average=average))\n",
        "\n",
        "  print(\"Accuracy: {}\".format(np.mean(accuracy_scores)))\n",
        "  print(\"f1_score: {}\".format(np.mean(f1_scores)))\n",
        "  print(\"recall_score: {}\".format(np.mean(recall_scores)))\n",
        "  print(\"precision_score: {}\".format(np.mean(precision_scores)))\n",
        "  print(\"\\n-------------------------------------------------------\\n\")"
      ]
    },
    {
      "cell_type": "code",
      "execution_count": null,
      "metadata": {
        "id": "lvefCaIXh82y"
      },
      "outputs": [],
      "source": [
        "def train_model(data_file_path,use_smote=False,average='binary'): \n",
        "\n",
        "  data = np.loadtxt(data_file_path, delimiter=\",\")\n",
        "\n",
        "  num_samples = data.shape[1]\n",
        "  num_features = data.shape[0]-3\n",
        "\n",
        "  x = np.transpose(data[0:num_features:])\n",
        "  Label_1 = np.transpose(data[num_features:num_features+1,:]); Label_1 = Label_1.astype(int);\n",
        "  Label_2 = np.transpose(data[num_features+1:num_features+2,:]); Label_2 = Label_2.astype(int);\n",
        "  Label_3 = np.transpose(data[num_features+2:num_features+3,:]); Label_3 = Label_3.astype(int);\n",
        "\n",
        "  print(\"Number of points in the dataset: {}\".format(num_samples))\n",
        "  print(\"Number of features in each datapoint: {}\\n\".format(num_features))\n",
        "\n",
        "\n",
        "  # Preprocessing\n",
        "  scl = StandardScaler()\n",
        "  x = scl.fit_transform(x)\n",
        "\n",
        "  print(color.BOLD+\"Training model for 2 class:\"+color.END)\n",
        "  train_model_for_a_class(x,Label_1,5,use_smote)\n",
        "\n",
        "  print(color.BOLD+\"Training model for 4 class:\"+color.END)\n",
        "  train_model_for_a_class(x,Label_2,5,use_smote, average=average)\n",
        "\n",
        "  print(color.BOLD+\"Training model for 10 class:\"+color.END)\n",
        "  train_model_for_a_class(x,Label_3,5,use_smote, average=average)"
      ]
    },
    {
      "cell_type": "code",
      "execution_count": null,
      "metadata": {
        "colab": {
          "base_uri": "https://localhost:8080/"
        },
        "id": "R6rWvNBnh80T",
        "outputId": "f77b0f86-7213-452c-e06b-3defb62d1e4f"
      },
      "outputs": [
        {
          "name": "stdout",
          "output_type": "stream",
          "text": [
            "Number of points in the dataset: 227\n",
            "Number of features in each datapoint: 6198\n",
            "\n",
            "\u001b[1mTraining model for 2 class:\u001b[0m\n",
            "Accuracy: 0.9913043478260869\n",
            "f1_score: 0.9945945945945945\n",
            "recall_score: 0.9945945945945945\n",
            "precision_score: 0.9945945945945945\n",
            "\n",
            "-------------------------------------------------------\n",
            "\n",
            "\u001b[1mTraining model for 4 class:\u001b[0m\n",
            "Accuracy: 0.9911111111111112\n",
            "f1_score: 0.9911475869809203\n",
            "recall_score: 0.9911111111111112\n",
            "precision_score: 0.9922614379084967\n",
            "\n",
            "-------------------------------------------------------\n",
            "\n",
            "\u001b[1mTraining model for 10 class:\u001b[0m\n",
            "Accuracy: 0.9384541062801933\n",
            "f1_score: 0.9375781252626947\n",
            "recall_score: 0.9384541062801933\n",
            "precision_score: 0.9516403650026838\n",
            "\n",
            "-------------------------------------------------------\n",
            "\n"
          ]
        }
      ],
      "source": [
        "# Parameter setting 1\n",
        "train_model(\"/content/drive/MyDrive/CEERI Project - Kalit/data/feature fusion data/feature_fusion_2048.csv\",use_smote=True, average='weighted')"
      ]
    },
    {
      "cell_type": "code",
      "execution_count": null,
      "metadata": {
        "colab": {
          "background_save": true,
          "base_uri": "https://localhost:8080/"
        },
        "id": "abksOTfdhMLl",
        "outputId": "2ef227a2-5308-4333-bbc4-1631e30dd678"
      },
      "outputs": [
        {
          "name": "stdout",
          "output_type": "stream",
          "text": [
            "Number of points in the dataset: 227\n",
            "Number of features in each datapoint: 12422\n",
            "\n",
            "\u001b[1mTraining model for 2 class:\u001b[0m\n",
            "Accuracy: 0.9913043478260869\n",
            "f1_score: 0.9946666666666666\n",
            "recall_score: 0.9947368421052631\n",
            "precision_score: 0.9947368421052631\n",
            "\n",
            "-------------------------------------------------------\n",
            "\n",
            "\u001b[1mTraining model for 4 class:\u001b[0m\n",
            "Accuracy: 0.9913043478260869\n",
            "f1_score: 0.9914361001317523\n",
            "recall_score: 0.9913043478260869\n",
            "precision_score: 0.9922847399829496\n",
            "\n",
            "-------------------------------------------------------\n",
            "\n",
            "\u001b[1mTraining model for 10 class:\u001b[0m\n",
            "Accuracy: 0.9120772946859905\n",
            "f1_score: 0.9103650793650793\n",
            "recall_score: 0.9120772946859905\n",
            "precision_score: 0.9285764895330113\n",
            "\n",
            "-------------------------------------------------------\n",
            "\n"
          ]
        }
      ],
      "source": [
        "# Parameter setting 2\n",
        "train_model(\"/content/drive/MyDrive/CEERI Project - Kalit/data/feature fusion data/feature_fusion_4096.csv\",use_smote=True, average='weighted')"
      ]
    },
    {
      "cell_type": "code",
      "execution_count": null,
      "metadata": {
        "colab": {
          "background_save": true
        },
        "id": "idKPxeqHM05a",
        "outputId": "8cbd3519-7545-49dc-9855-04fbb4f08af5"
      },
      "outputs": [
        {
          "name": "stdout",
          "output_type": "stream",
          "text": [
            "Number of points in the dataset: 227\n",
            "Number of features in each datapoint: 4148\n",
            "\n",
            "\u001b[1mTraining model for 2 class:\u001b[0m\n",
            "Accuracy: 0.9866666666666667\n",
            "f1_score: 0.991549295774648\n",
            "recall_score: 0.9837837837837838\n",
            "precision_score: 1.0\n",
            "\n",
            "-------------------------------------------------------\n",
            "\n",
            "\u001b[1mTraining model for 4 class:\u001b[0m\n",
            "Accuracy: 0.9823188405797101\n",
            "f1_score: 0.9825582587377818\n",
            "recall_score: 0.9823188405797101\n",
            "precision_score: 0.9857844715986234\n",
            "\n",
            "-------------------------------------------------------\n",
            "\n",
            "\u001b[1mTraining model for 10 class:\u001b[0m\n",
            "Accuracy: 0.9255072463768116\n",
            "f1_score: 0.9214967767226933\n",
            "recall_score: 0.9255072463768116\n",
            "precision_score: 0.9323349436392915\n",
            "\n",
            "-------------------------------------------------------\n",
            "\n"
          ]
        }
      ],
      "source": [
        "# Fuse MFCC and FFT features\n",
        "train_model(\"/content/drive/MyDrive/CEERI Project - Kalit/data/feature fusion data/2 features/feature_fusion_mfcc_fft.csv\",use_smote=True, average='weighted')"
      ]
    },
    {
      "cell_type": "code",
      "execution_count": null,
      "metadata": {
        "id": "VrxeYhrqOKDI",
        "colab": {
          "base_uri": "https://localhost:8080/"
        },
        "outputId": "32d6f76c-ae2f-4671-efa5-e616118d1f63"
      },
      "outputs": [
        {
          "output_type": "stream",
          "name": "stdout",
          "text": [
            "Number of points in the dataset: 227\n",
            "Number of features in each datapoint: 4150\n",
            "\n",
            "\u001b[1mTraining model for 2 class:\u001b[0m\n",
            "Accuracy: 0.9913043478260869\n",
            "f1_score: 0.9945945945945945\n",
            "recall_score: 0.9945945945945945\n",
            "precision_score: 0.9945945945945945\n",
            "\n",
            "-------------------------------------------------------\n",
            "\n",
            "\u001b[1mTraining model for 4 class:\u001b[0m\n",
            "Accuracy: 0.982512077294686\n",
            "f1_score: 0.9831878891213929\n",
            "recall_score: 0.982512077294686\n",
            "precision_score: 0.9856720659278204\n",
            "\n",
            "-------------------------------------------------------\n",
            "\n",
            "\u001b[1mTraining model for 10 class:\u001b[0m\n",
            "Accuracy: 0.8902415458937197\n",
            "f1_score: 0.8827063990286497\n",
            "recall_score: 0.8902415458937197\n",
            "precision_score: 0.9154728931830383\n",
            "\n",
            "-------------------------------------------------------\n",
            "\n"
          ]
        }
      ],
      "source": [
        "# Fuse MFCC and PSD features\n",
        "train_model(\"/content/drive/MyDrive/CEERI Project - Kalit/data/feature fusion data/2 features/feature_fusion_mfcc_psd.csv\",use_smote=True, average='weighted')"
      ]
    },
    {
      "cell_type": "code",
      "execution_count": null,
      "metadata": {
        "id": "rpPccRb3PWl6",
        "colab": {
          "base_uri": "https://localhost:8080/"
        },
        "outputId": "e1b41149-6cf7-4d3a-fd89-35551eb76581"
      },
      "outputs": [
        {
          "output_type": "stream",
          "name": "stdout",
          "text": [
            "Number of points in the dataset: 227\n",
            "Number of features in each datapoint: 4098\n",
            "\n",
            "\u001b[1mTraining model for 2 class:\u001b[0m\n",
            "Accuracy: 0.9913043478260869\n",
            "f1_score: 0.9945945945945945\n",
            "recall_score: 0.9945945945945945\n",
            "precision_score: 0.9945945945945945\n",
            "\n",
            "-------------------------------------------------------\n",
            "\n",
            "\u001b[1mTraining model for 4 class:\u001b[0m\n",
            "Accuracy: 0.9734299516908212\n",
            "f1_score: 0.9734586381187598\n",
            "recall_score: 0.9734299516908212\n",
            "precision_score: 0.9747909601843959\n",
            "\n",
            "-------------------------------------------------------\n",
            "\n",
            "\u001b[1mTraining model for 10 class:\u001b[0m\n",
            "Accuracy: 0.9339130434782609\n",
            "f1_score: 0.929054643376894\n",
            "recall_score: 0.9339130434782609\n",
            "precision_score: 0.9474358561460011\n",
            "\n",
            "-------------------------------------------------------\n",
            "\n"
          ]
        }
      ],
      "source": [
        "# Fuse FFT and PSD features\n",
        "train_model(\"/content/drive/MyDrive/CEERI Project - Kalit/data/feature fusion data/2 features/feature_fusion_fft_psd.csv\",use_smote=True, average='weighted')"
      ]
    },
    {
      "cell_type": "code",
      "source": [
        ""
      ],
      "metadata": {
        "id": "aoYtHGNxjUzX"
      },
      "execution_count": null,
      "outputs": []
    }
  ],
  "metadata": {
    "colab": {
      "collapsed_sections": [],
      "name": "Feature Fusion experiments.ipynb",
      "provenance": []
    },
    "kernelspec": {
      "display_name": "Python 3",
      "name": "python3"
    },
    "language_info": {
      "name": "python"
    }
  },
  "nbformat": 4,
  "nbformat_minor": 0
}