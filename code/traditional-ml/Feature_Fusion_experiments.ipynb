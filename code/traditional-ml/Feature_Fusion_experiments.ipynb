{
  "nbformat": 4,
  "nbformat_minor": 0,
  "metadata": {
    "colab": {
      "name": "Feature Fusion experiments.ipynb",
      "provenance": [],
      "collapsed_sections": []
    },
    "kernelspec": {
      "name": "python3",
      "display_name": "Python 3"
    },
    "language_info": {
      "name": "python"
    }
  },
  "cells": [
    {
      "cell_type": "code",
      "execution_count": 1,
      "metadata": {
        "colab": {
          "base_uri": "https://localhost:8080/"
        },
        "id": "8pCXQ8LQnMxi",
        "outputId": "287c5f6b-ce6a-431e-c491-597652877414"
      },
      "outputs": [
        {
          "output_type": "stream",
          "name": "stdout",
          "text": [
            "Drive already mounted at /content/drive; to attempt to forcibly remount, call drive.mount(\"/content/drive\", force_remount=True).\n"
          ]
        }
      ],
      "source": [
        "from google.colab import drive\n",
        "drive.mount('/content/drive')"
      ]
    },
    {
      "cell_type": "code",
      "source": [
        "!pip install xgboost"
      ],
      "metadata": {
        "colab": {
          "base_uri": "https://localhost:8080/"
        },
        "id": "830XvmC1nx4j",
        "outputId": "b8b53419-c697-4422-cc3c-43f9bd2bdddc"
      },
      "execution_count": 2,
      "outputs": [
        {
          "output_type": "stream",
          "name": "stdout",
          "text": [
            "Requirement already satisfied: xgboost in /usr/local/lib/python3.7/dist-packages (0.90)\n",
            "Requirement already satisfied: scipy in /usr/local/lib/python3.7/dist-packages (from xgboost) (1.4.1)\n",
            "Requirement already satisfied: numpy in /usr/local/lib/python3.7/dist-packages (from xgboost) (1.21.5)\n"
          ]
        }
      ]
    },
    {
      "cell_type": "code",
      "source": [
        "!pip install imblearn"
      ],
      "metadata": {
        "colab": {
          "base_uri": "https://localhost:8080/"
        },
        "id": "RLXz5kvNh32S",
        "outputId": "bfbb5ccd-96eb-42af-d2e3-9e334074fa98"
      },
      "execution_count": 3,
      "outputs": [
        {
          "output_type": "stream",
          "name": "stdout",
          "text": [
            "Requirement already satisfied: imblearn in /usr/local/lib/python3.7/dist-packages (0.0)\n",
            "Requirement already satisfied: imbalanced-learn in /usr/local/lib/python3.7/dist-packages (from imblearn) (0.8.1)\n",
            "Requirement already satisfied: numpy>=1.13.3 in /usr/local/lib/python3.7/dist-packages (from imbalanced-learn->imblearn) (1.21.5)\n",
            "Requirement already satisfied: scikit-learn>=0.24 in /usr/local/lib/python3.7/dist-packages (from imbalanced-learn->imblearn) (1.0.2)\n",
            "Requirement already satisfied: scipy>=0.19.1 in /usr/local/lib/python3.7/dist-packages (from imbalanced-learn->imblearn) (1.4.1)\n",
            "Requirement already satisfied: joblib>=0.11 in /usr/local/lib/python3.7/dist-packages (from imbalanced-learn->imblearn) (1.1.0)\n",
            "Requirement already satisfied: threadpoolctl>=2.0.0 in /usr/local/lib/python3.7/dist-packages (from scikit-learn>=0.24->imbalanced-learn->imblearn) (3.1.0)\n"
          ]
        }
      ]
    },
    {
      "cell_type": "code",
      "source": [
        "# Basic data handling libraries\n",
        "import numpy as np\n",
        "import pandas as pd\n",
        "np.random.seed(1)\n",
        "\n",
        "# Cross validation and hyperparameter tuning libraries\n",
        "from sklearn.model_selection import StratifiedKFold\n",
        "from sklearn.model_selection import train_test_split\n",
        "from sklearn.model_selection import RandomizedSearchCV\n",
        "from sklearn import metrics\n",
        "from sklearn import decomposition\n",
        "from sklearn.preprocessing import StandardScaler\n",
        "from sklearn.pipeline import Pipeline\n",
        "from sklearn.model_selection import cross_val_predict\n",
        "from sklearn.metrics import confusion_matrix\n",
        "\n",
        "# Machine learning classifiers\n",
        "from xgboost import XGBClassifier\n",
        "from sklearn.ensemble import RandomForestClassifier\n",
        "from sklearn.svm import SVC\n",
        "\n",
        "import warnings\n",
        "warnings.filterwarnings('ignore')"
      ],
      "metadata": {
        "id": "rP3AHOSdnzLJ"
      },
      "execution_count": 4,
      "outputs": []
    },
    {
      "cell_type": "code",
      "source": [
        "from imblearn.over_sampling import SMOTE\n",
        "smote = SMOTE()"
      ],
      "metadata": {
        "id": "l2NGAwTfh7DM"
      },
      "execution_count": 5,
      "outputs": []
    },
    {
      "cell_type": "code",
      "source": [
        "def train_model_for_a_class(x,Label,K,use_smote):\n",
        "  # Cross validation and model training\n",
        "  cvscores = []\n",
        "  avg_score = 0.0\n",
        "  kfold = StratifiedKFold(n_splits=K, shuffle=True, random_state=42)\n",
        "\n",
        "  for train, test in kfold.split(x, Label):\n",
        "      if len(np.unique(Label)) == 2:\n",
        "        model = XGBClassifier(objective = \"binary:logistic\",seed=42)\n",
        "      else:\n",
        "        model = XGBClassifier(objective = \"multi:softmax\",seed=42)\n",
        "      if use_smote:\n",
        "        X_train_smote,y_train_smote = smote.fit_resample(x[train],Label[train])\n",
        "        model.fit(X_train_smote, y_train_smote)\n",
        "      else:\n",
        "        model.fit(x[train], Label[train])\n",
        "      score = model.score(x[test], Label[test])\n",
        "      cvscores.append(score)\n",
        "      avg_score = avg_score + score\n",
        "\n",
        "  avg_score = avg_score/K\n",
        "  return avg_score, cvscores"
      ],
      "metadata": {
        "id": "mhr7j50Fh85L"
      },
      "execution_count": 6,
      "outputs": []
    },
    {
      "cell_type": "code",
      "source": [
        "def train_model(data_file_path,use_smote=False): \n",
        "\n",
        "  data = np.loadtxt(data_file_path, delimiter=\",\")\n",
        "\n",
        "  num_samples = data.shape[1]\n",
        "  num_features = data.shape[0]-3\n",
        "\n",
        "  x = np.transpose(data[0:num_features:])\n",
        "  Label_1 = np.transpose(data[num_features:num_features+1,:]); Label_1 = Label_1.astype(int);\n",
        "  Label_2 = np.transpose(data[num_features+1:num_features+2,:]); Label_2 = Label_2.astype(int);\n",
        "  Label_3 = np.transpose(data[num_features+2:num_features+3,:]); Label_3 = Label_3.astype(int);\n",
        "\n",
        "  print(\"Number of points in the dataset: {}\".format(num_samples))\n",
        "  print(\"Number of features in each datapoint: {}\\n\".format(num_features))\n",
        "\n",
        "\n",
        "  # Preprocessing\n",
        "  scl = StandardScaler()\n",
        "  x = scl.fit_transform(x)\n",
        "\n",
        "  print(\"Training model for 2 class\")\n",
        "  avg_score_2_class, cvscores_2_class = train_model_for_a_class(x,Label_1,5,use_smote)\n",
        "  print(\"Results:\\n Cross validation scores: {} \\n Average accuracy: {}\\n\".format(cvscores_2_class, avg_score_2_class))\n",
        "\n",
        "  print(\"Training model for 4 class\")\n",
        "  avg_score_4_class, cvscores_4_class = train_model_for_a_class(x,Label_2,5,use_smote)\n",
        "  print(\"Results:\\n Cross validation scores: {} \\n Average accuracy: {}\\n\".format(cvscores_4_class, avg_score_4_class))\n",
        "\n",
        "  print(\"Training model for 10 class\")\n",
        "  avg_score_10_class, cvscores_10_class = train_model_for_a_class(x,Label_3,5,use_smote)\n",
        "  print(\"Results:\\n Cross validation scores: {} \\n Average accuracy: {}\\n\".format(cvscores_10_class, avg_score_10_class))"
      ],
      "metadata": {
        "id": "lvefCaIXh82y"
      },
      "execution_count": 7,
      "outputs": []
    },
    {
      "cell_type": "code",
      "source": [
        "train_model(\"/content/drive/MyDrive/CEERI Project - Kalit/data/feature fusion data/feature_fusion_2048.csv\",use_smote=True)"
      ],
      "metadata": {
        "colab": {
          "base_uri": "https://localhost:8080/"
        },
        "id": "R6rWvNBnh80T",
        "outputId": "6c2c8145-4ec7-4fbc-e92f-602b8599cfc7"
      },
      "execution_count": 8,
      "outputs": [
        {
          "output_type": "stream",
          "name": "stdout",
          "text": [
            "Number of points in the dataset: 227\n",
            "Number of features in each datapoint: 6198\n",
            "\n",
            "Training model for 2 class\n",
            "Results:\n",
            " Cross validation scores: [0.9565217391304348, 1.0, 1.0, 1.0, 1.0] \n",
            " Average accuracy: 0.9913043478260869\n",
            "\n",
            "Training model for 4 class\n",
            "Results:\n",
            " Cross validation scores: [1.0, 1.0, 0.9777777777777777, 1.0, 1.0] \n",
            " Average accuracy: 0.9955555555555555\n",
            "\n",
            "Training model for 10 class\n",
            "Results:\n",
            " Cross validation scores: [0.9130434782608695, 0.9347826086956522, 0.9777777777777777, 0.9333333333333333, 0.9111111111111111] \n",
            " Average accuracy: 0.9340096618357489\n",
            "\n"
          ]
        }
      ]
    },
    {
      "cell_type": "code",
      "source": [
        "train_model(\"/content/drive/MyDrive/CEERI Project - Kalit/data/feature fusion data/feature_fusion_4096.csv\",use_smote=True)"
      ],
      "metadata": {
        "id": "abksOTfdhMLl",
        "colab": {
          "base_uri": "https://localhost:8080/"
        },
        "outputId": "41b51af8-4525-4472-a249-766077202f01"
      },
      "execution_count": 9,
      "outputs": [
        {
          "output_type": "stream",
          "name": "stdout",
          "text": [
            "Number of points in the dataset: 227\n",
            "Number of features in each datapoint: 12422\n",
            "\n",
            "Training model for 2 class\n",
            "Results:\n",
            " Cross validation scores: [0.9782608695652174, 0.9782608695652174, 1.0, 1.0, 1.0] \n",
            " Average accuracy: 0.9913043478260869\n",
            "\n",
            "Training model for 4 class\n",
            "Results:\n",
            " Cross validation scores: [0.9782608695652174, 0.9782608695652174, 1.0, 1.0, 1.0] \n",
            " Average accuracy: 0.9913043478260869\n",
            "\n",
            "Training model for 10 class\n",
            "Results:\n",
            " Cross validation scores: [0.8913043478260869, 0.8478260869565217, 0.9555555555555556, 0.9111111111111111, 0.8888888888888888] \n",
            " Average accuracy: 0.8989371980676328\n",
            "\n"
          ]
        }
      ]
    },
    {
      "cell_type": "code",
      "source": [
        "train_model(\"/content/drive/MyDrive/CEERI Project - Kalit/data/feature fusion data/2 features/feature_fusion_mfcc_fft.csv\",use_smote=True)"
      ],
      "metadata": {
        "id": "idKPxeqHM05a",
        "colab": {
          "base_uri": "https://localhost:8080/"
        },
        "outputId": "190bb9a6-93b5-47c3-ee72-c97e3859cc13"
      },
      "execution_count": 10,
      "outputs": [
        {
          "output_type": "stream",
          "name": "stdout",
          "text": [
            "Number of points in the dataset: 227\n",
            "Number of features in each datapoint: 4148\n",
            "\n",
            "Training model for 2 class\n",
            "Results:\n",
            " Cross validation scores: [0.9565217391304348, 1.0, 0.9555555555555556, 1.0, 1.0] \n",
            " Average accuracy: 0.9824154589371981\n",
            "\n",
            "Training model for 4 class\n",
            "Results:\n",
            " Cross validation scores: [0.9782608695652174, 1.0, 0.9777777777777777, 1.0, 0.9777777777777777] \n",
            " Average accuracy: 0.9867632850241546\n",
            "\n",
            "Training model for 10 class\n",
            "Results:\n",
            " Cross validation scores: [0.9565217391304348, 0.8913043478260869, 0.9111111111111111, 0.9777777777777777, 0.8888888888888888] \n",
            " Average accuracy: 0.92512077294686\n",
            "\n"
          ]
        }
      ]
    },
    {
      "cell_type": "code",
      "source": [
        "train_model(\"/content/drive/MyDrive/CEERI Project - Kalit/data/feature fusion data/2 features/feature_fusion_mfcc_psd.csv\",use_smote=True)"
      ],
      "metadata": {
        "id": "VrxeYhrqOKDI",
        "colab": {
          "base_uri": "https://localhost:8080/"
        },
        "outputId": "bbc32304-53ce-45df-a622-8e22b4bebea9"
      },
      "execution_count": 11,
      "outputs": [
        {
          "output_type": "stream",
          "name": "stdout",
          "text": [
            "Number of points in the dataset: 227\n",
            "Number of features in each datapoint: 4150\n",
            "\n",
            "Training model for 2 class\n",
            "Results:\n",
            " Cross validation scores: [0.9565217391304348, 1.0, 1.0, 1.0, 1.0] \n",
            " Average accuracy: 0.9913043478260869\n",
            "\n",
            "Training model for 4 class\n",
            "Results:\n",
            " Cross validation scores: [0.9347826086956522, 1.0, 1.0, 1.0, 0.9777777777777777] \n",
            " Average accuracy: 0.982512077294686\n",
            "\n",
            "Training model for 10 class\n",
            "Results:\n",
            " Cross validation scores: [0.8260869565217391, 0.8260869565217391, 0.9555555555555556, 0.8666666666666667, 0.9555555555555556] \n",
            " Average accuracy: 0.8859903381642512\n",
            "\n"
          ]
        }
      ]
    },
    {
      "cell_type": "code",
      "source": [
        "train_model(\"/content/drive/MyDrive/CEERI Project - Kalit/data/feature fusion data/2 features/feature_fusion_fft_psd.csv\",use_smote=True)"
      ],
      "metadata": {
        "id": "rpPccRb3PWl6",
        "colab": {
          "base_uri": "https://localhost:8080/"
        },
        "outputId": "1e306d0a-35ea-4041-ecbd-bdebff609a2d"
      },
      "execution_count": 12,
      "outputs": [
        {
          "output_type": "stream",
          "name": "stdout",
          "text": [
            "Number of points in the dataset: 227\n",
            "Number of features in each datapoint: 4098\n",
            "\n",
            "Training model for 2 class\n",
            "Results:\n",
            " Cross validation scores: [0.9565217391304348, 1.0, 1.0, 1.0, 1.0] \n",
            " Average accuracy: 0.9913043478260869\n",
            "\n",
            "Training model for 4 class\n",
            "Results:\n",
            " Cross validation scores: [1.0, 0.9782608695652174, 0.9333333333333333, 0.9777777777777777, 1.0] \n",
            " Average accuracy: 0.9778743961352656\n",
            "\n",
            "Training model for 10 class\n",
            "Results:\n",
            " Cross validation scores: [0.9347826086956522, 0.9565217391304348, 0.9777777777777777, 0.9111111111111111, 0.9333333333333333] \n",
            " Average accuracy: 0.9427053140096617\n",
            "\n"
          ]
        }
      ]
    }
  ]
}